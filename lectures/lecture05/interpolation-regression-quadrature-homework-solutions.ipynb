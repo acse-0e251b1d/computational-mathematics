{
 "cells": [
  {
   "cell_type": "code",
   "execution_count": 24,
   "metadata": {},
   "outputs": [
    {
     "data": {
      "text/html": [
       "<style>\n",
       "div.optional {\n",
       "    display: block;\n",
       "    background-color: #d7e2ff;\n",
       "    border-color: #d7e2ff;\n",
       "    border-left: 5px solid #d7e2ff;\n",
       "    padding: 0.5em;\n",
       "}\n",
       "div.advanced {\n",
       "    display: block;\n",
       "    background-color: #fff4d7;\n",
       "    border-color: #fff4d7;\n",
       "    border-left: 5px solid #fff4d7;\n",
       "    padding: 0.5em;\n",
       "}\n",
       "</style>\n"
      ],
      "text/plain": [
       "<IPython.core.display.HTML object>"
      ]
     },
     "metadata": {},
     "output_type": "display_data"
    }
   ],
   "source": [
    "%%html\n",
    "<style>\n",
    "div.optional {\n",
    "    display: block;\n",
    "    background-color: #d7e2ff;\n",
    "    border-color: #d7e2ff;\n",
    "    border-left: 5px solid #d7e2ff;\n",
    "    padding: 0.5em;\n",
    "}\n",
    "div.advanced {\n",
    "    display: block;\n",
    "    background-color: #fff4d7;\n",
    "    border-color: #fff4d7;\n",
    "    border-left: 5px solid #fff4d7;\n",
    "    padding: 0.5em;\n",
    "}\n",
    "</style>"
   ]
  },
  {
   "cell_type": "markdown",
   "metadata": {
    "slideshow": {
     "slide_type": "slide"
    }
   },
   "source": [
    "# Computational Mathematics <a class=\"tocSkip\">\n",
    "\n",
    "##  Interpolation, regression (or curve-fitting) and quadrature <a class=\"tocSkip\">\n",
    "    \n",
    "### Homework Exercises - Solutions <a class=\"tocSkip\">"
   ]
  },
  {
   "cell_type": "markdown",
   "metadata": {
    "toc": true
   },
   "source": [
    "<h1>Table of Contents<span class=\"tocSkip\"></span></h1>\n",
    "<div class=\"toc\"><ul class=\"toc-item\"><li><span><a href=\"#Homework\" data-toc-modified-id=\"Homework-1\"><span class=\"toc-item-num\">1&nbsp;&nbsp;</span>Homework</a></span><ul class=\"toc-item\"><li><span><a href=\"#Homework---Finding-two-model-parameters-given-two-pieces-of-data\" data-toc-modified-id=\"Homework---Finding-two-model-parameters-given-two-pieces-of-data-1.1\"><span class=\"toc-item-num\">1.1&nbsp;&nbsp;</span>Homework - Finding two model parameters given two pieces of data</a></span><ul class=\"toc-item\"><li><span><a href=\"#Solution---Fitting-two-data-points\" data-toc-modified-id=\"Solution---Fitting-two-data-points-1.1.1\"><span class=\"toc-item-num\">1.1.1&nbsp;&nbsp;</span>Solution - Fitting two data points</a></span></li></ul></li><li><span><a href=\"#Homework---Lagrange-polynomial\" data-toc-modified-id=\"Homework---Lagrange-polynomial-1.2\"><span class=\"toc-item-num\">1.2&nbsp;&nbsp;</span>Homework - Lagrange polynomial</a></span><ul class=\"toc-item\"><li><span><a href=\"#Solution---Lagrange-polynomial\" data-toc-modified-id=\"Solution---Lagrange-polynomial-1.2.1\"><span class=\"toc-item-num\">1.2.1&nbsp;&nbsp;</span>Solution - Lagrange polynomial</a></span></li></ul></li><li><span><a href=\"#Homework---Implementing-a-trapezoidal-rule-function-and-compare-with-midpoint\" data-toc-modified-id=\"Homework---Implementing-a-trapezoidal-rule-function-and-compare-with-midpoint-1.3\"><span class=\"toc-item-num\">1.3&nbsp;&nbsp;</span>Homework - Implementing a trapezoidal rule function and compare with midpoint</a></span><ul class=\"toc-item\"><li><span><a href=\"#Solution---Implementing-a-trapezoidal-rule-function-and-compare-with-midpoint\" data-toc-modified-id=\"Solution---Implementing-a-trapezoidal-rule-function-and-compare-with-midpoint-1.3.1\"><span class=\"toc-item-num\">1.3.1&nbsp;&nbsp;</span>Solution - Implementing a trapezoidal rule function and compare with midpoint</a></span></li></ul></li><li><span><a href=\"#Homework---Implement-the-composite-version-of-the-trapezoidal-rule\" data-toc-modified-id=\"Homework---Implement-the-composite-version-of-the-trapezoidal-rule-1.4\"><span class=\"toc-item-num\">1.4&nbsp;&nbsp;</span>Homework - Implement the composite version of the trapezoidal rule</a></span><ul class=\"toc-item\"><li><span><a href=\"#Solution---Implement-the-composite-version-of-the-trapezoidal-rule\" data-toc-modified-id=\"Solution---Implement-the-composite-version-of-the-trapezoidal-rule-1.4.1\"><span class=\"toc-item-num\">1.4.1&nbsp;&nbsp;</span>Solution - Implement the composite version of the trapezoidal rule</a></span></li></ul></li><li><span><a href=\"#Homework---Newton-Cotes-quadrature-rules-[$\\star\\star$]\" data-toc-modified-id=\"Homework---Newton-Cotes-quadrature-rules-[$\\star\\star$]-1.5\"><span class=\"toc-item-num\">1.5&nbsp;&nbsp;</span>Homework - Newton-Cotes quadrature rules [$\\star\\star$]</a></span><ul class=\"toc-item\"><li><span><a href=\"#Warning\" data-toc-modified-id=\"Warning-1.5.1\"><span class=\"toc-item-num\">1.5.1&nbsp;&nbsp;</span>Warning</a></span></li><li><span><a href=\"#Hint\" data-toc-modified-id=\"Hint-1.5.2\"><span class=\"toc-item-num\">1.5.2&nbsp;&nbsp;</span>Hint</a></span></li><li><span><a href=\"#Solution---Newton-Cotes-quadrature-rules\" data-toc-modified-id=\"Solution---Newton-Cotes-quadrature-rules-1.5.3\"><span class=\"toc-item-num\">1.5.3&nbsp;&nbsp;</span>Solution - Newton-Cotes quadrature rules</a></span></li></ul></li></ul></li></ul></div>"
   ]
  },
  {
   "cell_type": "code",
   "execution_count": 25,
   "metadata": {},
   "outputs": [],
   "source": [
    "%matplotlib inline\n",
    "import numpy as np\n",
    "import matplotlib.pyplot as plt\n",
    "# the following allows us to plot triangles indicating convergence order\n",
    "from mpltools import annotation\n",
    "# as this lecture is about interpolation we will make use of this SciPy library\n",
    "import scipy.interpolate as si\n",
    "import scipy.integrate\n",
    "\n",
    "# some default font sizes for plots\n",
    "plt.rcParams['font.size'] = 12\n",
    "plt.rcParams['font.family'] = 'sans-serif'\n",
    "plt.rcParams['font.sans-serif'] = ['Arial', 'Dejavu Sans']"
   ]
  },
  {
   "cell_type": "markdown",
   "metadata": {},
   "source": [
    "# Homework"
   ]
  },
  {
   "cell_type": "markdown",
   "metadata": {},
   "source": [
    "## Homework - Finding two model parameters given two pieces of data\n",
    "\n",
    "We stated in class that:\n",
    "\n",
    "\n",
    "The polynomial that fits the two data points $\\{(x_0,y_0),(x_1,y_1)\\}$ is clearly the linear function given by\n",
    "\n",
    "$$ y = f(x) \\equiv a_0 + a_1\\,x \\;\\;\\;\\;\\; \\text{i.e. the degree one polynomial:} \\;\\;\\;\\;\\; y = P_1(x) \\equiv a_0 + a_1\\,x$$\n",
    "\n",
    "where through substitution of our data into the functional form we arrive at two simultaneous equations for two unknown parameters (or a $2\\times 2$ matrix system)\n",
    "\n",
    "\\begin{align*}\n",
    "(1) & \\;\\;\\;\\; y_0 = a_0 + a_1\\,x_0, \\\\[5pt]\n",
    "(2) & \\;\\;\\;\\; y_1 = a_0 + a_1\\,x_1. \n",
    "\\end{align*}\n",
    "\n",
    "Show through the substitution of one equation into the other that this has the solution\n",
    "\n",
    "$$ a_0 = y_0 - \\frac{y_1-y_0}{x_1-x_0}x_0, \\;\\;\\;\\;\\;\\;\\;\\; a_1 = \\frac{y_1-y_0}{x_1-x_0}. $$\n",
    "\n",
    "Form the set of two simultaneous equations and solve by hand to derive this solution for the coefficients.\n"
   ]
  },
  {
   "cell_type": "markdown",
   "metadata": {},
   "source": [
    "### Solution - Fitting two data points\n",
    "\n",
    "We have two pieces of information - let's write these out:\n",
    "\n",
    "\\begin{align*}\n",
    "(1) & \\;\\;\\;\\; y_0 = a_0 + a_1\\,x_0, \\\\[5pt]\n",
    "(2) & \\;\\;\\;\\; y_1 = a_0 + a_1\\,x_1. \n",
    "\\end{align*}\n",
    "\n",
    "We are assuming we know the $x$'s and the $y$'s, and we want to find the $a$'s.\n",
    "\n",
    "There are multiple ways we could solve this, one way is to rearrange the second equation to give an expression for $a_1$ in terms of $a_0$:\n",
    "\n",
    "$$ a_0 = y_1 - a_1x_1,$$\n",
    "\n",
    "and substitute this into the first equation:\n",
    "\n",
    "$$ y_0 = a_0 + a_1\\,x_0 = y_1 - a_1x_1 + a_1\\,x_0 = y_1 - (x_1-x_0)a_1,$$\n",
    "\n",
    "which we can solve for $a_1$:\n",
    "\n",
    "$$ a_1 = \\frac{y_1 - y_0}{x_1 - x_0}.$$\n",
    "\n",
    "We can now substitute this into either one of the two original equations to find $a_0$ - consider (1) for example:\n",
    "\n",
    "$$y_0 = a_0 + a_1\\,x_0 = a_0 + \\frac{y_1 - y_0}{x_1 - x_0} x_0.$$\n",
    "\n",
    "Rearranging we get the solution we want:\n",
    "\n",
    "$$a_0 = y_0 - \\frac{y_1 - y_0}{x_1 - x_0} x_0.$$\n",
    "\n",
    "Note that this is equivalent to forming and solving the linear system\n",
    "\n",
    "$$\n",
    "\\begin{pmatrix}\n",
    "1 & x_0  \\\\\n",
    "1 & x_1 \n",
    "\\end{pmatrix}\n",
    "\\begin{pmatrix}\n",
    "a_0\\\\\n",
    "a_1\n",
    "\\end{pmatrix}\n",
    "=\n",
    "\\begin{pmatrix}\n",
    "y_0\\\\\n",
    "y_1\n",
    "\\end{pmatrix}.\n",
    "$$"
   ]
  },
  {
   "cell_type": "markdown",
   "metadata": {},
   "source": [
    "We therefore have\n",
    "\n",
    "$$ y = f(x) = P_1(x) \\equiv a_0 + a_1\\,x$$\n",
    "\n",
    "where \n",
    "\n",
    "$$ a_0 = y_0 - \\frac{y_1-y_0}{x_1-x_0}x_0, \\;\\;\\;\\;\\;\\;\\;\\; a_1 = \\frac{y_1-y_0}{x_1-x_0}. $$\n",
    "\n",
    "Collecting terms we have\n",
    "\n",
    "\\begin{align}\n",
    "y = a_0 + a_1\\,x \n",
    "& = y_0 - \\frac{y_1-y_0}{x_1-x_0}x_0 + \\frac{y_1-y_0}{x_1-x_0} x\\\\\n",
    "& = y_0 - \\frac{y_1\\, x_0}{x_1-x_0} + \\frac{y_0\\, x_0}{x_1-x_0} + \\frac{y_1\\, x}{x_1-x_0}  - \\frac{y_0\\, x}{x_1-x_0} \\\\\n",
    "& = \\frac{1}{x_1-x_0}\n",
    "\\left[ \n",
    "y_0(x_1-x_0) - y_1\\, x_0 + y_0\\, x_0 + y_1\\, x- y_0\\, x\n",
    "\\right] \\\\\n",
    "& = \\frac{1}{x_1-x_0}\n",
    "\\left[ \n",
    "y_0 (x_1 - x)  + y_1 (x -  x_0)\n",
    "\\right] \\\\\n",
    "& = \\frac{x - x_1}{x_0-x_1}\\,y_0 + \\frac{x - x_0}{x_1-x_0}\\,y_1\n",
    "\\end{align}\n",
    "\n",
    "\n",
    "and this does indeed agree with the expression we can just write down based on our knowledge of the Lagrange polynomial!"
   ]
  },
  {
   "cell_type": "markdown",
   "metadata": {},
   "source": [
    "## Homework - Lagrange polynomial\n",
    "\n",
    "Based upon the description of the Lagrange interpolating polynomial from class (including the Lagrange basis polynomials) try implementing functions to construct these and check your code by comparing our results visually against the results we obtained exactly for linear and quadratic problems, as well as the 6 data point example we found the degree 5 interpolating polynomial for using `SciPy` (i.e. the example copied below).\n",
    "\n",
    "[I say check rather than verify as just confirming you get the right answer for one set of inputs isn't generally enough to argue full verification! Recall getting the right answer for the wrong reasons from an earlier lecture]."
   ]
  },
  {
   "cell_type": "code",
   "execution_count": 26,
   "metadata": {},
   "outputs": [
    {
     "data": {
      "image/png": "[encoded data removed]",
      "text/plain": [
       "<Figure size 576x432 with 1 Axes>"
      ]
     },
     "metadata": {
      "needs_background": "light"
     },
     "output_type": "display_data"
    }
   ],
   "source": [
    "# The SciPy example from class\n",
    "\n",
    "### Our raw data from earlier\n",
    "xi = np.array([0.5, 2.0, 4.0, 5.0, 7.0, 9.0])\n",
    "yi = np.array([0.5, 0.4, 0.3, 0.1, 0.9, 0.8])\n",
    "\n",
    "# Create the Lagrange polynomial for the given points.\n",
    "lp = si.lagrange(xi, yi)\n",
    "# recall above that we executed 'import scipy.interpolate as si'\n",
    "# and so this line is calling the 'lagrange' function from the \n",
    "# 'interpolate' sub-package within scipy.\n",
    "\n",
    "# Evaluate this function at a high resolution (100 points here) so that \n",
    "# we get a smooth well-resolved line when we plot our polynomial\n",
    "x = np.linspace(0.4, 9.1, 100)\n",
    "\n",
    "# set up the figure\n",
    "fig = plt.figure(figsize=(8, 6))\n",
    "ax1 = fig.add_subplot(111)\n",
    "ax1.margins(0.1)\n",
    "\n",
    "# actually plot (x,y)=(x,lp(x)) on the axes with the label ax1\n",
    "ax1.plot(x, lp(x), 'b', label='Lagrange interpolating polynomial')\n",
    "\n",
    "# Overlay raw data on the same axes\n",
    "def plot_raw_data(xi, yi, ax):\n",
    "    \"\"\"plot x vs y on axes ax, \n",
    "    add axes labels and turn on grid\n",
    "    \"\"\"\n",
    "    ax.plot(xi, yi, 'ko', label='raw data')\n",
    "    ax.set_xlabel('$x$', fontsize=16)\n",
    "    ax.set_ylabel('$y$', fontsize=16)\n",
    "    ax.grid(True)\n",
    "    \n",
    "plot_raw_data(xi, yi, ax1)\n",
    "ax1.set_title('Lagrange interpolating polynomial (SciPy)', fontsize=16)\n",
    "\n",
    "# Add a legend\n",
    "ax1.legend(loc='best', fontsize=14);"
   ]
  },
  {
   "cell_type": "markdown",
   "metadata": {},
   "source": [
    "If you want to follow my own solution, then you could start from the following code skeleton where you need to figure out how to complete to incomplete lines indicated by `.......`"
   ]
  },
  {
   "cell_type": "markdown",
   "metadata": {},
   "source": [
    "*Pseudo-code / code skeleton:*\n",
    "\n",
    "``` Python\n",
    "def Lagrange_basis_poly(xi, x):\n",
    "    \"\"\"Calculate Lagrange basis polynomials.\n",
    "\n",
    "    Parameters\n",
    "    ----------\n",
    "    xi : array_like\n",
    "        The x-component of the data\n",
    "    x : array_like\n",
    "        Array of x-locations the polynomial is evaluated at\n",
    "\n",
    "    Returns\n",
    "    -------\n",
    "    l : ndarray\n",
    "        The Lagrange polynomials evaluated at x, has size (len(xi), len(x))\n",
    "    \"\"\"\n",
    "    # we have N+1 data points, and so the polynomial degree N must be the length of xi minus 1\n",
    "    N = len(xi) - 1\n",
    "    # the Lagrange basis polynomials are a product, so let's initialise them with 1\n",
    "    # (cf. for a summation where we would most likely initialise with zero)\n",
    "    # we have N+1 of them, and we want their values at locations x, hence size (N+1)xlen(x)\n",
    "    l = np.ones((N+1, len(x)))\n",
    "    # we want to iterate over i ranging from zero to N\n",
    "    for i in range(0, N+1):\n",
    "        for m in range(0, N+1):\n",
    "            if (m != i):\n",
    "                l[i, :] = .........\n",
    "    return l\n",
    "\n",
    "\n",
    "def Lagrange_interp_poly(xi, yi, x):\n",
    "    \"\"\"Calculates Lagrange interpolation polynomial from N+1 data points.\n",
    "\n",
    "    Parameters\n",
    "    ----------\n",
    "    xi, yi : array_like\n",
    "        The N+1 data points (i = 0, 1, ..., N)\n",
    "    x : array_like\n",
    "        Array of x-locations the polynomial is evaluated at\n",
    "\n",
    "    Returns\n",
    "    -------\n",
    "    L : ndarray\n",
    "        Lagrange interpolation polynomial evaluated at x\n",
    "    \"\"\"\n",
    "    # first call our function above to calculate the individual basis functions l\n",
    "    l = Lagrange_basis_poly(xi, x)\n",
    "    print('len(xi), len(x), l.shape: ', len(xi), len(x), l.shape)\n",
    "    # L is our Lagrange polynomial evaluated at the locations x\n",
    "    L = np.zeros_like(x)\n",
    "    for i in range(0, len(xi)):\n",
    "        L = .............\n",
    "    return L\n",
    "\n",
    "\n",
    "# Our data points\n",
    "xi = np.array([0.5, 2.0, 4.0, 5.0, 7.0, 9.0])\n",
    "yi = np.array([0.5, 0.4, 0.3, 0.1, 0.9, 0.8])\n",
    "\n",
    "# Define the x locations we will want to evaluate the Lagrange polynomial at - \n",
    "# enough points to get a smooth curve in the plot\n",
    "x = np.linspace(0.4, 9.1, 100)\n",
    "\n",
    "# Perform the Lagrange interpolation.\n",
    "# L here is the evaluation of the Lagrange poly at locations x\n",
    "L = Lagrange_interp_poly(xi, yi, x)\n",
    "\n",
    "\n",
    "# set up figure\n",
    "fig = plt.figure(figsize=(8, 6))\n",
    "ax1 = fig.add_subplot(111)\n",
    "\n",
    "# add a small margin\n",
    "ax1.margins(0.1)\n",
    "\n",
    "# plot (x, y) = (x, L(x))\n",
    "ax1.plot(x, L, 'b', label='Lagrange polynomial')\n",
    "\n",
    "# Overlay raw data\n",
    "plot_raw_data(xi, yi, ax1)\n",
    "ax1.set_title('Lagrange interpolating polynomial (our implementation)', fontsize=16)\n",
    "\n",
    "# Add a legend\n",
    "ax1.legend(loc='best', fontsize=14);\n",
    "```"
   ]
  },
  {
   "cell_type": "markdown",
   "metadata": {},
   "source": [
    "### Solution - Lagrange polynomial"
   ]
  },
  {
   "cell_type": "code",
   "execution_count": 27,
   "metadata": {
    "scrolled": false
   },
   "outputs": [
    {
     "name": "stdout",
     "output_type": "stream",
     "text": [
      "len(xi), len(x), l.shape:  6 100 (6, 100)\n"
     ]
    },
    {
     "data": {
      "image/png": "[encoded data removed]",
      "text/plain": [
       "<Figure size 576x432 with 1 Axes>"
      ]
     },
     "metadata": {
      "needs_background": "light"
     },
     "output_type": "display_data"
    }
   ],
   "source": [
    "def Lagrange_basis_poly(xi, x):\n",
    "    \"\"\"Calculate Lagrange basis polynomials.\n",
    "\n",
    "    Parameters\n",
    "    ----------\n",
    "    xi : array_like\n",
    "        The x-component of the data\n",
    "    x : array_like\n",
    "        Array of x-locations the polynomial is evaluated at\n",
    "\n",
    "    Returns\n",
    "    -------\n",
    "    l : ndarray\n",
    "        The Lagrange polynomials evaluated at x, has size (len(xi), len(x))\n",
    "    \"\"\"\n",
    "    # we have N+1 data points, and so the polynomial degree N must be the length of xi minus 1\n",
    "    N = len(xi) - 1\n",
    "    # the Lagrange basis polynomials are a product, so let's initialise them with 1\n",
    "    # (cf. for a summation where we would most likely initialise with zero)\n",
    "    # we have N+1 of them, and we want their values at locations x, hence size (N+1)xlen(x)\n",
    "    l = np.ones((N+1, len(x)))\n",
    "    # we want to iterate over i ranging from zero to N\n",
    "    for i in range(0, N+1):\n",
    "        for m in range(0, N+1):\n",
    "            if (m != i):\n",
    "                l[i, :] = l[i, :] * (x - xi[m]) / (xi[i] - xi[m])\n",
    "    return l\n",
    "\n",
    "\n",
    "def Lagrange_interp_poly(xi, yi, x):\n",
    "    \"\"\"Calculates Lagrange interpolation polynomial from N+1 data points.\n",
    "\n",
    "    Parameters\n",
    "    ----------\n",
    "    xi, yi : array_like\n",
    "        The N+1 data points (i = 0, 1, ..., N)\n",
    "    x : array_like\n",
    "        Array of x-locations the polynomial is evaluated at\n",
    "\n",
    "    Returns\n",
    "    -------\n",
    "    L : ndarray\n",
    "        Lagrange interpolation polynomial evaluated at x\n",
    "    \"\"\"\n",
    "    # first call our function above to calculate the individual basis functions l\n",
    "    l = Lagrange_basis_poly(xi, x)\n",
    "    print('len(xi), len(x), l.shape: ', len(xi), len(x), l.shape)\n",
    "    # L is our Lagrange polynomial evaluated at the locations x\n",
    "    L = np.zeros_like(x)\n",
    "    for i in range(0, len(xi)):\n",
    "        L = L + yi[i] * l[i]\n",
    "    return L\n",
    "\n",
    "\n",
    "# Our data points\n",
    "xi = np.array([0.5, 2.0, 4.0, 5.0, 7.0, 9.0])\n",
    "yi = np.array([0.5, 0.4, 0.3, 0.1, 0.9, 0.8])\n",
    "\n",
    "# Define the x locations we will want to evaluate the Lagrange polynomial at - \n",
    "# enough points to get a smooth curve in the plot\n",
    "x = np.linspace(0.4, 9.1, 100)\n",
    "\n",
    "# Perform the Lagrange interpolation.\n",
    "# L here is the evaluation of the Lagrange poly at locations x\n",
    "L = Lagrange_interp_poly(xi, yi, x)\n",
    "\n",
    "\n",
    "# set up figure\n",
    "fig = plt.figure(figsize=(8, 6))\n",
    "ax1 = fig.add_subplot(111)\n",
    "\n",
    "# add a small margin\n",
    "ax1.margins(0.1)\n",
    "\n",
    "# plot (x, y) = (x, L(x))\n",
    "ax1.plot(x, L, 'b', label='Lagrange polynomial')\n",
    "\n",
    "# Overlay raw data\n",
    "plot_raw_data(xi, yi, ax1)\n",
    "ax1.set_title('Lagrange interpolating polynomial (our implementation)', fontsize=16)\n",
    "\n",
    "# Add a legend\n",
    "ax1.legend(loc='best', fontsize=14);"
   ]
  },
  {
   "cell_type": "markdown",
   "metadata": {
    "slideshow": {
     "slide_type": "subslide"
    }
   },
   "source": [
    "## Homework - Implementing a trapezoidal rule function and compare with midpoint\n",
    "\n",
    "Recall from the lecture the trapezoidal rule\n",
    "\n",
    "$$I_T := \\sum_{i=0}^{n-1}\\,   \\left(\\frac{f(x_{i+1}) + f(x_{i})}{2}\\right )\\, (x_{i+1}-x_i). $$\n",
    "\n",
    "implement a function to calculate this estimate, and apply it to the `sin` example from the lecture.\n",
    "\n",
    "Perform an error analysis and compare  the errors to the seemingly simpler midpoint rule.\n",
    "\n",
    "You can also check for \"exact\" agreement with the SciPy implementation <a href=\"https://docs.scipy.org/doc/scipy-0.10.1/reference/generated/scipy.integrate.trapz.html\">`scipy.integrate.trapz`</a>,\n",
    "\n",
    "or  <a href=\"https://docs.scipy.org/doc/scipy-0.10.1/reference/generated/scipy.integrate.trapezoid.html\">`scipy.integrate.trapezoid`</a> \n",
    "depending on what version you're using."
   ]
  },
  {
   "cell_type": "markdown",
   "metadata": {},
   "source": [
    "### Solution - Implementing a trapezoidal rule function and compare with midpoint"
   ]
  },
  {
   "cell_type": "code",
   "execution_count": 28,
   "metadata": {
    "slideshow": {
     "slide_type": "fragment"
    }
   },
   "outputs": [],
   "source": [
    "def trapezoidal_rule(a, b, function, number_intervals=10):\n",
    "    \"\"\"Our implementation of the trapezoidal quadrature rule.\n",
    "    \n",
    "    ** Note that as discussed in the lecture this version of the implementation \n",
    "    performs redundant function evaluations - see the composite implementation \n",
    "    in the homework for a more efficient version. **\n",
    "    \"\"\"\n",
    "    interval_size = (b - a)/number_intervals\n",
    "\n",
    "    assert interval_size > 0\n",
    "    assert type(number_intervals) == int\n",
    "\n",
    "    I_T = 0.0\n",
    "\n",
    "    # Loop to create each trapezoid\n",
    "    # note this function takes a slightly different approach to Midpoint \n",
    "    # (a for loop rather than a while loop) to achieve the same thing\n",
    "    for i in range(number_intervals):\n",
    "        # Set the start of this interval \n",
    "        this_bin_start = a + (interval_size * i)\n",
    "        # Find the area of the current trapezoid and add it to the running total\n",
    "        I_T += interval_size * \\\n",
    "                (function(this_bin_start)+function(this_bin_start+interval_size))/2.0\n",
    "\n",
    "    # Return our running total result\n",
    "    return I_T"
   ]
  },
  {
   "cell_type": "markdown",
   "metadata": {
    "slideshow": {
     "slide_type": "subslide"
    }
   },
   "source": [
    "(Note the comment in the code on \"redundant function evaluations\" - can you see why this is and how to change things to improve efficiency?)\n",
    "\n",
    "Let's test the function as we did for the midpoint rule.\n",
    "\n",
    "In addition, let's also output the values computed using `scipy.integrate.trapz` to check they give the same results."
   ]
  },
  {
   "cell_type": "code",
   "execution_count": 29,
   "metadata": {
    "slideshow": {
     "slide_type": "fragment"
    }
   },
   "outputs": [
    {
     "name": "stdout",
     "output_type": "stream",
     "text": [
      "The exact area found by direct integration = 2\n",
      "Area 1    trapezoid(s) = 0.0000000000000002 (error = 1.999999999999999778e+00)\n",
      "Area 2    trapezoid(s) = 1.5707963267948968 (error = 4.292036732051032200e-01)\n",
      "Area 4    trapezoid(s) = 1.8961188979370398 (error = 1.038811020629601956e-01)\n",
      "Area 8    trapezoid(s) = 1.9742316019455510 (error = 2.576839805444897102e-02)\n",
      "Area 16   trapezoid(s) = 1.9935703437723391 (error = 6.429656227660895951e-03)\n",
      "Area 32   trapezoid(s) = 1.9983933609701445 (error = 1.606639029855472245e-03)\n",
      "Area 100  trapezoid(s) = 1.9998355038874440 (error = 1.644961125559785131e-04)\n",
      "Area 1000 trapezoid(s) = 1.9999983550656619 (error = 1.644934338074222069e-06)\n",
      "\n",
      "Verificaton check: \n",
      "These are the corresponding values computed using Scipy's trapezoidal function and the difference with our computed result\n",
      "0.0000000000000002, 0.0000000000000000e+00\n",
      "1.5707963267948968, 0.0000000000000000e+00\n",
      "1.8961188979370398, 0.0000000000000000e+00\n",
      "1.9742316019455508, 2.2204460492503131e-16\n",
      "1.9935703437723391, 0.0000000000000000e+00\n",
      "1.9983933609701445, 0.0000000000000000e+00\n",
      "1.9998355038874434, 6.6613381477509392e-16\n",
      "1.9999983550656628, 8.8817841970012523e-16\n"
     ]
    },
    {
     "data": {
      "image/png": "[encoded data removed]",
      "text/plain": [
       "<Figure size 504x504 with 1 Axes>"
      ]
     },
     "metadata": {
      "needs_background": "light"
     },
     "output_type": "display_data"
    }
   ],
   "source": [
    "def f(x):\n",
    "    \"\"\"The function we wish to integrate\"\"\"\n",
    "    return np.sin(x)\n",
    "\n",
    "# Now let's test the trapezoidal function.\n",
    "print(\"The exact area found by direct integration = 2\")\n",
    "interval_sizes_T = [1, 2, 4, 8, 16, 32, 100, 1000]\n",
    "areas_T = np.zeros_like(interval_sizes_T, dtype='float64')\n",
    "errors_T = np.zeros_like(interval_sizes_T, dtype='float64')\n",
    "for (i, number_intervals) in enumerate(interval_sizes_T):\n",
    "    areas_T[i] = trapezoidal_rule(0, np.pi, f, number_intervals)\n",
    "    errors_T[i] = abs(areas_T[i]-2)\n",
    "    print('Area {:<4d} trapezoid(s) = {:.16f} (error = {:.18e})'.format(\n",
    "        number_intervals, areas_T[i], errors_T[i]))\n",
    "\n",
    "# compare the outputs from our code against those obtained with the Scipy function\n",
    "print(\"\\nVerificaton check: \\nThese are the corresponding values computed using Scipy's\"\n",
    "      \" trapezoidal function and the difference with our computed result\")\n",
    "for (i, number_intervals) in enumerate(interval_sizes_T):\n",
    "    area_scipy_trap = scipy.integrate.trapz(f(np.linspace(0, np.pi, number_intervals+1)), \n",
    "                               np.linspace(0, np.pi, number_intervals+1))\n",
    "    # see a comment below to explain the use of linspace here\n",
    "    print('{0:.16f}, {1:.16e}'.format(area_scipy_trap, abs(area_scipy_trap - areas_T[i])))\n",
    "\n",
    "    \n",
    "# plot\n",
    "fig = plt.figure(figsize=(7, 7))\n",
    "ax1 = plt.subplot(111)\n",
    "ax1.loglog(interval_sizes_T, errors_T, 'bo-', lw=2)\n",
    "ax1.set_xlabel('log(number_intervals)', fontsize=16)\n",
    "ax1.set_ylabel('log(error)', fontsize=16)\n",
    "ax1.set_title('Convergence plot when integrating $\\sin$ with trap rule', fontsize=16)\n",
    "ax1.legend(loc='best', fontsize=14)\n",
    "\n",
    "annotation.slope_marker((5e1, 1e-4), (-2, 1), invert=True, ax=ax1, \n",
    "                        size_frac=0.25, pad_frac=0.05, text_kwargs = dict(fontsize = 14));"
   ]
  },
  {
   "cell_type": "markdown",
   "metadata": {},
   "source": [
    "#### Observations / comments\n",
    "\n",
    "\n",
    "- Our function agrees with SciPy down to machine precision. This, along with the convergence of our result to the true solution, offers good evidence that we've implemented the algorithm correctly (i.e. code verification). However, note that there is always the possibility that it only works correctly for this one function so if we wanted to be really rigorous we should test on several functions, e.g. another funtion that is not trigonometric in nature.\n",
    "\n",
    "\n",
    "- As for the midpoint rule, this method is also seen to be second-order accurate (again, for this function).\n",
    "\n",
    "\n",
    "- For this function the errors with the trapezoidal rule are actually slightly larger than we found for the midpoint rule, which is *not* what we were expecting.\n",
    "\n",
    "\n",
    "- Note that the `scipy.integrate.trapz` function takes data points, rather than the function and number of subintervals. Hence when calling `scipy.integrate.trapz` we give it the $(y(x),x)$ data given by `f(np.linspace(0, np.pi, number_intervals+1))` and  `np.linspace(0, np.pi, number_intervals+1))`.  To match the $\\text{number_intervals}$ intervals used in our code, in order to test for exact agreement, we need to give `scipy.integrate.trapz` ($\\text{number_intervals} + 1$) pieces of data. We can use `numpy.linspace` here since at present our codes assume uniformly sizes subintervals!"
   ]
  },
  {
   "cell_type": "markdown",
   "metadata": {},
   "source": [
    "Let's compare against the midpoint rule"
   ]
  },
  {
   "cell_type": "code",
   "execution_count": 30,
   "metadata": {},
   "outputs": [
    {
     "name": "stdout",
     "output_type": "stream",
     "text": [
      "midpoint_rule(0, np.pi, np.sin, number_intervals=5) =  2.033281476926104\n"
     ]
    }
   ],
   "source": [
    "def midpoint_rule(a, b, function, number_intervals=10):\n",
    "    \"\"\" Our implementation of the midpoint quadrature rule.\n",
    "    \n",
    "    a and b are the end points for our interval of interest.\n",
    "    \n",
    "    'function' is the function of x \\in [a,b] which we can evaluate as needed.\n",
    "    \n",
    "    number_intervals is the number of subintervals/bins we split [a,b] into.\n",
    "    \n",
    "    Returns the integral of function(x) over [a,b].\n",
    "    \"\"\"\n",
    "    interval_size = (b - a)/number_intervals\n",
    "\n",
    "    # Some examples of some asserts which might be useful here - \n",
    "    # you should get into the habit of using these sorts of checks as much as is possible/sensible.\n",
    "    assert interval_size > 0\n",
    "    assert type(number_intervals) == int\n",
    "    \n",
    "    # Initialise to zero the variable that will contain the cumulative sum of all the areas\n",
    "    I_M = 0.0\n",
    "    \n",
    "    # Find the first midpoint -- i.e. the centre point of the base of the first rectangle\n",
    "    mid = a + (interval_size/2.0)\n",
    "    # and loop until we get past b, creating and summing the area of each rectangle\n",
    "    while (mid < b):\n",
    "        # Find the area of the current rectangle and add it to the running total\n",
    "        # this involves an evaluation of the function at the subinterval midpoint\n",
    "        I_M += interval_size * function(mid)\n",
    "        # Move the midpoint up to the next centre of the interval\n",
    "        mid += interval_size\n",
    "\n",
    "    # Return our running total result\n",
    "    return I_M\n",
    "\n",
    "# check the function runs and agrees with our first version used to generate the schematic plot of the method above:\n",
    "print('midpoint_rule(0, np.pi, np.sin, number_intervals=5) = ', midpoint_rule(0, np.pi, np.sin, number_intervals=5))"
   ]
  },
  {
   "cell_type": "code",
   "execution_count": 31,
   "metadata": {},
   "outputs": [
    {
     "name": "stdout",
     "output_type": "stream",
     "text": [
      "The exact area found by direct integration = 2\n",
      "Area 1    rectangle(s) = 3.141592654 (error = 1.141592654e+00)\n",
      "Area 2    rectangle(s) = 2.221441469 (error = 2.214414691e-01)\n",
      "Area 4    rectangle(s) = 2.052344306 (error = 5.234430595e-02)\n",
      "Area 8    rectangle(s) = 2.012909086 (error = 1.290908560e-02)\n",
      "Area 16   rectangle(s) = 2.003216378 (error = 3.216378168e-03)\n",
      "Area 32   rectangle(s) = 2.000803416 (error = 8.034163099e-04)\n",
      "Area 100  rectangle(s) = 2.000082249 (error = 8.224907099e-05)\n",
      "Area 1000 rectangle(s) = 2.000000822 (error = 8.224672938e-07)\n"
     ]
    },
    {
     "data": {
      "image/png": "[encoded data removed]",
      "text/plain": [
       "<Figure size 504x504 with 1 Axes>"
      ]
     },
     "metadata": {
      "needs_background": "light"
     },
     "output_type": "display_data"
    }
   ],
   "source": [
    "def f(x):\n",
    "    \"\"\"The function we wish to integrate\"\"\"\n",
    "    return np.sin(x)\n",
    "\n",
    "\n",
    "# Now let's test the midpoint function.\n",
    "print('The exact area found by direct integration = 2')\n",
    "\n",
    "# create a list of interval sizes to test \n",
    "interval_sizes_M = [1, 2, 4, 8, 16, 32, 100, 1000]\n",
    "\n",
    "# initialise an array to store the errors\n",
    "errors_M = np.zeros_like(interval_sizes_M, dtype='float64')\n",
    "\n",
    "# loop over the list of interval sizes, compute and store errors\n",
    "for (i, number_intervals) in enumerate(interval_sizes_M):\n",
    "    area = midpoint_rule(0, np.pi, f, number_intervals)\n",
    "    errors_M[i] = abs(area-2)\n",
    "    print('Area {:<4d} rectangle(s) = {:.9f} (error = {:.9e})'.format(\n",
    "        number_intervals, area, errors_M[i]))\n",
    "\n",
    "# plot how the errors vary with interval size\n",
    "fig = plt.figure(figsize=(7, 7))\n",
    "ax1 = plt.subplot(111)\n",
    "ax1.loglog(interval_sizes_M, errors_M, 'bo-', lw=2)\n",
    "ax1.set_xlabel('log(number_intervals)', fontsize=16)\n",
    "ax1.set_ylabel('log(error)', fontsize=16)\n",
    "ax1.set_title('Convergence plot when integrating $\\sin$ with the midpoint rule', fontsize=16)\n",
    "\n",
    "# add a triangle to indicate the line slope\n",
    "annotation.slope_marker((5e1, 1e-4), (-2, 1), invert=True, ax=ax1, \n",
    "                        size_frac=0.25, pad_frac=0.05, text_kwargs = dict(fontsize = 14));"
   ]
  },
  {
   "cell_type": "code",
   "execution_count": 32,
   "metadata": {},
   "outputs": [
    {
     "data": {
      "image/png": "[encoded data removed]",
      "text/plain": [
       "<Figure size 504x504 with 1 Axes>"
      ]
     },
     "metadata": {
      "needs_background": "light"
     },
     "output_type": "display_data"
    }
   ],
   "source": [
    "# plot\n",
    "fig = plt.figure(figsize=(7, 7))\n",
    "ax1 = plt.subplot(111)\n",
    "ax1.set_xlabel('log(number_intervals)', fontsize=16)\n",
    "ax1.set_ylabel('log(error)', fontsize=16)\n",
    "ax1.set_title('Convergence plot when integrating $\\sin$ with midpoint and trap rules', fontsize=16)\n",
    "ax1.loglog(interval_sizes_T, errors_T, 'bo-', lw=2, label='Trapezoidal')\n",
    "ax1.loglog(interval_sizes_M, errors_M, 'ko-', lw=2, label='Midpoint')\n",
    "ax1.legend(loc='best', fontsize=14)\n",
    "\n",
    "annotation.slope_marker((5e1, 1e-4), (-2, 1), invert=True, ax=ax1, \n",
    "                        size_frac=0.25, pad_frac=0.05, text_kwargs = dict(fontsize = 14));"
   ]
  },
  {
   "cell_type": "markdown",
   "metadata": {},
   "source": [
    "We find that the errors with the Trapezoidal rule (for this example) are indeed twice those of the midpoint rule."
   ]
  },
  {
   "cell_type": "markdown",
   "metadata": {},
   "source": [
    "## Homework - Implement the composite version of the trapezoidal rule\n",
    "\n",
    "In the lecture we implemented the naive version of the trapezoidal rule over multiple subintervals - we noted that this implementation has redundant function evaluations.\n",
    "\n",
    "Implement a composite version based upon the discussion in the lecture which minimises function evaluations and test it against the function `trapezoidal_rule`.\n",
    "\n",
    "Think about how you can make the *verification* of your new code against the one from the Lecture as rigorous as possible."
   ]
  },
  {
   "cell_type": "markdown",
   "metadata": {},
   "source": [
    "### Solution - Implement the composite version of the trapezoidal rule\n",
    "\n",
    "The key difference is to replace the maths\n",
    "\n",
    "$$I_T :=  \\sum_{i=0}^{n-1}\\,  I_T^{(i)}  = \\sum_{i=0}^{n-1}\\,   \\left(\\frac{f(x_{i+1}) + f(x_{i})}{2}\\right )\\, (x_{i+1}-x_i), $$\n",
    "\n",
    "with\n",
    "\n",
    "$$I_T := [f(x_0) + 2f(x_1) + 2f(x_2) + \\ldots + 2f(x_{n-1}) + f(x_n)]\\frac{\\Delta x}{2}.$$\n",
    "\n",
    "For rigorous verification we should at a minimum: (1) check for agreement with a code we trust; (2) check for convergence, and that convergence is consistent with what they theory tells us the convergence rate should be; (3) and we should test on different problems (here function to integrate, as well as different integration limits) and using different numbers of intervals, etc."
   ]
  },
  {
   "cell_type": "code",
   "execution_count": 33,
   "metadata": {},
   "outputs": [],
   "source": [
    "# function from the lecture:\n",
    "def trapezoidal_rule(a, b, function, number_intervals=10):\n",
    "    \"\"\"Our implementation of the trapezoidal quadrature rule\"\"\"\n",
    "    interval_size = (b - a)/number_intervals\n",
    "\n",
    "    assert interval_size > 0\n",
    "    assert type(number_intervals) == int\n",
    "\n",
    "    I_T = 0.0\n",
    "\n",
    "    # Loop to create each trapezoid\n",
    "    # note this function takes a slightly different approach to Midpoint \n",
    "    # (a for loop rather than a while loop) to achieve the same thing\n",
    "    for i in range(number_intervals):\n",
    "        # Set the start of this interval \n",
    "        this_bin_start = a + (interval_size * i)\n",
    "        # Find the area of the current trapezoid and add it to the running total\n",
    "        I_T += interval_size * \\\n",
    "             (function(this_bin_start) + function(this_bin_start+interval_size)) / 2.0\n",
    "\n",
    "    # Return our running total result\n",
    "    return I_T\n",
    "\n",
    "\n",
    "# a new function\n",
    "def trapezoidal_rule2(a, b, function, number_intervals=10):\n",
    "    \"\"\"Our implementation of the trapezoidal quadrature rule - composite version\"\"\"\n",
    "    interval_size = (b - a)/number_intervals\n",
    "    assert interval_size > 0\n",
    "    assert type(number_intervals) == int\n",
    "    I_T = 0.0\n",
    "    # Use the composite form of the rule\n",
    "    # note that with some thought we can minimise the multiplications by 2, as well as by\n",
    "    # the interval_size:\n",
    "    I_T += function(a)/2.0\n",
    "    for i in range(1, number_intervals):\n",
    "        I_T += function(a + i * interval_size)\n",
    "    I_T += function(b)/2.0\n",
    "    # Return our running total result\n",
    "    return I_T * interval_size"
   ]
  },
  {
   "cell_type": "code",
   "execution_count": 34,
   "metadata": {},
   "outputs": [
    {
     "name": "stdout",
     "output_type": "stream",
     "text": [
      "\n",
      "Verificaton check: \n",
      "\n",
      "0.0000000000000002, 1.9236706937217898e-16\n",
      "1.5707963267948968, 1.5707963267948966e+00\n",
      "1.8961188979370398, 1.8961188979370398e+00\n",
      "1.9742316019455510, 1.9742316019455508e+00\n",
      "1.9935703437723391, 1.9935703437723395e+00\n",
      "1.9983933609701445, 1.9983933609701441e+00\n",
      "1.9998355038874440, 1.9998355038874436e+00\n",
      "1.9999983550656619, 1.9999983550656624e+00\n",
      "\n",
      "Test on x^2 with 10 intervals: True\n",
      "\n",
      "Test on exp with 100 intervals: True\n"
     ]
    }
   ],
   "source": [
    "# Now let's test our two Trapezoidal rule functions.\n",
    "\n",
    "def f(x):\n",
    "    \"\"\"The function we wish to integrate\"\"\"\n",
    "    return np.sin(x)\n",
    "\n",
    "# here we just print the two intergal approximations and compare using the\n",
    "# \"eyeball\" norm - ideally you would use something like np.allclose.\n",
    "print('\\nVerificaton check: \\n')\n",
    "interval_sizes = [1, 2, 4, 8, 16, 32, 100, 1000]\n",
    "for (i, number_intervals) in enumerate(interval_sizes):\n",
    "    print('{0:.16f}, {1:.16e}'.format(trapezoidal_rule(0, np.pi, f, number_intervals),\\\n",
    "                                      trapezoidal_rule2(0, np.pi, f, number_intervals)))\n",
    "    \n",
    "# of course you could use numpy.allclose, and you should also test on other equations, e.g.:\n",
    "\n",
    "print('\\nTest on x^2 with 10 intervals:',np.allclose(  trapezoidal_rule(0., 1., lambda x : x**2, 10),\\\n",
    "                    trapezoidal_rule2(0., 1., lambda x : x**2, 10)) )\n",
    "\n",
    "print('\\nTest on exp with 100 intervals:',np.allclose(  trapezoidal_rule(1., 3., np.exp, 100),\\\n",
    "                    trapezoidal_rule2(1., 3., np.exp, 100)) )"
   ]
  },
  {
   "cell_type": "markdown",
   "metadata": {},
   "source": [
    "<div class=\"advanced\">\n",
    "\n",
    "## Homework - Newton-Cotes quadrature rules [$\\star\\star$]\n",
    "\n",
    "We stated in the lecture that:\n",
    "\n",
    "\"Note that an alternate derivation of the same rule [Simpsons] involves fitting a *quadratic function* (i.e. $P_2(x)$ rather than the constant and linear approximations already considered) that interpolates the integral at the two end points of the interval, $a$ and $b$, as well as at the midpoint, $c = \\left ( a+b\\right )/2$, and calculating the integral under that polynomial approximation.\"\n",
    "\n",
    "Given that we can do this for different interpolating poynomials leads us to the family of [Newton-Cotes quadrature rules](https://en.wikipedia.org/wiki/Newton%E2%80%93Cotes_formulas) in the case where we use an interpolating polynomial that matches the function being integrated at *equally spaced* points over an interval.\n",
    "\n",
    "<br>\n",
    "\n",
    "Specifically, assume we have $N+1$ equally spaced data points $(x_i,y_i)$ [other families of quadrature rules follow from not having equally spaced points]. We will assume we are dealing with the integration of a known function and so $y_i = f(x_i)$.\n",
    "\n",
    "**Note we are trying to be careful about the distinction between $n$ and $N$ throughout this lecture!**\n",
    "\n",
    "We know from the material we saw on interpolation that we can fit an order $N$ polynomial exactly through these points; we call this  polynomial $P_N(x)$.\n",
    "\n",
    "Recall the Lagrange form of $P_N$ was defined as\n",
    "\n",
    "$$L(x) := \\sum_{i=0}^{N} y_i \\ell_i(x),$$\n",
    "\n",
    "with the *Lagrange basis polynomials*  defined by the product\n",
    "\n",
    "$$\\ell_i(x) := \\prod_{\\begin{smallmatrix}0\\le m\\le N\\\\ m\\neq i\\end{smallmatrix}} \\frac{x-x_m}{x_i-x_m} = \\frac{(x-x_0)}{(x_i-x_0)} \\cdots \\frac{(x-x_{i-1})}{(x_i-x_{i-1})} \\frac{(x-x_{i+1})}{(x_i-x_{i+1})} \\cdots \\frac{(x-x_N)}{(x_i-x_N)},$$\n",
    "\n",
    "where $0\\le i\\le N$.\n",
    "\n",
    "<br>\n",
    "\n",
    "An approximation to our integral is therefore given by\n",
    "\n",
    "\\begin{align*}\n",
    "I &\\approx \\int_a^b\\,P_N(x)\\,dx,\\\\[10pt]\n",
    "&= \\sum_{i=0}^{N}\\, \\left[\\,f(x_i) \\int_a^b\\, \\ell_i(x)\\, dx\\right],\\\\[10pt]\n",
    "&=\\sum_{i=0}^{N}\\, A_i \\, f(x_i),\n",
    "\\end{align*}\n",
    "\n",
    "where\n",
    "\n",
    "$$ A_i := \\int_a^b\\, \\ell_i(x)\\, dx, \\;\\;\\;\\; i = 0,1,\\ldots,N. $$\n",
    "\n",
    "\n",
    "Simply by varying $N$ we can come up with quadrature rules of arbitrary order. \n",
    "\n",
    "Let's check we can recreate the schemes we have already seen via this approach - consider the case $N=1$ and check you arrive a the Trapezoidal rule, and for $N=2$ that you arrive at Simpson's rule.\n",
    "\n",
    "</div>"
   ]
  },
  {
   "cell_type": "markdown",
   "metadata": {},
   "source": [
    "### Warning\n",
    "\n",
    "- Recall from the previous lecture that fitting high-order polynomials through many (evenly spaced) data points was found to be a bad idea in the context of interpolation (we saw this in an example which used the Runge function). \n",
    "\n",
    "\n",
    "- This will of course also compromise the corresponding quadrature rules, and so we should be very careful about the use of high-order Newton-Cotes based quadrature.\n",
    "    "
   ]
  },
  {
   "cell_type": "markdown",
   "metadata": {},
   "source": [
    "### Hint\n",
    "\n",
    "Note that the Trapezoidal rule derivation will require you to perform evaluations of integrals such as\n",
    "\n",
    "\\begin{align*}\n",
    "A_0 & := \\int_a^b\\, \\ell_0(x)\\, dx  \\\\[5pt]\n",
    "& = \\frac{1}{a-b}\\int_a^b\\, (x-b)\\, dx   \\\\[5pt]\n",
    "&= \\frac{1}{a-b}\\left[\\frac{x^2}{2} - b x\\right]_a^b \\\\[5pt]\n",
    "& = \\frac{1}{a-b} \\left[\\frac{b^2 - a^2}{2} - b (b-a)\\right]  \\\\[5pt]\n",
    "&= -\\frac 12 (a+b) + b = \\frac{b-a}2,\n",
    "\\end{align*}\n",
    "\n",
    "\n",
    "<br>\n",
    "\n",
    "However, for Simpson's rule you will need to evaluate more complicated integrals of the form\n",
    "\n",
    "\\begin{align*}\n",
    "A_0 &= \\int_{x_0}^{x_2}\\, \\ell_0(x)\\, dx \\\\[5pt]\n",
    "& = \\frac{1}{(x_0-x_1)(x_0-x_2)}\\int_{x_0}^{x_2}\\, (x-x_1)(x - x_2) \\, dx.\n",
    "\\end{align*}\n",
    "\n",
    "<br>\n",
    "\n",
    "Note that this integral is much easier to do if you introduce the new variable (i.e. a [change of variables](https://en.wikipedia.org/wiki/Integration_by_substitution)) $\\xi$ such that $d\\xi = dx$ and $\\xi=0$ corresponds to $x_1$, $\\xi = -h$ corresponds to $x_0$ and $\\xi = h$ corresponds to $x_2$. Note therefore that the interval size $x_2-x_0 = 2h$. \n",
    "\n",
    "Your integral then becomes\n",
    "\n",
    "\\begin{align*}\n",
    "A_0 & = \\frac{1}{(x_0-x_1)(x_0-x_2)}\\int_{x_0}^{x_2}\\, (x-x_1)(x - x_2) \\, dx \\\\[5pt]\n",
    "& = \\frac{1}{(-h)(-2h)}\\int_{-h}^{h}\\, \\xi(\\xi - h) \\, d\\xi = \\ldots = \\frac{h}{3}.\n",
    "\\end{align*}\n",
    "\n",
    "Fill in the gaps and do the other integrals to complete the derivation."
   ]
  },
  {
   "cell_type": "markdown",
   "metadata": {},
   "source": [
    "### Solution - Newton-Cotes quadrature rules"
   ]
  },
  {
   "cell_type": "markdown",
   "metadata": {},
   "source": [
    "#### (N=1) Trapezoidal\n",
    "\n",
    "If $N=1$ (i.e. two data points) then the Lagrange basis functions are \n",
    "\n",
    "$$\\ell_0(x) = \\frac{x-x_1}{x_0-x_1}= \\frac{x-b}{a-b}, \\;\\;\\;\\;\\;\\;\\;\\;\n",
    "\\ell_1(x) = \\frac{x-x_0}{x_1-x_0} = \\frac{x-a}{b-a},$$\n",
    "\n",
    "with integrals\n",
    "\n",
    "\\begin{align*}\n",
    "A_0 & := \\int_a^b\\, \\ell_0(x)\\, dx =  \\frac{1}{a-b}\\int_a^b\\, (x-b)\\, dx  \\\\[5pt]\n",
    "&= \\frac{1}{a-b}\\left[\\frac{x^2}{2} - b x\\right]_a^b = \\frac{1}{a-b} \\left[\\frac{b^2 - a^2}{2} - b (b-a)\\right] \\\\[5pt]\n",
    "&= -\\frac 12 (a+b) + b = \\frac{b-a}2,\n",
    "\\end{align*}\n",
    "\n",
    "and\n",
    "\n",
    "\\begin{align*}\n",
    "A_1 & := \\int_a^b\\, \\ell_1(x)\\, dx =  \\frac{1}{b-a}\\int_a^b\\, (x-a)\\, dx  \\\\[5pt]\n",
    "&= \\frac{1}{b-a}\\left[\\frac{x^2}{2} - a x\\right]_a^b = \\frac{1}{b-a} \\left[\\frac{b^2 - a^2}{2} -a (b-a)\\right] \\\\[5pt]\n",
    "&= \\frac 12 (b+a) - a = \\frac{b-a}2,\n",
    "\\end{align*}\n",
    "\n",
    "and so our quadrature rule over a single interval can be written as\n",
    "\n",
    "\\begin{align*}\n",
    "I \\approx \\sum_{i=0}^{1}\\, A_i \\, f(x_i) = \n",
    "A_0 f(a) + A_1 f(b) = (b - a)\\frac{(f(a) + f(b))}{2},\n",
    "\\end{align*}\n",
    "\n",
    "which we indeed recognise as the Trapezoidal scheme.\n"
   ]
  },
  {
   "cell_type": "markdown",
   "metadata": {},
   "source": [
    "\n",
    "#### (N=2) Simpson's rule\n",
    "\n",
    "Now consider the case $N=2$ where we have data at two end points of an interval $[a,b]$ as well as the midpoint $c := \\left ( a+b\\right )/2$. \n",
    "\n",
    "To simplify the terminology below call these three points $x_0$, $x_1$ and $x_2$, with $x_1$ the midpoint $c$.\n",
    "\n",
    "The three Lagrange basis functions in this case are\n",
    "\n",
    "\\begin{align*}\n",
    "\\ell_0(x) &= \\frac{(x-x_1)(x - x_2)}{(x_0-x_1)(x_0-x_2)}, \\\\[5pt]\n",
    "\\ell_1(x) &= \\frac{(x-x_0)(x - x_2)}{(x_1-x_0)(x_1-x_2)}, \\\\[5pt]\n",
    "\\ell_2(x) &= \\frac{(x-x_0)(x - x_1)}{(x_2-x_0)(x_2-x_1)}. \n",
    "\\end{align*}\n",
    "\n",
    "The integral of the first of these is\n",
    "\n",
    "\\begin{align*}\n",
    "A_0 &= \\int_{x_0}^{x_2}\\, \\ell_0(x)\\, dx \\\\[5pt]\n",
    "& = \\frac{1}{(x_0-x_1)(x_0-x_2)}\\int_{x_0}^{x_2}\\, (x-x_1)(x - x_2) \\, dx.\n",
    "\\end{align*}\n",
    "\n",
    "This integral is much easier to do if we introduce the new variable (i.e. a [change of variables](https://en.wikipedia.org/wiki/Integration_by_substitution)) $\\xi$ such that $d\\xi = dx$ and $\\xi=0$ corresponds to $x_1$, $\\xi = -h$ corresponds to $x_0$ and $\\xi = h$ corresponds to $x_2$. Note therefore that the interval size $x_2-x_0 = 2h$. \n",
    "\n",
    "Our integral now becomes\n",
    "\n",
    "\\begin{align*}\n",
    "A_0 & = \\frac{1}{(x_0-x_1)(x_0-x_2)}\\int_{x_0}^{x_2}\\, (x-x_1)(x - x_2) \\, dx \\\\[5pt]\n",
    "& = \\frac{1}{(-h)(-2h)}\\int_{-h}^{h}\\, \\xi(\\xi - h) \\, d\\xi \n",
    "\\\\[5pt]\n",
    "& = \\frac{1}{2h^2}\\left[\\frac{\\xi^3}{3} - h \\frac{\\xi^2}{2}\\right]_{-h}^{h}\n",
    "\\\\[5pt]\n",
    "& = \\frac{1}{2h^2}\\left[\\frac{h^3}{3} - h \\frac{h^2}{2} - \\frac{(-h)^3}{3} + h \\frac{(-h)^2}{2}   \\right] \\\\[5pt]\n",
    "& = \\frac{1}{2h^2}\\left[\\frac{h^3}{3} - \\frac{h^3}{2} + \\frac{h^3}{3} +  \\frac{h^3}{2}   \\right] \n",
    "\\\\[5pt]\n",
    "& = \\frac{1}{2h^2}2\\frac{h^3}{3} \\\\[5pt]\n",
    "& = \\frac{h}{3}.\n",
    "\\end{align*}\n",
    "\n",
    "Similarly,\n",
    "\n",
    "\\begin{align*}\n",
    "A_1 &= \\int_{x_0}^{x_2}\\, \\ell_1(x)\\, dx \\\\[5pt]\n",
    "& = \\int_{x_0}^{x_2}\\, \\frac{(x-x_0)(x - x_2)}{(x_1 - x_0)(x_1-x_2)}  \\, d\\xi \\\\[5pt]\n",
    "& = \\frac{1}{(x_1-x_0)(x_1-x_2)}\\int_{x_0}^{x_2}\\, (\\xi + h)(\\xi - h) \\, d\\xi\\\\[5pt]\n",
    "& = \\frac{1}{(h)(-h)}\\int_{-h}^{h}\\, \\xi^2 - h^2 \\, d\\xi \n",
    "\\\\[5pt]\n",
    "& = \\frac{1}{-h^2}\\left[\\frac{\\xi^3}{3} - h^2 \\xi\\right]_{-h}^{h}\n",
    "\\\\[5pt]\n",
    "& = \\frac{1}{-h^2}\\left[\\frac{h^3}{3} - h^2 h - \\frac{(-h)^3}{3} + h^2(-h) \\right] \\\\[5pt]\n",
    "& = \\frac{1}{-h^2}\\left[\\frac{h^3}{3} - h^3 + \\frac{h^3}{3} - h^3 \\right] \\\\[5pt]\n",
    "& = \\frac{1}{-h^2}\\frac{-4h^3}{3} \\\\[5pt]\n",
    "& = \\frac{4h}{3}.\n",
    "\\end{align*}\n",
    "\n",
    "And finally\n",
    "\n",
    "\\begin{align*}\n",
    "A_2 &= \\int_{x_0}^{x_2}\\, \\ell_2(x)\\, dx \\\\[5pt]\n",
    "& = \\int_{x_0}^{x_2}\\, \\frac{(x-x_0)(x - x_1)}{(x_2-x_0)(x_2-x_1)}  \\, dx \\\\[5pt]\n",
    "& = \\frac{1}{(x_2-x_0)(x_2-x_1)}\\int_{x_0}^{x_2}\\, (\\xi + h)\\xi \\,d\\xi \\\\[5pt]\n",
    "& = \\frac{1}{(2h)(h)}\\int_{-h}^{h}\\, \\xi^2 + h\\xi \\, d\\xi\n",
    "\\\\[5pt]\n",
    "& = \\frac{1}{2h^2}\\left[\\frac{\\xi^3}{3} + h \\frac{\\xi^2}{2}\\right]_{-h}^{h}\n",
    "\\\\[5pt]\n",
    "& = \\frac{1}{2h^2}\\left[\\frac{h^3}{3} + h \\frac{h^2}{2} - \\frac{(-h)^3}{3} -  h \\frac{(-h)^2}{2} \\right] \\\\[5pt]\n",
    "& = \\frac{1}{2h^2}\\left[\\frac{h^3}{3} +  \\frac{h^3}{2} + \\frac{h^3}{3} - \\frac{h^3}{2} \\right] \\\\[5pt]\n",
    "& = \\frac{1}{2h^2}\\frac{2h^3}{3} \\\\[5pt]\n",
    "& = \\frac{h}{3}.\n",
    "\\end{align*}\n",
    "\n",
    "Therefore,\n",
    "\\begin{align*}\n",
    "I \\approx \\sum_{i=0}^{2}\\, A_i \\, f(x_i) \n",
    "&= A_0 f(a) + A_1 f\\left( \\frac{a+b}{2} \\right) + A_2 f(b) \\\\[5pt]\n",
    "&=  \\frac{h}{3} \\left( f(a) + 4 f\\left( \\frac{a+b}{2} \\right) + f(b)  \\right)\\\\[5pt]\n",
    "&=  \\frac{(b-a)}{6} \\left( f(a) + 4 f\\left( \\frac{a+b}{2} \\right) + f(b)  \\right)\n",
    "\\end{align*}\n",
    "\n",
    "which is Simpson's rule we derived in another way in the lecture."
   ]
  }
 ],
 "metadata": {
  "celltoolbar": "Slideshow",
  "kernelspec": {
   "display_name": "Python 3.8.10 64-bit",
   "language": "python",
   "name": "python3"
  },
  "language_info": {
   "codemirror_mode": {
    "name": "ipython",
    "version": 3
   },
   "file_extension": ".py",
   "mimetype": "text/x-python",
   "name": "python",
   "nbconvert_exporter": "python",
   "pygments_lexer": "ipython3",
   "version": "3.8.10"
  },
  "latex_envs": {
   "LaTeX_envs_menu_present": true,
   "autoclose": true,
   "autocomplete": true,
   "bibliofile": "biblio.bib",
   "cite_by": "apalike",
   "current_citInitial": 1,
   "eqLabelWithNumbers": true,
   "eqNumInitial": 1,
   "hotkeys": {
    "equation": "Ctrl-E",
    "itemize": "Ctrl-I"
   },
   "labels_anchors": false,
   "latex_user_defs": false,
   "report_style_numbering": false,
   "user_envs_cfg": true
  },
  "toc": {
   "base_numbering": 1,
   "nav_menu": {},
   "number_sections": true,
   "sideBar": true,
   "skip_h1_title": false,
   "title_cell": "Table of Contents",
   "title_sidebar": "Contents",
   "toc_cell": true,
   "toc_position": {},
   "toc_section_display": true,
   "toc_window_display": false
  },
  "vscode": {
   "interpreter": {
    "hash": "916dbcbb3f70747c44a77c7bcd40155683ae19c65e1c03b4aa3499c5328201f1"
   }
  }
 },
 "nbformat": 4,
 "nbformat_minor": 1
}
