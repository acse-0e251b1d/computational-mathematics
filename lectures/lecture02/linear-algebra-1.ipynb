{
 "cells": [
  {
   "cell_type": "code",
   "execution_count": 1,
   "metadata": {},
   "outputs": [
    {
     "data": {
      "text/html": [
       "<style>\n",
       "div.optional {\n",
       "    display: block;\n",
       "    background-color: #d7e2ff;\n",
       "    border-color: #d7e2ff;\n",
       "    border-left: 5px solid #d7e2ff;\n",
       "    padding: 0.5em;\n",
       "}\n",
       "div.advanced {\n",
       "    display: block;\n",
       "    background-color: #fff4d7;\n",
       "    border-color: #fff4d7;\n",
       "    border-left: 5px solid #fff4d7;\n",
       "    padding: 0.5em;\n",
       "}\n",
       "</style>\n"
      ],
      "text/plain": [
       "<IPython.core.display.HTML object>"
      ]
     },
     "metadata": {},
     "output_type": "display_data"
    }
   ],
   "source": [
    "%%html\n",
    "<style>\n",
    "div.optional {\n",
    "    display: block;\n",
    "    background-color: #d7e2ff;\n",
    "    border-color: #d7e2ff;\n",
    "    border-left: 5px solid #d7e2ff;\n",
    "    padding: 0.5em;\n",
    "}\n",
    "div.advanced {\n",
    "    display: block;\n",
    "    background-color: #fff4d7;\n",
    "    border-color: #fff4d7;\n",
    "    border-left: 5px solid #fff4d7;\n",
    "    padding: 0.5em;\n",
    "}\n",
    "</style>"
   ]
  },
  {
   "cell_type": "code",
   "execution_count": 6,
   "metadata": {},
   "outputs": [],
   "source": [
    "%matplotlib inline\n",
    "%precision 6\n",
    "import numpy as np\n",
    "import matplotlib.pyplot as plt\n",
    "import scipy.linalg as sl\n",
    "from pprint import pprint"
   ]
  },
  {
   "cell_type": "markdown",
   "metadata": {},
   "source": [
    "# Computational Mathematics  <a class=\"tocSkip\">\n",
    "\n",
    "## Linear Algebra 1 <a class=\"tocSkip\">\n",
    "### (part introduction/reminder/revision depending on your background)  <a class=\"tocSkip\">"
   ]
  },
  {
   "cell_type": "markdown",
   "metadata": {},
   "source": [
    "## Learning objectives  <a class=\"tocSkip\">\n",
    "   \n",
    "   \n",
    "1. Hopefully for most of you much of this lecture will provide a refresher/reminder on matrices and linear algebra.\n",
    "\n",
    "\n",
    "2. This lecture will focus on matrix arithmetic, linear systems and their solution; the next lecture will move on to eigenvalues and the solution of systems of ODEs.\n",
    "\n",
    "\n",
    "3. Again there is ample opportunity here for us to practice our coding and plotting, and we will think a bit about code complexity and run times.\n",
    "\n",
    "\n",
    "4. To gain a further/firmer understanding of some of the key concepts we will make use of geometrical interpretations and examples as much as possible."
   ]
  },
  {
   "cell_type": "markdown",
   "metadata": {},
   "source": [
    "## Lecture Plan  <a class=\"tocSkip\">\n",
    "    \n",
    "Most of the material in sections 1-7 should be revision for most of you, so I will go through this very quickly. \n",
    "\n",
    "The more challenging material starts in section 8 so I will try to get to this promptly in order to spend more time on it."
   ]
  },
  {
   "cell_type": "markdown",
   "metadata": {
    "toc": true
   },
   "source": [
    "<h1>Table of Contents<span class=\"tocSkip\"></span></h1>\n",
    "<div class=\"toc\"><ul class=\"toc-item\"><li><span><a href=\"#Introductory-comments-[*]\" data-toc-modified-id=\"Introductory-comments-[*]-1\"><span class=\"toc-item-num\">1&nbsp;&nbsp;</span>Introductory comments [*]</a></span><ul class=\"toc-item\"><li><span><a href=\"#Notation-&amp;-terminology\" data-toc-modified-id=\"Notation-&amp;-terminology-1.1\"><span class=\"toc-item-num\">1.1&nbsp;&nbsp;</span>Notation &amp; terminology</a></span></li><li><span><a href=\"#Matrix-dimension\" data-toc-modified-id=\"Matrix-dimension-1.2\"><span class=\"toc-item-num\">1.2&nbsp;&nbsp;</span>Matrix dimension</a></span></li><li><span><a href=\"#Arithmetic-and-other-simple-matrix-operations-(and-some-other-introductory-NumPy-comments)\" data-toc-modified-id=\"Arithmetic-and-other-simple-matrix-operations-(and-some-other-introductory-NumPy-comments)-1.3\"><span class=\"toc-item-num\">1.3&nbsp;&nbsp;</span>Arithmetic and other simple matrix operations (and some other introductory NumPy comments)</a></span><ul class=\"toc-item\"><li><span><a href=\"#Matrix-equivalence\" data-toc-modified-id=\"Matrix-equivalence-1.3.1\"><span class=\"toc-item-num\">1.3.1&nbsp;&nbsp;</span>Matrix equivalence</a></span></li><li><span><a href=\"#Addition-and-subtraction\" data-toc-modified-id=\"Addition-and-subtraction-1.3.2\"><span class=\"toc-item-num\">1.3.2&nbsp;&nbsp;</span>Addition and subtraction</a></span></li><li><span><a href=\"#Code\" data-toc-modified-id=\"Code-1.3.3\"><span class=\"toc-item-num\">1.3.3&nbsp;&nbsp;</span>Code</a></span></li><li><span><a href=\"#Scalar-multiplication\" data-toc-modified-id=\"Scalar-multiplication-1.3.4\"><span class=\"toc-item-num\">1.3.4&nbsp;&nbsp;</span>Scalar multiplication</a></span></li><li><span><a href=\"#Be-careful-about-assignments-vs-copies\" data-toc-modified-id=\"Be-careful-about-assignments-vs-copies-1.3.5\"><span class=\"toc-item-num\">1.3.5&nbsp;&nbsp;</span>Be careful about assignments vs copies</a></span></li><li><span><a href=\"#Matrix-transpose-and-complex-conjugate\" data-toc-modified-id=\"Matrix-transpose-and-complex-conjugate-1.3.6\"><span class=\"toc-item-num\">1.3.6&nbsp;&nbsp;</span>Matrix transpose and complex conjugate</a></span></li><li><span><a href=\"#Indexing,-slicing-etc\" data-toc-modified-id=\"Indexing,-slicing-etc-1.3.7\"><span class=\"toc-item-num\">1.3.7&nbsp;&nbsp;</span>Indexing, slicing etc</a></span></li><li><span><a href=\"#Other-useful-NumPy-attributes\" data-toc-modified-id=\"Other-useful-NumPy-attributes-1.3.8\"><span class=\"toc-item-num\">1.3.8&nbsp;&nbsp;</span>Other useful NumPy attributes</a></span></li></ul></li></ul></li><li><span><a href=\"#Matrix-vector-multiplication\" data-toc-modified-id=\"Matrix-vector-multiplication-2\"><span class=\"toc-item-num\">2&nbsp;&nbsp;</span>Matrix-vector multiplication</a></span><ul class=\"toc-item\"><li><span><a href=\"#Mathematical-definition\" data-toc-modified-id=\"Mathematical-definition-2.1\"><span class=\"toc-item-num\">2.1&nbsp;&nbsp;</span>Mathematical definition</a></span></li><li><span><a href=\"#Code\" data-toc-modified-id=\"Code-2.2\"><span class=\"toc-item-num\">2.2&nbsp;&nbsp;</span>Code</a></span></li><li><span><a href=\"#Properties\" data-toc-modified-id=\"Properties-2.3\"><span class=\"toc-item-num\">2.3&nbsp;&nbsp;</span>Properties</a></span></li><li><span><a href=\"#Matrix-multiplication-using-NumPy\" data-toc-modified-id=\"Matrix-multiplication-using-NumPy-2.4\"><span class=\"toc-item-num\">2.4&nbsp;&nbsp;</span>Matrix multiplication using NumPy</a></span><ul class=\"toc-item\"><li><span><a href=\"#Aside:-matrix-objects-[*]\" data-toc-modified-id=\"Aside:-matrix-objects-[*]-2.4.1\"><span class=\"toc-item-num\">2.4.1&nbsp;&nbsp;</span>Aside: matrix objects [*]</a></span></li></ul></li><li><span><a href=\"#Testing-our-code\" data-toc-modified-id=\"Testing-our-code-2.5\"><span class=\"toc-item-num\">2.5&nbsp;&nbsp;</span>Testing our code</a></span></li><li><span><a href=\"#Another-useful-interpretation\" data-toc-modified-id=\"Another-useful-interpretation-2.6\"><span class=\"toc-item-num\">2.6&nbsp;&nbsp;</span>Another useful interpretation</a></span></li></ul></li><li><span><a href=\"#Motivation---linear-(or-matrix)-systems\" data-toc-modified-id=\"Motivation---linear-(or-matrix)-systems-3\"><span class=\"toc-item-num\">3&nbsp;&nbsp;</span>Motivation - linear (or matrix) systems</a></span><ul class=\"toc-item\"><li><span><a href=\"#A-simple-example\" data-toc-modified-id=\"A-simple-example-3.1\"><span class=\"toc-item-num\">3.1&nbsp;&nbsp;</span>A simple example</a></span></li><li><span><a href=\"#The-general-case\" data-toc-modified-id=\"The-general-case-3.2\"><span class=\"toc-item-num\">3.2&nbsp;&nbsp;</span>The general case</a></span></li><li><span><a href=\"#A-geometric-interpretation\" data-toc-modified-id=\"A-geometric-interpretation-3.3\"><span class=\"toc-item-num\">3.3&nbsp;&nbsp;</span>A geometric interpretation</a></span></li><li><span><a href=\"#Solving-a-general-linear-system\" data-toc-modified-id=\"Solving-a-general-linear-system-3.4\"><span class=\"toc-item-num\">3.4&nbsp;&nbsp;</span>Solving a general linear system</a></span></li></ul></li><li><span><a href=\"#Matrix-inverse\" data-toc-modified-id=\"Matrix-inverse-4\"><span class=\"toc-item-num\">4&nbsp;&nbsp;</span>Matrix inverse</a></span><ul class=\"toc-item\"><li><span><a href=\"#Properties-of-the-matrix-inverse\" data-toc-modified-id=\"Properties-of-the-matrix-inverse-4.1\"><span class=\"toc-item-num\">4.1&nbsp;&nbsp;</span>Properties of the matrix inverse</a></span></li><li><span><a href=\"#Using-the-inverse-matrix-to-solve-a-linear-system\" data-toc-modified-id=\"Using-the-inverse-matrix-to-solve-a-linear-system-4.2\"><span class=\"toc-item-num\">4.2&nbsp;&nbsp;</span>Using the inverse matrix to solve a linear system</a></span><ul class=\"toc-item\"><li><span><a href=\"#The-inverse-for-our-simple-example\" data-toc-modified-id=\"The-inverse-for-our-simple-example-4.2.1\"><span class=\"toc-item-num\">4.2.1&nbsp;&nbsp;</span>The inverse for our simple example</a></span></li><li><span><a href=\"#Row-operations-and-a-glimpse-at-Gaussian-elimination-[*---please-read-through-this-in-your-own-time]\" data-toc-modified-id=\"Row-operations-and-a-glimpse-at-Gaussian-elimination-[*---please-read-through-this-in-your-own-time]-4.2.2\"><span class=\"toc-item-num\">4.2.2&nbsp;&nbsp;</span>Row operations and a glimpse at Gaussian elimination [* - please read through this in your own time]</a></span></li><li><span><a href=\"#Solving-our-simple-example-using-the-inverse-matrix\" data-toc-modified-id=\"Solving-our-simple-example-using-the-inverse-matrix-4.2.3\"><span class=\"toc-item-num\">4.2.3&nbsp;&nbsp;</span>Solving our simple example using the inverse matrix</a></span></li></ul></li><li><span><a href=\"#Aside:-constructing-some-useful-simple-matrices-in-NumPy-[*]\" data-toc-modified-id=\"Aside:-constructing-some-useful-simple-matrices-in-NumPy-[*]-4.3\"><span class=\"toc-item-num\">4.3&nbsp;&nbsp;</span>Aside: constructing some useful simple matrices in NumPy [*]</a></span><ul class=\"toc-item\"><li><span><a href=\"#The-identity-matrix\" data-toc-modified-id=\"The-identity-matrix-4.3.1\"><span class=\"toc-item-num\">4.3.1&nbsp;&nbsp;</span>The identity matrix</a></span></li><li><span><a href=\"#Diagonal-matrices\" data-toc-modified-id=\"Diagonal-matrices-4.3.2\"><span class=\"toc-item-num\">4.3.2&nbsp;&nbsp;</span>Diagonal matrices</a></span></li><li><span><a href=\"#Matrices-of-zeros-or-ones,-empty-matrices\" data-toc-modified-id=\"Matrices-of-zeros-or-ones,-empty-matrices-4.3.3\"><span class=\"toc-item-num\">4.3.3&nbsp;&nbsp;</span>Matrices of zeros or ones, empty matrices</a></span></li></ul></li></ul></li><li><span><a href=\"#The-determinant\" data-toc-modified-id=\"The-determinant-5\"><span class=\"toc-item-num\">5&nbsp;&nbsp;</span>The determinant</a></span></li><li><span><a href=\"#Matrix-vector-multiplication-(again;-code-speed)-[*]\" data-toc-modified-id=\"Matrix-vector-multiplication-(again;-code-speed)-[*]-6\"><span class=\"toc-item-num\">6&nbsp;&nbsp;</span>Matrix-vector multiplication (again; code speed) [*]</a></span><ul class=\"toc-item\"><li><span><a href=\"#Testing-our-code\" data-toc-modified-id=\"Testing-our-code-6.1\"><span class=\"toc-item-num\">6.1&nbsp;&nbsp;</span>Testing our code</a></span></li><li><span><a href=\"#Checking-the-speed-of-our-code!\" data-toc-modified-id=\"Checking-the-speed-of-our-code!-6.2\"><span class=\"toc-item-num\">6.2&nbsp;&nbsp;</span>Checking the speed of our code!</a></span></li></ul></li><li><span><a href=\"#Matrix-matrix-product-[*]\" data-toc-modified-id=\"Matrix-matrix-product-[*]-7\"><span class=\"toc-item-num\">7&nbsp;&nbsp;</span>Matrix-matrix product [*]</a></span><ul class=\"toc-item\"><li><span><a href=\"#Conformable-dimensions\" data-toc-modified-id=\"Conformable-dimensions-7.1\"><span class=\"toc-item-num\">7.1&nbsp;&nbsp;</span>Conformable dimensions</a></span></li><li><span><a href=\"#Properties\" data-toc-modified-id=\"Properties-7.2\"><span class=\"toc-item-num\">7.2&nbsp;&nbsp;</span>Properties</a></span></li><li><span><a href=\"#Code\" data-toc-modified-id=\"Code-7.3\"><span class=\"toc-item-num\">7.3&nbsp;&nbsp;</span>Code</a></span><ul class=\"toc-item\"><li><span><a href=\"#Testing-our-code\" data-toc-modified-id=\"Testing-our-code-7.3.1\"><span class=\"toc-item-num\">7.3.1&nbsp;&nbsp;</span>Testing our code</a></span></li></ul></li></ul></li><li><span><a href=\"#Some-linear-algebra-theory\" data-toc-modified-id=\"Some-linear-algebra-theory-8\"><span class=\"toc-item-num\">8&nbsp;&nbsp;</span>Some linear algebra theory</a></span><ul class=\"toc-item\"><li><span><a href=\"#The-determinant-(again)\" data-toc-modified-id=\"The-determinant-(again)-8.1\"><span class=\"toc-item-num\">8.1&nbsp;&nbsp;</span>The determinant (again)</a></span><ul class=\"toc-item\"><li><span><a href=\"#Properties\" data-toc-modified-id=\"Properties-8.1.1\"><span class=\"toc-item-num\">8.1.1&nbsp;&nbsp;</span>Properties</a></span></li><li><span><a href=\"#Full-definition-[*]\" data-toc-modified-id=\"Full-definition-[*]-8.1.2\"><span class=\"toc-item-num\">8.1.2&nbsp;&nbsp;</span>Full definition [*]</a></span></li></ul></li><li><span><a href=\"#The-inverse-matrix\" data-toc-modified-id=\"The-inverse-matrix-8.2\"><span class=\"toc-item-num\">8.2&nbsp;&nbsp;</span>The inverse matrix</a></span><ul class=\"toc-item\"><li><span><a href=\"#$2\\times-2$-case\" data-toc-modified-id=\"$2\\times-2$-case-8.2.1\"><span class=\"toc-item-num\">8.2.1&nbsp;&nbsp;</span>$2\\times 2$ case</a></span></li><li><span><a href=\"#$n\\times-n$-case\" data-toc-modified-id=\"$n\\times-n$-case-8.2.2\"><span class=\"toc-item-num\">8.2.2&nbsp;&nbsp;</span>$n\\times n$ case</a></span></li></ul></li><li><span><a href=\"#Using-SciPy-to-compute-the-inverse-matrix\" data-toc-modified-id=\"Using-SciPy-to-compute-the-inverse-matrix-8.3\"><span class=\"toc-item-num\">8.3&nbsp;&nbsp;</span>Using SciPy to compute the inverse matrix</a></span></li><li><span><a href=\"#Singular-matrices\" data-toc-modified-id=\"Singular-matrices-8.4\"><span class=\"toc-item-num\">8.4&nbsp;&nbsp;</span>Singular matrices</a></span></li><li><span><a href=\"#Solvability-of-linear-systems\" data-toc-modified-id=\"Solvability-of-linear-systems-8.5\"><span class=\"toc-item-num\">8.5&nbsp;&nbsp;</span>Solvability of linear systems</a></span><ul class=\"toc-item\"><li><span><a href=\"#Linear-(in)dependence\" data-toc-modified-id=\"Linear-(in)dependence-8.5.1\"><span class=\"toc-item-num\">8.5.1&nbsp;&nbsp;</span>Linear (in)dependence</a></span></li><li><span><a href=\"#A-basis-for-a-vector-space\" data-toc-modified-id=\"A-basis-for-a-vector-space-8.5.2\"><span class=\"toc-item-num\">8.5.2&nbsp;&nbsp;</span>A basis for a vector space</a></span></li><li><span><a href=\"#An-example-|-the-geometrical-interpretation-of-matrix-vector-multiplication\" data-toc-modified-id=\"An-example-|-the-geometrical-interpretation-of-matrix-vector-multiplication-8.5.3\"><span class=\"toc-item-num\">8.5.3&nbsp;&nbsp;</span>An example | the geometrical interpretation of matrix vector multiplication</a></span></li><li><span><a href=\"#Solvability-theory---some-equivalent-properties\" data-toc-modified-id=\"Solvability-theory---some-equivalent-properties-8.5.4\"><span class=\"toc-item-num\">8.5.4&nbsp;&nbsp;</span>Solvability theory - some equivalent properties</a></span></li><li><span><a href=\"#Rank,-range-and-null-Space\" data-toc-modified-id=\"Rank,-range-and-null-Space-8.5.5\"><span class=\"toc-item-num\">8.5.5&nbsp;&nbsp;</span>Rank, range and null-Space</a></span></li><li><span><a href=\"#Solving-our-simple-example-(again)\" data-toc-modified-id=\"Solving-our-simple-example-(again)-8.5.6\"><span class=\"toc-item-num\">8.5.6&nbsp;&nbsp;</span>Solving our simple example (again)</a></span></li></ul></li></ul></li><li><span><a href=\"#Cramer's-rule-[**]\" data-toc-modified-id=\"Cramer's-rule-[**]-9\"><span class=\"toc-item-num\">9&nbsp;&nbsp;</span>Cramer's rule [**]</a></span></li><li><span><a href=\"#Geometric-interpretation-of-linear-transformations-[*---assuming-we-have-run-out-of-time,-please-read-through-this-section-as-we-will-pick-up-the-next-lecture-from-these-ideas]\" data-toc-modified-id=\"Geometric-interpretation-of-linear-transformations-[*---assuming-we-have-run-out-of-time,-please-read-through-this-section-as-we-will-pick-up-the-next-lecture-from-these-ideas]-10\"><span class=\"toc-item-num\">10&nbsp;&nbsp;</span>Geometric interpretation of linear transformations [* - assuming we have run out of time, please read through this section as we will pick up the next lecture from these ideas]</a></span><ul class=\"toc-item\"><li><span><a href=\"#Some-examples\" data-toc-modified-id=\"Some-examples-10.1\"><span class=\"toc-item-num\">10.1&nbsp;&nbsp;</span>Some examples</a></span></li><li><span><a href=\"#A-general-transformation-and-the-determinant-again-[*]\" data-toc-modified-id=\"A-general-transformation-and-the-determinant-again-[*]-10.2\"><span class=\"toc-item-num\">10.2&nbsp;&nbsp;</span>A general transformation and the determinant again [*]</a></span></li></ul></li><li><span><a href=\"#An-animation-[*]\" data-toc-modified-id=\"An-animation-[*]-11\"><span class=\"toc-item-num\">11&nbsp;&nbsp;</span>An animation [*]</a></span></li><li><span><a href=\"#Summary\" data-toc-modified-id=\"Summary-12\"><span class=\"toc-item-num\">12&nbsp;&nbsp;</span>Summary</a></span><ul class=\"toc-item\"><li><span><a href=\"#Next-lecture\" data-toc-modified-id=\"Next-lecture-12.1\"><span class=\"toc-item-num\">12.1&nbsp;&nbsp;</span>Next lecture</a></span></li></ul></li></ul></div>"
   ]
  },
  {
   "cell_type": "markdown",
   "metadata": {},
   "source": [
    "<div class=\"optional\">\n",
    "\n",
    "# Introductory comments [*]\n",
    "\n",
    "Linear algebra comes up absolutely everywhere in computational/data science (and elsewhere!).\n",
    "\n",
    "It's important that we have a firm grasp of the mathematical/conceptual aspects, as well as the numerical aspects and the software tools at our disposal.\n",
    "\n",
    "In this lecture we're going to briefly review the former and make a start at some of the latter.\n",
    "\n",
    "***As said previously - your backgrounds are quite varied so for some of you much of this material will already be very familiar, while for some of you some parts may be new. There is a lot of material here, we will start simply but try to move quite rapidly.***\n",
    "\n",
    "This material will give us ample opportunity to practice our use of NumPy and SciPy, and to gain further experience in plotting.\n",
    "\n",
    "I will go through this first section very quickly in order to move on to more interesting material.\n",
    "    \n",
    "</div>"
   ]
  },
  {
   "cell_type": "markdown",
   "metadata": {},
   "source": [
    "If nothing else, at the end of this lecture you should understand how to create animations like this using linear algebra\n",
    "\n",
    "<video controls loop width=\"600\" src=\"animations/logo.mp4\"/>"
   ]
  },
  {
   "cell_type": "markdown",
   "metadata": {},
   "source": [
    "and then be able to extend to things like this\n",
    "\n",
    "<video controls loop width=\"600\" src=\"animations/logo-drunk.mp4\"/>"
   ]
  },
  {
   "cell_type": "markdown",
   "metadata": {},
   "source": [
    "## Notation & terminology\n",
    "\n",
    "\n",
    "- We will use bold fonts to indicate vectors, e.g. $\\boldsymbol{x } $ :\n",
    "\n",
    "$$ \\boldsymbol{x} = (x_1,x_2,\\ldots, x_m)^T$$\n",
    "\n",
    "[the transpose is here since we generally assume a vector is a *column* vector (i.e. has dimension, or shape, $m\\times 1$), but it's clearly easier and more compact to display it as the transpose of a *row* vector in writing - note that when writing on paper it's common to indicate a bold symbol with an underline: $\\boldsymbol{x} \\equiv \\underline{x} $. Sometimes people also use the notation $\\vec{x}$ to indicate a vector.]\n",
    "\n",
    "- and capital letters to indicate matrices, e.g. $A$:\n",
    "\n",
    "$$A = \n",
    "\\begin{pmatrix}\n",
    "a_{11} & a_{12} \\\\\n",
    "a_{21} & a_{22}\n",
    "\\end{pmatrix}$$\n",
    "\n",
    "\n",
    "- Subscript letters or numbers will be used to indicate components of arrays or matrices, e.g. $x_i$ is the $i$-th component of the vector $\\boldsymbol{x}$, and $a_{ij}$ is the entry from the $i$-th row and the $j$-th column of the matrix $A$, with of course us needing to be careful over our numbering which starts from zero in our Python implementations.\n",
    "\n",
    "\n",
    "- We will identify column vectors making up the matrix $A$ as\n",
    "\n",
    "$$A = \\begin{pmatrix}\n",
    "      &     &         &     \\\\\n",
    "  \\boldsymbol{a}_{\\,:1} & \\boldsymbol{a}_{\\,:2} &  \\ldots & \\boldsymbol{a}_{\\,:n} \\\\\n",
    "      &     &         &     \n",
    "\\end{pmatrix}$$\n",
    "\n",
    "i.e. $\\boldsymbol{a}_{\\,:j}$ indicates the $j$-th column of matrix $A$.\n",
    "\n",
    "\n",
    "\n",
    "- Square or rounded (i.e. paretheses) brackets are both fine for vectors and matrices (not for intervals where they mean different things!). \n",
    "\n",
    "<br>\n",
    "\n",
    "\n",
    "See also <https://en.wikipedia.org/wiki/Matrix_(mathematics)#Notation>"
   ]
  },
  {
   "cell_type": "markdown",
   "metadata": {},
   "source": [
    "Note that I've made the choice to start my indices at '1' for the purposes of writing things down mathematically. \n",
    "\n",
    "You could choose to start with '0' to better match Python indexing if you want, you just need to be consistent."
   ]
  },
  {
   "cell_type": "markdown",
   "metadata": {},
   "source": [
    "## Matrix dimension\n",
    "\n",
    "A general [matrix](https://en.wikipedia.org/wiki/Matrix_(mathematics)) of dimension (shape in NumPy) $m \\times n$ is\n",
    "\n",
    "\\begin{pmatrix}\n",
    "    a_{11} & a_{12} & \\dots & a_{1n} \\\\\n",
    "    a_{21} & a_{22} & \\dots & a_{2n} \\\\\n",
    "    \\vdots & \\vdots & \\ddots & \\vdots \\\\\n",
    "    a_{m1} & a_{m2} & \\dots & a_{mn}   \n",
    "\\end{pmatrix}\n",
    "\n",
    "where for a real matrix all *entries* $a_{ij}\\in\\mathbb{R}$, i.e. are real numbers, and for a complex matrix $a_{ij}\\in\\mathbb{C}$.  \n",
    "\n",
    "Mathematically we could also write $A\\in\\mathbb{R}^{m\\times n}$ or $A\\in\\mathbb{C}^{m\\times n}$.\n",
    "\n",
    "We would say out loud that the matrix is of dimension \"m rows by n columns\" or just \"m by n\".\n",
    "\n",
    "The convention is to state the number of rows first, and columns second - we will see why this is sensible when we talk about matrix multiplication - indeed thinking about matrix multiplication is exactly how I remember that incrementing the first index ($i$) means we move down, and incrementing the second index ($j$) means we move to the right.\n",
    "\n",
    "A *square* matrix is one where $m=n$.\n",
    "\n",
    "An $m\\times 1$ matrix is also a *column vector*.\n",
    "\n",
    "A $1\\times n$ matrix is also a *row vector*."
   ]
  },
  {
   "cell_type": "markdown",
   "metadata": {},
   "source": [
    "## Arithmetic and other simple matrix operations (and some other introductory NumPy comments)\n",
    "\n",
    "We can also use the notation\n",
    "\n",
    "$$A = [a_{ij}]_{m\\times n}$$\n",
    "\n",
    "as shorthand to indicate that matrix $A$ is of dimension ${m\\times n}$ with entries signified by the variables $a_{ij}$."
   ]
  },
  {
   "cell_type": "markdown",
   "metadata": {},
   "source": [
    "### Matrix equivalence\n",
    "\n",
    "We can use this notation to define how two matrices are equivalent - there individually entires each need to be equivalent:\n",
    "\n",
    "$$A = B \\iff  a_{ij} = b_{ij}, \\quad \\forall\\; 1\\leq i \\leq m,\\;\\; 1\\leq j \\leq n$$\n",
    "\n",
    "Note that this definition only make sense if we are comparing matrices of the same size.\n",
    "\n",
    "In case you haven't seen it before $\\forall$ is mathematical shorthand notation for \"for all\" (https://en.wikipedia.org/wiki/Universal_quantification).\n",
    "\n",
    "NB. when proving things in mathamtical analysis, sequences etc, it's often used with a symbol for \"there exists\": $\\exists$."
   ]
  },
  {
   "cell_type": "code",
   "execution_count": 7,
   "metadata": {},
   "outputs": [
    {
     "name": "stdout",
     "output_type": "stream",
     "text": [
      "[[ True  True]\n",
      " [ True  True]]\n",
      "True\n",
      "\n",
      " [[ True  True]\n",
      " [ True False]]\n",
      "False\n"
     ]
    }
   ],
   "source": [
    "A = np.array([[1, 2], [3, 4]])\n",
    "B = np.array([[1, 2], [3, 4]])\n",
    "\n",
    "# the following compares element-wise\n",
    "print(A==B)\n",
    "# above works on pairs of entries element-wise, \n",
    "\n",
    "# while array_equal looks at the whole array.\n",
    "print(np.array_equal(A,B))\n",
    "\n",
    "# change one of the entries\n",
    "B = np.array([[1, 2], [3, 5]])\n",
    "\n",
    "print('\\n',A==B)\n",
    "print(np.array_equal(A,B))"
   ]
  },
  {
   "cell_type": "markdown",
   "metadata": {},
   "source": [
    "### Addition and subtraction\n",
    "\n",
    "With this notation we can also succinctly define the operation of adding two matrices (with the implicit requirement that the two matrices are of the same dimension)\n",
    "\n",
    "$$A + B = [a_{ij} + b_{ij}]_{m\\times n}$$\n",
    "\n",
    "and similar for subtraction.\n",
    "\n",
    "Let's check the mathematical description agrees with NumPy!"
   ]
  },
  {
   "cell_type": "code",
   "execution_count": 8,
   "metadata": {},
   "outputs": [
    {
     "name": "stdout",
     "output_type": "stream",
     "text": [
      "A =\n",
      " [[1 2]\n",
      " [3 4]] \n",
      "\n",
      "B =\n",
      " [[ 6 -2]\n",
      " [ 1 -7]] \n",
      "\n",
      "A+B =\n",
      " [[ 7  0]\n",
      " [ 4 -3]] \n",
      "\n",
      "A-B =\n",
      " [[-5  4]\n",
      " [ 2 11]] \n",
      "\n"
     ]
    }
   ],
   "source": [
    "# any old matrix\n",
    "A = np.array([[1, 2], [3, 4]])\n",
    "\n",
    "print('A =\\n', A, '\\n')\n",
    "# The '\\n's start new lines and are used just to make the printed text easier to read.\n",
    "\n",
    "# and another one\n",
    "B = np.array([[6, -2], [1, -7]])\n",
    "\n",
    "print('B =\\n', B, '\\n')\n",
    "\n",
    "C = A+B \n",
    "\n",
    "print('A+B =\\n', C, '\\n')\n",
    "\n",
    "print('A-B =\\n', A-B, '\\n')"
   ]
  },
  {
   "cell_type": "markdown",
   "metadata": {},
   "source": [
    "What happens when we try to perform arithmetic with matrices of different sizes?\n",
    "\n",
    "Remember that error/warning messages should be designed (by you and by other) to help the user - when you get an error/warning read it and try to understand what it's telling you!\n",
    "\n",
    "If you're note sure Google it!"
   ]
  },
  {
   "cell_type": "code",
   "execution_count": 9,
   "metadata": {},
   "outputs": [
    {
     "name": "stdout",
     "output_type": "stream",
     "text": [
      "A =\n",
      " [[1 2]\n",
      " [3 4]] \n",
      "\n",
      "B =\n",
      " [[ 6 -2]\n",
      " [ 1 -7]\n",
      " [ 5 -1]] \n",
      "\n"
     ]
    },
    {
     "ename": "ValueError",
     "evalue": "operands could not be broadcast together with shapes (2,2) (3,2) ",
     "output_type": "error",
     "traceback": [
      "\u001b[1;31m---------------------------------------------------------------------------\u001b[0m",
      "\u001b[1;31mValueError\u001b[0m                                Traceback (most recent call last)",
      "\u001b[1;32m<ipython-input-9-79181494f20b>\u001b[0m in \u001b[0;36m<module>\u001b[1;34m\u001b[0m\n\u001b[0;32m      3\u001b[0m \u001b[0mB\u001b[0m \u001b[1;33m=\u001b[0m \u001b[0mnp\u001b[0m\u001b[1;33m.\u001b[0m\u001b[0marray\u001b[0m\u001b[1;33m(\u001b[0m\u001b[1;33m[\u001b[0m\u001b[1;33m[\u001b[0m\u001b[1;36m6\u001b[0m\u001b[1;33m,\u001b[0m \u001b[1;33m-\u001b[0m\u001b[1;36m2\u001b[0m\u001b[1;33m]\u001b[0m\u001b[1;33m,\u001b[0m \u001b[1;33m[\u001b[0m\u001b[1;36m1\u001b[0m\u001b[1;33m,\u001b[0m \u001b[1;33m-\u001b[0m\u001b[1;36m7\u001b[0m\u001b[1;33m]\u001b[0m\u001b[1;33m,\u001b[0m \u001b[1;33m[\u001b[0m\u001b[1;36m5\u001b[0m\u001b[1;33m,\u001b[0m \u001b[1;33m-\u001b[0m\u001b[1;36m1\u001b[0m\u001b[1;33m]\u001b[0m\u001b[1;33m]\u001b[0m\u001b[1;33m)\u001b[0m\u001b[1;33m\u001b[0m\u001b[1;33m\u001b[0m\u001b[0m\n\u001b[0;32m      4\u001b[0m \u001b[0mprint\u001b[0m\u001b[1;33m(\u001b[0m\u001b[1;34m'B =\\n'\u001b[0m\u001b[1;33m,\u001b[0m \u001b[0mB\u001b[0m\u001b[1;33m,\u001b[0m\u001b[1;34m'\\n'\u001b[0m\u001b[1;33m)\u001b[0m\u001b[1;33m\u001b[0m\u001b[1;33m\u001b[0m\u001b[0m\n\u001b[1;32m----> 5\u001b[1;33m \u001b[0mC\u001b[0m \u001b[1;33m=\u001b[0m \u001b[0mA\u001b[0m\u001b[1;33m+\u001b[0m\u001b[0mB\u001b[0m\u001b[1;33m\u001b[0m\u001b[1;33m\u001b[0m\u001b[0m\n\u001b[0m",
      "\u001b[1;31mValueError\u001b[0m: operands could not be broadcast together with shapes (2,2) (3,2) "
     ]
    }
   ],
   "source": [
    "A = np.array([[1, 2], [3, 4]])\n",
    "print('A =\\n', A, '\\n')\n",
    "B = np.array([[6, -2], [1, -7], [5, -1]])\n",
    "print('B =\\n', B,'\\n')\n",
    "C = A+B"
   ]
  },
  {
   "cell_type": "markdown",
   "metadata": {},
   "source": [
    "### Code\n",
    "\n",
    "For practice, let's code up our own function to perform matrix addition and check it against the NumPy result for some examples.\n",
    "\n",
    "We'll also look a bit more at the use of some NumPy functions to check for the equivalence of arrays."
   ]
  },
  {
   "cell_type": "code",
   "execution_count": 10,
   "metadata": {},
   "outputs": [
    {
     "name": "stdout",
     "output_type": "stream",
     "text": [
      "mat_mat_addition(A,B) == A+B (using allclose): True\n",
      "mat_mat_addition(A,B) == A+B (allclose with tighter tols): True\n",
      "mat_mat_addition(A,B) == A+B (using array_equal):  True\n",
      "mat_mat_addition(A,B) == A+B+very small perturbation (using array_equal):  False\n",
      "mat_mat_addition(A,B) == A+B+very small perturbation (using allclose):  True\n"
     ]
    }
   ],
   "source": [
    "def mat_mat_addition(A,B):\n",
    "    \"\"\" Return the addition A+B\n",
    "    \"\"\"\n",
    "    mA, nA = np.shape(A)\n",
    "    mB, nB = np.shape(B)\n",
    "    # add a check that the two provided matrices are the same size\n",
    "    assert mA==mB and nA==nB \n",
    "    # initialise some space for the result\n",
    "    C = np.zeros((mA, mB))\n",
    "    # loop over the rows\n",
    "    for i in range(mA):\n",
    "        # loop over the columns\n",
    "        for j in range(nA):\n",
    "            C[i, j] = A[i, j] + B[i, j]\n",
    "    return C\n",
    "\n",
    "# check with a simple 2x2 case\n",
    "A = np.array([[1, 2], [3, 4]])\n",
    "B = np.array([[6, -2], [1, -7]])\n",
    "\n",
    "# we can use numpy.allclose to check if our function's result agrees with NumPy\n",
    "print('mat_mat_addition(A,B) == A+B (using allclose):', \n",
    "      np.allclose(mat_mat_addition(A,B), A+B))\n",
    "# numpy.allclose returns True provided that \n",
    "# absolute(`a` - `b`) <= (`atol` + `rtol` * absolute(`b`))\n",
    "# in an elementwise-sense, i.e. if it is true for all elements.\n",
    "\n",
    "# we can tighten up tolerances as follows (the default values are rtol=1e-05, atol=1e-08)\n",
    "print('mat_mat_addition(A,B) == A+B (allclose with tighter tols):', \n",
    "      np.allclose(mat_mat_addition(A,B), A+B, rtol=1e-14, atol=1e-14))\n",
    "\n",
    "# alternatively you could use array_equal - read the docs to see what the difference is\n",
    "print('mat_mat_addition(A,B) == A+B (using array_equal): ',\n",
    "      np.array_equal(mat_mat_addition(A,B), A+B))\n",
    "\n",
    "# when performing arithmetic operations round-off could mean that array_equal fails,\n",
    "# lets add a very small perturbation to one of the entries to demonstrate\n",
    "pert = np.array([[1.e-15, 0],[0,0]])\n",
    "print('mat_mat_addition(A,B) == A+B+very small perturbation (using array_equal): ',\n",
    "      np.array_equal(mat_mat_addition(A,B), A+B+pert))\n",
    "\n",
    "# but allclose lets us get away with this difference\n",
    "print('mat_mat_addition(A,B) == A+B+very small perturbation (using allclose): ',\n",
    "      np.allclose(mat_mat_addition(A,B), A+B+pert))"
   ]
  },
  {
   "cell_type": "markdown",
   "metadata": {},
   "source": [
    "So we do need to be a little bit careful on what equality means when using floating point arithmetic!\n",
    "(`numpy.allclose` is a useful function for us here.)\n",
    "\n",
    "\n",
    "\n",
    "We can get our code to do subtraction just by adding minus the second matrix:"
   ]
  },
  {
   "cell_type": "code",
   "execution_count": 11,
   "metadata": {},
   "outputs": [
    {
     "name": "stdout",
     "output_type": "stream",
     "text": [
      "mat_mat_addition(A,-B) == A-B: True\n"
     ]
    }
   ],
   "source": [
    "# we can check it can do subtraction as well\n",
    "A = np.array([[1, 2], [3, 4]])\n",
    "B = np.array([[6, -2], [1, -7]])\n",
    "\n",
    "print('mat_mat_addition(A,-B) == A-B:', np.allclose(mat_mat_addition(A,-B), A-B))"
   ]
  },
  {
   "cell_type": "code",
   "execution_count": 12,
   "metadata": {},
   "outputs": [
    {
     "ename": "AssertionError",
     "evalue": "",
     "output_type": "error",
     "traceback": [
      "\u001b[1;31m---------------------------------------------------------------------------\u001b[0m",
      "\u001b[1;31mAssertionError\u001b[0m                            Traceback (most recent call last)",
      "\u001b[1;32m<ipython-input-12-a2e83bbc2397>\u001b[0m in \u001b[0;36m<module>\u001b[1;34m\u001b[0m\n\u001b[0;32m      3\u001b[0m \u001b[0mB\u001b[0m \u001b[1;33m=\u001b[0m \u001b[0mnp\u001b[0m\u001b[1;33m.\u001b[0m\u001b[0marray\u001b[0m\u001b[1;33m(\u001b[0m\u001b[1;33m[\u001b[0m\u001b[1;33m[\u001b[0m\u001b[1;36m6\u001b[0m\u001b[1;33m,\u001b[0m \u001b[1;33m-\u001b[0m\u001b[1;36m2\u001b[0m\u001b[1;33m]\u001b[0m\u001b[1;33m,\u001b[0m \u001b[1;33m[\u001b[0m\u001b[1;36m1\u001b[0m\u001b[1;33m,\u001b[0m \u001b[1;33m-\u001b[0m\u001b[1;36m7\u001b[0m\u001b[1;33m]\u001b[0m\u001b[1;33m,\u001b[0m \u001b[1;33m[\u001b[0m\u001b[1;36m5\u001b[0m\u001b[1;33m,\u001b[0m \u001b[1;33m-\u001b[0m\u001b[1;36m1\u001b[0m\u001b[1;33m]\u001b[0m\u001b[1;33m]\u001b[0m\u001b[1;33m)\u001b[0m\u001b[1;33m\u001b[0m\u001b[1;33m\u001b[0m\u001b[0m\n\u001b[0;32m      4\u001b[0m \u001b[1;33m\u001b[0m\u001b[0m\n\u001b[1;32m----> 5\u001b[1;33m \u001b[0mprint\u001b[0m\u001b[1;33m(\u001b[0m\u001b[1;34m'mat_mat_addition(A,B) == A+B:'\u001b[0m\u001b[1;33m,\u001b[0m \u001b[0mnp\u001b[0m\u001b[1;33m.\u001b[0m\u001b[0mallclose\u001b[0m\u001b[1;33m(\u001b[0m\u001b[0mmat_mat_addition\u001b[0m\u001b[1;33m(\u001b[0m\u001b[0mA\u001b[0m\u001b[1;33m,\u001b[0m\u001b[0mB\u001b[0m\u001b[1;33m)\u001b[0m\u001b[1;33m,\u001b[0m \u001b[0mA\u001b[0m\u001b[1;33m+\u001b[0m\u001b[0mB\u001b[0m\u001b[1;33m)\u001b[0m\u001b[1;33m)\u001b[0m\u001b[1;33m\u001b[0m\u001b[1;33m\u001b[0m\u001b[0m\n\u001b[0m",
      "\u001b[1;32m<ipython-input-10-a33604b33699>\u001b[0m in \u001b[0;36mmat_mat_addition\u001b[1;34m(A, B)\u001b[0m\n\u001b[0;32m      5\u001b[0m     \u001b[0mmB\u001b[0m\u001b[1;33m,\u001b[0m \u001b[0mnB\u001b[0m \u001b[1;33m=\u001b[0m \u001b[0mnp\u001b[0m\u001b[1;33m.\u001b[0m\u001b[0mshape\u001b[0m\u001b[1;33m(\u001b[0m\u001b[0mB\u001b[0m\u001b[1;33m)\u001b[0m\u001b[1;33m\u001b[0m\u001b[1;33m\u001b[0m\u001b[0m\n\u001b[0;32m      6\u001b[0m     \u001b[1;31m# add a check that the two provided matrices are the same size\u001b[0m\u001b[1;33m\u001b[0m\u001b[1;33m\u001b[0m\u001b[1;33m\u001b[0m\u001b[0m\n\u001b[1;32m----> 7\u001b[1;33m     \u001b[1;32massert\u001b[0m \u001b[0mmA\u001b[0m\u001b[1;33m==\u001b[0m\u001b[0mmB\u001b[0m \u001b[1;32mand\u001b[0m \u001b[0mnA\u001b[0m\u001b[1;33m==\u001b[0m\u001b[0mnB\u001b[0m\u001b[1;33m\u001b[0m\u001b[1;33m\u001b[0m\u001b[0m\n\u001b[0m\u001b[0;32m      8\u001b[0m     \u001b[1;31m# initialise some space for the result\u001b[0m\u001b[1;33m\u001b[0m\u001b[1;33m\u001b[0m\u001b[1;33m\u001b[0m\u001b[0m\n\u001b[0;32m      9\u001b[0m     \u001b[0mC\u001b[0m \u001b[1;33m=\u001b[0m \u001b[0mnp\u001b[0m\u001b[1;33m.\u001b[0m\u001b[0mzeros\u001b[0m\u001b[1;33m(\u001b[0m\u001b[1;33m(\u001b[0m\u001b[0mmA\u001b[0m\u001b[1;33m,\u001b[0m \u001b[0mmB\u001b[0m\u001b[1;33m)\u001b[0m\u001b[1;33m)\u001b[0m\u001b[1;33m\u001b[0m\u001b[1;33m\u001b[0m\u001b[0m\n",
      "\u001b[1;31mAssertionError\u001b[0m: "
     ]
    }
   ],
   "source": [
    "# what does OUR function do when the matrices are of different size\n",
    "A = np.array([[1, 2], [3, 4]])\n",
    "B = np.array([[6, -2], [1, -7], [5, -1]])\n",
    "\n",
    "print('mat_mat_addition(A,B) == A+B:', np.allclose(mat_mat_addition(A,B), A+B))"
   ]
  },
  {
   "cell_type": "markdown",
   "metadata": {},
   "source": [
    "### Scalar multiplication\n",
    "\n",
    "We can multiply through by a scalar simply by multiplying each entry by that scalar:\n",
    "\n",
    "Given a matrix $A = [ a_{ij}]_{m\\times n}$ and a scalar $\\alpha$\n",
    "\n",
    "$$\\alpha A = [\\alpha a_{ij}]_{m\\times n}$$"
   ]
  },
  {
   "cell_type": "code",
   "execution_count": 13,
   "metadata": {},
   "outputs": [
    {
     "name": "stdout",
     "output_type": "stream",
     "text": [
      "[[1 2]\n",
      " [3 4]]\n",
      "alpha * A =\n",
      " [[ 4  8]\n",
      " [12 16]] \n",
      "\n"
     ]
    }
   ],
   "source": [
    "alpha = 4\n",
    "\n",
    "# The * operator is the correct thing to use here - cf. later when we introduce @!\n",
    "print(A)\n",
    "print('alpha * A =\\n', alpha*A, '\\n')"
   ]
  },
  {
   "cell_type": "markdown",
   "metadata": {},
   "source": [
    "### Be careful about assignments vs copies\n",
    "\n",
    "This was mentioned in your previous module.\n",
    "\n",
    "See the two examples below, and discussions at \n",
    "\n",
    "<https://www.jessicayung.com/numpy-views-vs-copies-avoiding-costly-mistakes/>\n",
    "\n",
    "<https://numpy.org/devdocs/user/quickstart.html#copies-and-views>"
   ]
  },
  {
   "cell_type": "code",
   "execution_count": 14,
   "metadata": {},
   "outputs": [
    {
     "name": "stdout",
     "output_type": "stream",
     "text": [
      "True\n",
      "True\n"
     ]
    }
   ],
   "source": [
    "A = np.array([[1, 2], [3, 4]])\n",
    "B = A\n",
    "\n",
    "# the following should of course be true\n",
    "print(np.array_equal(A,B))\n",
    "\n",
    "# is it still true if we update one of the entries of ONE of the matrices but not the other?\n",
    "B[0]=2\n",
    "print(np.array_equal(A,B))"
   ]
  },
  {
   "cell_type": "code",
   "execution_count": 15,
   "metadata": {},
   "outputs": [
    {
     "name": "stdout",
     "output_type": "stream",
     "text": [
      "True\n",
      "False\n"
     ]
    }
   ],
   "source": [
    "# we may or may not want the above behaviour\n",
    "\n",
    "# alternatively we can make a copy:\n",
    "A = np.array([[1, 2], [3, 4]])\n",
    "B = np.copy(A)\n",
    "print(np.array_equal(A,B))\n",
    "B[0]=2\n",
    "print(np.array_equal(A,B))"
   ]
  },
  {
   "cell_type": "markdown",
   "metadata": {},
   "source": [
    "### Matrix transpose and complex conjugate\n",
    "\n",
    "The transpose of a matrix $A$ is written as $A^T$ and defined as\n",
    "\n",
    "$$\\text{if} \\quad A = [a_{ij}]_{m\\times n}, \\qquad \\text{then}\\quad A^T = [a_{ji}]_{n\\times m} $$\n",
    "\n",
    "i.e. we just swap the rows and columns - for a non-square matrix note that this operation is perfectly allowed, the dimensions will then also swap:"
   ]
  },
  {
   "cell_type": "code",
   "execution_count": 16,
   "metadata": {},
   "outputs": [
    {
     "name": "stdout",
     "output_type": "stream",
     "text": [
      "[[1 2]\n",
      " [3 4]\n",
      " [5 6]]\n",
      "\n",
      " [[1 3 5]\n",
      " [2 4 6]]\n",
      "\n",
      " [[1 3 5]\n",
      " [2 4 6]]\n"
     ]
    }
   ],
   "source": [
    "A = np.array([[1, 2], [3, 4], [5,6]])\n",
    "print(A)\n",
    "# two NumPy ways to take the transpose:\n",
    "print('\\n',A.T)\n",
    "print('\\n',np.transpose(A))"
   ]
  },
  {
   "cell_type": "code",
   "execution_count": 17,
   "metadata": {},
   "outputs": [
    {
     "name": "stdout",
     "output_type": "stream",
     "text": [
      "\n",
      " [[1 3]\n",
      " [2 4]]\n",
      "\n",
      " [[ 1  3]\n",
      " [10  4]]\n"
     ]
    }
   ],
   "source": [
    "# again be careful about views vs copies:\n",
    "\n",
    "A = np.array([[1, 2], [3, 4]])\n",
    "B = A.T\n",
    "print('\\n',B)\n",
    "\n",
    "# updating the [0,1] entry of A\n",
    "A[0,1]=10\n",
    "\n",
    "# has the effect of changing the [1,0] entry of B!\n",
    "print('\\n',B)"
   ]
  },
  {
   "cell_type": "markdown",
   "metadata": {},
   "source": [
    "We won't generally deal with complex valued matrices, but in this case the [conjugate transpose (or Hermitian transpose)](https://en.wikipedia.org/wiki/Conjugate_transpose) is defined by additionally taking the complex conjugate of the entries:\n",
    "\n",
    "$$A^H = \\overline{A^T} = \\left(\\overline{A}\\right)^T = [\\overline{a}_{ji}]_{n\\times m} $$\n",
    "\n",
    "where $\\overline{(\\cdot)}$ indicates the complex conjugate:  \n",
    "\n",
    "$$\\overline{a+ bi} = a-bi,\\qquad \\text{where}\\qquad i=\\sqrt{-1}.$$"
   ]
  },
  {
   "cell_type": "code",
   "execution_count": 18,
   "metadata": {},
   "outputs": [
    {
     "name": "stdout",
     "output_type": "stream",
     "text": [
      "[[ 1.+1.j  3.+0.j]\n",
      " [ 4.-4.j -1.+2.j]]\n",
      "\n",
      " [[ 1.-1.j  3.-0.j]\n",
      " [ 4.+4.j -1.-2.j]]\n"
     ]
    }
   ],
   "source": [
    "# if we have a complex matrix the complex conjugate (i.e. no transpose) is sometimes useful:\n",
    "\n",
    "A = np.array( [[1+1j, 3], [4-4j, -1+2j]])\n",
    "print(A)\n",
    "print('\\n',np.conjugate(A))"
   ]
  },
  {
   "cell_type": "markdown",
   "metadata": {},
   "source": [
    "If you're wondering why `j` and not `i` is used for the square root of -1 see the discussion here:\n",
    "<https://stackoverflow.com/questions/24812444/why-are-complex-numbers-in-python-denoted-with-j-instead-of-i?>\n",
    "\n",
    "Which of the two you're used to will probably be due to what subject your first degree was in."
   ]
  },
  {
   "cell_type": "code",
   "execution_count": 19,
   "metadata": {},
   "outputs": [
    {
     "name": "stdout",
     "output_type": "stream",
     "text": [
      "[[ 1.+1.j  3.+0.j]\n",
      " [ 4.-4.j -1.+2.j]]\n",
      "\n",
      " [[ 1.-1.j  4.+4.j]\n",
      " [ 3.-0.j -1.-2.j]]\n"
     ]
    }
   ],
   "source": [
    "# and the conjugate transpose (sometimes the Hermitian transpose):\n",
    "\n",
    "A = np.array( [[1+1j, 3], [4-4j, -1+2j]])\n",
    "print(A)\n",
    "print('\\n',np.conjugate(A).T)\n",
    "# If A was a matrix object rather than just a numpy array we could also use A.H, but we won't use these"
   ]
  },
  {
   "cell_type": "markdown",
   "metadata": {},
   "source": [
    "To initialise an array of complex type we can specify the `dtype`:"
   ]
  },
  {
   "cell_type": "code",
   "execution_count": 20,
   "metadata": {},
   "outputs": [
    {
     "name": "stdout",
     "output_type": "stream",
     "text": [
      "[[0.+0.j 0.+0.j]\n",
      " [0.+0.j 0.+0.j]]\n",
      "\n",
      " [[0. 0.]\n",
      " [0. 0.]]\n"
     ]
    }
   ],
   "source": [
    "A = np.zeros((2,2), dtype=complex)\n",
    "print(A)\n",
    "\n",
    "# and if we only wanted the real part of this\n",
    "print('\\n',np.real(A))"
   ]
  },
  {
   "cell_type": "markdown",
   "metadata": {},
   "source": [
    "- If $A=A^T$ we say that $A$ is symmetric.\n",
    "\n",
    "\n",
    "- If $A=-A^T$ we say that $A$ is skew-symmetric (what does this imply the diagonal must be?)\n",
    "\n",
    "\n",
    "- If $A=A^H$ then we say that $A$ is [Hermitian](https://en.wikipedia.org/wiki/Hermitian_matrix) (so real symmetric matrices are a subset of Hermitian matrices)"
   ]
  },
  {
   "cell_type": "markdown",
   "metadata": {},
   "source": [
    "#### Properties of the transpose operator\n",
    "\n",
    "The following properties are easy to establish:\n",
    "\n",
    "For matrices $A$ and $B$ of appropriate sizes (i.e. [*conformable*](https://en.wikipedia.org/wiki/Conformable_matrix) for the given operation - addition or multiplication - see later) and a scalar $\\alpha$:\n",
    "\n",
    "\n",
    "1. $(A+B)^T = A^T + B^T$\n",
    "\n",
    "\n",
    "2. $(\\alpha A)^T = \\alpha (A^T)$\n",
    "\n",
    "\n",
    "3. $(AB)^T = B^T A^T$\n",
    "\n",
    "\n",
    "4. $(A^T)^T = A$\n",
    "\n",
    "\n",
    "As an exercise you can try and prove these from the mathematical definitions, and also demonstrate for some simple matrices using appropriate NumPy commands. The third is particularly interesting and perhaps non-obvious so worth trying to prove/verify - see the homework exercises.\n",
    "\n",
    "NB. We haven't actually defined matrix multiplication ($AB$) yet, but we will do so shortly.\n",
    "\n",
    "How does the multiplicative property expand to more matrices, i.e. what is $(ABC)^T$?"
   ]
  },
  {
   "cell_type": "markdown",
   "metadata": {},
   "source": [
    "### Indexing, slicing etc\n",
    "\n",
    "You covered some of this in your previous module.\n",
    "\n",
    "For more examples see\n",
    "[https://docs.scipy.org/doc/numpy/reference/arrays.indexing.html](https://docs.scipy.org/doc/numpy/reference/arrays.indexing.html)"
   ]
  },
  {
   "cell_type": "markdown",
   "metadata": {},
   "source": [
    "### Other useful NumPy attributes"
   ]
  },
  {
   "cell_type": "code",
   "execution_count": 1,
   "metadata": {},
   "outputs": [
    {
     "ename": "NameError",
     "evalue": "name 'np' is not defined",
     "output_type": "error",
     "traceback": [
      "\u001b[0;31m---------------------------------------------------------------------------\u001b[0m",
      "\u001b[0;31mNameError\u001b[0m                                 Traceback (most recent call last)",
      "Input \u001b[0;32mIn [1]\u001b[0m, in \u001b[0;36m<cell line: 1>\u001b[0;34m()\u001b[0m\n\u001b[0;32m----> 1\u001b[0m A \u001b[38;5;241m=\u001b[39m \u001b[43mnp\u001b[49m\u001b[38;5;241m.\u001b[39marray([[\u001b[38;5;241m10.\u001b[39m, \u001b[38;5;241m2.\u001b[39m, \u001b[38;5;241m1.\u001b[39m], [\u001b[38;5;241m6.\u001b[39m, \u001b[38;5;241m5.\u001b[39m, \u001b[38;5;241m4.\u001b[39m], [\u001b[38;5;241m1.\u001b[39m, \u001b[38;5;241m4.\u001b[39m, \u001b[38;5;241m7.\u001b[39m]])\n\u001b[1;32m      3\u001b[0m \u001b[38;5;28mprint\u001b[39m(\u001b[38;5;124m'\u001b[39m\u001b[38;5;124mA = \u001b[39m\u001b[38;5;130;01m\\n\u001b[39;00m\u001b[38;5;124m'\u001b[39m, A, \u001b[38;5;124m'\u001b[39m\u001b[38;5;130;01m\\n\u001b[39;00m\u001b[38;5;124m'\u001b[39m)\n\u001b[1;32m      5\u001b[0m \u001b[38;5;66;03m# pretty printing - useful for cutting and pasting directly into code.\u001b[39;00m\n",
      "\u001b[0;31mNameError\u001b[0m: name 'np' is not defined"
     ]
    }
   ],
   "source": [
    "A = np.array([[10., 2., 1.], [6., 5., 4.], [1., 4., 7.]])\n",
    "\n",
    "print('A = \\n', A, '\\n')\n",
    "\n",
    "# pretty printing - useful for cutting and pasting directly into code.\n",
    "pprint(A)\n",
    "\n",
    "print('\\nSize of the array storing A: np.size(A) = ', np.size(A)) # also print(A.size) \n",
    "\n",
    "print('\\nThe number of dimensions of the matrix A: np.ndim(A) = ', np.ndim(A)) # also print(A.ndim)  \n",
    "# so note that there is a bit of a difference between NumPy and my use of \"dimension\"\n",
    "\n",
    "print('\\nThe shape of the matrix A: np.shape(A) = ', np.shape(A)) # also print(A.shape)\n",
    "\n",
    "print('\\nThe number of rows: np.shape(A)[0] = ', np.shape(A)[0]) # also print(A.shape[0]),   etc...."
   ]
  },
  {
   "cell_type": "markdown",
   "metadata": {},
   "source": [
    "# Matrix-vector multiplication\n",
    "\n",
    "## Mathematical definition\n",
    "\n",
    "This is a good point to review how we can pre-multiply a vector by a matrix, and code up this operation ourselves.\n",
    "\n",
    "[Note that matrix-vector multiplication is just a special case of the more general matrix-matrix multiplication that we will return to a little later].\n",
    "\n",
    "Given an $m\\times n$ matrix $A$ and a vector $\\boldsymbol{x}\\;$ the product is a new vector we will call $\\boldsymbol{b}\\;$:\n",
    "\n",
    "$$ A\\boldsymbol{x}=\\boldsymbol{b}$$\n",
    "\n",
    "The size of $A$ dictates the size of $\\boldsymbol{x}\\;$ where this product makes sense (is defined), and tells us the resulting size of $\\boldsymbol{b}\\;$: \n",
    "\n",
    "if $A$ is $m\\times n$, then \n",
    "$\\boldsymbol{x}\\;$ has to be $n\\times 1$  and $\\boldsymbol{b}\\;$ will then be  $m\\times 1$.\n",
    "\n",
    "\n",
    "$$b_i = \\sum_{j=1}^n a_{ij} x_j \\quad\\text{for}\\quad i=1,\\ldots, m $$\n"
   ]
  },
  {
   "cell_type": "markdown",
   "metadata": {},
   "source": [
    "## Code\n",
    "\n",
    "Let's implement our own matrix vector product function"
   ]
  },
  {
   "cell_type": "code",
   "execution_count": 22,
   "metadata": {},
   "outputs": [],
   "source": [
    "def mat_vec_product(A, x):\n",
    "    \"\"\" Return the matrix vector product Ax\n",
    "    \"\"\"\n",
    "    m, n = np.shape(A)\n",
    "    assert x.ndim == 1 # restrict to the case where x is 1D\n",
    "    assert n == len(x) # as 1D we can check the length of x is consistent with A\n",
    "    b = np.zeros(m) # and then initialise to zero the appropriate length array for b\n",
    "    for i in range(m):\n",
    "        for j in range(n):\n",
    "            b[i] += A[i, j] * x[j]\n",
    "    return b"
   ]
  },
  {
   "cell_type": "markdown",
   "metadata": {},
   "source": [
    "We'll test this shortly, but first well think about some properties and see how to do this in NumPy."
   ]
  },
  {
   "cell_type": "markdown",
   "metadata": {},
   "source": [
    "## Properties\n",
    "\n",
    "Note that the action of multiplying by a matrix is what is called a [linear operator](https://en.wikipedia.org/wiki/Linear_map). This means that matrix multiplication satisfies the properties (for a matrix $A$, vectors $\\boldsymbol{x}$ and $\\boldsymbol{y}$, and scalar $\\alpha$)\n",
    "\n",
    "\n",
    "1. $A (x + y) = Ax + Ay$\n",
    "\n",
    "\n",
    "2. $A (\\alpha x) = \\alpha A x$"
   ]
  },
  {
   "cell_type": "markdown",
   "metadata": {},
   "source": [
    "## Matrix multiplication using NumPy\n",
    "\n",
    "We can easily work out that for any $2 \\times 2$ matrix $A$ and\n",
    "\n",
    "$$\\boldsymbol{x} = \\begin{pmatrix}\n",
    "    1\\\\\n",
    "    1\n",
    "\\end{pmatrix}$$ \n",
    "\n",
    "$A\\boldsymbol{x}$ will just be the vector which is the summation of the columns of $A$. \n",
    "\n",
    "[We'll come back to this idea of interpreting matrix vector multiplication as a weighted sums of the columns of the matrix shortly.]\n",
    "\n",
    "Let's test this using NumPy."
   ]
  },
  {
   "cell_type": "code",
   "execution_count": 23,
   "metadata": {},
   "outputs": [
    {
     "name": "stdout",
     "output_type": "stream",
     "text": [
      "[[ 2  3]\n",
      " [ 1 -4]]\n",
      "\n",
      " [[ 2  3]\n",
      " [ 1 -4]]\n"
     ]
    }
   ],
   "source": [
    "A = np.array([[2, 3], [1, -4]])\n",
    "x = np.array([1, 1])\n",
    "\n",
    "print(A)\n",
    "print('\\n',A*x)"
   ]
  },
  {
   "cell_type": "markdown",
   "metadata": {},
   "source": [
    "**Not** what we were expecting.  \n",
    "\n",
    "The `*` operator is equivalent to `np.multiply` <https://docs.scipy.org/doc/numpy/reference/generated/numpy.multiply.html>, \n",
    "\n",
    "this is the same as the elementwise product in Matlab: `.*`. \n",
    "\n",
    "We want the `@` operator:"
   ]
  },
  {
   "cell_type": "code",
   "execution_count": 24,
   "metadata": {},
   "outputs": [
    {
     "name": "stdout",
     "output_type": "stream",
     "text": [
      "[[ 2  3]\n",
      " [ 1 -4]]\n",
      "\n",
      " [ 5 -3]\n"
     ]
    }
   ],
   "source": [
    "A = np.array([[2, 3], [1, -4]])\n",
    "x = np.array([1, 1])\n",
    "\n",
    "print(A)\n",
    "print('\\n',A@x)"
   ]
  },
  {
   "cell_type": "markdown",
   "metadata": {},
   "source": [
    "Note that the `@` operator was introduced relatively recently. If you look at older code you may see the use of \n",
    "`numpy.dot` <https://numpy.org/devdocs/reference/generated/numpy.dot.html> or `numpy.matmul` <https://numpy.org/devdocs/reference/generated/numpy.matmul.html#numpy.matmul>"
   ]
  },
  {
   "cell_type": "code",
   "execution_count": 25,
   "metadata": {},
   "outputs": [
    {
     "name": "stdout",
     "output_type": "stream",
     "text": [
      "[ 5 -3]\n",
      "\n",
      " [ 5 -3]\n"
     ]
    }
   ],
   "source": [
    "A = np.array([[2, 3], [1, -4]])\n",
    "x = np.array([1, 1])\n",
    "\n",
    "print(np.dot(A,x))   #  or   print('\\n',A.dot(x))\n",
    "print('\\n',np.matmul(A,x))   #  or print('\\n',A.matmul(x))"
   ]
  },
  {
   "cell_type": "markdown",
   "metadata": {},
   "source": [
    "<div class=\"optional\">\n",
    "\n",
    "### Aside: matrix objects [*]\n",
    "\n",
    "Note that NumPy does possess a matrix object as a sub-class of the NumPy array.  \n",
    "\n",
    "If needed we can cast the above two-dimensional arrays into matrix objects (with `np.mat(A)`), one consequence of this is that the `*` operator now will yield the expected matrix product. (Note that this may also be the case with certain libraries - we will see this in lecture 4 when we make use of `mpmath`, so be careful.)\n",
    "\n",
    "However, since the introduction of the `@` operator for NumPy arrays use of matrix data types is not recommended. We won't use them here.\n",
    "\n",
    "</div>"
   ]
  },
  {
   "cell_type": "markdown",
   "metadata": {},
   "source": [
    "## Testing our code\n",
    "\n",
    "OK, so now we know how to do matrix-vector multiplication properly with NumPy, let's use it to check our code."
   ]
  },
  {
   "cell_type": "code",
   "execution_count": 26,
   "metadata": {},
   "outputs": [
    {
     "name": "stdout",
     "output_type": "stream",
     "text": [
      "[ 5. -3.]\n",
      "mat_vec_product(A, x) == A@x:   True\n",
      "[ 5. -3.  2.]\n",
      "mat_vec_product(A, x) == A@x:   True\n"
     ]
    }
   ],
   "source": [
    "A = np.array([[2, 3], [1, -4]])\n",
    "x = np.array([1, 1])\n",
    "\n",
    "print(mat_vec_product(A,x))\n",
    "print('mat_vec_product(A, x) == A@x:  ', np.allclose(mat_vec_product(A, x), A@x))\n",
    "\n",
    "# Check a non-square matrix\n",
    "A = np.array([[2, 3], [1, -4], [1,1]])\n",
    "# based on the above weighted sum of columns, what should Ax be for the following x?\n",
    "x = np.array([1, 1])\n",
    "\n",
    "print(mat_vec_product(A,x))\n",
    "print('mat_vec_product(A, x) == A@x:  ', np.allclose(mat_vec_product(A, x), A@x))"
   ]
  },
  {
   "cell_type": "markdown",
   "metadata": {},
   "source": [
    "## Another useful interpretation\n",
    "\n",
    "If you think about it, the resultant vector $\\boldsymbol{b}$ in \n",
    "\n",
    "$$ \\boldsymbol{b} = A\\boldsymbol{x}$$\n",
    "\n",
    "\n",
    "is the weighted sum (i.e. a linear combination) of the columns of $A$, where the weighting of each column comes from the entries of $\\boldsymbol{x}$:\n",
    "\n",
    "\\begin{align}\n",
    "\\begin{pmatrix}\n",
    "    b_1\\\\\n",
    "    b_2\\\\\n",
    "    \\vdots\\\\\n",
    "    b_m\n",
    "\\end{pmatrix}\n",
    "&=\n",
    "\\begin{pmatrix}\n",
    "      &     &         &     \\\\      \n",
    "      &     &         &     \\\\      \n",
    "  \\boldsymbol{a}_{\\,:1} & \\boldsymbol{a}_{\\,:2} &  \\ldots & \\boldsymbol{a}_{\\,:n} \\\\\n",
    "      &     &         &     \\\\\n",
    "      &     &         &     \\\\\n",
    "\\end{pmatrix}\n",
    "\\begin{pmatrix}\n",
    "    x_1\\\\\n",
    "    x_2\\\\\n",
    "    \\vdots\\\\\n",
    "    x_n\n",
    "\\end{pmatrix}\\\\\n",
    "&=\n",
    "x_1 \n",
    "\\begin{pmatrix}\n",
    "       \\\\\n",
    "       \\\\\n",
    "   \\boldsymbol{a}_{\\,:1} \\\\\n",
    "       \\\\\n",
    "    ~   \n",
    "\\end{pmatrix}\n",
    "+\n",
    "x_2 \n",
    "\\begin{pmatrix}\n",
    "       \\\\\n",
    "       \\\\\n",
    "   \\boldsymbol{a}_{\\,:2} \\\\\n",
    "       \\\\\n",
    "    ~   \n",
    "\\end{pmatrix}\n",
    "+ \\cdots +\n",
    "x_n\n",
    "\\begin{pmatrix}\n",
    "       \\\\\n",
    "       \\\\\n",
    "   \\boldsymbol{a}_{\\,:n} \\\\\n",
    "       \\\\\n",
    "    ~   \n",
    "\\end{pmatrix}\n",
    "\\end{align}\n",
    "\n",
    "where we have used the notation $\\boldsymbol{a}_{\\,:j}$ to indicate the $j$-th column of matrix $A$.\n",
    "\n",
    "If you find it easier to think about things geometrically, then you will see later that this is a very useful way to think about what's going on when you multiply a matrix by a vector.\n",
    "\n",
    "<br>\n",
    "\n",
    "A homework exercise asks you to code up a version of matrix-vector multiplication based on this mathematical interpretation."
   ]
  },
  {
   "cell_type": "markdown",
   "metadata": {},
   "source": [
    "# Motivation - linear (or matrix) systems\n",
    "\n",
    "Almost every topic in this course, at some point (which may be hidden under the hood), requires the solution of a linear (or matrix) system of the form\n",
    "\n",
    "$$A\\boldsymbol{x}=\\boldsymbol{b},$$\n",
    "\n",
    "where for a given $m\\times n$ matrix $A$ and a given $m\\times 1$ right hand side vector $\\boldsymbol{b}\\;$ we want to find an $n\\times 1$ vector $\\boldsymbol{x}\\;$.\n",
    "\n",
    "[Remember that the product of an $m\\times n$ and an $n\\times p$ matrix (in that order) results in an $m\\times p$ matrix - we'll see this below.]  \n",
    "\n",
    "Often, but not always, we will be considering a square problem, i.e. where $m=n$. \n",
    "[The module Inversion & Optimisation in particular is concerned with problems that lead to non-square systems].\n",
    "\n",
    "\n",
    "<br><br>\n",
    "\n",
    "For many methods or algorithms the solution of linear systems such as this also turns out to be the most costly component of that method.  And also where sensible vs stupid algorithm choices can lead to terrible run times and even instability (e.g. not being able to obtain a solution at all).\n",
    "\n",
    "Hence, it is vitally important for us to understand the methods available to us to solve this problem accurately and efficiently.\n",
    "\n",
    "We also need to understand situations where the solution of this problem may be more difficult - that is more expensive and/or more difficult to achieve an accurate solution."
   ]
  },
  {
   "cell_type": "markdown",
   "metadata": {},
   "source": [
    "## A simple example\n",
    "\n",
    "Recall that we can re-write a system of simultaneous (linear) equations in matrix form.  \n",
    "\n",
    "For example, consider the following example:\n",
    "\n",
    "\\begin{eqnarray*}\n",
    "  2x + 3y &=& 7 \\\\[5pt]\n",
    "   x - 4y &=& 3,\n",
    "\\end{eqnarray*} \n",
    "\n",
    "this is completely equivalent to the following problem written in matrix form:\n",
    "\n",
    "$$\n",
    "\\begin{pmatrix}\n",
    "    2 & 3 \\\\\n",
    "    1 & -4  \n",
    "\\end{pmatrix}  \n",
    "\\begin{pmatrix}\n",
    "    x \\\\\n",
    "    y \n",
    "\\end{pmatrix}  =\n",
    "\\begin{pmatrix}\n",
    "    7 \\\\\n",
    "    3 \n",
    "\\end{pmatrix}.\n",
    "$$\n",
    "\n",
    "Indeed when you see or are given a linear system, i.e. an $A$ and a $\\boldsymbol{b}$, it's often helpful to think about the set of linear equations its representing.\n",
    "\n",
    "A collection of multiple linear equations for multiple unknowns is the general situation that will lead us to need to solve a matrix system; we may easily have a scenario where we have billions of unknowns."
   ]
  },
  {
   "cell_type": "markdown",
   "metadata": {},
   "source": [
    "## The general case\n",
    "\n",
    "More generally, consider the arbitrary system of $n$ linear equations for $n$ unknowns\n",
    "\n",
    "\\begin{eqnarray*}\n",
    "  a_{11}x_1 + a_{12}x_2 + \\dots + a_{1n}x_n &=& b_1 \\\\[5pt] \n",
    "  a_{21}x_1 + a_{22}x_2 + \\dots + a_{2n}x_n &=& b_2 \\\\[5pt]\n",
    "  \\vdots &=& \\vdots \\\\ \n",
    "  a_{n1}x_1 + a_{n2}x_2 + \\dots + a_{nn}x_n &=& b_n,\n",
    "\\end{eqnarray*}\n",
    "\n",
    "where $a_{ij}$ are the constant coefficients of the linear system, $x_j$ are the unknown variables, and $b_i$\n",
    "are the terms on the right hand side (RHS).  \n",
    "\n",
    "Here the index $i$ is referring to the equation number (equivalently the row in the matrix below), with the index $j$ referring to the component of the unknown vector $\\boldsymbol{x}$ (equivalently the column of the matrix).\n",
    "\n",
    "This system of equations can be represented as the matrix equation $A\\boldsymbol{x}=\\boldsymbol{b}\\;$: \n",
    "\n",
    "$$\n",
    "\\left(\n",
    "  \\begin{array}{cccc}\n",
    "    a_{11} & a_{12} & \\dots & a_{1n} \\\\\n",
    "    a_{21} & a_{22} & \\dots & a_{2n} \\\\\n",
    "    \\vdots & \\vdots & \\ddots & \\vdots \\\\\n",
    "    a_{n1} & a_{n2} & \\dots & a_{nn} \n",
    "  \\end{array}\n",
    "\\right)\\left(\n",
    "         \\begin{array}{c}\n",
    "           x_1 \\\\\n",
    "           x_2 \\\\\n",
    "           \\vdots \\\\\n",
    "           x_n \n",
    "         \\end{array}\n",
    "       \\right)  = \\left(\n",
    "                   \\begin{array}{c}\n",
    "                     b_1 \\\\\n",
    "                     b_2 \\\\\n",
    "                     \\vdots \\\\\n",
    "                     b_n \n",
    "                   \\end{array}\n",
    "                 \\right).\n",
    "$$\n",
    "\n",
    "We've written it here as a square matrix (of *dimension* $n\\times n$) - the same number of equations as unknowns, but this doesn't necessarily need to be the case - we may have $m$ equations and $n$ unknowns and then our matrix would be of *dimension* $m \\times n$."
   ]
  },
  {
   "cell_type": "markdown",
   "metadata": {},
   "source": [
    "## A geometric interpretation\n",
    "\n",
    "Let's go back to our simple example\n",
    "\n",
    "\\begin{eqnarray*}\n",
    "  2x + 3y &=& 7 \\\\[5pt]\n",
    "   x - 4y &=& 3\n",
    "\\end{eqnarray*} \n",
    "\n",
    "which is completely equivalent to the following problem written in matrix form:\n",
    "\n",
    "$$\n",
    "\\begin{pmatrix}\n",
    "    2 & 3 \\\\\n",
    "    1 & -4  \n",
    "\\end{pmatrix}  \n",
    "\\begin{pmatrix}\n",
    "    x \\\\\n",
    "    y \n",
    "\\end{pmatrix}  =\n",
    "\\begin{pmatrix}\n",
    "    7 \\\\\n",
    "    3 \n",
    "\\end{pmatrix}.\n",
    "$$\n",
    "\n",
    "We can rearrange the first of these equations to\n",
    "\n",
    "$$y = -\\frac{2}{3} x + \\frac{7}{3}$$\n",
    "\n",
    "which we recognise as the equation of a straight line in 2D space: $y=mx +c$ where $m$ is the slope and $c$ is the intercept.\n",
    "\n",
    "Similarly the second equation can be rearranged into the standard form for a straignt line in 2D.\n",
    "\n",
    "\n",
    "\n",
    "\n",
    "\n",
    "<br>\n",
    "\n",
    "\n",
    "Let's think through another interpretation which further utilises geometrical thinking. \n",
    "\n",
    "Consider all of $(x,y)$ space where $x$ and $y$ are independent variables that are free to vary arbitrarily - they will map out, or cover/span, all of 2D space.  \n",
    "\n",
    "By stating that $ 2x + 3y = 7 $ we are now saying that $x$ and $y$ are not both independent - they cannot vary arbitrarily, one is effectively dependent on the other. \n",
    "\n",
    "For a linear system this one equation *restricts*, or *constrains*, us to a line in 2D (with a linear equation containing $x$, $y$ and $z$ variables constraining us to a plane in 3D etc). \n",
    "\n",
    "Indeed we can think about the equation as a constraint, we might even simply call it a constraint rather than an equation.\n",
    "\n",
    "In the module Inversion & Optimisation you will encounter nonlinear equations where the situation is a bit more complicated but the equations can still be considered as constraints.\n",
    "\n",
    "Above we wrote this as $y\\equiv y(x)$ ($y$ is a function of $x$) to emphasise a point, but of course we could have just as easily rearranged to $x\\equiv x(y)$. If instead of $2x + 3y = 7$ we had the equation  $2x = 7$ then of course we couldn't rearrange into the form $y\\equiv y(x)$, but trivially can into the form $x\\equiv x(y)$ (a constant in this case) - this just reflects the fact that this particular equation example represents a vertical line in 2D space ($m=\\infty$)!\n",
    "\n",
    "Of course our second equation can also be interpreted as a line in 2D space.\n",
    "\n",
    "Let's go back to our original example and plot the two lines that are defined by our two equations/constraints.\n",
    "\n",
    "\n"
   ]
  },
  {
   "cell_type": "code",
   "execution_count": 27,
   "metadata": {},
   "outputs": [
    {
     "data": {
      "text/plain": [
       "<matplotlib.legend.Legend at 0x1a42c332470>"
      ]
     },
     "execution_count": 27,
     "metadata": {},
     "output_type": "execute_result"
    },
    {
     "data": {
      "image/png": "[encoded data removed]",
      "text/plain": [
       "<Figure size 360x360 with 1 Axes>"
      ]
     },
     "metadata": {
      "needs_background": "light"
     },
     "output_type": "display_data"
    }
   ],
   "source": [
    "x = np.linspace(-1,5,100)\n",
    "y1 = -(2./3.)*x + (7./3.)\n",
    "y2 = (1./4.)*x - (3./4.)\n",
    "\n",
    "fig = plt.figure(figsize=(5, 5))\n",
    "\n",
    "ax1 = fig.add_subplot(111)\n",
    "\n",
    "ax1.set_xlabel(\"$x$\", fontsize=14)\n",
    "ax1.set_ylabel(\"$y$\", fontsize=14)\n",
    "ax1.set_title('Two lines', fontsize=14)\n",
    "ax1.grid(True)\n",
    "\n",
    "ax1.plot(x,y1,'b', label='$2x+3y=7$')\n",
    "ax1.plot(x,y2,'r', label='$x-4y=3$')\n",
    "\n",
    "ax1.legend(loc='best', fontsize=14)"
   ]
  },
  {
   "cell_type": "markdown",
   "metadata": {},
   "source": [
    "\n",
    "The blue line maps out all combinations of $x$ and $y$ values that satisfy the first equation/constraint, and the red all the $x$ and $y$ values that satisfy the second.\n",
    "\n",
    "So in solving the system of simultaneous equations, or equivalently solving the corresponding matrix system, we are asking the question what $x$ and $y$ values satisfy BOTH equations (or constraints)?\n",
    "\n",
    "\n",
    "From the image above we see that **there is a solution** (at the intersection) and it is clearly **unique** (there is only one intersection), for these particular equations. This is the only combination of $x$ and $y$ values that satisfy BOTH equations/constraints.\n",
    "\n",
    "\n",
    "In 2D for this example, one constraint restricts our 2D space of $x,y$ values to a 1D subset, the other to another 1D subset, combined they restrict the 2D space down to 0D, i.e. a single point - our unique solution.\n",
    "\n",
    "\n",
    "But of course in 2D there are two other possible scenarios - what are these?  Can you construct suitable pairs of equations that demonstrate these possibilities, and the corresponding plots to help explain what is going in visually? \n",
    "\n",
    "\n",
    ".... see the exercises."
   ]
  },
  {
   "cell_type": "markdown",
   "metadata": {},
   "source": [
    "## Solving a general linear system\n",
    "\n",
    "In this simple $2\\times 2$ case we can find the solution via the above geometric method, or we can substitute one equation into the other to solve the system:\n",
    "\n",
    "\\begin{eqnarray*}\n",
    "  2x + 3y &=& 7 \\\\[5pt]\n",
    "   x - 4y &=& 3\n",
    "\\end{eqnarray*} \n",
    "\n",
    "Lots of ways we could do this, but as $x$ is already on its own in the second equation perhaps easiest (as it delays the need to deal with fractions) to rearrange and substitute $x=3+4y$ into the first:\n",
    "\n",
    "$$ 2x + 3y = 7 \\quad\\implies\\quad 2(3+4y)+3y=7 \\quad\\implies\\quad  (2\\times 4 + 3)y=7 - 2\\times 3  \\quad\\implies\\quad y = \\frac{1}{11} $$\n",
    "\n",
    "Then substitute this back into one of the equations to find $x$, again easiest option is the second:\n",
    "\n",
    "$$x=3+4y = 3+4\\times \\frac{1}{11} = \\frac{37}{11}$$\n",
    "\n",
    "But we can't really use either of these approaches (plotting or substitution) if our system is much larger in dimension - what if we had billions of unknowns (which on today's computers are problem sizes we would certainly be wanting to solve.)\n",
    "\n",
    "We can check our solution to the $2\\times 2$ problem by adding this point we just derived to our plot and comfirm if it agrees with the intersection."
   ]
  },
  {
   "cell_type": "code",
   "execution_count": 28,
   "metadata": {},
   "outputs": [
    {
     "data": {
      "text/plain": [
       "<matplotlib.legend.Legend at 0x1a42cc197b8>"
      ]
     },
     "execution_count": 28,
     "metadata": {},
     "output_type": "execute_result"
    },
    {
     "data": {
      "image/png": "[encoded data removed]",
      "text/plain": [
       "<Figure size 360x360 with 1 Axes>"
      ]
     },
     "metadata": {
      "needs_background": "light"
     },
     "output_type": "display_data"
    }
   ],
   "source": [
    "x = np.linspace(-1,5,100)\n",
    "y1 = -(2./3.)*x + (7./3.)\n",
    "y2 = (1./4.)*x - (3./4.)\n",
    "\n",
    "fig = plt.figure(figsize=(5, 5))\n",
    "\n",
    "ax1 = fig.add_subplot(111)\n",
    "\n",
    "ax1.set_xlabel(\"$x$\", fontsize=14)\n",
    "ax1.set_ylabel(\"$y$\", fontsize=14)\n",
    "ax1.set_title('Two lines', fontsize=14)\n",
    "ax1.grid(True)\n",
    "\n",
    "ax1.plot(x,y1,'b', label='$2x+3y=7$')\n",
    "ax1.plot(x,y2,'r', label='$x-4y=3$')\n",
    "ax1.plot(37./11,1./11, 'ko', label='Our solution')\n",
    "\n",
    "ax1.legend(loc='best', fontsize=14)"
   ]
  },
  {
   "cell_type": "markdown",
   "metadata": {},
   "source": [
    "Success!!"
   ]
  },
  {
   "cell_type": "markdown",
   "metadata": {},
   "source": [
    "# Matrix inverse\n",
    "\n",
    "For a square $n\\times n$ matrix $A$, its inverse is defined as the matrix $B$ with the same dimensions as $A$ that satisfies\n",
    "\n",
    "$$AB = BA = I$$\n",
    "\n",
    "where $I$ is the identity matrix of size $n\\times n$ (sometimes to explicitly indicate its dimension we would write $I_n$) - see a couple of cells below for the formal definition.\n",
    "\n",
    "That is if we pre- or post-multiply $A$ by this matrix we get the identity matrix. "
   ]
  },
  {
   "cell_type": "markdown",
   "metadata": {},
   "source": [
    "<div class=\"optional\">\n",
    "\n",
    "**Aside:**\n",
    "\n",
    "To understand this we need to recall what it means to multiple two matrices together. \n",
    "\n",
    "We'll go through this in detail in an optional section below rather than getting bogged down in the details here, for now we just state that mat-mat multiplication is just a straightforward extension of matrix-vector multiplication applied to each column of the matrix on the right of the pair:\n",
    "\n",
    "\n",
    "$$C=AB \\qquad \\iff \\qquad c_{ij} = \\sum_{k=1}^n a_{ik} b_{kj}$$\n",
    "\n",
    "</div>"
   ]
  },
  {
   "cell_type": "markdown",
   "metadata": {},
   "source": [
    "Such a matrix $B$, if its exists (more on this later), is called the inverse of $A$ and denoted $A^{-1}$. Note that  $(A^{-1})^{-1} = A$.\n",
    "\n",
    "The action of taking the inverse can be written $\\text{inv}(A)$, so for example $\\text{inv}(\\text{inv}(A)) = A$.\n",
    "\n",
    "Note that since we established above that $AB \\ne BA$ in general, then for non-square matrices it is certainly possible to find a matrix $B$ such that $AB=I$ but $BA\\ne I$. In this case we say that $B$ is a *right inverse*. Similar definition for *left inverse*. \n",
    "\n",
    "For square matrices a left inverse is also the right inverse and vice-versa."
   ]
  },
  {
   "cell_type": "markdown",
   "metadata": {},
   "source": [
    "## Properties of the matrix inverse\n",
    "\n",
    "If a matrix has an inverse, then that inverse is unique.\n",
    "\n",
    "How could you prove a result like this:\n",
    "\n",
    "consider a matrix $A$ and suppose $B$ and $C$ are both inverses, i.e.\n",
    "\n",
    "$$AB = BA = I\\quad\\text{and}\\quad AC = CA = I$$\n",
    "\n",
    "then it must follow that\n",
    "\n",
    "$$B = BI = B(AC) = (BA)C = IC = C$$\n",
    "\n",
    "Hence the inverse is unique."
   ]
  },
  {
   "cell_type": "markdown",
   "metadata": {},
   "source": [
    "The following properties of inverses hold\n",
    "\n",
    "For invertible matrices $A$ and $B$ (of the same square size) and scalar $\\alpha\\ne 0$\n",
    "\n",
    "\n",
    "1. $\\alpha A$ is invertible and $(\\alpha A)^{-1} = \\alpha^{-1} A^{-1}$\n",
    "\n",
    "\n",
    "2. $AB$ is invertible and $(AB)^{-1} = B^{-1}A^{-1}$\n",
    "\n",
    "\n",
    "3. $A^{-1}$ is invertible and $(A^{-1})^{-1}=A$\n",
    "\n",
    "\n",
    "4. $A^{T}$ is invertible and $(A^{T})^{-1}=(A^{-1})^T$\n",
    "\n",
    "\n",
    "As an exercise you can check these through some example using NumPy."
   ]
  },
  {
   "cell_type": "markdown",
   "metadata": {},
   "source": [
    "## Using the inverse matrix to solve a linear system\n",
    "\n",
    "**IF** we have the inverse matrix, then to solve the matrix equation \n",
    "\n",
    "$$ A\\boldsymbol{x}=\\boldsymbol{b} $$\n",
    "\n",
    "we can simply multiply both sides by the inverse of the matrix $A$:\n",
    "\n",
    "\\begin{align}\n",
    "A\\boldsymbol{x} & = \\boldsymbol{b}\\\\\n",
    "\\implies A^{-1}A\\boldsymbol{x} & = A^{-1}\\boldsymbol{b}\\\\\n",
    "\\implies I\\boldsymbol{x} & = A^{-1}\\boldsymbol{b}\\\\\n",
    "\\implies \\boldsymbol{x} & = A^{-1}\\boldsymbol{b}\n",
    "\\end{align}\n",
    "\n",
    "so we can find the solution $\\boldsymbol{x}$ by multiplying the inverse of $A$ with the RHS vector $\\boldsymbol{b}$."
   ]
  },
  {
   "cell_type": "markdown",
   "metadata": {},
   "source": [
    "### The inverse for our simple example\n",
    "\n",
    "Note that for our $2\\times 2$ case, when we went through the steps of substituting one equation into another to solve the system, this actually pretty much gave us enough information to write down the inverse matrix.\n",
    "\n",
    "Let's check that we do indeed have an inverse:"
   ]
  },
  {
   "cell_type": "code",
   "execution_count": 29,
   "metadata": {},
   "outputs": [
    {
     "name": "stdout",
     "output_type": "stream",
     "text": [
      "[[1. 0.]\n",
      " [0. 1.]]\n",
      "[[1. 0.]\n",
      " [0. 1.]]\n"
     ]
    }
   ],
   "source": [
    "# our matrix\n",
    "A = np.array([[2, 3], [1, -4]])\n",
    "\n",
    "# I claim this is the inverse to that matrix\n",
    "B = (-1./11)*np.array([[-4, -3], [-1, 2]])\n",
    "\n",
    "# let's check\n",
    "print(A@B)\n",
    "print(B@A)"
   ]
  },
  {
   "cell_type": "markdown",
   "metadata": {},
   "source": [
    "<div class=\"optional\">\n",
    "    \n",
    "### Row operations and a glimpse at Gaussian elimination [\\* - please read through this in your own time]\n",
    "\n",
    "What did we do when we used substitution to solve our problem\n",
    "\n",
    "$$\n",
    "\\begin{align*}\n",
    "  2x + 3y &= 7 \\\\[5pt]\n",
    "   x - 4y &= 3 \n",
    "\\end{align*}\n",
    "   \\quad \\iff \\quad\n",
    "  \\begin{pmatrix}\n",
    "    2 & 3 \\\\\n",
    "    1 & -4  \n",
    "  \\end{pmatrix}\n",
    "  \\begin{pmatrix}\n",
    "    x \\\\\n",
    "    y \n",
    "  \\end{pmatrix}=\n",
    "  \\begin{pmatrix}\n",
    "    7 \\\\\n",
    "    3 \n",
    "  \\end{pmatrix}   \n",
    "$$\n",
    "\n",
    "We rearranged the second equation to yield $x=3+4y$ and substituted it into the first to obtain an equation that contained $y$'s only. \n",
    "\n",
    "We can achieve exactly the same thing if we subtract twice the second equation from the first: the $x$'s cancel, we get $3-2\\times (-4)$ (i.e. 11) $y$'s on the LHS, and on the RHS we get $7-2\\times 3$, i.e. 1.  \n",
    "\n",
    "Hence, we have $11y=1$ and so $y=1/11$.\n",
    "\n",
    "We effectively performed what are called **row operations** on the matrix and the RHS vector. Recalling that each row of the matrix encodes an algebraic equation, we can multiply each row by a non-zero scalar, add multiples of one row to another, and swap rows, without changing the overall information that the rows (or the corresponding equations) are telling us (as long as we remember that we must apply the same operation to the RHS value, otherwise the equation would change!).\n",
    "\n",
    "\n",
    "<br>\n",
    "\n",
    "**Row operations** are thus defined as\n",
    "\n",
    "\n",
    "1. multiply each row by a non-zero scalar\n",
    "\n",
    "\n",
    "2. add multiples of one row to another \n",
    "\n",
    "\n",
    "3. swap rows\n",
    "\n",
    "\n",
    "<br>\n",
    "<br>\n",
    "\n",
    "For the example above, multiplying a row by a scalar or swapping rows would not change the two lines in the plot and so not change the solution.  Adding a multiple of one row to another and replacing one row with this updated row **will** change one of the lines, **but** the intersection point won't change - convince yourself of this with some additional plotting.\n",
    "    \n",
    "<br>\n",
    "    \n",
    "    \n",
    "We can perform these operations in a way that is easy to keep track of by forming an **augmented matrix** (we add the RHS vector as an additional column). \n",
    "\n",
    "In this demonstration where we also want to form the inverse matrix let's additionally add columns corresponding to the inverse matrix. \n",
    "\n",
    "The notation above the arrows should hopefully be clear, it's encoding the operations we are performing on the rows, with '(1)' and '(2)' identifying the first and second row, respectively. '$(1)\\leftarrow (1)-2(2)$' means replace the first row with the first row minus twice the second row - the operation we performed above.\n",
    "\n",
    "When we perform these operations on the rows of the matrix $A$, we also apply them to the additional columns in our augmented matrix:\n",
    "\n",
    "\\begin{align*}\n",
    "[A \\, | \\, \\boldsymbol{b} \\, | \\, I] = \n",
    "&\\left[\n",
    "  \\begin{array}{cc|c|cc}\n",
    "    2 & 3 & 7 & 1 & 0 \\\\\n",
    "    1 & -4 & 3 & 0 & 1  \n",
    "  \\end{array}\n",
    "\\right]\n",
    "\\xrightarrow{(1)\\leftarrow (1)-2(2)}\n",
    "\\left[\n",
    "  \\begin{array}{cc|c|cc}\n",
    "    0 & 11 & 1 & 1 & -2 \\\\\n",
    "    1 & -4 & 3 & 0 & 1  \n",
    "  \\end{array}\n",
    "\\right]\n",
    "\\xrightarrow{(1)\\leftarrow (1)/11}\n",
    "\\left[\n",
    "  \\begin{array}{cc|c|cc}\n",
    "    0 & 1 & 1/11 & 1/11 & -2/11 \\\\\n",
    "    1 & -4 & 3 & 0 & 1  \n",
    "  \\end{array}\n",
    "\\right]\\\\\n",
    "&\\xrightarrow{(2)\\leftarrow (2)+4(1)}\n",
    "\\left[\n",
    "  \\begin{array}{cc|c|cc}\n",
    "    0 & 1 & 1/11 & 1/11 & -2/11 \\\\\n",
    "    1 & 0 & 3+4/11 & 4/11 & 1-8/11  \n",
    "  \\end{array}\n",
    "\\right]\n",
    "\\xrightarrow{(1)\\leftrightarrow (2)}\n",
    "\\left[\n",
    "  \\begin{array}{cc|c|cc}\n",
    "    1 & 0 & 3+4/11 & 4/11 & 1-8/11  \\\\\n",
    "    0 & 1 & 1/11 & 1/11 & -2/11 \n",
    "  \\end{array}\n",
    "\\right]\n",
    "\\end{align*}\n",
    "\n",
    "Now the fact that we have transformed $A$ into $I$ via these so-called *row operations* means that what was originally in the $\\boldsymbol{b}$ position is now the solution $\\boldsymbol{x}$, and what was originally $I$ is now $A^{-1}$:\n",
    "\n",
    "$$\\boldsymbol{x} =\n",
    "\\begin{pmatrix}\n",
    "3+4/11\\\\\n",
    "1/11\n",
    "\\end{pmatrix}=\n",
    "\\begin{pmatrix}\n",
    "37/11\\\\\n",
    "1/11\n",
    "\\end{pmatrix},$$\n",
    "\n",
    "so this approach has indeed given us the correct solution to our original problem - it's vital that we also performed the same row operations on the RHS vector, hence considered the augmented matrix rather than the $A$ matrix alone.\n",
    "\n",
    "\n",
    "<br>\n",
    "<br>\n",
    "\n",
    "In addition we have\n",
    "\n",
    "$$A^{-1} = \n",
    "\\begin{pmatrix}\n",
    "    4/11 & 1-8/11  \\\\\n",
    "    1/11 & -2/11 \n",
    "\\end{pmatrix}= \n",
    "\\begin{pmatrix}\n",
    "    4/11 & 3/11  \\\\\n",
    "    1/11 & -2/11 \n",
    "\\end{pmatrix}= \\frac{-1}{11}\n",
    "\\begin{pmatrix}\n",
    "    -4 & -3  \\\\\n",
    "    -1 & 2 \n",
    "\\end{pmatrix}\n",
    "$$\n",
    "\n",
    "which can also be checked for correctness.\n",
    "\n",
    "\n",
    "<br>\n",
    "<br>\n",
    "\n",
    "A homework exercise asks you to repeat these steps to derive the inverse of the completely general $2\\times 2$ matrix\n",
    "\n",
    "$$A = \\begin{pmatrix}\n",
    "a & b\\\\\n",
    "c & d\n",
    "\\end{pmatrix}$$\n",
    "\n",
    "\n",
    "<br>\n",
    "<br>\n",
    "\n",
    "These ideas (i.e. use of row operation to simplify the form of the linear system without changing its solution) underlies the Gaussian elimination and the LU decomposition algorithms.\n",
    "\n",
    "</div>"
   ]
  },
  {
   "cell_type": "markdown",
   "metadata": {},
   "source": [
    "### Solving our simple example using the inverse matrix\n",
    "\n",
    "So we have enough information now to solve our problem\n",
    "\n",
    "$$\n",
    "\\begin{align*}\n",
    "  2x + 3y &= 7 \\\\[5pt]\n",
    "   x - 4y &= 3 \n",
    "\\end{align*}\n",
    "   \\quad \\iff \\quad\n",
    "  \\begin{pmatrix}\n",
    "    2 & 3 \\\\\n",
    "    1 & -4  \n",
    "  \\end{pmatrix}\n",
    "  \\begin{pmatrix}\n",
    "    x \\\\\n",
    "    y \n",
    "  \\end{pmatrix}=\n",
    "  \\begin{pmatrix}\n",
    "    7 \\\\\n",
    "    3 \n",
    "  \\end{pmatrix}   \n",
    "$$\n",
    "\n",
    "\n",
    "Recalling the solution we calculated through substitution: $x=37/11$ and $y=1/11$, we can use to check our numerical solution.\n",
    "\n",
    "Let's calculate \n",
    "\n",
    "$$\\boldsymbol{x} = A^{-1}\\boldsymbol{b}$$"
   ]
  },
  {
   "cell_type": "code",
   "execution_count": 30,
   "metadata": {},
   "outputs": [
    {
     "name": "stdout",
     "output_type": "stream",
     "text": [
      "x =  [3.363636 0.090909]\n",
      "\n",
      "Our computed solution solves the linear system (Ax == b):  True\n",
      "\n",
      "and agrees with the exact solution we computed by hand:  True\n"
     ]
    }
   ],
   "source": [
    "# form the LHS matrix\n",
    "A = np.array([[2., 3.], [1., -4.]])\n",
    "\n",
    "# form the RHS vector\n",
    "b = np.array([7., 3.])\n",
    "\n",
    "# the inverse matrix from above:\n",
    "invA = (-1./11)*np.array([[-4, -3], [-1, 2]])\n",
    "\n",
    "# compute and print our solution\n",
    "x = invA@b\n",
    "print('x = ',x)\n",
    "\n",
    "# Check our two numerical solutions using the numpy allclose function\n",
    "print('\\nOur computed solution solves the linear system (Ax == b): ', \n",
    "      np.allclose(A@x, b))\n",
    "\n",
    "# and check further that this agrees with the solution we computed by hand\n",
    "print('\\nand agrees with the exact solution we computed by hand: ', \n",
    "      np.allclose(x, [37./11., 1./11.]))"
   ]
  },
  {
   "cell_type": "markdown",
   "metadata": {},
   "source": [
    "<div class=\"optional\">\n",
    "\n",
    "## Aside: constructing some useful simple matrices in NumPy [*]\n",
    "\n",
    "Now is perhaps a good opportunity to review some more useful NumPy commands to construct certain common matrices.\n",
    "\n",
    "[NB. Everything below can be extended to higher rank tensors]\n",
    "\n",
    "</div>"
   ]
  },
  {
   "cell_type": "markdown",
   "metadata": {},
   "source": [
    "<div class=\"optional\">\n",
    "    \n",
    "### The identity matrix\n",
    "\n",
    "The identity matrix $I$ (sometimes to indicate dimension we would write $I_n$ or even $I(n)$) is of size $n\\times n$ and is zero everywhere except for the main diagonal where all entries are 1 (sometimes you will see people use the word unity).\n",
    "\n",
    "</div>"
   ]
  },
  {
   "cell_type": "code",
   "execution_count": 31,
   "metadata": {
    "scrolled": true
   },
   "outputs": [
    {
     "name": "stdout",
     "output_type": "stream",
     "text": [
      "[[1. 0. 0.]\n",
      " [0. 1. 0.]\n",
      " [0. 0. 1.]]\n"
     ]
    }
   ],
   "source": [
    "# how to initialise the identity matrix, I or Id\n",
    "print(np.eye(3))"
   ]
  },
  {
   "cell_type": "markdown",
   "metadata": {},
   "source": [
    "<div class=\"optional\">\n",
    "\n",
    "### Diagonal matrices\n",
    "\n",
    "Diagonal matrices are very useful and occur a lot.\n",
    "\n",
    "The command `numpy.diag` can be used to both extract diagonals from matrices, and to place vectors in place on the diagonals of matrices.\n",
    "\n",
    "For example:\n",
    "\n",
    "</div>"
   ]
  },
  {
   "cell_type": "code",
   "execution_count": 32,
   "metadata": {},
   "outputs": [
    {
     "name": "stdout",
     "output_type": "stream",
     "text": [
      "[1. 1. 1.]\n",
      "\n",
      " [1. 1. 1.]\n",
      "\n",
      " [0. 0.]\n"
     ]
    }
   ],
   "source": [
    "# extract a diagonal of given a matrix (2D array)\n",
    "print(np.diag(np.eye(3)))\n",
    "# the default is to extract the leading diagonal (k=0)\n",
    "print('\\n',np.diag(np.eye(3),k=0))\n",
    "# can also extract off diagonals with positive/negative integer k's:\n",
    "print('\\n',np.diag(np.eye(3),k=1))"
   ]
  },
  {
   "cell_type": "code",
   "execution_count": 33,
   "metadata": {},
   "outputs": [
    {
     "name": "stdout",
     "output_type": "stream",
     "text": [
      "[[1 0 0]\n",
      " [0 2 0]\n",
      " [0 0 3]]\n",
      "\n",
      " [[0 0 0 0]\n",
      " [1 0 0 0]\n",
      " [0 2 0 0]\n",
      " [0 0 3 0]]\n"
     ]
    }
   ],
   "source": [
    "# given a 1D array diag constructs a 2D array:\n",
    "print(np.diag(np.array([1,2,3])))\n",
    "# again default is to place on the leading diagonal, but we can specify other diagonals:\n",
    "print('\\n',np.diag(np.array([1,2,3]), k=-1))"
   ]
  },
  {
   "cell_type": "markdown",
   "metadata": {},
   "source": [
    "<div class=\"optional\">\n",
    "\n",
    "### Matrices of zeros or ones, empty matrices\n",
    "\n",
    "The matrix $\\boldsymbol{0}$ made up of zero entries is termed the zero matrix or the null matrix.\n",
    "\n",
    "Mathematically, we will see it's use when we talk about eigenvalues next lecture, as well as null spaces.\n",
    "\n",
    "Computationally, we will often initialise an array or matrix to zero if we subsequently perform operations which add entries to it.\n",
    "\n",
    "</div>"
   ]
  },
  {
   "cell_type": "code",
   "execution_count": 34,
   "metadata": {},
   "outputs": [
    {
     "name": "stdout",
     "output_type": "stream",
     "text": [
      "[0. 0. 0.]\n",
      "\n",
      " [0. 0.]\n",
      "\n",
      " [[0 0]\n",
      " [0 0]]\n"
     ]
    }
   ],
   "source": [
    "# how to initialise a vector of zeros \n",
    "print(np.zeros(3))\n",
    "# vector of zeros of length the same as number of rows in A\n",
    "A = np.array([[2, 3], [1, -4]])\n",
    "print('\\n', np.zeros(np.shape(A)[0]))\n",
    "# matrix of zeros of length the same shape as A\n",
    "print('\\n', np.zeros_like(A))"
   ]
  },
  {
   "cell_type": "code",
   "execution_count": 35,
   "metadata": {},
   "outputs": [
    {
     "name": "stdout",
     "output_type": "stream",
     "text": [
      "[[0. 0. 0.]\n",
      " [0. 0. 0.]\n",
      " [0. 0. 0.]]\n"
     ]
    }
   ],
   "source": [
    "# how to initialise a matrix of zeros\n",
    "print(np.zeros((3,3)))\n",
    "\n",
    "# also\n",
    "\n",
    "#print('\\n', np.zeros(np.shape(A)))\n",
    "#print('\\n', np.zeros_like(A))"
   ]
  },
  {
   "cell_type": "code",
   "execution_count": 36,
   "metadata": {},
   "outputs": [
    {
     "name": "stdout",
     "output_type": "stream",
     "text": [
      "[[[0. 0. 0.]\n",
      "  [0. 0. 0.]\n",
      "  [0. 0. 0.]]\n",
      "\n",
      " [[0. 0. 0.]\n",
      "  [0. 0. 0.]\n",
      "  [0. 0. 0.]]\n",
      "\n",
      " [[0. 0. 0.]\n",
      "  [0. 0. 0.]\n",
      "  [0. 0. 0.]]]\n",
      "27\n",
      "(3, 3, 3)\n"
     ]
    }
   ],
   "source": [
    "# how to initialise a 3rd-order tensor of zeros\n",
    "print(np.zeros((3,3,3)))\n",
    "\n",
    "print(np.size(np.zeros((3,3,3))))\n",
    "\n",
    "print(np.shape(np.zeros((3,3,3))))"
   ]
  },
  {
   "cell_type": "markdown",
   "metadata": {},
   "source": [
    "<div class=\"optional\">\n",
    "    \n",
    "Initialising an array or matrix to have all entries one (unity) is useful if we subsequently apply multiplicative operations on its entries.\n",
    "\n",
    "</div>"
   ]
  },
  {
   "cell_type": "code",
   "execution_count": 37,
   "metadata": {},
   "outputs": [
    {
     "name": "stdout",
     "output_type": "stream",
     "text": [
      "[1. 1. 1.]\n",
      "\n",
      " [[1. 1. 1.]\n",
      " [1. 1. 1.]\n",
      " [1. 1. 1.]]\n",
      "\n",
      " [[1 1]\n",
      " [1 1]]\n"
     ]
    }
   ],
   "source": [
    "# how to initialise a vector of ones \n",
    "print(np.ones(3))\n",
    "print('\\n',np.ones((3,3)))\n",
    "# A matrix of ones, the same size as A\n",
    "A = np.array([[2, 3], [1, -4]])\n",
    "print('\\n', np.ones_like(A))"
   ]
  },
  {
   "cell_type": "code",
   "execution_count": 38,
   "metadata": {},
   "outputs": [
    {
     "name": "stdout",
     "output_type": "stream",
     "text": [
      "\n",
      " [1. 1. 1.]\n"
     ]
    }
   ],
   "source": [
    "# if you don't care about initialise to zero you can use\n",
    "print('\\n', np.empty(3))\n",
    "# but the entries will be random\n",
    "\n",
    "# (they might appear as zeros but you can't guarantee this)\n",
    "# as you're not setting values on initialisation this will be\n",
    "# slightly faster - but not enough to really warrant use in this course."
   ]
  },
  {
   "cell_type": "markdown",
   "metadata": {},
   "source": [
    "# The determinant \n",
    "\n",
    "So for linear systems (and next lecture we will see also for eigenvalues), we need a method to determine whether a given matrix is invertible or not - the determinant of the matrix tells us this.\n",
    "\n",
    "The [*determinant*](https://en.wikipedia.org/wiki/Determinant) is a quantity of a square matrix which can be computed directly from its entries.\n",
    "\n",
    "It can be written as either $\\det(A)$ or $|A|$.\n",
    "\n",
    "Geometrically it gives the scaling of the volume (area in 2D) of a shape under the linear transformation represented by the matrix - proved at the end, and more on linear transformations next lecture. \n",
    "\n",
    "If the mapped volume has zero volume, how does this fact alone tell you that the matrix can't have an inverse?\n",
    "\n",
    "[since zero volume in the mapping implies that (at least) two distinct points are mapped to the same point - we therefore do not have a well-defined inverse]."
   ]
  },
  {
   "cell_type": "markdown",
   "metadata": {},
   "source": [
    "Consider the matrix\n",
    "\n",
    "$$\n",
    "\\left(\n",
    "  \\begin{array}{rr}\n",
    "    2 & 3 \\\\\n",
    "    4 & 6  \\\\\n",
    "  \\end{array}\n",
    "\\right),\n",
    "$$\n",
    "\n",
    "for a $2 \\times 2$ matrix we can compute the determinant in our heads (or with a calculator!) - we multiply the two main diagonal entries and subtract the multiple of the off-diagonal entries:\n",
    "\n",
    "$$\\det(A) = (2\\times 6) - (3\\times 4) = 0$$\n",
    "\n",
    "Let's check this using a SciPy function for computing determinants:"
   ]
  },
  {
   "cell_type": "code",
   "execution_count": 39,
   "metadata": {},
   "outputs": [
    {
     "name": "stdout",
     "output_type": "stream",
     "text": [
      "-6.661338147750939e-16\n",
      "True\n"
     ]
    }
   ],
   "source": [
    "A = np.array( [[2, 3], [4, 6] ] )\n",
    "print(sl.det(A))\n",
    "print(np.allclose(0,sl.det(A)))"
   ]
  },
  {
   "cell_type": "code",
   "execution_count": 40,
   "metadata": {},
   "outputs": [
    {
     "name": "stdout",
     "output_type": "stream",
     "text": [
      "-11.0\n"
     ]
    }
   ],
   "source": [
    "# and for our linear system example above:\n",
    "A = np.array([[2, 3], [1, -4]])\n",
    "print(sl.det(A))"
   ]
  },
  {
   "cell_type": "markdown",
   "metadata": {},
   "source": [
    "The former determinant is zero (to round off) and this means that the corresponding matrix does not have an inverse, \n",
    "\n",
    "the latter is safely non-zero and hence is why we were able to find the inverse without problem.\n",
    "\n",
    "We'll review the general formula for the determinant later.\n",
    "\n",
    "A homework exercise includes writing our own function to compute the determinant of a general matrix."
   ]
  },
  {
   "cell_type": "markdown",
   "metadata": {},
   "source": [
    "<div class=\"optional\">\n",
    "\n",
    "# Matrix-vector multiplication (again; code speed) [\\*]\n",
    "\n",
    "Let's go back to our matrix vector multiplication code to test our calculation above, and we will also think about speed!\n",
    "\n",
    "</div>"
   ]
  },
  {
   "cell_type": "code",
   "execution_count": 41,
   "metadata": {},
   "outputs": [],
   "source": [
    "# copied from above\n",
    "\n",
    "def mat_vec_product(A, x):\n",
    "    \"\"\" Return the matrix vector product Ax\n",
    "    \"\"\"\n",
    "    m, n = np.shape(A)\n",
    "    assert x.ndim == 1 # restrict to the case where x is 1D\n",
    "    assert n == len(x) # as 1D we can check the length of x is consistent with A\n",
    "    b = np.zeros(m) # and then initialise the appropriate length array for b\n",
    "    for i in range(m):\n",
    "        for j in range(n):\n",
    "            b[i] += A[i, j] * x[j]\n",
    "    return b"
   ]
  },
  {
   "cell_type": "markdown",
   "metadata": {},
   "source": [
    "<div class=\"optional\">\n",
    "\n",
    "## Testing our code \n",
    "\n",
    "Let's test our code by comparing it against our case from above.\n",
    "\n",
    "</div>"
   ]
  },
  {
   "cell_type": "code",
   "execution_count": 42,
   "metadata": {},
   "outputs": [
    {
     "name": "stdout",
     "output_type": "stream",
     "text": [
      "Ax=b (NumPy):  True\n",
      "Ax=b (mat_vec_product):  True\n"
     ]
    }
   ],
   "source": [
    "# our LHS matrix\n",
    "A = np.array([[2., 3.], [1., -4.]])\n",
    "# our RHS vector\n",
    "b = np.array([7., 3.])\n",
    "# the solution we calculated\n",
    "x = np.array([37./11., 1./11.])\n",
    "\n",
    "# first let's check that Ax = b using NumPy's matrix-vector multiplication\n",
    "print('Ax=b (NumPy): ',np.allclose(A@x, b))\n",
    "\n",
    "# and with our function\n",
    "print('Ax=b (mat_vec_product): ',np.allclose(mat_vec_product(A,x), b))\n"
   ]
  },
  {
   "cell_type": "markdown",
   "metadata": {},
   "source": [
    "<div class=\"optional\">\n",
    "\n",
    "## Checking the speed of our code!\n",
    "\n",
    "Let's check how efficient out code is compared to NumPy - as mentioned above `@` and `np.dot` are two in-built methods to perform matrix multiplication, let's consider both to see if there's any difference between them.\n",
    "\n",
    "</div>"
   ]
  },
  {
   "cell_type": "code",
   "execution_count": 43,
   "metadata": {},
   "outputs": [
    {
     "name": "stdout",
     "output_type": "stream",
     "text": [
      "1.8 µs ± 225 ns per loop (mean ± std. dev. of 7 runs, 100000 loops each)\n",
      "1.08 µs ± 134 ns per loop (mean ± std. dev. of 7 runs, 1000000 loops each)\n",
      "7.91 µs ± 922 ns per loop (mean ± std. dev. of 7 runs, 100000 loops each)\n",
      "1.633826000000056e-06 9.521889000000101e-07 6.91560399999986e-06 4.2327665247092545\n"
     ]
    }
   ],
   "source": [
    "A = np.array([[2., 3.], [1., -4.]])\n",
    "x = np.array([37./11., 1./11.])\n",
    "\n",
    "time_at = %timeit -o b=A@x  \n",
    "time_dot = %timeit -o b=A.dot(x)\n",
    "time_ours = %timeit -o b=mat_vec_product(A, x)\n",
    "\n",
    "# if you wanted to control number of calls to reduce time use something like: %timeit -n 10 -r 3 -o b=A@x\n",
    "\n",
    "print(time_at.best, time_dot.best, time_ours.best, time_ours.best/time_at.best)"
   ]
  },
  {
   "cell_type": "markdown",
   "metadata": {},
   "source": [
    "<div class=\"optional\">\n",
    "\n",
    "So for our $2\\times 2$ example we're slower, but not disastrously.\n",
    "\n",
    "Let's try a larger example using some matrices made up of random entries.\n",
    "\n",
    "</div>"
   ]
  },
  {
   "cell_type": "code",
   "execution_count": 44,
   "metadata": {},
   "outputs": [
    {
     "name": "stdout",
     "output_type": "stream",
     "text": [
      "A @ x = mat_vec_product(A, x):   True\n",
      "602 µs ± 35.3 µs per loop (mean ± std. dev. of 3 runs, 10 loops each)\n",
      "638 µs ± 76.3 µs per loop (mean ± std. dev. of 3 runs, 10 loops each)\n",
      "1.97 s ± 159 ms per loop (mean ± std. dev. of 3 runs, 10 loops each)\n",
      "0.0005724700000001804 0.0005332500000008622 1.8067744799999985 3156.103341658828\n"
     ]
    }
   ],
   "source": [
    "# just some random numbers, doesn't need to be square for this demo\n",
    "m = 1234\n",
    "n = 1498\n",
    "# a random (dense) matrix and vector\n",
    "A = np.random.random((m,n))\n",
    "x = np.random.random((n))\n",
    "\n",
    "print('A @ x = mat_vec_product(A, x):  ', np.allclose(A@x , mat_vec_product(A, x)))\n",
    "\n",
    "time_at = %timeit -n 10 -r 3 -o b=A@x\n",
    "time_dot = %timeit -n 10 -r 3 -o b=A.dot(x)\n",
    "time_ours = %timeit -n 10 -r 3 -o b=mat_vec_product(A, x)\n",
    "\n",
    "print(time_at.best, time_dot.best, time_ours.best, time_ours.best/time_at.best)"
   ]
  },
  {
   "cell_type": "markdown",
   "metadata": {},
   "source": [
    "<div class=\"optional\">\n",
    "\n",
    "Oh dear. A lot slower!\n",
    "\n",
    "More on this in the exercises.\n",
    "\n",
    "</div>"
   ]
  },
  {
   "cell_type": "markdown",
   "metadata": {},
   "source": [
    "<div class=\"optional\">\n",
    "\n",
    "# Matrix-matrix product [*]\n",
    "\n",
    "To test whether or not we have a matrix that is an inverse we need to know how to perform matrix-matrix multiplication in order to check, and to make use of the inverse to solve the corresponding linear system.\n",
    "\n",
    "This is just a straightforward extension of matrix-vector multiplication applied to each column of the right-hand matrix.\n",
    "\n",
    "</div>"
   ]
  },
  {
   "cell_type": "markdown",
   "metadata": {},
   "source": [
    "<div class=\"optional\">\n",
    "\n",
    "The matrix-matrix product \n",
    "\n",
    "$$C=AB$$\n",
    "\n",
    "is defined by \n",
    "\n",
    "$$c_{ij} = \\sum_{k=1}^n a_{ik} b_{kj}$$\n",
    "\n",
    "If you're familiar with [Einstein summation convention](https://en.wikipedia.org/wiki/Einstein_notation) we can also write\n",
    "\n",
    "$$c_{ij} = a_{ik} b_{kj}$$\n",
    "\n",
    "we have contracted over the inner-most index - this is why the convention to say \"m by n\" makes sense.\n",
    "\n",
    "</div>"
   ]
  },
  {
   "cell_type": "markdown",
   "metadata": {},
   "source": [
    "<div class=\"optional\">\n",
    "\n",
    "## Conformable dimensions\n",
    "\n",
    "Note that matrix multiplication needs to be conducted between matrices which are [*conformable*](https://en.wikipedia.org/wiki/Conformable_matrix) for multiplication.\n",
    "\n",
    "For matrix-vector multiplication this meant we needed the same number of columns in the matrix as entires in the vector, and the result was a new vector with the same number of rows as the matrix, we could write this as:\n",
    "\n",
    "$$ (m \\times n) \\times (n \\times 1) = (m \\times 1) $$\n",
    "\n",
    "For the general matrix-matrix case this requirement can be illustrated as\n",
    "\n",
    "$$ (m \\times n) \\times (n \\times p) = (m \\times p) $$\n",
    "\n",
    "and so in the mathematics above, $1\\leq i \\leq m$ and $1\\leq j \\leq p$, while $1\\leq k \\leq n$.\n",
    "\n",
    "</div>"
   ]
  },
  {
   "cell_type": "markdown",
   "metadata": {},
   "source": [
    "<div class=\"optional\">\n",
    "\n",
    "## Properties\n",
    "\n",
    "Matrix-matrix multiplication satisfies the properties:\n",
    "\n",
    "\n",
    "1. $A(B + C) = AB + AC$ - this is termed the *distributive* property - matrix multiplication is distributive\n",
    "\n",
    "\n",
    "2. $AB \\neq BA$, in general - matrix multiplication is not commutative\n",
    "\n",
    "\n",
    "3. $A(BC) = (AB)C$,  assuming consistent matrix dimensions - matrix multiplication is associative\n",
    "\n",
    "\n",
    "4. $A (cB) = c AB$,  for scalars $\\alpha$ - you can pull scalar factors out\n",
    "\n",
    "</div>"
   ]
  },
  {
   "cell_type": "markdown",
   "metadata": {},
   "source": [
    "<div class=\"optional\">\n",
    "\n",
    "## Code\n",
    "\n",
    "We can code this up quite easily.\n",
    "\n",
    "</div>"
   ]
  },
  {
   "cell_type": "code",
   "execution_count": 45,
   "metadata": {},
   "outputs": [],
   "source": [
    "def mat_mat_product(A, B):\n",
    "    \"\"\" Return the matrix matrix product AB\n",
    "    \"\"\"\n",
    "    m, n1 = np.shape(A)\n",
    "    n2, p = np.shape(B)\n",
    "    assert n1==n2 \n",
    "    C = np.zeros((m, p))\n",
    "    for i in range(m):\n",
    "        for j in range(p):\n",
    "            for k in range(n1):\n",
    "                C[i, j] += A[i, k] * B[k, j]\n",
    "    return C"
   ]
  },
  {
   "cell_type": "markdown",
   "metadata": {},
   "source": [
    "<div class=\"optional\">\n",
    "\n",
    "### Testing our code\n",
    "\n",
    "</div>"
   ]
  },
  {
   "cell_type": "code",
   "execution_count": 46,
   "metadata": {},
   "outputs": [
    {
     "name": "stdout",
     "output_type": "stream",
     "text": [
      "our code agree with @: True\n",
      "A(B+C)==AB+AC:  True\n",
      "A(alpha B)==alpha AB:  True\n",
      "AB==BA:  False\n"
     ]
    }
   ],
   "source": [
    "# define some random matrices\n",
    "m = 10\n",
    "n = 10\n",
    "p = 10\n",
    "A = np.random.random((m, n))\n",
    "B = np.random.random((n, p))\n",
    "C = np.random.random((n, p))\n",
    "alpha = np.random.random((1,))\n",
    "print('our code agree with @:', np.allclose(mat_mat_product(A, B), A@B))\n",
    "print('A(B+C)==AB+AC: ',np.allclose(mat_mat_product(A, (B + C)), mat_mat_product(A, B) + mat_mat_product(A, C)))\n",
    "print('A(alpha B)==alpha AB: ', np.allclose(mat_mat_product(A, alpha * B), alpha*mat_mat_product(A, B)))\n",
    "print('AB==BA: ',np.allclose(mat_mat_product(A, B), mat_mat_product(B, A)))"
   ]
  },
  {
   "cell_type": "code",
   "execution_count": 47,
   "metadata": {},
   "outputs": [
    {
     "name": "stdout",
     "output_type": "stream",
     "text": [
      "our code agree with @: True\n",
      "A(B+C)==AB+AC:  True\n",
      "A(alpha B)==alpha AB:  True\n"
     ]
    },
    {
     "ename": "AssertionError",
     "evalue": "",
     "output_type": "error",
     "traceback": [
      "\u001b[1;31m---------------------------------------------------------------------------\u001b[0m",
      "\u001b[1;31mAssertionError\u001b[0m                            Traceback (most recent call last)",
      "\u001b[1;32m<ipython-input-47-76ca1b02a288>\u001b[0m in \u001b[0;36m<module>\u001b[1;34m\u001b[0m\n\u001b[0;32m     10\u001b[0m \u001b[0mprint\u001b[0m\u001b[1;33m(\u001b[0m\u001b[1;34m'A(B+C)==AB+AC: '\u001b[0m\u001b[1;33m,\u001b[0m\u001b[0mnp\u001b[0m\u001b[1;33m.\u001b[0m\u001b[0mallclose\u001b[0m\u001b[1;33m(\u001b[0m\u001b[0mmat_mat_product\u001b[0m\u001b[1;33m(\u001b[0m\u001b[0mA\u001b[0m\u001b[1;33m,\u001b[0m \u001b[1;33m(\u001b[0m\u001b[0mB\u001b[0m \u001b[1;33m+\u001b[0m \u001b[0mC\u001b[0m\u001b[1;33m)\u001b[0m\u001b[1;33m)\u001b[0m\u001b[1;33m,\u001b[0m \u001b[0mmat_mat_product\u001b[0m\u001b[1;33m(\u001b[0m\u001b[0mA\u001b[0m\u001b[1;33m,\u001b[0m \u001b[0mB\u001b[0m\u001b[1;33m)\u001b[0m \u001b[1;33m+\u001b[0m \u001b[0mmat_mat_product\u001b[0m\u001b[1;33m(\u001b[0m\u001b[0mA\u001b[0m\u001b[1;33m,\u001b[0m \u001b[0mC\u001b[0m\u001b[1;33m)\u001b[0m\u001b[1;33m)\u001b[0m\u001b[1;33m)\u001b[0m\u001b[1;33m\u001b[0m\u001b[1;33m\u001b[0m\u001b[0m\n\u001b[0;32m     11\u001b[0m \u001b[0mprint\u001b[0m\u001b[1;33m(\u001b[0m\u001b[1;34m'A(alpha B)==alpha AB: '\u001b[0m\u001b[1;33m,\u001b[0m \u001b[0mnp\u001b[0m\u001b[1;33m.\u001b[0m\u001b[0mallclose\u001b[0m\u001b[1;33m(\u001b[0m\u001b[0mmat_mat_product\u001b[0m\u001b[1;33m(\u001b[0m\u001b[0mA\u001b[0m\u001b[1;33m,\u001b[0m \u001b[0malpha\u001b[0m \u001b[1;33m*\u001b[0m \u001b[0mB\u001b[0m\u001b[1;33m)\u001b[0m\u001b[1;33m,\u001b[0m \u001b[0malpha\u001b[0m\u001b[1;33m*\u001b[0m\u001b[0mmat_mat_product\u001b[0m\u001b[1;33m(\u001b[0m\u001b[0mA\u001b[0m\u001b[1;33m,\u001b[0m \u001b[0mB\u001b[0m\u001b[1;33m)\u001b[0m\u001b[1;33m)\u001b[0m\u001b[1;33m)\u001b[0m\u001b[1;33m\u001b[0m\u001b[1;33m\u001b[0m\u001b[0m\n\u001b[1;32m---> 12\u001b[1;33m \u001b[0mprint\u001b[0m\u001b[1;33m(\u001b[0m\u001b[1;34m'AB==BA: '\u001b[0m\u001b[1;33m,\u001b[0m\u001b[0mnp\u001b[0m\u001b[1;33m.\u001b[0m\u001b[0mallclose\u001b[0m\u001b[1;33m(\u001b[0m\u001b[0mmat_mat_product\u001b[0m\u001b[1;33m(\u001b[0m\u001b[0mA\u001b[0m\u001b[1;33m,\u001b[0m \u001b[0mB\u001b[0m\u001b[1;33m)\u001b[0m\u001b[1;33m,\u001b[0m \u001b[0mmat_mat_product\u001b[0m\u001b[1;33m(\u001b[0m\u001b[0mB\u001b[0m\u001b[1;33m,\u001b[0m \u001b[0mA\u001b[0m\u001b[1;33m)\u001b[0m\u001b[1;33m)\u001b[0m\u001b[1;33m)\u001b[0m\u001b[1;33m\u001b[0m\u001b[1;33m\u001b[0m\u001b[0m\n\u001b[0m",
      "\u001b[1;32m<ipython-input-45-c15015a18a14>\u001b[0m in \u001b[0;36mmat_mat_product\u001b[1;34m(A, B)\u001b[0m\n\u001b[0;32m      4\u001b[0m     \u001b[0mm\u001b[0m\u001b[1;33m,\u001b[0m \u001b[0mn1\u001b[0m \u001b[1;33m=\u001b[0m \u001b[0mnp\u001b[0m\u001b[1;33m.\u001b[0m\u001b[0mshape\u001b[0m\u001b[1;33m(\u001b[0m\u001b[0mA\u001b[0m\u001b[1;33m)\u001b[0m\u001b[1;33m\u001b[0m\u001b[1;33m\u001b[0m\u001b[0m\n\u001b[0;32m      5\u001b[0m     \u001b[0mn2\u001b[0m\u001b[1;33m,\u001b[0m \u001b[0mp\u001b[0m \u001b[1;33m=\u001b[0m \u001b[0mnp\u001b[0m\u001b[1;33m.\u001b[0m\u001b[0mshape\u001b[0m\u001b[1;33m(\u001b[0m\u001b[0mB\u001b[0m\u001b[1;33m)\u001b[0m\u001b[1;33m\u001b[0m\u001b[1;33m\u001b[0m\u001b[0m\n\u001b[1;32m----> 6\u001b[1;33m     \u001b[1;32massert\u001b[0m \u001b[0mn1\u001b[0m\u001b[1;33m==\u001b[0m\u001b[0mn2\u001b[0m\u001b[1;33m\u001b[0m\u001b[1;33m\u001b[0m\u001b[0m\n\u001b[0m\u001b[0;32m      7\u001b[0m     \u001b[0mC\u001b[0m \u001b[1;33m=\u001b[0m \u001b[0mnp\u001b[0m\u001b[1;33m.\u001b[0m\u001b[0mzeros\u001b[0m\u001b[1;33m(\u001b[0m\u001b[1;33m(\u001b[0m\u001b[0mm\u001b[0m\u001b[1;33m,\u001b[0m \u001b[0mp\u001b[0m\u001b[1;33m)\u001b[0m\u001b[1;33m)\u001b[0m\u001b[1;33m\u001b[0m\u001b[1;33m\u001b[0m\u001b[0m\n\u001b[0;32m      8\u001b[0m     \u001b[1;32mfor\u001b[0m \u001b[0mi\u001b[0m \u001b[1;32min\u001b[0m \u001b[0mrange\u001b[0m\u001b[1;33m(\u001b[0m\u001b[0mm\u001b[0m\u001b[1;33m)\u001b[0m\u001b[1;33m:\u001b[0m\u001b[1;33m\u001b[0m\u001b[1;33m\u001b[0m\u001b[0m\n",
      "\u001b[1;31mAssertionError\u001b[0m: "
     ]
    }
   ],
   "source": [
    "# define some random matrices\n",
    "m = 10\n",
    "n = 9\n",
    "p = 8\n",
    "A = np.random.random((m, n))\n",
    "B = np.random.random((n, p))\n",
    "C = np.random.random((n, p))\n",
    "alpha = np.random.random((1,))\n",
    "print('our code agree with @:', np.allclose(mat_mat_product(A, B), A@B))\n",
    "print('A(B+C)==AB+AC: ',np.allclose(mat_mat_product(A, (B + C)), mat_mat_product(A, B) + mat_mat_product(A, C)))\n",
    "print('A(alpha B)==alpha AB: ', np.allclose(mat_mat_product(A, alpha * B), alpha*mat_mat_product(A, B)))\n",
    "print('AB==BA: ',np.allclose(mat_mat_product(A, B), mat_mat_product(B, A)))"
   ]
  },
  {
   "cell_type": "markdown",
   "metadata": {},
   "source": [
    "<div class=\"optional\">\n",
    "\n",
    "Of course $AB=BA$ certainly can't be true if $A$ and $B$ are not square matrices!\n",
    "\n",
    "When they are square only certain matrices have this property. Those that do are said to [commute](https://en.wikipedia.org/wiki/Commuting_matrices).\n",
    "\n",
    "</div>"
   ]
  },
  {
   "cell_type": "code",
   "execution_count": 48,
   "metadata": {},
   "outputs": [
    {
     "name": "stdout",
     "output_type": "stream",
     "text": [
      "[[1. 0.]\n",
      " [0. 1.]]\n",
      "[[1. 0.]\n",
      " [0. 1.]]\n"
     ]
    }
   ],
   "source": [
    "# For our linear system case from above, actually in solving the system we basically did enough work\n",
    "# to figure out what the inverse matrix is:\n",
    "A = np.array([[2, 3], [1, -4]])\n",
    "B = (-1./11)*np.array([[-4, -3], [-1, 2]])\n",
    "print(mat_mat_product(A,B))\n",
    "print(mat_mat_product(B,A))"
   ]
  },
  {
   "cell_type": "code",
   "execution_count": 49,
   "metadata": {},
   "outputs": [
    {
     "name": "stdout",
     "output_type": "stream",
     "text": [
      "[[0.757791 0.226944 0.747517]\n",
      " [1.210482 0.275632 1.125768]\n",
      " [0.360037 0.09985  0.313185]]\n",
      "[[0.653174 0.522004 0.5204  ]\n",
      " [0.465953 0.330525 0.359997]\n",
      " [0.570794 0.434286 0.362907]]\n",
      "A@B==B@A : False\n"
     ]
    }
   ],
   "source": [
    "# define some random matrices\n",
    "n = 3\n",
    "A = np.random.random((n, n))\n",
    "B = np.random.random((n, n))\n",
    "print(A@B)\n",
    "print(B@A)\n",
    "print(\"A@B==B@A :\",np.allclose(A@B,B@A))"
   ]
  },
  {
   "cell_type": "markdown",
   "metadata": {},
   "source": [
    "# Some linear algebra theory"
   ]
  },
  {
   "cell_type": "markdown",
   "metadata": {},
   "source": [
    "## The determinant (again)\n",
    "\n",
    "Let's return to the [*determinant*](https://en.wikipedia.org/wiki/Determinant). \n",
    "\n",
    "As said earlier, geometrically it gives the scaling of the volume of a shape under the linear transformation represented by the matrix,\n",
    "\n",
    "and it tells us whether or not an inverse matrix exits."
   ]
  },
  {
   "cell_type": "markdown",
   "metadata": {},
   "source": [
    "### Properties\n",
    "\n",
    "1. For square, equal size matrices $|AB| = |A|\\,|B|$\n",
    "\n",
    "\n",
    "2. $|A^T| = |A|$\n",
    "\n",
    "\n",
    "3. $|\\alpha A| = \\alpha^n |A|$, where $n$ is the dimension of the square matrix $A$\n",
    "\n",
    "\n",
    "4. If any row (or column) is made up of zero entries only, then the determinant of that matrix is zero\n",
    "\n",
    "\n",
    "5. [NB. Eigenvalues introduced next lecture] The determinant is equal to the product of the eigenvalues of the matrix (where we need to multiply multiple times if an eigenvalue has an algebraic multiplicity greater than one) - so a determinant of zero is equivalent to having at least one zero eigenvalue!\n",
    "\n",
    "\n",
    "6. For an upper or lower triangular matrix, the determinant is equal to the product of the main diagonal entries (as the eigenvalues in this case are the diagonal entries!)\n",
    "\n",
    "\n",
    "<br>\n",
    "\n",
    "Exercise: you can check that all of these seem to be true through considering some concrete examples."
   ]
  },
  {
   "cell_type": "markdown",
   "metadata": {},
   "source": [
    "<div class=\"optional\">\n",
    "\n",
    "### Full definition [*]\n",
    "\n",
    "The general formula for computing the determinant of a square matrix can be built up incrementally (or recursively) based on matrix size as follows:\n",
    "\n",
    "\n",
    "1. For a $1 \\times 1$ matrix $A = a_{11}$ the determinant is defined simply as $|A| = a_{11}$\n",
    "\n",
    "<br>\n",
    "\n",
    "2. For a $2 \\times 2$ matrix \n",
    "\n",
    "$$A = \n",
    "\\begin{pmatrix}\n",
    "    a_{11} & a_{12}\\\\\n",
    "    a_{21} & a_{22}\n",
    "\\end{pmatrix}\n",
    "$$\n",
    "\n",
    "the determinant is defined as $|A| = a_{11}a_{22} - a_{12}a_{21}$\n",
    "\n",
    "where it helps for the following steps if you interpret these 4 scalars as the determinants of 4 $1\\times 1$ matrices.\n",
    "    \n",
    "</div>"
   ]
  },
  {
   "cell_type": "code",
   "execution_count": 50,
   "metadata": {},
   "outputs": [
    {
     "name": "stdout",
     "output_type": "stream",
     "text": [
      "det(A) =  -6.661338147750939e-16\n",
      "\n",
      "Marix A is singular:  True\n"
     ]
    }
   ],
   "source": [
    "# Let's check our maths!\n",
    "A = np.array([[2., 3.], [4., 6.]])\n",
    "print('det(A) = ', sl.det(A))\n",
    "print('\\nMarix A is singular: ', np.isclose(sl.det(A), 0.))"
   ]
  },
  {
   "cell_type": "markdown",
   "metadata": {},
   "source": [
    "<div class=\"optional\">\n",
    "\n",
    "3. For a $3 \\times 3$ matrix \n",
    "\n",
    "$$A = \n",
    "\\begin{pmatrix}\n",
    "    a_{11} & a_{12} & a_{13}\\\\\n",
    "    a_{21} & a_{22} & a_{23}\\\\\n",
    "    a_{31} & a_{32} & a_{33}\\\\\n",
    "\\end{pmatrix}\n",
    "$$\n",
    "\n",
    "the determinant can be computed as\n",
    "\n",
    "\n",
    "$$ |A| = \n",
    "a_{11}\n",
    "\\begin{vmatrix}\n",
    "    a_{22} & a_{23}\\\\\n",
    "    a_{32} & a_{33}\n",
    "\\end{vmatrix}\n",
    "- a_{12}\n",
    "\\begin{vmatrix}\n",
    "    a_{21} & a_{23}\\\\\n",
    "    a_{31} & a_{33}\n",
    "\\end{vmatrix}\n",
    "+ a_{13}\n",
    "\\begin{vmatrix}\n",
    "    a_{21} & a_{22}\\\\\n",
    "    a_{31} & a_{32}\n",
    "\\end{vmatrix}\n",
    "$$\n",
    "\n",
    "In this expression, the first term includes\n",
    "$$\n",
    "\\begin{vmatrix}\n",
    "    a_{22} & a_{23}\\\\\n",
    "    a_{32} & a_{33}\n",
    "\\end{vmatrix}\n",
    "$$ \n",
    "\n",
    "which is the determinant of the $2\\times 2$ matrix you get from $A$ if you omit the row and column in which the multiplier in front of this contribution (i.e. the first entry of the first row $a_{11}$) lies. \n",
    "\n",
    "The second term has a similar $2\\times 2$ determinant that comes from omitting the row and column in which the multiplier $a_{12}$ lies.  Note that we have a minus sign in front of this term.\n",
    "\n",
    "The third term is analogous, but now with a plus sign again. \n",
    "\n",
    "This is what is called the *(cofactor) expansion of the determinant from the first row*.  We get the same answer (and hence alternative computation methods that may involve less work if there are an excess of zeros on certain rows or columns!) but expanding using any row, or indeed any column.\n",
    "\n",
    "We just need to remember that the signs (pluses or minuses) in front of every term follow a chess-board pattern:\n",
    "\n",
    "$$\n",
    "\\begin{pmatrix}\n",
    "    + & - & + & \\cdots \\\\\n",
    "    - & + & - & \\cdots \\\\\n",
    "    + & - & + & \\cdots \\\\\n",
    "    \\vdots & \\vdots & \\vdots  & \\ddots\n",
    "\\end{pmatrix}\n",
    "$$\n",
    "\n",
    "We define the appropriately signed $2\\times 2$ determinant the [*cofactor*](https://en.wikipedia.org/wiki/Minor_(linear_algebra)) of the multiplier $a_{ij}$, and denote it by $C_{ij}$, e.g.\n",
    "\n",
    "$$C_{11} = \n",
    "\\begin{vmatrix}\n",
    "    a_{22} & a_{23}\\\\\n",
    "    a_{32} & a_{33}\n",
    "\\end{vmatrix}, \n",
    "\\quad\n",
    "C_{12} = -\n",
    "\\begin{vmatrix}\n",
    "    a_{21} & a_{23}\\\\\n",
    "    a_{31} & a_{33}\n",
    "\\end{vmatrix}\n",
    "$$\n",
    "\n",
    "[If you drop the sign and just keep the determinant, the quantity is called the [*minor*](https://en.wikipedia.org/wiki/Minor_(linear_algebra)#First_minors) sometimes denoted $M_{ij}$.]\n",
    "\n",
    "\n",
    "We can thus define the determinant in terms of an [expansion of cofactors](https://en.wikipedia.org/wiki/Minor_(linear_algebra)#Cofactor_expansion_of_the_determinant):\n",
    "\n",
    "$$|A| = a_{11} C_{11} + a_{12} C_{12} + a_{13} C_{13}$$ \n",
    "\n",
    "with alternative definitions of the determinant given by \n",
    "\n",
    "$$|A| = a_{31} C_{31} + a_{32} C_{32} + a_{33} C_{33}$$ \n",
    "\n",
    "or an example of expanding over a column\n",
    "\n",
    "$$|A| = a_{12} C_{12} + a_{22} C_{22} + a_{32} C_{32}$$ \n",
    "\n",
    "etc.\n",
    "\n",
    "</div>"
   ]
  },
  {
   "cell_type": "code",
   "execution_count": 51,
   "metadata": {},
   "outputs": [
    {
     "name": "stdout",
     "output_type": "stream",
     "text": [
      "A = \n",
      "[[0 1 0]\n",
      " [1 2 3]\n",
      " [4 5 6]]\n"
     ]
    }
   ],
   "source": [
    "# can you do this one in your head?\n",
    "A = np.array([[0, 1, 0], [1, 2, 3], [4, 5, 6]])\n",
    "print('A = ')\n",
    "print(A)"
   ]
  },
  {
   "cell_type": "code",
   "execution_count": 52,
   "metadata": {},
   "outputs": [
    {
     "name": "stdout",
     "output_type": "stream",
     "text": [
      "det(A) =  6.0\n"
     ]
    }
   ],
   "source": [
    "print('det(A) = ', sl.det(A))"
   ]
  },
  {
   "cell_type": "markdown",
   "metadata": {},
   "source": [
    "<div class=\"optional\">\n",
    "\n",
    "4. For an $n \\times n$ matrix \n",
    "\n",
    "**This gives us a general algorithm for computing the determinant of an arbitrary sized square matrix in terms of determinants of smaller matrices, each of which can themselves be computed in terms of determinants of even smaller matrices.** \n",
    "\n",
    "\n",
    "We can perform this expansion recursively, down to our above expression for the\n",
    "determinant of a $2\\times 2$ matrix, or indeed a $1\\times 1$ - note that the above general expression is consistent with our expression for the $2\\times 2$ case we wrote down explicitly above.\n",
    "\n",
    "\n",
    "The matrix of cofactors is the same size as $A$ and is called the *cofactor matrix*:\n",
    "\n",
    "$$C = \n",
    "\\begin{pmatrix}\n",
    "    C_{11} & C_{12} & \\cdots\\\\\n",
    "    C_{21} & C_{22} & \\cdots\\\\\n",
    "    \\vdots & \\vdots & \\ddots\\\\\n",
    "\\end{pmatrix}\n",
    "$$ \n",
    "\n",
    "and its transpose we call the adjugate or [*adjugate matrix*](https://en.wikipedia.org/wiki/Adjugate_matrix):\n",
    "\n",
    "$$\\text{adj}(A) = C^T$$\n",
    "\n",
    "\n",
    "<br>\n",
    "<br>\n",
    "    \n",
    "A **homework exercise** includes writing our own function to compute the determinant of a general matrix using the above recursive ideas.\n",
    "\n",
    "</div>"
   ]
  },
  {
   "cell_type": "markdown",
   "metadata": {},
   "source": [
    "## The inverse matrix\n",
    "\n",
    "The existence of an inverse to a matrix is equivalent to whether or not that matrix's determinant is zero or not.\n",
    "\n",
    "If the determinant is non-zero then it does have an inverse.\n",
    "\n",
    "As a $1\\times 1$ matrix is a scalar, defining its inverse is trivial."
   ]
  },
  {
   "cell_type": "markdown",
   "metadata": {},
   "source": [
    "### $2\\times 2$ case\n",
    "\n",
    "In the $2\\times 2$ case we can write down a simple formula for the inverse:\n",
    "\n",
    "For a matrix $A$ with entries\n",
    "\n",
    "$$A = \n",
    "\\begin{pmatrix}\n",
    "    a & b\\\\\n",
    "    c & d\n",
    "\\end{pmatrix}$$\n",
    "\n",
    "if $|A|\\ne 0$, i.e. $ad-bc\\ne 0$, then\n",
    "\n",
    "$$A^{-1} = \\frac{1}{|A|}\n",
    "\\begin{pmatrix}\n",
    "    d & -b\\\\\n",
    "    -c & a\n",
    "\\end{pmatrix}$$\n",
    "\n",
    "Deriving this expression is a homework exercise.\n",
    "\n",
    "Let's verify this with an example:"
   ]
  },
  {
   "cell_type": "code",
   "execution_count": 53,
   "metadata": {},
   "outputs": [
    {
     "name": "stdout",
     "output_type": "stream",
     "text": [
      "[[ 0.363636  0.272727]\n",
      " [ 0.090909 -0.181818]]\n",
      "[[1. 0.]\n",
      " [0. 1.]]\n",
      "[[1. 0.]\n",
      " [0. 1.]]\n"
     ]
    }
   ],
   "source": [
    "A = np.array([[2., 3.], [1., -4.]])\n",
    "a = A[0,0]\n",
    "b = A[0,1]\n",
    "c = A[1,0]\n",
    "d = A[1,1]\n",
    "B = (1./(a*d - b*c)) * np.array([[d, -b], [-c, a]])\n",
    "print(B)\n",
    "print(A@B)\n",
    "print(B@A)"
   ]
  },
  {
   "cell_type": "markdown",
   "metadata": {},
   "source": [
    "So for this example this formula does indeed give us a matrix $B$ such that \n",
    "$AB = BA = I$."
   ]
  },
  {
   "cell_type": "markdown",
   "metadata": {},
   "source": [
    "### $n\\times n$ case\n",
    "\n",
    "A general formula for the inverse of a square, invertible matrix is (<https://en.wikipedia.org/wiki/Invertible_matrix#Analytic_solution>):\n",
    "\n",
    "$$A^{-1} = \\frac{1}{|A|}\\text{adj}(A),$$\n",
    "\n",
    "\n",
    "where $\\text{adj}(A)$ is the adjugate matrix defined in the optional section above.\n",
    "\n",
    "Note that this is consistent with the $2 \\times 2$ case above.\n",
    "\n",
    "We will demonstrate/prove this in the section on \"Cramer's Rule\" below.  "
   ]
  },
  {
   "cell_type": "markdown",
   "metadata": {},
   "source": [
    "## Using SciPy to compute the inverse matrix\n",
    "\n",
    "A quick review of some useful SciPy/NumPy functions.\n",
    "\n",
    "Let's try a $3\\times 3$ example."
   ]
  },
  {
   "cell_type": "code",
   "execution_count": 54,
   "metadata": {},
   "outputs": [
    {
     "name": "stdout",
     "output_type": "stream",
     "text": [
      "[[ 0.142857 -0.075188  0.022556]\n",
      " [-0.285714  0.518797 -0.255639]\n",
      " [ 0.142857 -0.285714  0.285714]]\n",
      "\n",
      " [[ 0.142857 -0.075188  0.022556]\n",
      " [-0.285714  0.518797 -0.255639]\n",
      " [ 0.142857 -0.285714  0.285714]]\n",
      "133.00000000000003\n",
      "\n",
      " 133.0\n",
      "array([[ 1.0000e+00, -1.1102e-16,  5.5511e-17],\n",
      "       [-2.2204e-16,  1.0000e+00,  2.2204e-16],\n",
      "       [-8.3267e-17, -3.3307e-16,  1.0000e+00]])\n",
      "\n",
      "\n",
      "array([[ 1.0000e+00, -1.1102e-16,  5.5511e-17],\n",
      "       [-2.2204e-16,  1.0000e+00,  2.2204e-16],\n",
      "       [-8.3267e-17, -3.3307e-16,  1.0000e+00]])\n",
      "\n",
      " True\n",
      "array([[ 1.0000e+00, -1.1102e-16,  5.5511e-17],\n",
      "       [-2.2204e-16,  1.0000e+00,  2.2204e-16],\n",
      "       [-8.3267e-17, -3.3307e-16,  1.0000e+00]])\n",
      "\n",
      "\n",
      "array([[ 1.0000e+00, -1.1102e-16,  5.5511e-17],\n",
      "       [-2.2204e-16,  1.0000e+00,  2.2204e-16],\n",
      "       [-8.3267e-17, -3.3307e-16,  1.0000e+00]])\n",
      "\n",
      "\n",
      "array([[ 1.0000e+00, -1.1102e-16,  5.5511e-17],\n",
      "       [-2.2204e-16,  1.0000e+00,  2.2204e-16],\n",
      "       [-8.3267e-17, -3.3307e-16,  1.0000e+00]])\n",
      "\n",
      "\n",
      "[[ 1.4286 -0.1504  0.0226]\n",
      " [-1.7143  2.594  -1.0226]\n",
      " [ 0.1429 -1.1429  2.    ]]\n"
     ]
    }
   ],
   "source": [
    "A = np.array([[10., 2., 1.],\n",
    "                 [6., 5., 4.],\n",
    "                 [1., 4., 7.]])\n",
    "\n",
    "# the inverse of the matrix A - computed using a scipy algorithm\n",
    "print(sl.inv(A))\n",
    "\n",
    "# or via numpy\n",
    "print('\\n', np.linalg.inv(A))\n",
    "\n",
    "# see https://docs.scipy.org/doc/scipy/reference/tutorial/linalg.html \n",
    "# for comments on scipy.linalg vs numpy.linalg\n",
    "sl.inv?\n",
    "\n",
    "# the determinant of the matrix A\n",
    "print(sl.det(A))\n",
    "\n",
    "# OR\n",
    "print('\\n', np.linalg.det(A))\n",
    "\n",
    "# it sometimes makes our life a bit easier if we don't always print out all \n",
    "# significant figures. We can do this in notebooks with \n",
    "%precision 4\n",
    "\n",
    "# Multiply A with its inverse using numpy's dot. Note that due to\n",
    "# roundoff errors the off diagonal values are not exactly zero.\n",
    "pprint(np.dot(A,sl.inv(A)))\n",
    "\n",
    "# print a blank line just to make output easier to read\n",
    "print('\\n')\n",
    "\n",
    "# check the result with the @ operator as well\n",
    "pprint(A @ sl.inv(A))\n",
    "\n",
    "# use allclose to confirm this is indeed the identity (to round-off)\n",
    "print('\\n', np.allclose(A @ sl.inv(A), np.eye(np.shape(A)[0])))\n",
    "\n",
    "\n",
    "# three ways to achieve the same thing\n",
    "pprint(np.dot(A,sl.inv(A)))\n",
    "print('\\n')\n",
    "pprint(A.dot(sl.inv(A)))\n",
    "print('\\n')\n",
    "pprint(A @ sl.inv(A))\n",
    "print('\\n')\n",
    "\n",
    "# and how not to do it.\n",
    "print(A*sl.inv(A))\n",
    "# note that the * operator simply does operations \"element-wise\"\n",
    "# which is not the same thing as matrix-matrix multiplication\n",
    "# (so * in numpy is the same as \".*\" in matlab)"
   ]
  },
  {
   "cell_type": "markdown",
   "metadata": {},
   "source": [
    "We can ignore the very small numbers which are due to floating point round-off errors - `np.allclose` can be used to confirm that these are indeed the identity matrix."
   ]
  },
  {
   "cell_type": "markdown",
   "metadata": {},
   "source": [
    "## Singular matrices\n",
    "\n",
    "If $|A|=0$ then $A$ is termed a [*singular matrix*](http://mathworld.wolfram.com/SingularMatrix.html) and it does not have an inverse.\n"
   ]
  },
  {
   "cell_type": "code",
   "execution_count": 55,
   "metadata": {},
   "outputs": [
    {
     "name": "stdout",
     "output_type": "stream",
     "text": [
      "Marix A is singular:  True\n"
     ]
    }
   ],
   "source": [
    "# example from above\n",
    "A = np.array([[2., 3.], [4., 6.]])\n",
    "print('Marix A is singular: ', np.isclose(sl.det(A), 0.))"
   ]
  },
  {
   "cell_type": "markdown",
   "metadata": {},
   "source": [
    "What happens if we try to use SciPy to compute the inverse of a matrix with a zero (or very small) determinant?"
   ]
  },
  {
   "cell_type": "code",
   "execution_count": 58,
   "metadata": {
    "scrolled": true
   },
   "outputs": [
    {
     "ename": "LinAlgError",
     "evalue": "singular matrix",
     "output_type": "error",
     "traceback": [
      "\u001b[1;31m---------------------------------------------------------------------------\u001b[0m",
      "\u001b[1;31mLinAlgError\u001b[0m                               Traceback (most recent call last)",
      "\u001b[1;32m<ipython-input-58-8a87f247b3f1>\u001b[0m in \u001b[0;36m<module>\u001b[1;34m\u001b[0m\n\u001b[1;32m----> 1\u001b[1;33m \u001b[0msl\u001b[0m\u001b[1;33m.\u001b[0m\u001b[0minv\u001b[0m\u001b[1;33m(\u001b[0m\u001b[0mA\u001b[0m\u001b[1;33m)\u001b[0m\u001b[1;33m\u001b[0m\u001b[1;33m\u001b[0m\u001b[0m\n\u001b[0m",
      "\u001b[1;32m~\\Anaconda3\\lib\\site-packages\\scipy\\linalg\\basic.py\u001b[0m in \u001b[0;36minv\u001b[1;34m(a, overwrite_a, check_finite)\u001b[0m\n\u001b[0;32m    972\u001b[0m         \u001b[0minv_a\u001b[0m\u001b[1;33m,\u001b[0m \u001b[0minfo\u001b[0m \u001b[1;33m=\u001b[0m \u001b[0mgetri\u001b[0m\u001b[1;33m(\u001b[0m\u001b[0mlu\u001b[0m\u001b[1;33m,\u001b[0m \u001b[0mpiv\u001b[0m\u001b[1;33m,\u001b[0m \u001b[0mlwork\u001b[0m\u001b[1;33m=\u001b[0m\u001b[0mlwork\u001b[0m\u001b[1;33m,\u001b[0m \u001b[0moverwrite_lu\u001b[0m\u001b[1;33m=\u001b[0m\u001b[1;36m1\u001b[0m\u001b[1;33m)\u001b[0m\u001b[1;33m\u001b[0m\u001b[1;33m\u001b[0m\u001b[0m\n\u001b[0;32m    973\u001b[0m     \u001b[1;32mif\u001b[0m \u001b[0minfo\u001b[0m \u001b[1;33m>\u001b[0m \u001b[1;36m0\u001b[0m\u001b[1;33m:\u001b[0m\u001b[1;33m\u001b[0m\u001b[1;33m\u001b[0m\u001b[0m\n\u001b[1;32m--> 974\u001b[1;33m         \u001b[1;32mraise\u001b[0m \u001b[0mLinAlgError\u001b[0m\u001b[1;33m(\u001b[0m\u001b[1;34m\"singular matrix\"\u001b[0m\u001b[1;33m)\u001b[0m\u001b[1;33m\u001b[0m\u001b[1;33m\u001b[0m\u001b[0m\n\u001b[0m\u001b[0;32m    975\u001b[0m     \u001b[1;32mif\u001b[0m \u001b[0minfo\u001b[0m \u001b[1;33m<\u001b[0m \u001b[1;36m0\u001b[0m\u001b[1;33m:\u001b[0m\u001b[1;33m\u001b[0m\u001b[1;33m\u001b[0m\u001b[0m\n\u001b[0;32m    976\u001b[0m         raise ValueError('illegal value in %d-th argument of internal '\n",
      "\u001b[1;31mLinAlgError\u001b[0m: singular matrix"
     ]
    }
   ],
   "source": [
    "sl.inv(A)"
   ]
  },
  {
   "cell_type": "code",
   "execution_count": 59,
   "metadata": {},
   "outputs": [
    {
     "ename": "LinAlgError",
     "evalue": "Singular matrix",
     "output_type": "error",
     "traceback": [
      "\u001b[1;31m---------------------------------------------------------------------------\u001b[0m",
      "\u001b[1;31mLinAlgError\u001b[0m                               Traceback (most recent call last)",
      "\u001b[1;32m<ipython-input-59-ae645f97e1f8>\u001b[0m in \u001b[0;36m<module>\u001b[1;34m\u001b[0m\n\u001b[1;32m----> 1\u001b[1;33m \u001b[0mnp\u001b[0m\u001b[1;33m.\u001b[0m\u001b[0mlinalg\u001b[0m\u001b[1;33m.\u001b[0m\u001b[0minv\u001b[0m\u001b[1;33m(\u001b[0m\u001b[0mA\u001b[0m\u001b[1;33m)\u001b[0m\u001b[1;33m\u001b[0m\u001b[1;33m\u001b[0m\u001b[0m\n\u001b[0m",
      "\u001b[1;32m<__array_function__ internals>\u001b[0m in \u001b[0;36minv\u001b[1;34m(*args, **kwargs)\u001b[0m\n",
      "\u001b[1;32m~\\Anaconda3\\lib\\site-packages\\numpy\\linalg\\linalg.py\u001b[0m in \u001b[0;36minv\u001b[1;34m(a)\u001b[0m\n\u001b[0;32m    545\u001b[0m     \u001b[0msignature\u001b[0m \u001b[1;33m=\u001b[0m \u001b[1;34m'D->D'\u001b[0m \u001b[1;32mif\u001b[0m \u001b[0misComplexType\u001b[0m\u001b[1;33m(\u001b[0m\u001b[0mt\u001b[0m\u001b[1;33m)\u001b[0m \u001b[1;32melse\u001b[0m \u001b[1;34m'd->d'\u001b[0m\u001b[1;33m\u001b[0m\u001b[1;33m\u001b[0m\u001b[0m\n\u001b[0;32m    546\u001b[0m     \u001b[0mextobj\u001b[0m \u001b[1;33m=\u001b[0m \u001b[0mget_linalg_error_extobj\u001b[0m\u001b[1;33m(\u001b[0m\u001b[0m_raise_linalgerror_singular\u001b[0m\u001b[1;33m)\u001b[0m\u001b[1;33m\u001b[0m\u001b[1;33m\u001b[0m\u001b[0m\n\u001b[1;32m--> 547\u001b[1;33m     \u001b[0mainv\u001b[0m \u001b[1;33m=\u001b[0m \u001b[0m_umath_linalg\u001b[0m\u001b[1;33m.\u001b[0m\u001b[0minv\u001b[0m\u001b[1;33m(\u001b[0m\u001b[0ma\u001b[0m\u001b[1;33m,\u001b[0m \u001b[0msignature\u001b[0m\u001b[1;33m=\u001b[0m\u001b[0msignature\u001b[0m\u001b[1;33m,\u001b[0m \u001b[0mextobj\u001b[0m\u001b[1;33m=\u001b[0m\u001b[0mextobj\u001b[0m\u001b[1;33m)\u001b[0m\u001b[1;33m\u001b[0m\u001b[1;33m\u001b[0m\u001b[0m\n\u001b[0m\u001b[0;32m    548\u001b[0m     \u001b[1;32mreturn\u001b[0m \u001b[0mwrap\u001b[0m\u001b[1;33m(\u001b[0m\u001b[0mainv\u001b[0m\u001b[1;33m.\u001b[0m\u001b[0mastype\u001b[0m\u001b[1;33m(\u001b[0m\u001b[0mresult_t\u001b[0m\u001b[1;33m,\u001b[0m \u001b[0mcopy\u001b[0m\u001b[1;33m=\u001b[0m\u001b[1;32mFalse\u001b[0m\u001b[1;33m)\u001b[0m\u001b[1;33m)\u001b[0m\u001b[1;33m\u001b[0m\u001b[1;33m\u001b[0m\u001b[0m\n\u001b[0;32m    549\u001b[0m \u001b[1;33m\u001b[0m\u001b[0m\n",
      "\u001b[1;32m~\\Anaconda3\\lib\\site-packages\\numpy\\linalg\\linalg.py\u001b[0m in \u001b[0;36m_raise_linalgerror_singular\u001b[1;34m(err, flag)\u001b[0m\n\u001b[0;32m     95\u001b[0m \u001b[1;33m\u001b[0m\u001b[0m\n\u001b[0;32m     96\u001b[0m \u001b[1;32mdef\u001b[0m \u001b[0m_raise_linalgerror_singular\u001b[0m\u001b[1;33m(\u001b[0m\u001b[0merr\u001b[0m\u001b[1;33m,\u001b[0m \u001b[0mflag\u001b[0m\u001b[1;33m)\u001b[0m\u001b[1;33m:\u001b[0m\u001b[1;33m\u001b[0m\u001b[1;33m\u001b[0m\u001b[0m\n\u001b[1;32m---> 97\u001b[1;33m     \u001b[1;32mraise\u001b[0m \u001b[0mLinAlgError\u001b[0m\u001b[1;33m(\u001b[0m\u001b[1;34m\"Singular matrix\"\u001b[0m\u001b[1;33m)\u001b[0m\u001b[1;33m\u001b[0m\u001b[1;33m\u001b[0m\u001b[0m\n\u001b[0m\u001b[0;32m     98\u001b[0m \u001b[1;33m\u001b[0m\u001b[0m\n\u001b[0;32m     99\u001b[0m \u001b[1;32mdef\u001b[0m \u001b[0m_raise_linalgerror_nonposdef\u001b[0m\u001b[1;33m(\u001b[0m\u001b[0merr\u001b[0m\u001b[1;33m,\u001b[0m \u001b[0mflag\u001b[0m\u001b[1;33m)\u001b[0m\u001b[1;33m:\u001b[0m\u001b[1;33m\u001b[0m\u001b[1;33m\u001b[0m\u001b[0m\n",
      "\u001b[1;31mLinAlgError\u001b[0m: Singular matrix"
     ]
    }
   ],
   "source": [
    "np.linalg.inv(A)"
   ]
  },
  {
   "cell_type": "markdown",
   "metadata": {},
   "source": [
    "Remember - read the error message!"
   ]
  },
  {
   "cell_type": "markdown",
   "metadata": {},
   "source": [
    "## Solvability of linear systems\n",
    "\n",
    "If $\\det(A)=0$ ($A$ is singular) a linear system featuring the matrix $A$ with any RHS does **not** have a **unique** solution, it **may have either infinite *or* no solutions**.\n",
    "\n",
    "For example, consider\n",
    "\n",
    "$$\n",
    "\\left(\n",
    "  \\begin{array}{rr}\n",
    "    2 & 3 \\\\\n",
    "    4 & 6 \n",
    "  \\end{array}\n",
    "\\right)\\left(\n",
    "  \\begin{array}{c}\n",
    "    x \\\\\n",
    "    y\n",
    "  \\end{array}\n",
    "\\right) = \\left(\n",
    "  \\begin{array}{c}\n",
    "    4 \\\\\n",
    "    8\n",
    "  \\end{array}\n",
    "\\right),\n",
    "$$\n",
    "\n",
    "where the matrix on the LHS clearly has a zero determinant.\n",
    "\n",
    "Considering now the values in the RHS vector as well, the second equation is simply twice the first, and hence a solution to the first equation is also automatically a solution to the second equation.  In this case as the equations do not contradict one another we say that the equations are **consistent**.\n",
    "\n",
    "If we think geometrically, and interpret the two equations as constraints, they are **both** constraining our $x,y$ values to the same 1D subspace - any solution along this line in 2D satisfies **both** equations, and hence any of them is a solution to our linear system.\n",
    "\n",
    "We hence only have one *linearly-independent* equation here, and our problem is under-constrained: we effectively only have one equation for two unknowns and this problem has *infinitely many* possibly solutions (or said another way, we have *existence*, but *non-uniqueness*): e.g. $\\boldsymbol{x}=(2,0)^T$ is a solution, so is $\\boldsymbol{x}=(-1,2)^T$, etc.\n",
    "\n",
    "\n",
    "<br>\n",
    "\n",
    "If we instead replaced the RHS vector with $(4,7)^T$, then the two equations would now be contradictory: in this case we have *no solutions* (or *non-existence*).\n"
   ]
  },
  {
   "cell_type": "markdown",
   "metadata": {},
   "source": [
    "### Linear (in)dependence\n",
    "\n",
    "Note that a set of vectors where one can be written as a linear sum of the others are termed [***linearly-dependent***](https://en.wikipedia.org/wiki/Linear_independence). \n",
    "\n",
    "(As was the case for the rows and the columns in the example immediately above - the first row of $A$ is simply twice the second; the second column is $3/2$ times the first).\n",
    "\n",
    "<br>\n",
    "\n",
    "When this is **not** the case the vectors are termed [***linearly-independent***](https://en.wikipedia.org/wiki/Linear_independence).\n",
    "\n",
    "<br>\n",
    "\n",
    "When the rows are linearly dependent what can you conclude about the expected structure of the [***row echelon form***](https://en.wikipedia.org/wiki/Row_echelon_form) of the matrix? I.e. what do you expect to end up if you add and subtract multiples of rows to other rows in order to simplify the matrix? ............ [it's possible for us to obtain a row made up of all zeros!]\n"
   ]
  },
  {
   "cell_type": "markdown",
   "metadata": {},
   "source": [
    "### A basis for a vector space\n",
    "\n",
    "A <a href=\"https://en.wikipedia.org/wiki/Basis_(linear_algebra)\">*basis*</a> for a vector (or linear) space is a set of *linearly-independent* vectors such that every vector (or location) in the vector space is a linear combination of this set.\n",
    "\n",
    "<br>\n",
    "\n",
    "[This a [goldilocks](https://en.wikipedia.org/wiki/Goldilocks_and_the_Three_Bears) like definition - we have exactly the right number of vectors - too few and we can't reach every point in the space through their combination, and too many some will be redundant and the set of vectors will be linearly dependent.]\n",
    "\n",
    "<br>\n",
    "\n",
    "The number of vectors in this set is called the **dimension** of the vector space.\n",
    "\n",
    "For example, the unit vectors $\\,\\boldsymbol{i}$, $\\boldsymbol{j}$, $\\boldsymbol{k}\\,$ are linearly-independent and form a basis for the [three-dimensional space $\\mathbb{R}^3$](https://en.wikipedia.org/wiki/Three-dimensional_space). These unit vectors are defined as\n",
    "\n",
    "$$\\boldsymbol{i} = \\left(\n",
    "  \\begin{array}{c}\n",
    "    1 \\\\\n",
    "    0 \\\\\n",
    "    0     \n",
    "  \\end{array}\n",
    "\\right),\n",
    "\\;\\;\\;\\;\\;\\;\\;\\;\n",
    "\\boldsymbol{j} = \\left(\n",
    "  \\begin{array}{c}\n",
    "    0 \\\\\n",
    "    1 \\\\\n",
    "    0     \n",
    "  \\end{array}\n",
    "\\right),\n",
    "\\;\\;\\;\\;\\;\\;\\;\\;\n",
    "\\boldsymbol{k} = \\left(\n",
    "  \\begin{array}{c}\n",
    "    0 \\\\\n",
    "    0 \\\\\n",
    "    1     \n",
    "  \\end{array}\n",
    "\\right).\n",
    "$$\n",
    "\n",
    "By definition, these three vectors **forming a basis means that we can reach any point in $\\mathbb{R}^3$ through summing appropriate multiples of them**.\n",
    "\n",
    "These are the basis vectors which we commonly choose (as they're in some sense the simplest and cleanest choice), but clearly they are not unique - with any linearly independent set of three vectors we can reach any point in 3D space through their weighted summation - start thinking about these basis vectors being columns of a matrix forming a linear system!"
   ]
  },
  {
   "cell_type": "markdown",
   "metadata": {},
   "source": [
    "### An example | the geometrical interpretation of matrix vector multiplication\n",
    "\n",
    "Consider our $2\\times 2$ example from earlier\n",
    "\n",
    "\n",
    "$$\n",
    "\\begin{align*}\n",
    "  2x + 3y &= 7 \\\\[5pt]\n",
    "   x - 4y &= 3 \n",
    "\\end{align*}\n",
    "   \\quad \\iff \\quad\n",
    "  \\begin{pmatrix}\n",
    "    2 & 3 \\\\\n",
    "    1 & -4  \n",
    "  \\end{pmatrix}\n",
    "  \\begin{pmatrix}\n",
    "    x \\\\\n",
    "    y \n",
    "  \\end{pmatrix}=\n",
    "  \\begin{pmatrix}\n",
    "    7 \\\\\n",
    "    3 \n",
    "  \\end{pmatrix}   \n",
    "$$\n",
    "\n",
    "If we define two vectors given by the columns of the matrix, which we plot below in blue and red, \n",
    "\n",
    "along with the point $\\boldsymbol{b}$ we want to arrive at,\n",
    "\n",
    "\n",
    "we can then visualise the problem of solving the linear system as wanting to reach the black point through the appropriate weighted sum of the blue and red vectors.  Why is this?\n"
   ]
  },
  {
   "cell_type": "code",
   "execution_count": 60,
   "metadata": {},
   "outputs": [
    {
     "data": {
      "text/plain": [
       "<matplotlib.legend.Legend at 0x1a42ce7afd0>"
      ]
     },
     "execution_count": 60,
     "metadata": {},
     "output_type": "execute_result"
    },
    {
     "data": {
      "image/png": "[encoded data removed]",
      "text/plain": [
       "<Figure size 432x432 with 1 Axes>"
      ]
     },
     "metadata": {
      "needs_background": "light"
     },
     "output_type": "display_data"
    }
   ],
   "source": [
    "fig = plt.figure(figsize=(6, 6))\n",
    "\n",
    "ax1 = fig.add_subplot(111)\n",
    "\n",
    "ax1.set_xlabel(\"$x$\", fontsize=14)\n",
    "ax1.set_ylabel(\"$y$\", fontsize=14)\n",
    "ax1.set_title('Position as a sum over matrix cols', fontsize=14)\n",
    "#ax1.grid(True)\n",
    "\n",
    "i = np.array([1,0])\n",
    "j = np.array([0,1])\n",
    "\n",
    "# plot the unit vectors\n",
    "ax1.quiver(i[0], i[1], angles='xy', scale_units='xy', scale=1, color='k')\n",
    "ax1.quiver(j[0], j[1], angles='xy', scale_units='xy', scale=1, color='k')\n",
    "\n",
    "ax1.set_xlim(-1,8)\n",
    "ax1.set_ylim(-5,5)\n",
    "\n",
    "A = np.array([[2, 3], [1, -4]])\n",
    "vec1 = A[:,0] # NB. This is the same as A*x\n",
    "vec2 = A[:,1] # NB. This is the same as A*y\n",
    "\n",
    "# plot them\n",
    "ax1.quiver(vec1[0], vec1[1], angles='xy', scale_units='xy', scale=1, color='b', width=0.02,  label='vec1')\n",
    "ax1.quiver(vec2[0], vec2[1], angles='xy', scale_units='xy', scale=1, color='r', width=0.02,  label='vec2')\n",
    "\n",
    "# add point b\n",
    "b = np.array([7., 3.])\n",
    "ax1.plot(b[0], b[1], 'ko',  label='${b}$')\n",
    "\n",
    "ax1.legend(loc='lower left', fontsize=14)"
   ]
  },
  {
   "cell_type": "markdown",
   "metadata": {},
   "source": [
    "As already stated, we know trivially how to write the position $\\boldsymbol{b}$ as a sum over the unit vectors $\\boldsymbol{i}$ and $\\boldsymbol{j}$ (the black vectors indicate the unit vectors $\\boldsymbol{i}$ and $\\boldsymbol{j}$ in the plot above):\n",
    "\n",
    "$$\\boldsymbol{b} = \n",
    "\\begin{pmatrix}\n",
    "b_1\\\\\n",
    "b_2\n",
    "\\end{pmatrix} =\n",
    "\\begin{pmatrix}\n",
    "b_1\\\\\n",
    "0\n",
    "\\end{pmatrix} +\n",
    "\\begin{pmatrix}\n",
    "0\\\\\n",
    "b_2\n",
    "\\end{pmatrix} =\n",
    "b_1\\begin{pmatrix}\n",
    "1\\\\\n",
    "0\n",
    "\\end{pmatrix} + b_2\n",
    "\\begin{pmatrix}\n",
    "0\\\\\n",
    "1\n",
    "\\end{pmatrix} =\n",
    "b_1 \\boldsymbol{i} + b_2\\boldsymbol{j}\n",
    "$$\n",
    "\n",
    "Finding the solution to our linear system is equivalent to asking how far along direction given by column one (blue vector), and then how far along the direction given by column two (the red vector), do I need to go to arrive at point $\\boldsymbol{b}$.\n",
    "\n",
    "This is exactly what the following interpretation of matrix-vector multiplication is telling us\n",
    "\n",
    "$$ A \\boldsymbol{x}=\\boldsymbol{b} \\quad \\iff \\quad\n",
    "\\begin{pmatrix}\n",
    "    b_1\\\\\n",
    "    b_2\\\\\n",
    "    \\vdots\\\\\n",
    "    b_m\n",
    "\\end{pmatrix}\n",
    "=\n",
    "\\begin{pmatrix}\n",
    "      &     &         &     \\\\\n",
    "      &     &         &     \\\\      \n",
    "  \\boldsymbol{a}_{\\,:1} & \\boldsymbol{a}_{\\,:2} &  \\ldots & \\boldsymbol{a}_{\\,:n} \\\\\n",
    "      &     &         &     \\\\\n",
    "      &     &         &     \n",
    "\\end{pmatrix}\n",
    "\\begin{pmatrix}\n",
    "    x_1\\\\\n",
    "    x_2\\\\\n",
    "    \\vdots\\\\\n",
    "    x_n\n",
    "\\end{pmatrix}\n",
    "=\n",
    "x_1 \n",
    "\\begin{pmatrix}\n",
    "       \\\\\n",
    "       \\\\\n",
    "   \\boldsymbol{a}_{\\,:1} \\\\\n",
    "       \\\\\n",
    "    ~   \n",
    "\\end{pmatrix}\n",
    "+\n",
    "x_2 \n",
    "\\begin{pmatrix}\n",
    "       \\\\\n",
    "       \\\\\n",
    "   \\boldsymbol{a}_{\\,:2} \\\\\n",
    "       \\\\\n",
    "    ~   \n",
    "\\end{pmatrix}\n",
    "+ \\cdots +\n",
    "x_n\n",
    "\\begin{pmatrix}\n",
    "       \\\\\n",
    "       \\\\\n",
    "   \\boldsymbol{a}_{\\,:n} \\\\\n",
    "       \\\\\n",
    "    ~   \n",
    "\\end{pmatrix}\n",
    "$$\n",
    "\n",
    "\n",
    "or in our case\n",
    "\n",
    "$$ \n",
    "\\begin{pmatrix}\n",
    "    7\\\\\n",
    "    3\n",
    "\\end{pmatrix}\n",
    "=\n",
    "\\begin{pmatrix}\n",
    "      2 & 3   \\\\\n",
    "     1  & -4    \n",
    "\\end{pmatrix}\n",
    "\\begin{pmatrix}\n",
    "    x_1\\\\\n",
    "    x_2\n",
    "\\end{pmatrix}\n",
    "=\n",
    "x_1 \n",
    "\\begin{pmatrix}\n",
    "       2 \\\\\n",
    "       1\n",
    "\\end{pmatrix}\n",
    "+\n",
    "x_2 \n",
    "\\begin{pmatrix}\n",
    "     3 \\\\\n",
    "     -4\n",
    "\\end{pmatrix}\n",
    "$$\n",
    "\n",
    "<br>\n",
    "\n",
    "We can use the solution $\\boldsymbol{x}$ we have already found (`x = np.array([37./11, 1./11])`) to emphasise this visually/geometrically: \n"
   ]
  },
  {
   "cell_type": "code",
   "execution_count": 61,
   "metadata": {
    "scrolled": false
   },
   "outputs": [
    {
     "data": {
      "text/plain": [
       "<matplotlib.quiver.Quiver at 0x1a42ceeb240>"
      ]
     },
     "execution_count": 61,
     "metadata": {},
     "output_type": "execute_result"
    },
    {
     "data": {
      "image/png": "[encoded data removed]",
      "text/plain": [
       "<Figure size 576x576 with 1 Axes>"
      ]
     },
     "metadata": {
      "needs_background": "light"
     },
     "output_type": "display_data"
    }
   ],
   "source": [
    "fig = plt.figure(figsize=(8, 8))\n",
    "\n",
    "ax1 = fig.add_subplot(111)\n",
    "\n",
    "ax1.set_xlabel(\"$x$\", fontsize=14)\n",
    "ax1.set_ylabel(\"$y$\", fontsize=14)\n",
    "ax1.set_title('Position as a sum over matrix cols', fontsize=14)\n",
    "#ax1.grid(True)\n",
    "\n",
    "i = np.array([1,0])\n",
    "j = np.array([0,1])\n",
    "\n",
    "# plot the unit vectors\n",
    "ax1.quiver(i[0], i[1], angles='xy', scale_units='xy', scale=1, color='k')\n",
    "ax1.quiver(j[0], j[1], angles='xy', scale_units='xy', scale=1, color='k')\n",
    "\n",
    "\n",
    "ax1.set_xlim(-1,8)\n",
    "ax1.set_ylim(-5,5)\n",
    "\n",
    "A = np.array([[2, 3], [1, -4]])\n",
    "vec1 = A[:,0] # NB. This is the same as A*x\n",
    "vec2 = A[:,1] # NB. This is the same as A*y\n",
    "\n",
    "# plot them\n",
    "ax1.quiver(vec1[0], vec1[1], angles='xy', scale_units='xy', scale=1, color='b', width=0.02,  label='vec1')\n",
    "ax1.quiver(vec2[0], vec2[1], angles='xy', scale_units='xy', scale=1, color='r', width=0.02,  label='vec2')\n",
    "\n",
    "# add point b\n",
    "b = np.array([7., 3.])\n",
    "ax1.plot(b[0], b[1], 'ko',  label='${b}$')\n",
    "\n",
    "ax1.legend(loc='lower left', fontsize=14)\n",
    "\n",
    "# Now move x_1 in the direction given by column one, followed by x_2 in the direction given by column 2\n",
    "# and add to the plot with thinner lines\n",
    "x = np.array([37./11, 1./11])\n",
    "ax1.quiver(x[0]*vec1[0], x[0]*vec1[1], angles='xy', scale_units='xy', scale=1, color='darkblue', width=0.005,  label='vec1')\n",
    "ax1.quiver(x[0]*vec1[0], x[0]*vec1[1],x[1]*vec2[0], x[1]*vec2[1], angles='xy', \n",
    "           scale_units='xy', scale=1, color='darkred', width=0.005,  label='vec2')"
   ]
  },
  {
   "cell_type": "markdown",
   "metadata": {},
   "source": [
    "So we need to take 37/11 multiplied by the blue arrow and add 1/11 multiplied by the red arrow to reach the black dot.\n",
    "\n",
    "[Note we don't say something like \"move 37/11 in the direction of the blue arrow, as we might with i,j,k, since these vectors are not normalised\"].\n",
    "\n",
    "Note that the columns are not orthogonal in this case, which we can demonstrate by:"
   ]
  },
  {
   "cell_type": "code",
   "execution_count": 62,
   "metadata": {},
   "outputs": [
    {
     "name": "stdout",
     "output_type": "stream",
     "text": [
      "2\n"
     ]
    }
   ],
   "source": [
    "print(vec1.dot(vec2))"
   ]
  },
  {
   "cell_type": "markdown",
   "metadata": {},
   "source": [
    "if they were orthogonal the answer should have been zero,\n",
    "\n",
    "but that's fine as we can still reach any position in 2D space from their weighted sum as long as they are linearly independent, i.e. in the 2D case as long as they don't point in the same direction."
   ]
  },
  {
   "cell_type": "markdown",
   "metadata": {},
   "source": [
    "### Solvability theory - some equivalent properties\n",
    "\n",
    "\n",
    "The following properties of a square $n\\times n$ matrix are equivalent:\n",
    "\n",
    "\n",
    "\n",
    "* $\\det(A)\\ne 0$, i.e. $A$ is non-singular.\n",
    "\n",
    "\n",
    "\n",
    "* The columns of $A$ are linearly independent.\n",
    "\n",
    "\n",
    "* The rows of $A$ are linearly independent.\n",
    "\n",
    "\n",
    "* The columns of $A$ [*span*](https://en.wikipedia.org/wiki/Linear_span) an $n$-dimensional space (this means that we can reach any point in $\\mathbb{R}^n$ through a linear combination of these vectors - recall we saw previously that this is simply what the operation $A\\boldsymbol{x}$ is doing if you write it out - the entries of $\\boldsymbol{x}$ are the weights in the linear combination - we wrote this out explicitly above.)  \n",
    "\n",
    "\n",
    "* [what this means is that for **any** given point in our space (described for example by a given $\\boldsymbol{b}$), we can reach that point through the appropriate summation of multiples of the columns of $A$, and its the $\\boldsymbol{x}$ solution vector that gives us these multiples - see example above.]\n",
    "\n",
    "\n",
    "* $A$ is invertible, i.e. there exists a matrix $A^{-1}$ such that $A^{-1}A = A A^{-1}=I$.\n",
    "\n",
    "\n",
    "* The matrix system $A\\boldsymbol{x}=\\boldsymbol{b}$ has a unique solution for every vector $\\boldsymbol{b}$.\n",
    "\n",
    "\n",
    "<br>\n",
    "\n",
    "For even more equivalent properties for square matrices see <https://en.wikipedia.org/wiki/Invertible_matrix#The_invertible_matrix_theorem>."
   ]
  },
  {
   "cell_type": "markdown",
   "metadata": {},
   "source": [
    "### Rank, range and null-Space\n",
    "\n",
    "Above we wrote for a square $n\\times n$ matrix, that being non-singular (and hence the linear system having a unique solution for any RHS vector) is equivalent to\n",
    "\n",
    "<br>\n",
    "\n",
    "* The columns of $A$ [*span*](https://en.wikipedia.org/wiki/Linear_span) an $n$-dimensional space (this means that we can reach any point in $\\mathbb{R}^n$ through a linear combination of these vectors - note that this is simply what the operation $A\\boldsymbol{x}$ is doing of course if you write it out - the entries of $\\boldsymbol{x}$ are the weights in the linear combination!)  \n",
    "\n",
    "<br>\n",
    "\n",
    "The columns of $A$ will always span an $r$-dimensional space, for some $r$, and assuming the matrix isn't the zero matrix $r \\ge 1$. \n",
    "\n",
    "What we're saying in the statement above is that *if the columns of $A$ span an $n$-dimensional space* (i.e. if $r=n$) then ... all the other properties in the previous cell hold.\n",
    "\n",
    "<br>\n",
    "\n",
    "#### Rank\n",
    "\n",
    "Let's explain a bit better what this means.\n",
    "\n",
    "The ***rank*** of an $n\\times n$ matrix $A$, written $\\text{rank}(A)$, is equal to the number of linearly independent columns that form it. It is also equal to the number of linearly independent rows that form it (as these two quantities, the column rank and the row rank can be proved to be equal). \n",
    "\n",
    "The matrix $A$ is said to have ***full rank*** if $\\text{rank}(A)=n$ and is said to be ***rank deficient*** if $\\text{rank}(A)<n)$ (in the square case - see below for the non-square case).\n",
    "\n",
    "\n",
    "<br>\n",
    "\n",
    "#### Rank\n",
    "\n",
    "The ***range*** (sometimes the ***image***) of an $n\\times n$ matrix $A$, written $\\text{range}(A)$, is the *space spanned by the columns* of $A$ (so it's also sometimes also called the [***column space***](https://en.wikipedia.org/wiki/Row_and_column_spaces)), i.e. every point in that space can be reached through a linear combination of the columns of $A$, equivalently every point in the space can be written as $A\\boldsymbol{x}$ for some $\\boldsymbol{x}$. Said another way, the columns of $A$ provide a ***basis*** for $\\text{range}(A)$.\n",
    "\n",
    "This is telling us that if our matrix has full rank then we can reach ***any*** location in $\\mathbb{R}^n$ through a weighted sum of the columns, i.e. no matter what the RHS vector is (the point we want to reach after we multiply by $A$) the corresponding linear system always has a unique solution and hence the matrix has an inverse. \n",
    "\n",
    "<br>\n",
    "\n",
    "If the matrix does not have full rank (i.e. $r<n$), that means we cannot reach all point in $\\mathbb{R}^n$ through a weighted sum of the columns. \n",
    "\n",
    "We will have (**non-unique**) solutions as long as the RHS vector (the location we want to get to geometrically) is in the range of $A$, as we are able to reach some points (i.e. some RHS vectors) with a weighted sum of our columns. \n",
    "\n",
    "If our given RHS vector is not in the range of $A$ then we simply cannot reach it through the weighted summation of columns (this is the **non-existence** case).\n",
    "\n",
    "Note that the difference between the last two points is completely down to the RHS vector and is nothing to do with the entries of the matrix $A$.\n"
   ]
  },
  {
   "cell_type": "markdown",
   "metadata": {},
   "source": [
    "\n",
    "#### The null-space\n",
    "\n",
    "The ***null-space*** of the matrix $A$, written $\\text{null}(A)$, is the set of vectors $\\boldsymbol{x}$ that satisfy $A\\boldsymbol{x} = 0$.\n",
    "\n",
    "Why is the null-space important? Well for lots of reasons including: \n",
    "\n",
    "\n",
    "1. this is how we find eigenvectors (next lecture) \n",
    "    \n",
    "    \n",
    "    \n",
    "2. when solving a linear system $A\\boldsymbol{x}=\\boldsymbol{b}$, we can add any vector (or linear combination of vectors) from the null-space to a solution and get another solution, this will demonstrate non-uniqueness of solutions for this problem if the null-space contains anything other than the zero vector. \n",
    "\n",
    "\n",
    "Note that the null-space always contains the zero vector, we are not really interested in that solution, it's non-zero vectors that are important. Note if we have a non-zero vector in the null-space, then any scalar multiple of that vector will also be in the null space ($A\\boldsymbol{x}=\\boldsymbol{0}\\Rightarrow A(\\alpha\\boldsymbol{x})=\\alpha A \\boldsymbol{x}= \\boldsymbol{0}$).\n",
    "\n",
    "\n",
    "<br>\n",
    "\n",
    "#### The rank-nullity theorem\n",
    "\n",
    "A fundamental result for any matrix $A \\in \\mathbb{R}^{m\\times n}$, which maps vectors from $\\mathbb{R}^{n}$ into $\\mathbb{R}^{m}$, is the so-called [rank-nullity theorem](https://en.wikipedia.org/wiki/Rank%E2%80%93nullity_theorem).\n",
    "\n",
    "This states that the dimension of the span of the columns of $A$ (i.e. its rank) and the dimension of its null space (termed the nullity) must sum to $n$ - the number of columns:\n",
    "\n",
    "$$ \\text{rank}(A) + \\dim(\\text{null}(A)) = n$$\n",
    "\n",
    "This means that if you have worked out the rank you automatically know the dimension of the null space (and vice-versa), in particular if it contains any non-zero vectors $\\boldsymbol{x}$ such that $A\\boldsymbol{x}=\\boldsymbol{0}$.\n",
    "\n",
    "\n",
    "<br>\n",
    "<br>\n",
    "\n",
    "\n",
    "A homework exercise walks you through the calculation of the rank and the null space for a matrix.\n"
   ]
  },
  {
   "cell_type": "markdown",
   "metadata": {},
   "source": [
    "\n",
    "\n",
    "### Solving our simple example (again) \n",
    "\n",
    "Let's finish up by solving our simple $2\\times 2$ example again.\n",
    "\n",
    "In the following, as well as multiplying through by the inverse matrix obtained with `sl.inv`, we also demonstrate how to use a numerical linear algebra **solver** via `sl.solve` - this **solves the problem without actually forming the inverse**. "
   ]
  },
  {
   "cell_type": "code",
   "execution_count": 63,
   "metadata": {},
   "outputs": [
    {
     "name": "stdout",
     "output_type": "stream",
     "text": [
      "det(A) =  -11.0\n",
      "[3.3636 0.0909]\n",
      "[3.3636 0.0909]\n",
      "\n",
      "Our two numerical solutions agree:  True\n",
      "\n",
      "and sl.solve(A,b) agrees with the exact solution we computed by hand:  True\n"
     ]
    }
   ],
   "source": [
    "# form the LHS matrix\n",
    "A = np.array([[2., 3.], [1., -4.]])\n",
    "\n",
    "# check first whether the determinant of A is non-zero \n",
    "print('det(A) = ', sl.det(A))\n",
    "\n",
    "# form the RHS vector\n",
    "b = np.array([7., 3.])\n",
    "\n",
    "# compute A inverse and multiply by b (could also use np.linalg.inv(A) rather than sl.inv(A))\n",
    "print(sl.inv(A) @ b)\n",
    "\n",
    "# alternatively we can \"solve\" the linear system using SciPy \n",
    "# - actually this does the same thing as the line above but using \n",
    "# an \"LU decomposition\" of A.\n",
    "print(sl.solve(A,b))\n",
    "\n",
    "# Check our two numerical solutions using the numpy allclose function\n",
    "print('\\nOur two numerical solutions agree: ', np.allclose(sl.solve(A,b), sl.inv(A) @ b))\n",
    "# and check further that this agrees with the solution we computed by hand\n",
    "print('\\nand sl.solve(A,b) agrees with the exact solution we computed by hand: ', \n",
    "      np.allclose(sl.solve(A,b), [37./11., 1./11.]))"
   ]
  },
  {
   "cell_type": "code",
   "execution_count": 64,
   "metadata": {},
   "outputs": [
    {
     "name": "stdout",
     "output_type": "stream",
     "text": [
      "[3.3636363636363633 0.0909090909090909]\n",
      "[3.3636363636363638 0.0909090909090909]\n",
      "sl.solve(A,b) == sl.inv(A)@b: True\n",
      "sl.solve(A,b) == sl.inv(A)@b: False\n"
     ]
    }
   ],
   "source": [
    "# but let's just check the answers with lots of significant figures\n",
    "%precision 16\n",
    "A = np.array([[2., 3.], [1., -4.]])\n",
    "b = np.array([7., 3.])\n",
    "print(sl.inv(A)@b)\n",
    "print(sl.solve(A,b))\n",
    "\n",
    "# use a very tight tolerance to check equivalence\n",
    "print('sl.solve(A,b) == sl.inv(A)@b:', np.allclose(sl.solve(A,b), sl.inv(A)@b, \n",
    "                                                   rtol=0.0, atol=1e-15))\n",
    "# an even tighter tolerance\n",
    "print('sl.solve(A,b) == sl.inv(A)@b:', np.allclose(sl.solve(A,b), sl.inv(A)@b, \n",
    "                                                   rtol=0.0, atol=1e-16))"
   ]
  },
  {
   "cell_type": "markdown",
   "metadata": {},
   "source": [
    "So if we really look closely these two approaches do not yield identical results."
   ]
  },
  {
   "cell_type": "markdown",
   "metadata": {},
   "source": [
    "<div class=\"advanced\">\n",
    "\n",
    "# Cramer's rule [**]\n",
    "\n",
    "As stated above, a general formula for the inverse of a square, invertible matrix is \n",
    "\n",
    "$$A^{-1} = \\frac{1}{|A|}\\text{adj}(A)$$\n",
    "\n",
    "where the adjugate or [*adjugate matrix*](https://en.wikipedia.org/wiki/Adjugate_matrix) is\n",
    "\n",
    "$$\\text{adj}(A) = C^T$$\n",
    "\n",
    "where $C$ is the *cofactor matrix*:\n",
    "\n",
    "$$C = \n",
    "\\begin{pmatrix}\n",
    "    C_{11} & C_{12} & \\cdots\\\\\n",
    "    C_{21} & C_{22} & \\cdots\\\\\n",
    "    \\vdots & \\vdots & \\ddots\\\\\n",
    "\\end{pmatrix}\n",
    "$$ \n",
    "\n",
    "where $$C_{11} = \n",
    "\\begin{vmatrix}\n",
    "    a_{22} & a_{23}\\\\\n",
    "    a_{32} & a_{33}\n",
    "\\end{vmatrix}, \n",
    "\\quad\n",
    "C_{12} = -\n",
    "\\begin{vmatrix}\n",
    "    a_{21} & a_{23}\\\\\n",
    "    a_{31} & a_{33}\n",
    "\\end{vmatrix}\n",
    "$$\n",
    "\n",
    "etc.\n",
    "\n",
    "<\\div>"
   ]
  },
  {
   "cell_type": "markdown",
   "metadata": {},
   "source": [
    "<div class=\"advanced\">\n",
    "\n",
    "By establishing this result rigorously we can also derive a solution method for a corresponding linear system - called Cramer's Rule. Let's do this.\n",
    "\n",
    "For a given $n\\times n$ matrix $A$, consider the product with the cofactor matrix $C$ defined above:\n",
    "\n",
    "$$AC^T = \n",
    "\\begin{pmatrix}\n",
    "    a_{11} & a_{12} & \\cdots\\\\\n",
    "    a_{21} & a_{22} & \\cdots\\\\\n",
    "    \\vdots & \\vdots & \\ddots\\\\\n",
    "\\end{pmatrix}\n",
    "\\begin{pmatrix}\n",
    "    C_{11} & C_{12} & \\cdots\\\\\n",
    "    C_{21} & C_{22} & \\cdots\\\\\n",
    "    \\vdots & \\vdots & \\ddots\\\\\n",
    "\\end{pmatrix}^T= \n",
    "\\begin{pmatrix}\n",
    "    a_{11} & a_{12} & \\cdots\\\\\n",
    "    a_{21} & a_{22} & \\cdots\\\\\n",
    "    \\vdots & \\vdots & \\ddots\\\\\n",
    "\\end{pmatrix}\n",
    "\\begin{pmatrix}\n",
    "    C_{11} & C_{21} & \\cdots\\\\\n",
    "    C_{12} & C_{22} & \\cdots\\\\\n",
    "    \\vdots & \\vdots & \\ddots\\\\\n",
    "\\end{pmatrix}\n",
    "$$\n",
    "\n",
    "The result will be an $n\\times n$ matrix $[(AC^T)_{ij}]_{n\\times n}$.  Let's consider some of its entries:\n",
    "\n",
    "$$(AC^T)_{11} = a_{11} C_{11} + a_{12}C_{12} + \\ldots$$\n",
    "\n",
    "which we recognise as the formula for the determinant using the expansion over the first row.\n",
    "\n",
    "Similarly $(AC^T)_{22}$ is the determinant using the expansion over the second row, and so on - all the diagonal entries\n",
    "of this product turn out to be the determinant $|A|$.\n",
    "\n",
    "What about the off-diagonals? Let's consider one representative entry:\n",
    "\n",
    "$$(AC^T)_{12} = a_{11} C_{21} + a_{12}C_{22} + \\ldots$$\n",
    "\n",
    "where\n",
    "\n",
    "$$C_{21} = -\n",
    "\\begin{vmatrix}\n",
    "    a_{12} & a_{13} & a_{14} & \\cdots\\\\\n",
    "    a_{32} & a_{33} & a_{34} & \\cdots\\\\\n",
    "    a_{42} & a_{43} & a_{44} & \\cdots \\\\\n",
    "    \\vdots & \\vdots & \\vdots &\n",
    "\\end{vmatrix}\n",
    "$$\n",
    "\n",
    "$$C_{22} = +\n",
    "\\begin{vmatrix}\n",
    "    a_{11} & a_{13} & a_{14} & \\cdots\\\\\n",
    "    a_{31} & a_{33} & a_{34} & \\cdots\\\\\n",
    "    a_{41} & a_{34} & a_{44} & \\cdots \\\\\n",
    "    \\vdots & \\vdots & \\vdots &\n",
    "\\end{vmatrix}\n",
    "$$\n",
    "\n",
    "etc. \n",
    "\n",
    "So we have that\n",
    "\n",
    "$$ \n",
    "(AC^T)_{12} = \n",
    "-a_{11} \n",
    "\\begin{vmatrix}\n",
    "    a_{12} & a_{13} & a_{14} & \\cdots\\\\\n",
    "    a_{32} & a_{33} & a_{34} & \\cdots\\\\\n",
    "    a_{42} & a_{43} & a_{44} & \\cdots \\\\\n",
    "    \\vdots & \\vdots & \\vdots &\n",
    "\\end{vmatrix} + \n",
    "a_{12}\n",
    "\\begin{vmatrix}\n",
    "    a_{11} & a_{13} & a_{14} & \\cdots\\\\\n",
    "    a_{31} & a_{33} & a_{34} & \\cdots\\\\\n",
    "    a_{41} & a_{34} & a_{44} & \\cdots \\\\\n",
    "    \\vdots & \\vdots & \\vdots &\n",
    "\\end{vmatrix}\n",
    "+ \\ldots\n",
    "$$\n",
    "\n",
    "But notice that this is the determinant of the following matrix:\n",
    "\n",
    "$$(AC^T)_{12}=\n",
    "-\\begin{vmatrix}\n",
    "    a_{11} & a_{12} & a_{13} & \\cdots\\\\\n",
    "    a_{11} & a_{12} & a_{13} & \\cdots\\\\\n",
    "    a_{31} & a_{32} & a_{33} & \\cdots \\\\\n",
    "    a_{41} & a_{42} & a_{43} & \\cdots \\\\\n",
    "\\vdots & \\vdots & \\vdots &\n",
    "\\end{vmatrix}\n",
    "$$\n",
    "\n",
    "i.e. a matrix with a repeated row.  \n",
    "\n",
    "What do we know about matrices with repeated, i.e. non linearly independent rows - they have zero determinants. Hence this off-diagonal entry is zero. This argument can be repeated to show that every off-diagonals entry must be zero.\n",
    "\n",
    "</div>"
   ]
  },
  {
   "cell_type": "markdown",
   "metadata": {},
   "source": [
    "<div class=\"advanced\">\n",
    "\n",
    "If you don't quite follow this, let's look at the $2\\times 2$ example. In this case \n",
    "\n",
    "$$AC^T = \n",
    "\\begin{pmatrix}\n",
    "    a & b \\\\\n",
    "    c & d \n",
    "\\end{pmatrix}\n",
    "\\begin{pmatrix}\n",
    "    d & -c \\\\\n",
    "    -b & a\n",
    "\\end{pmatrix}^T= \n",
    "\\begin{pmatrix}\n",
    "    a & b  \\\\\n",
    "    c & d \n",
    "\\end{pmatrix}\n",
    "\\begin{pmatrix}\n",
    "    d & -b\\\\\n",
    "    -c & a\n",
    "\\end{pmatrix}\n",
    "$$\n",
    "\n",
    "So \n",
    "\n",
    "$$(AC^T)_{11} = ad - bc =|A|$$\n",
    "\n",
    "and \n",
    "\n",
    "$$(AC^T)_{12} = a_{11} C_{21} + a_{12}C_{22} = a(-b) + b(a) =  \n",
    "\\begin{vmatrix}\n",
    "a & b \\\\\n",
    "a & b\n",
    "\\end{vmatrix}\n",
    "=0$$\n",
    "\n",
    "as for the general case this is zero - the determinant of the matrix where we have replaced the second row with the first. \n",
    "\n",
    "</div>"
   ]
  },
  {
   "cell_type": "markdown",
   "metadata": {},
   "source": [
    "<div class=\"advanced\">\n",
    "\n",
    "Hence we have that \n",
    "\n",
    "$$ AC^T = |A| \\; I \\; \\implies \\; A \\left( \\frac{1}{|A|} C^T \\right) = I $$\n",
    "\n",
    "and so having divided through by an assumed non-zero scalar determinant we have constructed a \"right inverse\" to our matrix $A$.  \n",
    "\n",
    "\n",
    "A similar argument would show that we also have a left inverse, as $C^T A = |A|I$ - this time entries of $C^TA$ can be interpreted as the sum of cofactors multiplied by entries from a column of $A$. For the diagonals this is the determinant of $A$ (computed via a column expansion), and for off-diagonals the determinant of matrix with repeated columns, i.e. zero.\n",
    "\n",
    "Together this proves that we indeed have the inverse matrix:\n",
    "\n",
    "$$A^{-1}=\\frac{1}{|A|} C^T = \\frac{1}{|A|} \\text{adj}(A)$$\n",
    "\n",
    "</div>"
   ]
  },
  {
   "cell_type": "markdown",
   "metadata": {},
   "source": [
    "<div class=\"advanced\">\n",
    "\n",
    "Establishing that the above formula for the inverse is true points us to a method for computing the solution of the linear system, i.e.\n",
    "\n",
    "$$ A\\boldsymbol{x}=\\boldsymbol{b} \\implies \\boldsymbol{x} = A^{-1}\\boldsymbol{b} = \\frac{1}{|A|} C^T \\boldsymbol{b}, $$\n",
    "\n",
    "directly.\n",
    "\n",
    "Consider the first entry of our unknown, $x_1$. The above formula tells us that this is equal to one over the determinant of $A$, times the first row of $C^T$ multiplied by the column vector $\\boldsymbol{b}$:\n",
    "\n",
    "$$x_1 = \\frac{1}{|A|} \\left(C_{11}b_1 + C_{21}b_2 + \\ldots\\right)$$\n",
    "\n",
    "but, as above, the expansion of cofactors that appears here can be recognised as the determinant of a particular matrix, and thus an expression for the first entry of the solution vector is:\n",
    "\n",
    "$$x_1 = \\frac{1}{|A|} \n",
    "\\begin{vmatrix}\n",
    "b_1 & a_{12} & a_{13} & \\cdots \\\\\n",
    "b_2 & a_{22} & a_{23} & \\cdots \\\\\n",
    "b_3 & a_{32} & a_{33} & \\cdots \\\\\n",
    "\\vdots & \\vdots & \\vdots &\n",
    "\\end{vmatrix}\n",
    "$$\n",
    "\n",
    "Call the matrix that appears here $B_1$ (which is defined as $A$ but with the first column replaced by $\\boldsymbol{b}$).\n",
    "\n",
    "Define $B_j$ similarly as the matrix $A$ with the $j$-th column replaced by $\\boldsymbol{b}$:\n",
    "\n",
    "$$B_j = \n",
    "\\begin{pmatrix}\n",
    "      &     &         &   &&&&   \\\\\n",
    "  \\boldsymbol{a}_1 & \\boldsymbol{a}_2 &  \\ldots & \\boldsymbol{a}_{j-1} & \\boldsymbol{b} & \\boldsymbol{a}_{j+1}  & \\ldots & \\boldsymbol{a}_n \\\\\n",
    "      &     &         &   &&&&  \\\\\n",
    "      &     &         &   &&&&  \n",
    "\\end{pmatrix}\n",
    "$$\n",
    "\n",
    "Then as an extension of above we have\n",
    "\n",
    "$$x_j = \\frac{|B_j|}{|A|}, \\quad  1\\leq j \\leq n$$\n",
    "\n",
    "This solution method is called [Cramer's rule](https://en.wikipedia.org/wiki/Cramer%27s_rule), and a homework exercise asks you to implement this method in a function.\n",
    "\n",
    "</div>"
   ]
  },
  {
   "cell_type": "markdown",
   "metadata": {},
   "source": [
    "<div class=\"optional\">\n",
    "    \n",
    "# Geometric interpretation of linear transformations [* - assuming we have run out of time, please read through this section as we will pick up the next lecture from these ideas]\n",
    "\n",
    "If we consider a vector describing a position relative to the origin then we can interpret pre-multiplication of this vector by a matrix as a linear transformation applied to this position. \n",
    "\n",
    "Alternatively, in Euclidean 2D space consider two vectors describing a basis for that space (e.g. $\\boldsymbol{i}$ and $\\boldsymbol{j}$), then we can interpret pre-multiplication of these vectors by a matrix as a linear coordinate transformation. (And this is also true for any (finite) number of dimensions).\n",
    "\n",
    "Other words for transformation here include 'function' or 'map' - the action of applying it maps objects between spaces.\n",
    "\n",
    "Linear means that it does so in a manner that preserves the operations of addition and scalar multiplication: if $f(\\cdot)$ represents our transformation/mapping/function then mathematically this means that \n",
    "\n",
    "$$ f(\\boldsymbol{x}+\\boldsymbol{y}) =  f(\\boldsymbol{x}) + f(\\boldsymbol{y}) \n",
    "\\quad \\text{and}\\qquad \n",
    " f(\\alpha \\boldsymbol{x}) = \\alpha f(\\boldsymbol{x})\n",
    "$$\n",
    " \n",
    "for all objects $\\boldsymbol{x}$ in the space we're considering (e.g. Euclidean space), and all scalars $\\alpha$.\n",
    " \n",
    "In the finite dimensional case (e.g. Euclidean space, not function spaces), such a linear transformation is equivalent to multiplication by a matrix. If we map between spaces that are the same dimension then this matrix is square, non-square matrices given us mappings between spaces of different dimension (think different number of model inputs than model outputs - this case comes up in the module Inversion and Optimisation).\n",
    "\n",
    "</div>"
   ]
  },
  {
   "cell_type": "markdown",
   "metadata": {},
   "source": [
    "A few common examples in 2D are given in the cells/images below.\n",
    "\n",
    "For some additional examples see <https://en.wikipedia.org/wiki/Linear_map#Examples_of_linear_transformation_matrices>\n",
    "and <https://en.wikipedia.org/wiki/Transformation_matrix>.\n",
    "\n",
    "[Note that the examples below are all in 2D for ease of plotting/visualisation/thinking! These can all be extended to higher dimensions: parallelograms become [parallelepipeds](https://en.wikipedia.org/wiki/Parallelepiped) in 3D, ellipses become [ellipsoids](https://en.wikipedia.org/wiki/Ellipsoid) etc].\n",
    "\n",
    "For each of these tranformation we will check the statement we made above about the determinant:\n",
    "\"Geometrically it gives the scaling of the volume (area in 2D) of a shape under the linear transformation represented by the matrix.\"\n"
   ]
  },
  {
   "cell_type": "markdown",
   "metadata": {},
   "source": [
    "Firstly let's consider a point in a two dimensional space\n",
    "\n",
    "$$\\boldsymbol{p} = \n",
    "\\begin{pmatrix}\n",
    "p_1\\\\\n",
    "p_2\n",
    "\\end{pmatrix}\n",
    "$$ \n",
    "\n",
    "you can also think of this as a vector from the origin (you might write this as $\\;\\overrightarrow{op}\\;$ to avoid any ambiguities, with $o$ indicating the origin).\n",
    "\n",
    "Firstly consider what multiplication by a matrix $A$ does to this point's location, or equivalently the vector - i.e. let's compute a new point $\\boldsymbol{p}'=A\\boldsymbol{p}$ for a random matrix $A$ and plot it:"
   ]
  },
  {
   "cell_type": "code",
   "execution_count": 65,
   "metadata": {},
   "outputs": [
    {
     "data": {
      "text/plain": [
       "(-0.166, 3.4859999999999998, -0.11499999999999999, 2.415)"
      ]
     },
     "execution_count": 65,
     "metadata": {},
     "output_type": "execute_result"
    },
    {
     "data": {
      "image/png": "[encoded data removed]",
      "text/plain": [
       "<Figure size 432x432 with 1 Axes>"
      ]
     },
     "metadata": {
      "needs_background": "light"
     },
     "output_type": "display_data"
    }
   ],
   "source": [
    "fig = plt.figure(figsize=(6, 6))\n",
    "\n",
    "ax1 = fig.add_subplot(111)\n",
    "\n",
    "ax1.set_xlabel(\"$x, x'$\", fontsize=14)\n",
    "ax1.set_ylabel(\"$y, y'$\", fontsize=14)\n",
    "ax1.set_title('Transforming point', fontsize=14)\n",
    "#ax1.grid(True)\n",
    "\n",
    "# unit vectors\n",
    "i = np.array([1,0])\n",
    "j = np.array([0,1])\n",
    "\n",
    "# plot the vectors\n",
    "ax1.quiver(i[0], i[1], angles='xy', scale_units='xy', scale=1, color='k', zorder=10)\n",
    "ax1.quiver(j[0], j[1], angles='xy', scale_units='xy', scale=1, color='k', zorder=10)\n",
    "# add some text\n",
    "ax1.text(i[0]+0.1, i[1], '$i$', fontsize=12)\n",
    "ax1.text(j[0], j[1]+0.1, '$j$', fontsize=12)\n",
    "\n",
    "# a point p\n",
    "p = np.array([1.4, 2.3])\n",
    "\n",
    "# plot it\n",
    "ax1.plot(p[0],p[1],'bo')\n",
    "\n",
    "# add some text\n",
    "ax1.text(p[0],p[1]+0.1, '$p$', fontsize=12)\n",
    "\n",
    "# consider a random matrix\n",
    "A = np.array([[0.4,1.2],[-0.1,0.4]])\n",
    "\n",
    "# transform the point\n",
    "p_ = A@p\n",
    "\n",
    "# plot the transformed point\n",
    "ax1.plot(p_[0],p_[1],'ro')\n",
    "\n",
    "# add some text\n",
    "ax1.text(p_[0],p_[1]+0.1, \"$p'$\", fontsize=12)\n",
    "\n",
    "# make the axis lengths equal - so i and j are same size\n",
    "ax1.axis('equal')"
   ]
  },
  {
   "cell_type": "markdown",
   "metadata": {},
   "source": [
    "We can interpret what's happened here in terms of a coordinate transformation.\n",
    "\n",
    "Given the unit vectors which are the typical basis used for $\\mathbb{R}^2$\n",
    "\n",
    "\n",
    "$$\\boldsymbol{i} = \\left(\n",
    "  \\begin{array}{c}\n",
    "    1 \\\\\n",
    "    0     \n",
    "  \\end{array}\n",
    "\\right),\n",
    "\\;\\;\\;\\;\\;\\;\\;\\;\n",
    "\\boldsymbol{j} = \\left(\n",
    "  \\begin{array}{c}\n",
    "    0 \\\\\n",
    "    1\n",
    "  \\end{array}\n",
    "\\right),\n",
    "$$\n",
    "\n",
    "then of course we can write\n",
    "\n",
    "$$\\boldsymbol{p} = \n",
    "\\begin{pmatrix}\n",
    "p_1\\\\\n",
    "p_2\n",
    "\\end{pmatrix} = p_1 \\boldsymbol{i} + p_2 \\boldsymbol{j} \n",
    "$$\n",
    "\n",
    "the transformed point is then\n",
    "\n",
    "$$\\boldsymbol{p}' = A\\boldsymbol{p} = A(p_1 \\boldsymbol{i} + p_2 \\boldsymbol{j})\n",
    "= p_1 (A\\boldsymbol{i}) + p_2 (A\\boldsymbol{j})\n",
    "$$\n",
    "\n",
    "(by linearity of matrix multiplication).\n",
    "\n",
    "This emphasises that we can interpret multiplication by a matrix as a change of coordinates - our coordinate basis has been transformed from $(\\boldsymbol{i},\\boldsymbol{j})$ to $(A\\boldsymbol{i},A\\boldsymbol{j})$.\n",
    "\n",
    "Now in this case, due to the particularly simple/special form of the starting basis: $\\boldsymbol{i}$ and $\\boldsymbol{j}$, this new basis is made up of the columns of $A$!\n",
    "\n",
    "The transformation of a summation will then just be\n",
    "\n",
    "$$(\\boldsymbol{p}+\\boldsymbol{q})' = A(\\boldsymbol{p}+\\boldsymbol{q}) = A((p_1+q_1) \\boldsymbol{i} + (p_2+q_2) \\boldsymbol{j})\n",
    "= (p_1+q_1) (A\\boldsymbol{i}) + (p_2+q_2) (A\\boldsymbol{j})\n",
    "$$\n",
    "\n",
    "[A homework exercise asks you to plot a demonstration of this]\n",
    "\n",
    "and similar for a scalar multiple.\n"
   ]
  },
  {
   "cell_type": "markdown",
   "metadata": {},
   "source": [
    "## Some examples\n",
    "\n",
    "Let's plot a few simple examples of transformations/matrices"
   ]
  },
  {
   "cell_type": "code",
   "execution_count": 66,
   "metadata": {},
   "outputs": [
    {
     "data": {
      "text/plain": [
       "(-0.1, 2.1, -0.05, 1.05)"
      ]
     },
     "execution_count": 66,
     "metadata": {},
     "output_type": "execute_result"
    },
    {
     "data": {
      "image/png": "[encoded data removed]",
      "text/plain": [
       "<Figure size 432x432 with 1 Axes>"
      ]
     },
     "metadata": {
      "needs_background": "light"
     },
     "output_type": "display_data"
    }
   ],
   "source": [
    "from matplotlib.patches import Polygon\n",
    "\n",
    "fig = plt.figure(figsize=(6, 6))\n",
    "\n",
    "ax1 = fig.add_subplot(111)\n",
    "\n",
    "ax1.set_xlabel(\"$x, x'$\", fontsize=14)\n",
    "ax1.set_ylabel(\"$y, y'$\", fontsize=14)\n",
    "ax1.set_title('Linear transformation (shear)', fontsize=14)\n",
    "ax1.grid(True)\n",
    "\n",
    "i = np.array([1,0])\n",
    "j = np.array([0,1])\n",
    "\n",
    "# plot the vectors~\n",
    "ax1.quiver(i[0], i[1], angles='xy', scale_units='xy', scale=1, color='b', zorder=10)\n",
    "ax1.quiver(j[0], j[1], angles='xy', scale_units='xy', scale=1, color='b', zorder=10)\n",
    "# add a unit square image\n",
    "ij = np.column_stack([np.zeros(2,),i,i+j,j]) # don't need to add zero at end as we will assume closed polygons\n",
    "ax1.add_patch(Polygon( ij.T , facecolor='lightblue', alpha=0.7))\n",
    "\n",
    "A = np.array([[1,1],[0,1]])\n",
    "i_ = A@i\n",
    "j_ = A@j\n",
    "\n",
    "# and the vectors\n",
    "ax1.quiver(i_[0], i_[1], angles='xy', scale_units='xy', scale=1, color='r', zorder=10)\n",
    "ax1.quiver(j_[0], j_[1], angles='xy', scale_units='xy', scale=1, color='r', zorder=10)\n",
    "# plot how the square transforms\n",
    "ij_ = np.column_stack([np.zeros(2,),i_,i_+j_,j_]) # don't need to add zero at end as we will assume closed polygons\n",
    "ax1.add_patch(Polygon( ij_.T , facecolor='mistyrose', alpha=0.7))\n",
    "\n",
    "\n",
    "ax1.axis('equal')"
   ]
  },
  {
   "cell_type": "markdown",
   "metadata": {},
   "source": [
    "Additionally in this figure we have plotted in light blue the unit square of area 1 which is spanned by the two original unit vectors. Under the coordinate transform, as well as the unit vectors transforming into the red vectors, the light blue square transforms into the light red parallelogram.\n",
    "\n",
    "The area of a parallelogram is `base` $\\times$ `height`, but for this example this is just $1\\times 1$, i.e. the area has not changed under the transformation.\n",
    "\n",
    "Note also that the determinant of the matrix is given by\n",
    "\n",
    "$$\n",
    "\\begin{vmatrix}\n",
    "1 & 1\\\\\n",
    "0 & 1\n",
    "\\end{vmatrix} = 1\n",
    "$$\n",
    "\n",
    "and hence we have verified for this particular case the statement we made about the determinant: \"Geometrically it gives the scaling of the volume (area in 2D) of a shape under the linear transformation represented by the matrix.\"\n",
    "\n",
    "This is an example of shear <https://en.wikipedia.org/wiki/Shear_mapping>.\n",
    "\n",
    "Let's try another common example:"
   ]
  },
  {
   "cell_type": "code",
   "execution_count": 67,
   "metadata": {},
   "outputs": [
    {
     "data": {
      "text/plain": [
       "(-0.23233058655027686,\n",
       " 1.0586824088833464,\n",
       " -0.057922796533956926,\n",
       " 1.2163787272130953)"
      ]
     },
     "execution_count": 67,
     "metadata": {},
     "output_type": "execute_result"
    },
    {
     "data": {
      "image/png": "[encoded data removed]",
      "text/plain": [
       "<Figure size 432x432 with 1 Axes>"
      ]
     },
     "metadata": {
      "needs_background": "light"
     },
     "output_type": "display_data"
    }
   ],
   "source": [
    "fig = plt.figure(figsize=(6, 6))\n",
    "\n",
    "ax1 = fig.add_subplot(111)\n",
    "\n",
    "ax1.set_xlabel(\"$x, x'$\", fontsize=14)\n",
    "ax1.set_ylabel(\"$y, y'$\", fontsize=14)\n",
    "ax1.set_title('Linear transformation (rotation)', fontsize=14)\n",
    "ax1.grid(True)\n",
    "\n",
    "i = np.array([1,0])\n",
    "j = np.array([0,1])\n",
    "\n",
    "# plot the vectors\n",
    "ax1.quiver(i[0], i[1], angles='xy', scale_units='xy', scale=1, color='b', zorder=10)\n",
    "ax1.quiver(j[0], j[1], angles='xy', scale_units='xy', scale=1, color='b', zorder=10)\n",
    "# add a unit square image\n",
    "ij = np.column_stack([np.zeros(2,),i,i+j,j]) # don't need to add zero at end as we will assume closed polygons\n",
    "ax1.add_patch(Polygon( ij.T , facecolor='lightblue', alpha=0.7))\n",
    "\n",
    "theta = 10 *np.pi/180 # convert 10 degrees into radians\n",
    "A = np.array([[np.cos(theta),-np.sin(theta)],[np.sin(theta),np.cos(theta)]])\n",
    "i_ = A@i\n",
    "j_ = A@j\n",
    "\n",
    "\n",
    "# and the vectors\n",
    "ax1.quiver(i_[0], i_[1], angles='xy', scale_units='xy', scale=1, color='r', zorder=10)\n",
    "ax1.quiver(j_[0], j_[1], angles='xy', scale_units='xy', scale=1, color='r', zorder=10)\n",
    "# plot how the square transforms\n",
    "ij_ = np.column_stack([np.zeros(2,),i_,i_+j_,j_]) # don't need to add zero at end as we will assume closed polygons\n",
    "ax1.add_patch(Polygon( ij_.T , facecolor='mistyrose', alpha=0.7))\n",
    "\n",
    "ax1.axis('equal')"
   ]
  },
  {
   "cell_type": "markdown",
   "metadata": {},
   "source": [
    "In this case the matrix\n",
    "\n",
    "$$A = \n",
    "\\begin{pmatrix}\n",
    "\\cos(\\theta) & -\\sin(\\theta)\\\\\n",
    "\\sin(\\theta) & \\cos(\\theta)\n",
    "\\end{pmatrix}\n",
    "$$\n",
    "\n",
    "corresponds to a rotation in the anti-clockwise direction by the angle $\\theta$.  This is called a *rotation matrix*.\n",
    "\n",
    "\n",
    "1. Based upon the matrix (rather than the above image which tells you what the answer should be) what is the area of the red area compared to the blue?\n",
    "\n",
    "\n",
    "2. Are the transformed basis vectors orthonormal (unit length (normalised) and orthogonal to each other)? \n",
    "\n",
    "\n",
    "3. Consider a point $\\boldsymbol{p}$ and corresponding vector from the origin  $\\overrightarrow{op}$. Show that  $|\\overrightarrow{op}|$ = $|\\overrightarrow{op'}|$ where the latter is the length of the vector from the origin to the transformed point."
   ]
  },
  {
   "cell_type": "markdown",
   "metadata": {},
   "source": [
    "<div class=\"optional\">\n",
    "\n",
    "## A general transformation and the determinant again [\\*]\n",
    "\n",
    "Let's revert back to a general matrix \n",
    "\n",
    "$$\\begin{pmatrix}\n",
    "a & b \\\\\n",
    "c & d\n",
    "\\end{pmatrix}$$ \n",
    "\n",
    "and plot how the point\n",
    "\n",
    "$$\\boldsymbol{p} = \n",
    "\\begin{pmatrix}\n",
    "p_1\\\\\n",
    "p_2\n",
    "\\end{pmatrix} = p_1 \\boldsymbol{i} + p_2 \\boldsymbol{j} \n",
    "$$\n",
    "\n",
    "transforms:\n",
    "    \n",
    "</div>"
   ]
  },
  {
   "cell_type": "code",
   "execution_count": 68,
   "metadata": {},
   "outputs": [
    {
     "data": {
      "text/plain": [
       "(-0.2000000000000000, 2.5000000000000000)"
      ]
     },
     "execution_count": 68,
     "metadata": {},
     "output_type": "execute_result"
    },
    {
     "data": {
      "image/png": "[encoded data removed]",
      "text/plain": [
       "<Figure size 576x576 with 1 Axes>"
      ]
     },
     "metadata": {
      "needs_background": "light"
     },
     "output_type": "display_data"
    }
   ],
   "source": [
    "fig = plt.figure(figsize=(8, 8))\n",
    "\n",
    "ax1 = fig.add_subplot(111)\n",
    "\n",
    "ax1.set_xlabel(\"$x, x'$\", fontsize=14)\n",
    "ax1.set_ylabel(\"$y, y'$\", fontsize=14)\n",
    "ax1.set_title('Linear transformation (general)', fontsize=14)\n",
    "ax1.grid(True)\n",
    "\n",
    "# plot some larger axes for this image\n",
    "ax1.quiver(2,0, angles='xy', scale_units='xy', scale=1, color='k', zorder=10)\n",
    "ax1.quiver(0,2, angles='xy', scale_units='xy', scale=1, color='k', zorder=10)\n",
    "\n",
    "# basis functions\n",
    "i = np.array([1,0])\n",
    "j = np.array([0,1])\n",
    "\n",
    "# transform them\n",
    "A = np.array([[0.9,0.2],[0.6,1.1]])\n",
    "i_ = A@i\n",
    "j_ = A@j\n",
    "\n",
    "# plot how the square transforms\n",
    "ij_ = np.column_stack([np.zeros(2,),i_,i_+j_,j_]) # don't need to add zero at end as we will assume closed polygons\n",
    "ax1.add_patch(Polygon( ij_.T , facecolor='mistyrose', alpha=0.7))\n",
    "\n",
    "# some borders\n",
    "ax1.plot([0,i_[0]], [0,i_[1]], color='r', zorder=10)\n",
    "ax1.plot([0,j_[0]], [0,j_[1]], color='r', zorder=10)\n",
    "ax1.plot([i_[0],i_[0]+j_[0]], [i_[1],i_[1]+j_[1]], color='r', zorder=10)\n",
    "ax1.plot([j_[0],i_[0]+j_[0]], [j_[1],i_[1]+j_[1]], color='r', zorder=10)\n",
    "\n",
    "# add a point\n",
    "p = i+j\n",
    "\n",
    "# transform it\n",
    "p_ = A@p\n",
    "\n",
    "# plot the transformed point\n",
    "ax1.plot(p_[0],p_[1],'ro')\n",
    "\n",
    "# add some text\n",
    "ax1.text(p_[0],p_[1]+0.1, \"$p'=(a+b,c+d)^T$\", fontsize=12)\n",
    "ax1.text(i_[0]-0.3,i_[1]+0.01, \"$(a,c)^T$\", fontsize=12)\n",
    "ax1.text(j_[0]+0.025,j_[1]-0.1, \"$(b,d)^T$\", fontsize=12)\n",
    "\n",
    "ax1.set_xlim(-0.2,2.5)\n",
    "ax1.set_ylim(-0.2,2.5)\n"
   ]
  },
  {
   "cell_type": "markdown",
   "metadata": {},
   "source": [
    "<div class=\"optional\">\n",
    "    \n",
    "In this case under multiplication by $A$ the basis vectors transform as: \n",
    "\n",
    "$$\\boldsymbol{i} = \n",
    "\\begin{pmatrix}\n",
    "    1\\\\\n",
    "    0\n",
    "\\end{pmatrix}\n",
    "\\longrightarrow\n",
    "\\begin{pmatrix}\n",
    "    a\\\\\n",
    "    c\n",
    "\\end{pmatrix}=\n",
    "\\begin{pmatrix}\n",
    "    0.9\\\\\n",
    "    0.6\n",
    "\\end{pmatrix},\n",
    "\\quad\n",
    "\\boldsymbol{j} = \n",
    "\\begin{pmatrix}\n",
    "    0\\\\\n",
    "    1\n",
    "\\end{pmatrix}\n",
    "\\longrightarrow\n",
    "\\begin{pmatrix}\n",
    "    b\\\\\n",
    "    d\n",
    "\\end{pmatrix}=\n",
    "\\begin{pmatrix}\n",
    "    0.2\\\\\n",
    "    1.1\n",
    "\\end{pmatrix}\n",
    "$$\n",
    "\n",
    "What's the area of the resulting parallelogram ... it's the determinant. \n",
    "\n",
    "Let's confirm this after we first update the plot a little:\n",
    "    \n",
    "</div>"
   ]
  },
  {
   "cell_type": "code",
   "execution_count": 69,
   "metadata": {},
   "outputs": [
    {
     "data": {
      "text/plain": [
       "[<matplotlib.lines.Line2D at 0x1a42e337240>]"
      ]
     },
     "execution_count": 69,
     "metadata": {},
     "output_type": "execute_result"
    },
    {
     "data": {
      "image/png": "[encoded data removed]",
      "text/plain": [
       "<Figure size 576x576 with 1 Axes>"
      ]
     },
     "metadata": {
      "needs_background": "light"
     },
     "output_type": "display_data"
    }
   ],
   "source": [
    "fig = plt.figure(figsize=(8, 8))\n",
    "\n",
    "ax1 = fig.add_subplot(111)\n",
    "\n",
    "ax1.set_xlabel(\"$x, x'$\", fontsize=14)\n",
    "ax1.set_ylabel(\"$y, y'$\", fontsize=14)\n",
    "ax1.set_title('Linear transformation (general)', fontsize=14)\n",
    "ax1.grid(True)\n",
    "\n",
    "# plot some larger axes for this image\n",
    "ax1.quiver(2,0, angles='xy', scale_units='xy', scale=1, color='k', zorder=10)\n",
    "ax1.quiver(0,2, angles='xy', scale_units='xy', scale=1, color='k', zorder=10)\n",
    "\n",
    "# basis functions\n",
    "i = np.array([1,0])\n",
    "j = np.array([0,1])\n",
    "\n",
    "# transform them\n",
    "A = np.array([[0.9,0.2],[0.6,1.1]])\n",
    "i_ = A@i\n",
    "j_ = A@j\n",
    "\n",
    "# plot how the square transforms\n",
    "ij_ = np.column_stack([np.zeros(2,),i_,i_+j_,j_]) # don't need to add zero at end as we will assume closed polygons\n",
    "ax1.add_patch(Polygon( ij_.T , facecolor='mistyrose', alpha=0.7))\n",
    "\n",
    "# some borders\n",
    "ax1.plot([0,i_[0]], [0,i_[1]], color='r', zorder=10)\n",
    "ax1.plot([0,j_[0]], [0,j_[1]], color='r', zorder=10)\n",
    "ax1.plot([i_[0],i_[0]+j_[0]], [i_[1],i_[1]+j_[1]], color='r', zorder=10)\n",
    "ax1.plot([j_[0],i_[0]+j_[0]], [j_[1],i_[1]+j_[1]], color='r', zorder=10)\n",
    "\n",
    "# add a point\n",
    "p = i+j\n",
    "\n",
    "# transform it\n",
    "p_ = A@p\n",
    "\n",
    "# plot the transformed point\n",
    "ax1.plot(p_[0],p_[1],'ro')\n",
    "\n",
    "# add some text\n",
    "ax1.text(p_[0],p_[1]+0.1, \"$p'=(a+b,c+d)^T$\", fontsize=12)\n",
    "ax1.text(i_[0]-0.3,i_[1]+0.01, \"$(a,c)^T$\", fontsize=12)\n",
    "ax1.text(j_[0]+0.025,j_[1]-0.1, \"$(b,d)^T$\", fontsize=12)\n",
    "\n",
    "ax1.set_xlim(-0.2,2.5)\n",
    "ax1.set_ylim(-0.2,2.5)\n",
    "\n",
    "# add some lines\n",
    "ax1.plot([0,p_[0]],[p_[1],p_[1]],'b',lw=1)\n",
    "ax1.plot([p_[0],p_[0]],[0,p_[1]],'b',lw=1)\n",
    "ax1.plot([i_[0],p_[0]],[i_[1],0],'b',lw=1)\n",
    "ax1.plot([j_[0],0],[j_[1],p_[1]],'b',lw=1)"
   ]
  },
  {
   "cell_type": "markdown",
   "metadata": {},
   "source": [
    "<div class=\"optional\">\n",
    "\n",
    "Using the following notation for the matrix entries\n",
    "\n",
    "$$A =\n",
    "\\begin{pmatrix}\n",
    "a & b\\\\\n",
    "c & d\n",
    "\\end{pmatrix}\n",
    "$$\n",
    "\n",
    "the area of red parallelogram in the image above can be computed as the area of the large blue square (which is $(a+b)\\times (c+d)$) minus the areas of the four outer triangles, each of which can be computed as half their base multiplied by their height (the latter of which is easy to read off for each triangle as the distance from one of the horizontal or vertical lines). In the formula below I've started at the \"Western\" triangle (which has area: $(c+d)b/2$) and proceeded clockwise.\n",
    "\n",
    "\\begin{align*}\n",
    "\\text{Volume} &\n",
    "= (a+b)(c+d) - \n",
    "\\frac{1}{2}\\left(\n",
    "(c+d)b + (a+b)c + (c+d)b + (a+b)c \n",
    "\\right)\\\\\n",
    "& = ac+ad+bc+bd- \n",
    "\\frac{1}{2}\\left(\n",
    "bc+bd+ac+bc+bc+bd+ac+bc\n",
    "\\right)\\\\\n",
    "& = ac+ad+bc+bd- \n",
    "\\frac{1}{2}\\left(\n",
    "4bc+2bd+2ac\n",
    "\\right)\\\\\n",
    "& = ac+ad+bc+bd- \n",
    "2bc-bd-ac\\\\\n",
    "&=ad-bc = |A|\n",
    "\\end{align*}\n",
    "\n",
    "This is not the only way to do this. Firstly we could have spotted that the area of the two top-left triangles is the same as the two bottom right by symmetry to simplify our calculation a bit. We could also have split each these up into one rectangle and two right-angled triangles.\n",
    "\n",
    "A homework exercise asks you to demonstrate the same thing using a [cross product](https://en.wikipedia.org/wiki/Cross_product).\n",
    "    \n",
    "</div>"
   ]
  },
  {
   "cell_type": "markdown",
   "metadata": {},
   "source": [
    "<div class=\"optional\">\n",
    "\n",
    "# An animation [*]\n",
    "\n",
    "With this knowledge we can create some interesting images/animations - a simple example now, a more exciting example displayed at the start is a homework exercise.\n",
    "\n",
    "For some pointers on generating animations see the discussions here:\n",
    "\n",
    "<https://jakevdp.github.io/blog/2012/08/18/matplotlib-animation-tutorial/>\n",
    "\n",
    "<https://matplotlib.org/api/_as_gen/matplotlib.animation.FuncAnimation.html>\n",
    "\n",
    "<https://matplotlib.org/3.1.1/gallery/animation/animated_histogram.html>\n",
    "\n",
    "<https://stackoverflow.com/questions/16037494/x-is-this-trailing-comma-the-comma-operator>\n",
    "\n",
    "</div>"
   ]
  },
  {
   "cell_type": "code",
   "execution_count": 70,
   "metadata": {
    "scrolled": false
   },
   "outputs": [
    {
     "data": {
      "text/html": [
       "<video width=\"576\" height=\"576\" controls autoplay loop>\n",
       "  <source type=\"video/mp4\" src=\"data:video/mp4;base64,AAAAHGZ0eXBNNFYgAAACAGlzb21pc28yYXZjMQAAAAhmcmVlAACM321kYXQAAAKuBgX//6rcRem9\n",
       "5tlIt5Ys2CDZI+7veDI2NCAtIGNvcmUgMTUyIHIyODUxIGJhMjQ4OTkgLSBILjI2NC9NUEVHLTQg\n",
       "QVZDIGNvZGVjIC0gQ29weWxlZnQgMjAwMy0yMDE3IC0gaHR0cDovL3d3dy52aWRlb2xhbi5vcmcv\n",
       "eDI2NC5odG1sIC0gb3B0aW9uczogY2FiYWM9MSByZWY9MyBkZWJsb2NrPTE6MDowIGFuYWx5c2U9\n",
       "MHgzOjB4MTEzIG1lPWhleCBzdWJtZT03IHBzeT0xIHBzeV9yZD0xLjAwOjAuMDAgbWl4ZWRfcmVm\n",
       "PTEgbWVfcmFuZ2U9MTYgY2hyb21hX21lPTEgdHJlbGxpcz0xIDh4OGRjdD0xIGNxbT0wIGRlYWR6\n",
       "b25lPTIxLDExIGZhc3RfcHNraXA9MSBjaHJvbWFfcXBfb2Zmc2V0PS0yIHRocmVhZHM9NiBsb29r\n",
       "YWhlYWRfdGhyZWFkcz0xIHNsaWNlZF90aHJlYWRzPTAgbnI9MCBkZWNpbWF0ZT0xIGludGVybGFj\n",
       "ZWQ9MCBibHVyYXlfY29tcGF0PTAgY29uc3RyYWluZWRfaW50cmE9MCBiZnJhbWVzPTMgYl9weXJh\n",
       "bWlkPTIgYl9hZGFwdD0xIGJfYmlhcz0wIGRpcmVjdD0xIHdlaWdodGI9MSBvcGVuX2dvcD0wIHdl\n",
       "aWdodHA9MiBrZXlpbnQ9MjUwIGtleWludF9taW49MTAgc2NlbmVjdXQ9NDAgaW50cmFfcmVmcmVz\n",
       "aD0wIHJjX2xvb2thaGVhZD00MCByYz1jcmYgbWJ0cmVlPTEgY3JmPTIzLjAgcWNvbXA9MC42MCBx\n",
       "cG1pbj0wIHFwbWF4PTY5IHFwc3RlcD00IGlwX3JhdGlvPTEuNDAgYXE9MToxLjAwAIAAABRxZYiE\n",
       "ABD//veBvzLLXyK6yXH5530srM885DxyXYmuuNAAAAMAAAMACA6DWJmvNLXEhUAAAQAAGmjK/EY/\n",
       "K4AE/DHgV9husEWg72Zb/4LuNd+TTSJQGt+MIub2Jai6wlsokco/lOenGwojt3sbh0cvza3ROESX\n",
       "Rk9m/1a0uf2aJwNOzWwIEWGkHzkYlH+Z/SH6MXMwWowKQ4imojXHTNnsWIoaTGkPt2vgi4gjJbbn\n",
       "EXkDNtMd1C0SdCRWAT54lg6bC6YreEDJ/QmGZSimeMwBjaBKOsCQj0YsMjl4cm8bDhjsBFMrFGU0\n",
       "0MaWg7D/aFGv4Aj8iugi4SC1J+Pl8QRobaVB/dPrkoOq5pAuPb5/G0edRo9TwwoI8DeWtl1sx/AK\n",
       "2xuEYQpVvlfjePGNpK4/Hs7yL6wizTj8xrOo1IHttka/JYFZjy6eNxvhUnXO/ptmBs2wfa2q/mc4\n",
       "JVwwUUnwFs4e8+vFGQKE2+JicREP1iM9IOgfqbOZmoKZ8ivf+se8HlhempGyXxgG0oRqTw/rmGAv\n",
       "gY56jclu6Rax8gl/K1UxXBzoZ5dpcvXeWhBFui6iqJQBY9AnJVFVwl2qv+YwkrYBw4lRhnozl/EU\n",
       "47OjO26yDgY1Wx3yD+qgoSQSGLPi/DgBTeZ6oOiRp+P454mYK85LHNDygPyolhX89Wdd0sNfPvTt\n",
       "0a4/60hHhFlDt9LTv0nr6t/rb626f7d1CkaCTV9vtwGdiCAPl2G4JeAwHBVipVFT6QWSKQ6XQwKS\n",
       "4jMODPyh1VWs3UZ68RDYKxq4cIW8m4jYfdt+U+CBbaa37CP8e2aIFMwt8bJ7kpdjjAo1t8sQj7sj\n",
       "HMLN4O98s7Aaox5uQI8q6AClAYEipSthDAtksNOZwSUMSK/ObAzxWIRUEseh9y9xsTnE/cy8qB5h\n",
       "+Yy/HfWui9V89J7833z6ZM9SkpuFD6pMeVPF+MnbKIUXglkmWAhkT1JAYMQ9CUYQWdTB3l3qMls1\n",
       "8fp+9sZ+UhvhWPuCcZ9MkLtfopnfGhn+csnUvQG4HQKTslVejvQnSIFkfGrXpMCnrZc1qUShi65d\n",
       "6PMytJ9UTpnaLUn36FPvHih8iyl/7hHRKmozr+MKxYjyioSrE2RbnahKFEX7EMkHgHSwVRjGRwa1\n",
       "Jwoeutf/IwtRPC2aAh8agxQpLNZ5VtHG0ST7FPdpOZX4IfUNUTffr6M/a87ZQ1NOp8VJViMYNkSn\n",
       "Bb2XAZONvKkAAU9UDEmX0RHfcQbKhOwhKedHhx1JZ/APC9s1sG1naaQ+sjiH8IaiU7no2nC/9MLH\n",
       "Dbw/euXVLdBv25LuglwFXUl/OCXZ/ICQ7bstbpYg9nk6XmOj03dLQ+1KLRT7wwNQsOhXhpISWybH\n",
       "Kaw+lkEgt2SY51TiyAmAtB0RBna6oIM6Y7rDa+CS2dlKVE4qlZkJU3o4VBMbsNzFmxMFKeOrRceh\n",
       "Rs0G/Ab88T67GEp7v6mODs82z9OJK6xwNlgFqj1FDC1z0b1cL3BATLqrCyrUFXcPQ4oVD23CsDIB\n",
       "/BQcnu1o2h7Gykfp3hX+bH1iSb4NI1bDUqbDg9I5Bbo5l/K+UxNPeqTziDWC7ShAmhArU6hp1su8\n",
       "TuhgSRBhTzhrMe4EBuciu6xPa/Mi7oB8cIuvjoOqx09IJ+bbffet37y2X5f4B6EKzNlADtH9pQy9\n",
       "SQBSgT3hLuQDGlpQD/V0fTx20k020CTjs0k/Gcr5JkKcv4sWYlkSzhNsq6kJkHI6oWKs/n7lbmA2\n",
       "IetGUouSrpnH42XzeRFfoD9PNnjFXNaJifAzkTdY3uV6rn5zjnzSU07q0USk7j5uwV6adqBjsGVn\n",
       "xs9U0CIHrdrVL0sP4g/657uoLgChU5wNYWgAMAFgQpiYV3ivaMa+Oy0zDENLmx/+ffFDtkEoCEs7\n",
       "hackY0pUJ8io176D0G6/vMB6z9K6wedkeOAhjEA5zNzlg4D/KxdWr6w5QFuT8URAdVAeFGNw8HtI\n",
       "FojevDLdJA782hLLUoii2jn8mZRUJ2vBXjk5IoOjuXtb6LH8Q0AvrNvfbDJCGTfa8bJIC+Y6/TXg\n",
       "siCgbvmxWGi3NdIvhkk5m8X7JCcfJQqqblU65l75cIXtQAAAF9BAAcENAAOqogIsXB4wLKvrroUr\n",
       "EYcoF4oCqu2sRQdR8DL/dne2lul9tkf9oiYbMNduQobaERmZk4uq94fnmOLLqt6dZ9/eubPRFgn5\n",
       "xURGsHuyAcQbDb0iikc3LBejEdJ05k3EJEuScYcg4yjT9Jj4gGorBWM3jf9pmdx5GT/u+MKRAMiS\n",
       "jJM9Tblw9uo5IAlBz/sA3F4OoYAGc0B/wO0bixj6CaNP7TTTACKG7cx0FMhhvG2maAjvJOYollcr\n",
       "F/jdZTTfRZ5a7xar3ZofNRNkF3JHxRfiaxJXXirHf4+W+XSBQH6z55+vcqbYOL7tn1AN3YusxtQz\n",
       "PisrhK1Rz7+Cbx7fEmo/ybTX+Z/SD/53CcAO/MXRR1Wix8IoI9I5I3FdcJoUQcsaXMVU5bQJi+e+\n",
       "NjKPcaDIpjNC6gKYeVFd4J5m6Bx2gNVZx2HdrDjbeMKZdYZf6LelKsE9cUP0iRaNCa3v0Dolq+Fo\n",
       "tGeGQlUr1akaj2bGyrdd7K50d2GV2gkHzFbw9wxIq1Jy1IPmuBy830kqz0B4oaLxIb7jrdPdMui/\n",
       "fH8cPxZIQpdMVvyBV/bfs0U/byTE6l79QPO9yZP1Jl4AQ4QqQKBdqFXqWF4Gfy1RCbY/TnFBE0ni\n",
       "L4Sg9kSqsFCS+HG7T1DmHtrjS87yOchR1ZQcNTPQ3umNMEsFpJN9Ht8jGjEpHsvO/E4RmFqnjg8K\n",
       "OKic4M+jwJ8/k2djucbM/OS5E3UmgFySZzugSFKZo8nEGvg5c9iv/6+j9KjMEVQtn+bfiFVIcBLF\n",
       "6ChLmWhcsAr4XBr93s3tRWsnq7bbyoo5ns9jfl39Q8GWQ3AZzZSLxaqBzBs38uOqkO/rsWOTO5jO\n",
       "5Pyxv2ywALR3dHcjiOeoYAB/CfgsVloK0PquypxTIzjwwC1Hsl8bgTRozZW1f0jwjNB2MxCZdyA2\n",
       "87JJqxLx1Mx7WMCeWnH+qrcs4uniZafelAWzPF/D7NjWDLhniyMbrxCRmlurhWzu6ZL7cVMgzEml\n",
       "Qgxr8cQIbNc27QFkAJRW/+2IeP3enYYCmfGI9XMtVbFipeTxngKYvY2xssuzS9THyZcNKMicmlSf\n",
       "WO7CB2ilC/3gv5LQJaWsX4EfSIOWvxeypmsX8qrYgxp1aD8TxwfrpCX2nEOcJwdycJCue6fGzRpY\n",
       "aeWU+/Y3UI0izjwveLlPwAw5V0q8L+KGV1D+pP/8Mn5itgePWPZHSaTM1Uu6OizW934pyV71O+jc\n",
       "ptjSsFfvXwfveaHcAN96SfIKsMe8fNw7XsuIloZj/1vYIxaFox6XKXnLnc5poL32SO2IJD3x4NEJ\n",
       "sBjzIxbGzMuUQ36V0/ZE2oteaWl93JhicmFBz+W+E0JO+x/xrHJdDyI6zX8PeEtZSHnrS8qqwJdo\n",
       "siMejehVgHbI/CEVIqwEJ8dh0nGv18HTbsW+3Iz1fF++3hSfHJpLineqmo5QAA94hSn8LA6Catdp\n",
       "fJkeBRAHgmV3xiP9OZwhZJN1W1TiJUhMD/fNFupFZfTSA3vUE6DaDm6UfaVUrNq66mCr6zPLyDsF\n",
       "fwQ35khpGbkcUeNmUXRhG2YswhMMbsMBcyomRipoeU6C6WPkPzuq/yB3hze4fimZ3xVBTWIcwH+B\n",
       "G+X5HjqlTMfIPBY9P5cacNGuXnwh8SXBslv8nMkBUfSRf6oJebSXFKGTDyLurbE5Rmy4t3/wwj3L\n",
       "at4dIEfEjC7e7nzu5pquQCPOPPIWbfb6Dx/KnKAWG8iSXd6KjHpAZayXIu9/FNX3d4PYVl7OUzCE\n",
       "1rlDWoWt8PPidGZ9pzRTrL2Ax9bPTsUVLthjz6GW0Vk+eP+SoPjwn6fzCAXKTfm60NIDVFz9z1P2\n",
       "nPuoelv02ut87Nqb41HZ6Df1K33B+8b9L72zLa5aY1+6aGjdbYe27DQo747s0YLcRhmuU1yhH46E\n",
       "7yhhup+1n0bYpSB/Kp0dJaRSNKb+C7c0k4wq+PszA+E/k34y+2hev8mslzfeaY3XQGrGSPbghL+j\n",
       "8dVYat7OWZ4jNd6vR3mglfLHbFn67A2tKtVdg1mUHLboe877nPXTBem28dz8rQvZETRRVyz+G179\n",
       "8DUgohlk5NAZWJLzsGtKSI1jiN9GDL7TRnLvFieAxOBuadVSr0ZfU5tzkBiZpkHrbCwFa/Tp3pR7\n",
       "z5dTFhc6dwU/N0BCdmGNn4BE6xDLVYxQPY36QsnCbjpV/l79GGg4M6WDuV5PiGzj52aWvMX+rKgf\n",
       "b5jt/3chwDHBKwBOzSgHHENGNmz8hmgtkBPTAzV0cL/DuhS9ChligyHJTJjWMyZzEj8TuaVYQkiN\n",
       "eAgcShghcfU1FucpDhFa5Wko+j+GF5DMY7+0AkN1x5Xvi6hb7uBarVL5lXkYHU+HK4kuLup62BtP\n",
       "KDawAuGtYbNXIe+MJr5zJVtbPuALWN6zspJWA0ZtvfhekLDMxT1eTa4s9SJPlOjegwfYg4a9Dgjk\n",
       "uxbcBgF2Q9tDU4jJFeY7HVSZZtvS9DjaNtHS+KrA2Cjtpf3UrPt21mvZeFsOY3XbYKSf+oASAJLO\n",
       "+Vdj7AEPDnA4UkIfIe9U5JWi8qcgciKu8TV+Ngd4dArpKNnD+WAg37juUn/dyFVDGu0OBIrS6NJ2\n",
       "vWslq3mXJNetkXRoFCCIeT2ARBhcPQ5zimtyCB8Anx8sr2lAbnscHS/IxW7zKlpiY8rjRZnffMik\n",
       "KxGoN2qAP18aXhXwpSUq3sArKipo048CZuWTPr9g2xAAA5Tj28E11+ia1e0FNSnW9kFRL0s4pIAJ\n",
       "KS+YAc84HYFClaKS4q3FZ1RI7jzhHqa1a73xmIlNxpufpDEP5IpfgCQHgmcNJpQjOtF8OByGaSb4\n",
       "706OSHwPX+2AMX+/nC4+nENV6ZCR+LyoJf6zhQ5eczs77QuJVZKsdnO0sMUGF+Y25va8XYvIHRWt\n",
       "JBR50dEBMXeX0Q3P2kXK1WGDWw9JxNMizdL7cNmiud3kFrdGXAiArsrYXXdmwqycX9nQlJ/dtqyl\n",
       "0C/Wna6GGAqeHJXYm/ggCMZRwaZUo4I+mRWyvPHqqYs4ldMejsFWU24vbJKYABJJF7SBZMOwDuv+\n",
       "ZeKYpfAHpPQDI5DXo2ZwTYVRkWmoj53MK964YTn7Y/+TiKuC6UtfGma/Iz7acCB+92JOdJB6aUrH\n",
       "uYX4Xmw1odVlS5pCtv1Z0w+j6C3MuSrVfHxWPZLJRosiBoYLQpm7cUGikvxaxvcw7+noI1siBYZ3\n",
       "7SYv+EbnD0QT0LCJdN2EMpE9MkgaKe1qZqcSQ1UjhwtF7aJgSV919bEPHCJmwupQmt0rRwOxCg9E\n",
       "PsmtCShC6vz/1719Do7OU4oVgjafXkg0DxGXQxC7xZ7Nw0rIZYqu6kJNNGtxPBYSga97HN0/bEHn\n",
       "IajogWjP3BdtreJc2U5bQ3P8FX8Xyo80vZDsHjoPuNGMoA9qfjuYCKM4hDYh3NNFlQ0zLC58ZCNa\n",
       "/nPG7ipnEIhVNRrhN888u0M4cKz4PKextU/QHiAkhY9sk1caLXIELcCPAaFZdgkMWMwFIQJe0Ep5\n",
       "YB2OXfSGt+xWo19njlWoUu3fx82hzqqrInjJC5ZbqggZnmTVDqlde9JGLcrVSbk+CYc+0G1jQnIH\n",
       "nVzQvtFxyAXFbl3S29IrpSJiaO6lg2PGdr2+Rlep67t4V23E81vTNHSt4xjy2dC6q0ne+IFfH23s\n",
       "ATXpJl2UvEqFSxqDHhNzmZ+pKoVx210B+47E1bBnw0n/bkHGw6yxsrVwhTq+VFP6FIRHSuclkP2x\n",
       "yB7SsYAWlZfvONvi3DxzlK2pNFXF7Ejxi6tCp0Npd0gE6sV5Ih7d4CIwgUaZ8PgTZ9oBDf1n2EVw\n",
       "kPXnHmEdPlvTI9u+n+LSKltlMma3Z1NSgr1dQDOmBF3IWsXGEqYwHLtQYlT+CH53VCI9KNzDC+Xx\n",
       "ZoztMPIDxsa3k+6+RV1+b65+650Qw4ZVOStQkSUHJC/PK0gFViiYkTPHh4dg51SG2hhDExSU+f7H\n",
       "xa7gkH0Tu2kHJ+Hl9bCeo1Pb8qaiVoWFTCm10gSmwuF9Y4iXIuzy5wEEzeoFY5Oo7PpuVkLKtTuE\n",
       "PNlRgI6C2uOW2sox8YJbodLqK/vNZFU2IX9Tkd3o03bG76eieGZdChWHcWMEquO5I/Fayk1sgRM+\n",
       "sranXAzvqqqzhJ2kpbXScH7tGz+bqkq5iF7d2eYV/JYl8bmgUPs0QFjrZGq7U7gW7k5/uBJ2GNlL\n",
       "y/v3tQTnPOV7cExKL9MVW/maPAnzZFa2dbPYgb5RPl+exQWbFFjrwZbaUZ4eUoUx1oexmGeqi9Hy\n",
       "B8lVJJysouDuQTJsQLV/BtNaXEPpdzHb07dnV5xfF0bFsrAqf5N0zn3PGXxFtHK32JN/w59INrYY\n",
       "oH0yBvFSKcXTn4WXLDwHSOQzhUm+VfWtYKOg7X5cU6y3+eKk2Aj5vQEOwwt5jU1fVUcl8kNR1NHG\n",
       "HKUEb5SAAfnEKqRNgQU5y2/p/9whipIynOaKHI+xctARabuqJAYMVU2Sg7QZrcMXOFpE5iweGVPr\n",
       "F1RvYYSamMjcBNn44uNjs5ZVbBfs/u5YpcAv0QR8FDIbwu6jaIhzxMmQfa9dVQxogkethQB5vp1t\n",
       "NonaKvHcaDqCOWWkwfZpOG3Y+ZVKa2t/F3r+gBi3vILXm8IyY3eJtLC1ApKXwFeaNwDh+hW4e2bP\n",
       "9gIan9oSImoHmSTWhkiSmajbiZPiMPPQeN+UdQ19QpNTUwJthVKoYHKQR0kzds0ge3Ua6W4pH/5T\n",
       "8Bumn+vLs15dx6yBCeFB8kw4ff0ODgurMOFIc2DcIhBqr4ZGUYu2/QMBYEwopvDIUrQNFsDgwMcu\n",
       "cgmpYSRiqOXPOkmOA9Q1im7mTw50GSfSnAX14PclGCLIh9yqwAAAAwAGdQAABs1BmiJsQ//+qZYA\n",
       "AAMABgT8bdqmecADtI2rTKgdAaAQvPNVhpFzONEcKOZU3UbniftHhccWOf+DyC0FaMvsBZRM2kny\n",
       "3DEroaQjP7rlJYmJO+5AaTrbzOkfJBqYt7xDfq/TakoDYDnrw7KVnL/aLqtJu9wjDsmJ0GXrriWG\n",
       "H6frf+RsZFZt50l4zX5lQWegqauxLYVX38rT7YBzZzUytxvGU0gzI5PD4KT6YfL/VHf1NX6ZiBSh\n",
       "94kp/ehTMZlQWd5c2L0rpDCHE5c0Ml4VbfOpI+Bb2iPt7gvKvxnzXJjgP+TOcXd9mISqKi3G5cUo\n",
       "S/lTCj0vlys/pNaduCtL94Z+3CPjgXndkpp0d89TtPNq8i6onS+C/3zNOz8deV7zXVNMoTowy3uM\n",
       "LQze+UfDFlTbZddmdzXfQHTPCgtJP73bUj0OkczFPJZfBWuaBjn2UJCfSEn52VyE2XwQuhW0O52E\n",
       "JAzq7X4FRMUEwL1bR7rRuXvGKzBKzCfkTZFBB+5yOmYUFX9/gAojCeLCZAyiDYECcqbnhc+iAyJA\n",
       "M18Z56jriptTdjkQKUz4+sSrYxiQUDfRWJZkTuDw3e5pxeDtDy+lGO6MJm2H9gotzW4K/qPqewSD\n",
       "nXWg+CcqcwbBMYTn1+6F1ofOoBPHaj+1mjl+JwlwxV+ZQkgS3ym+5OXwgsfP1aXKtTIErcFanDfQ\n",
       "tn3MecQu84CZBiauGs03KHUo4LD3X9qo220YQxE3tSHhhpG1QAMzQCnG8sOSh2HbdQlk/oauwHe2\n",
       "Z9eyJx63KtnodckTxgqCkXFwMBMQctgeK7KFY934/LBvAx6DEcBSCjifEJr0xC89IzJc9DeyPChj\n",
       "xrxxuFY2SFnBP3C+ijjqCoHgZYPhlE0PiGeeXoZCvxcPLvXDSocVRC0zE6s5TAOHQv+bWw5aNFHp\n",
       "H1PclaPPloz7YLtjBRzf0vUYZcsAuuH1+Bt/Ez3dxhB8RPjfMOn+rcqydE0dcYAwc5R57mW+BWIV\n",
       "6M9IpiLghnqm4O5Rwj0Vu0mak7vhGSHQixY4Xt2HSC6G+SSsI4cRwdrYcGgXsjVza9vo+8k3o5r9\n",
       "rNq71ChY4yS1MDqS2P2PU0TpW1NWnwn2yUqlcWGn04Sqv3fEWFbnJhixu5N/XeM1EzCjPn2hu7l9\n",
       "I8dQ85qZ+NAZLOPFmAV98PF8z4buBujXqNQPU1ImnhTAO1T52QyxWMBcGEnNOPQxW1Pdsxs/H+Y/\n",
       "JQQaHVN0voL9gAFS1zgSqeACDKJAmn9U2gJyUDByxsGLb06Lf9oiNLV4XA+y4lhCgfaqseAZE3N8\n",
       "vq3mZSzBxR86cb0lsSv+aiCEsQS/p13w94V0wJXyIyL4FBg5z89d4ULUuzAajSFDeQVHr5RV+Z6S\n",
       "OUl6wA4XziauWHYcV+4dQ6IIvHTDuk3sIs3AMMf9hEbCd5yOxPu8LJrHEr1cDpMV1NJgX8Rp+jNu\n",
       "eiMet6S4sH8rNnGElELJG1eB8uVnUlNxKtg7J67Eeva0YiD6Mtpy0dJiIc2uA3zgmFU0VADMysuc\n",
       "66P0zgjw4BWXE+xnPXePeXwoK0BGliT/dmd2YYNZb8Q5xn318C72QB2K7N2aoQMFslFWaputNidh\n",
       "q/yg2PFrwF5HCo30sluwJPJd0+Ju4Q6sa3ybdyRzqoqqvkqB4vuGFADAbuPoCCCQK60Bn+hRrBKd\n",
       "dbPPQwmlxdVsPR27paDJ8RqKVwFbviZzDIDkaffffJH5MADYGzfHVB4hwkTF9tmEkc9kSY5nmKpg\n",
       "xRY88PluCOiqfJyKhbTIymdnhIkLi4Gk7tv7l9yp3IZQg3iNqcfxkufC/xU5YpUo8b/0j7G6QvrO\n",
       "RpDhNx5l6sQDY/miNcb14uVF+hXl3f1xKtA+D/u7iyYcO5hPB2tZWNEsHnUt9xEf0TwJnTSqhqvT\n",
       "cSb0kumbUfsJVuGb64v+eYfdNAVOw/9jwkleL2w2c4eASQS6C1eZ80BQDs4m3ZVP869WArQFZduO\n",
       "UWFaqFnJozAuIpwTJYQi7puYeyjE8GxqkXuWi+zPeIhc1bmYfN8FOZ5zKCVWGrHjqj++LV9RPEcg\n",
       "wK7xg5fFeIbjG8w4sKylLYqTM0zXYU5hJ+x6MuPLDI4FkejNcHTlv/8EMSIz1aeiZu5dCPoneG4S\n",
       "X+intU+HLAqVQEak0ssy7Q40nRtr04fIcW1LJoUoMroixiRU/8YaVRyFJie+CqZjWB5Q2SGNvLNB\n",
       "ecpUn7Fzkr7CT2pwchapUqIkRpt8IQKjg4EyhVrL5F39KPwvvJUbii8qokAa5qoZTro50hMdcAhS\n",
       "A6nPA2r1r0YTOyu4av9T+Y/mfQHpAAAF6AGeQXkN/wAAAwAH77hfy6TTDv2P5GVgADluhk/WlDaN\n",
       "8Tb5CRiHlzGo9i9EYXi3cP3NWzazX70H8gN3+rBfJxA06DAeab/8OzI+WSeOWVykK7tk93AJirNu\n",
       "DFi+qFS2LWtOfI6ZSNj4bRbtIE20ZcHpP0lS9Aj4mxmXbc5hvJpU/EYtu2xSPREdiQa+c01+u+YT\n",
       "5vvdz1iwJWqR7elrp6o7oqh4at1Qw/JXyrllmtahuDosNzsu0Pi0ucW3Cdq1Z7JsLkWjrC0FymFd\n",
       "nSD60sx+BZJAcL0aS+HNeMTi9uBZjoI7YkcTMG/wE9r2I0WUZl/tGzmpU173axz11S4C96AEslV1\n",
       "CZL9q1CBhDKji4O2xgp6clse/lYSPmzOMTb7lSfJkXv4zlpbZCj6hEk8YOGiE4fDn0ZTBkrqwxrE\n",
       "EqOZf5vxBIFfn9ZxPOjt7jrbd5egsELr/xHtouqBmJUp2dP+bZa6dvw6g1u+5OOZouNFQM858Qdr\n",
       "U+PsMBcMa7eNZwsWBoEQc1Rd+/8SuXq49RwsttJnANX6oFzyrPd65OVq5NodYDOz2We68qNBALdN\n",
       "zfj7wbB0ndPcl7PBoBShS8mFdco6TkRCHM4DnQ8OD2kNTzbEMj8U9upqDwN2QaVsD8tyMZGt2ZAF\n",
       "ZP3tNphLRCHZzRg2NBi+JLiLFRpUGJg5m9vaQSD6B59yqWRHKY/RSzv7Zu5ZKPsZV0OaTMlh5M+T\n",
       "m2tkhvZcClqB5vCD5zqoxr8rps2tbq5Y7ja9EL/tVWJZ5ZXtdgeUz/wYHQqUw4jwUvfrCpgp61GA\n",
       "S9lSzofqIVR7YTFJ1DnR37VXcKwzAwyoMXwAwXiZNiQwr3859P/QtDdCkGxPvMCj/hC/o/K73SiN\n",
       "B2yszXcEeDjsTcHxS0vgTt0DLKoXW6IiOKli4OmQmsZy3/rpZ9bizn2Iw6BWQj/3g+q4oxw5v9SQ\n",
       "NFrRqhjdk6Xhm9926X4OEs21POB0KpdLz9k2SEpKYf2LuA/6iv4Q9XLoD2qTXgfuiFKXyNCa8MJ6\n",
       "D4Ap9M3hWD/GnGbMQ59pHkgAhf7UbAeUiobKqadz1288qprM1CpJpOh44kFAsj8vEeIIHA5y+tAG\n",
       "FIbo7YCybmxawyxxpAoZwD6xUqHpKbHGSPeYFHW1d2b0HiO0zKU6D9Pi1y3q+59YdLHdWm79yI8p\n",
       "6RTYgVJ8RmM3W27+hobgu341vgKMSvesRUD2fMigEQmUrpatnBpY7bxNcPj8L+2TRub1PhymBEJx\n",
       "SYpqorLmjXuR38RsLvIR51gqZ29qc+LkoKkPzS0ErjhQYx04qSg6Crua6S6qpqTgDWfaC/MyS9PZ\n",
       "jP4yyD9k2NDg8T0t9gBDmnbVEX5sD0/e8N73XZMw8bYDH109Swp6Dq3cZYRIBAaigKpgPFybC1sZ\n",
       "iB44bv3gDOOuL35T+LeBvFgxRQQE1vJwYgHY5fhcGHfJVnNlFB5s2agF0PdnjuDRzs5d2D1yuYD0\n",
       "aAhWq1LTW8f3Jr6TTiay3qWzozjVZZSgynR2KaAaoDX6ibqr54VToryvQ+xlS2uVmtGLNZ37tMPX\n",
       "kBPT+rfSUcco9DuESsY0MWhI3pF+j6nACzGCuMV4Eye9ijoGpYKrb5J8b4nh9MEnRFLctk7yrVrt\n",
       "bAxU9bnlGn7MvYEu02I5Hh2XhhNjJ2oGebL9wfLIkDKQZON5SEIVZcXn6G+tFGkbfOcig9wVLTap\n",
       "AkbdbOIofX+e2M6zB78kKpxQ2smiU4HUHEMBXlkG0BhRAlNUVd0hAWdMi+4DmkSiqGc3JpqVB4m3\n",
       "he2xKS+FCsP5vl+ezC3PneXOICoscbaBeJLagdBLaM0ec2cVEZqMtuOVlDZhB0RWO3FCGjWwm/iQ\n",
       "rn6N+q/5/PSneSruI04frJ6Hh65oVF8cn1tCplTTH8qecUHSkBLkt8+UttB8zak2nEFtpbAHIuuZ\n",
       "ZVxpATce31PXVLm7xa3uMOhfrJBOQrmtfaThmM49Y5vSkO0jY+C3gXKrmE8aloYONfHhSZgB3QAA\n",
       "BiZBmkM8IZMphD///qmWAAADAAYFyPGO/eADaUK2vBsx76m2+mqx5nzs/yMwhpSlGNySLlYc4Dp4\n",
       "ed3umVoVeyn/5x2Pleg1Q4F/KRM7IEr7I7aqMs8o8fIvBjNp1CZjjhGREXhCuW3IKx4NDhbZewC7\n",
       "hmv9rtJYU/DHQiLsbUQ+pHKSWLKrh3Z+F8+MaaW/bEatY/85IlBhtObT3gx9xyUMoF767Ur8RRai\n",
       "wl8dIUD9Q4EXXGIMuonuttGDdiev5hlQfWB3onbx7Xuppo9ZguE8heMwoRd0cMLdTor8N2xzeYiw\n",
       "+XuyRmfKzM4vxpPAjnNY2S8dLtUfNi05wcTEXR1ojvxVW+oAn2ugucKMageQoqJDLOR6QibFPBTm\n",
       "6P+gzuDiJfsmWA34sPRsfxgUEJp4cpSzYDpQATHfjBG9LDZRfbNp5+sMIaSA3BIfw28dAjoPIT0R\n",
       "lXm5Vp0lku0yQonINi55RSPQML6cK9FeuL2slCRR5G/B7VApfDisyX2hMEBpk+juDX+jA7XvfhgO\n",
       "jpqzc+FxuuqyAw/6AJgnmBEtBHCySclEZ4VhSrGMwReRiqIrbQ3EZHsStpgC5o/DYzts1xGqMrmL\n",
       "L/mN2bIHBh1/Q5+fqa2nLkKBH7qkMkrvLkWDd7UQqGgYMakyikaJwx9zs155+upv6yPM5UXM9zDg\n",
       "EUlLSCMSYM5yjovP5dGxlTa8jPaV3yH88cIpSt9RVS2sNtxeqbjR8FrMSgXYyAEMqe8Iht5YCvPV\n",
       "w2AzlAuQ+USNBhfzfcpZ6+g45TW5pVZHONgQoLZhy5LIH+uZ8D4ojVQ1Fb0I9eG9mhmLmWneUqPo\n",
       "W6TrpqiPGsOLTG3soRZ9JziiaNjzEQmxjmCt11+gdFxO48mQahBsvIvlsGJI77nyq+yWhiRmxHmd\n",
       "l5w1/4yCs9JMxsEZgOnEyMjJmhtqUfykE42aToh1Uqrg7rxQ4yySTGspjyQPgsK4fZmDnaDfvBut\n",
       "uU23IiHM6EAqOElJF6xc1a8wqzY3intuRao4aGkU52DNzQkRAy/Mm1B+9dKPHVZII4RFbr44hJHJ\n",
       "NdFbsiApLWuuNguOie2aSKRzmZasGufUJYUhFJrigwnvfKpkcse8vywt/FAHX2AG21nckMASengY\n",
       "SXE2fUSRfuJJBVB2TmdJbmeBmZale0qxSnMdl6cQAdkKzCnCN7MG869AKRuT91a5HoH18Ppi8cJC\n",
       "nNifhHSgK6V+drPJZQDZ5YosLpPYVsNZFmUaOa2v5Q3pjzmmV6rzvnwf8EHHs30oK8f1vdts9ugX\n",
       "Wp4O6Kkg8PbSec6GmdD4Cwvfr3dQ1J3EUmUWqqs4SsBqVkJQ3ztCBJqkCgmzqF4TAAAHKFGS14MH\n",
       "MgGPsLPLta+8dysqE3T7U9ZHCoFlCWWf0LqUqMxZip1ST5vAqUszALk9luYxmQDQbPN+iTrH0B54\n",
       "7Z+H+KBw/sopXU6aXY4222nVHPNK0833X3r8k1OL+Lg3R6q2ECJHT2vfWsF2Pew0xaOJKaXABTqR\n",
       "lU2pSoVtBQ1d67Lqpeo9kX4BPxgV9AET4yW8o+fMog6JCRs9SnbNlDtFxgwD2b3MaXyvovHd24FI\n",
       "NZbPfNqwYB587swIjeH/InUw7WqiNHFk3ItmeEwZVMncSXFCo4sKXyul/+tBOIyP82yON2f6wQhh\n",
       "PXE2loc8DFdCtdxjLWV3VqPBQ600TSLHjShJx6KhYwFVlmkHs8uRwv/kq2pWVUB4E/Pr5YgFYPNI\n",
       "/W//qKIWi+zEH/SDL/jFH8+lbIu4ZtjoxYvo9IYN9LM1OSCO6Sp4IsrqM5kMAb2PdY0Or5tTqQ5g\n",
       "MXGPxJmr28tjD8wjeDT3Db9Q2I8LT1y6ibJ3RDBC8tT60Nqfo7/HJ4uQ8I8PxDFwd+6xTi6rwthv\n",
       "awAgP5aECHoG23ILMcLWVLNSA/Qxd4JWLm29XwGO46FrgJ6FUjtIfI2VUZ0w4ue5/suTece3SkDY\n",
       "eLxzBCwsMqsOmMWH+YOioZg7ttWr+GGnr+JBOrp0ja94Ep44RX6RZSlLI99LlyjHdYI6JLXPpShU\n",
       "WZ8RU8uhllWdUiJP5d7r7uVtCkujd/b8qfjnC/87Ynk+tKRBwAAABelBmmRJ4Q8mUwIf//6plgAA\n",
       "AwAGBZRb8OwAf0CWcQmSdKsTD/Oyv7LBGkZpo3chlm3JIqXkilHF5OpBF7bWGdRkRqwWk/WGjdjZ\n",
       "zBDmcEpX7B6XrtyXGZmhA4MtS2DtYbaDNSSgJ2dMv0Jjou+vGDSyNxcWTKizw6ifUjxKJrlpnv3q\n",
       "xeRBvfQ7Licn3oy/TJsC1SnWKP2ucTjE5SIN7IdUgSDGbzBjAmz/a0do9bwRLoSnRQDmBh9JZkvA\n",
       "CsyM+AFg9ln1G5hZJHxb7/LhrJ1BcHxJMnjr6g4WG5x5OblyuiB2jgQqi5aic6kizfYcvR5neAc5\n",
       "E9RgFFCawFUCQKOlxC65+pCwmP+zyKQjIiv3QuM3+SQF6P9IIi0LNKajvjOc1YYpxXDDo6JMawAA\n",
       "UNf0qjB1UMqT89Hlv9zfeHHEVAAKEkZ3gdqi5tpZtpDGHI7gpwMwZIijLOEJtjB/a7uMa2BIxNo6\n",
       "uHSaRKNa81xmkW2+jZXXTMv+vUiCsyU9BXFd2jAf4YVtmgQ8XyiZnxWVoYdc+tJBXxpchkhW+D1I\n",
       "akjOuP9sinOGByquW/m51Y//J0xKeW/wVWfbxtS+NVrQz+y2G0iA2MQ5oaD4d/8A8UF1/LAhHbSv\n",
       "Dt0s7CBd+xHb8Ph8BJHraywBWacw9TjkPJ029JnI7ehN1WKG3CUlCPAsjA3NP366KE/mzl9VQlC/\n",
       "tWZzE+iz71VR3xS0yt8zYcjcOZ4TVM2m0VhtZYTphSSSjrf2xfRfE45LUvVTn+yYI6BGpHqlikVX\n",
       "dEb3J6x7SFMeotHl4vVPXoE94MxkgfG4hdSNOmFBbcg0ldBryyVxLZPG7hTg5V10ExEefXH124L4\n",
       "GwLVifnRRVI2aTya86WyPyPQ59dHeq1xoyd1QwuEsVLGONosA51GyLFff4sbG7uPfjx5bjGpiBqK\n",
       "fQtNp/7aVTkoxdVesf9F6Nz4VSYUkIje67UrqlMspPHA9fZKgZG2yWiGhF3niUhc4I1DzCS3/jQV\n",
       "ZliUHnmCMDd2gFwbCUzD4CmlMnKeZxZXn5EyoyDWQjujTIO/VujCELETHo15M/mCcQhaptHDAoT5\n",
       "eUWOhNLo4uJft60Q3JXy1RJfnnqIimDTKDqERzz1O8a5HX62fws1Jsims4VkoxCMe/eE+y4xsIJV\n",
       "rXbKzvie5wVgR/1t3uHbMf/yU1Gx5nbXwDADjFYeGGOYq5qEdx8Ek/6NwaJFcqCfJHLO3zPRrwtu\n",
       "8gPSMbZ9xKJdz7n0vtdhKmDRpShyIbrSoJTcEKB/hEp3QSGqRXyuct5qwsxRqYxMoKDP8ewXEyKr\n",
       "iq4JgzZoRoJTrdGiXjFXrb3I2zsnbIl92YV4rBYobZQNiJsAEdKrSgQv7qw4AcgGF7kO4DPlSW6J\n",
       "aT03OApwYALPG90L0np08ypacrabD/jmJM2rFkYhYGZMCbX89L5VRn9hoavJo81lF4O7uKgC2Z81\n",
       "999lpOiYj7J9iqd+HBcal4JvAM19jAdzZNzgMqts6p8UIhh4JYM7VndSMTsfqcDmaUvc6P6oCJf4\n",
       "WhF5N21WtXcUuesF3HPyDD7d5YZrctOr77v0BFISQr4XNrH4+fqts6MAlrRl0y9kKr6lFZUe9kvg\n",
       "GG/0wywV4Mqa8EPNnYk4QS6TqARwEcZrgve6dsTqcuZnavrhbjefF6nxdfoJhfrPRz265nNK9i1U\n",
       "gLgWU/Umjo4UJ+Ou1PRMur+Muv9HTOIFAoFeQ71DoWF+081nKUNTMRzLs0nh17/9iSPQqX8ugCIT\n",
       "DMukunPJoER8Ayf0uJXRUG6DtHU73aHOZKmRFXoP+bbq/M2pWkqdvT5WbBetzRMMYLc7PQcY+b/0\n",
       "YnaPBbOed1ZMVHF8PFTmXfGOpK9zJz1oob2GhFX4QMWgBE6xFiy4ovSMRFZANMXw1e0yYAsKKsgf\n",
       "N7Q9enaZADykFEnRj2wWvjH/AqK6w04ngT2c/WrVW5hi07cbkrCdHus2h4Vl1B2z2cGtwGSTk/wt\n",
       "3/wf7cEc2hzAQPxVzKXhAAAF3kGahUnhDyZTAh///qmWAAADAAYFP2Y2/HDABuxU/ysBY+lC3RLs\n",
       "FfD7JEcXiWPUor3+0WViyuSMONjeAqiI58wK0YGyoJ0RTzIM1+ETJ6/aCfiNVpQtvWSRUaB5jaXV\n",
       "vZDjA7tRha1nUqT1tdYqeuE0y1nRWYo04JtpoqUa5H93v5dF3uooq4mVthDr9+Fw/6aJ3RAXxpJM\n",
       "8wVyv9DXg87X6vNLmn89lgMI17XX1dIucCXI/965z0AG/XZXXZeqhnCoP9orYsQ4/sL9eesxaJ90\n",
       "0rPx9oBu2JohQBnnDqbwpW2ANXVWG4S+GuEBpmwbQhluCuGwG16gWtYxYFMWigTc0eBeZNnxZlBU\n",
       "hgYs7YXMiOTKIzNAroHb/vu3JFaDi5GVYtOQx0wS8kMZqy/p8owarx+qcJNKh/9jX9z+RpM+9iNC\n",
       "t0kgK69OBmzQi32UstMLaUvTS55QDFT1GG7nD7CzhEqctSSQd+y8t5vEXHUQorozJ9sMPy/Mh7i7\n",
       "u+AK2N/iXJbwAYA0HgBzsANykxfafwCtVjdB/BYmEU36WulUe7OQQK6epKZOfk2hNxLQCHXRXdsp\n",
       "ye7JrSErv/olzwEZEHL/P35zFq43hOgXf/Wb+GzfQRRxFWvPa4pyzINfVgkiRUr+2MIphuSB2z6g\n",
       "XY2XSUVva3Pci6ID1vDNRYSuC/oXTzRUcTn+aIQ8bKEqFfK50WLmfDlV+lWQpQYheKGq+xreF6pK\n",
       "ZWG4GNJX52g57VmICX+U1RHZuPNrTZ3ayejfceTNi5QEX52mfCOQF9TMhmwRt/CGySpFLniH2j6k\n",
       "DgxTshDbOlFeu0nBNN/iZQrS7J+IHrgXPlrnkg8TcP6dk2KMoIr2W+M9ErJBaDvbk1oSdxc6C7x8\n",
       "2pFEPzGG9GkX4KAaPWVEkOrhMCw6L4UDKZy6QPDZmokqZ3IYD2LLyS1+qhVrZ/eR5+AbtrEmv5cu\n",
       "133pO1p5bUFmIBKV2qkrH/E2fl506OwbqDKxqvSw4ybFP+44Lq5bqO7DPjrfXjQfIvVBvuHo+mvR\n",
       "mABeIue/9ML1kybr42TNjv55R4XkuO5jK877s88ZGA+r4lFke45K4oZjZ08LJayXeWrR89IyHkuZ\n",
       "L1yOPVD7XsARHOeYaQil4SwCEu25VfFB5CRg2WWs1U+mNtJXJprWNcpT+08Qj+/nIvCVQK68Hvpy\n",
       "kmkUc9wl/4M1vDnopZGQ5YXoulBtiqah/HLacMP7fnU4qsBCpJ/xbTqyYIBgpgGmLnjH0G5c3GYe\n",
       "YtfqU3H958BWsE18CQpGC2iRxBLeDuSY/yjIzivZaKoP9hSNiD//n+vXUelCDG9kDj+sJrnXEVVI\n",
       "G4pTf2Ihpzxr0b1teP5T9VEP8OxWVg559i0sieCYEH4BblZdcwkaCtXTeBLxC8AbIwBV7f1/IuJI\n",
       "SSttfgCddUFl957mCipUzeeJMGM5TFuqCQ073f8Wl+k1B8aqpNFytLCGKKQsc8eWRRq1Z/LrbgeZ\n",
       "+ghpIqkrdJSSIxsLEFhX+VqfjzGhoWNtzkt6B354DtXiFe3WMl38aDw6lObVfmhcIC35UL+LTUqM\n",
       "v8uK2exoAzsx0/+Us9//qDxLRvbdUg722RP2p+3wocukAFUtK4L7PFb/oGy8zcBqpOs7ZR5Bfl8I\n",
       "dU46zj3rilrbj05eb1W3vRog2kKKj7KdMkpCoZTXKT0AsdaHTpbtrKOWwVj/N7mF2LW88IFXUMsw\n",
       "2t4dZWkgB6yiptrCjlJ8wMzLpkoIxoQg1PnxV9vYWzygXPq81VKJvsIVzj0sFZsknyz4YjwJcax+\n",
       "/e2m3belZHfYsH1pP8qqfS657RBAjx54ehYFCuSld7LIdNgVuzVQLhOjaFvdWWmTb1TolOb94+gS\n",
       "FmaGL5xMXUcj0JVBPojDUCEu2r9v0QHcdhNY3ble3GPAMPbrW6rq1mqfIc2ILl5qiuxyydjkwMyt\n",
       "hSx9rP1IrP9n/npFyO1veI7OM26esDDqbnrqwocbZxuES0L8OG3hAAAGbEGapknhDyZTAh///qmW\n",
       "AAADAAYEexiMAG7BcCWLwvroo/0Nn81sxUv5KoI3kk6iIWzRy6boZdOWKAJ55Ue7RTO9EhjYZYdK\n",
       "UqiP3W1RvTGPUCWIaClxzjX61KjzT98MZOqdvrzz2nGfuElVJfPxeL4AYaM+ncZI+/cEm/cfKzHN\n",
       "+04uZxAnIiXJX/IbqSfcct4XmtkELxhohB/eD1OkB9DOTtxEUwjHCG6OoUTNhSr699Mt2EF/1PO5\n",
       "y9IP722Hlzh3fueekZghK4Qjff52AcADCf3Sq4YL1npToG07uYfTwEfeNoVhtiLNtCnVLKrwzIon\n",
       "n/hltUXJnHl2AhZznz6HTLC+jN7gaVANYRAyK8m2gh5L9z5TjrtxOUndqug/N951fqIL0yb7Vexv\n",
       "+96buKM6KBKjc7VGsHssSqLEcBTnyuv8b10qK23XgaNtiZJNCQUPVgwJtvk+Cna6rdJ2PaoiuSo8\n",
       "d/gPzBfG/dq+O/9ovnBqpcaOyUYtADtRyrrqrwrIs2v7CNtF+rvQVnhBVsbUtS4/NphOX7zfosYF\n",
       "6sck/6ZGyz7uB22GK2Todibf596hm6X3Pi5/1llz6NJ0rYHKybh4/BXmURPd8CGcSB0YiwwRURsx\n",
       "gygapGl0cTd+EwtCN1IqkjYZitAv5gpI+H6a6rgcykJTNPTKIV8WVHoTBV4EKBPhyUD4TNgnFhIf\n",
       "pXkf2dAhEtZLBp+GAjt8+rzrkhA5T2ednf1HBUqJV+s3IH7yKEc0V8nVfExAWq1yxraW0sB+N1k7\n",
       "mJhhMrUNDHwE+kuBAtd/PpjFcsnSnL5osGo5B0BO/0uq+T/5rgdXuOAW5hi6J3pl3jj2kEhplaqI\n",
       "YexZ+FWBO/HZJoYDVnF1ep6K7cdndhxxAODxPWeN3KvnwG3nRW+rGQ5io/icVIrvTYWPw1SM8c5u\n",
       "4ivGKT7r4ccEZHefMfizgQrs8Yhx43aiHUWvRYjjbTsm3/4WIF5WTkhUkuplYl3WeN2gnu1cDFw9\n",
       "tlOCPUGvSToR9yJnMiV0qBxmmxCYEXYk3dyd/FtO7zd4gHi6tG82vd14EElgeci0RpVF+OemVCmo\n",
       "teKLqOMLLocENdYOkas9e32swEi38IrNSAz0c7XPv1O5lolhBJ+eUbsvrzEB4V4Ok+cUJ1lQj0FA\n",
       "WcghWf9Yaw5iy5l9hIY4+kzUpWAwkqHT1qTkveTtClwFn8lDNaNyqmA1JCJKRWtiGwA9n1/9cKs3\n",
       "hwuh0ZHby3E92KL5FlAufutMeljqG1BstYfeAOdXNg24w6bmlmp406NdAT6JdYDHRbvbLISPMeok\n",
       "f4/zRpQ6VPcqxvMyGVA98mQ5KMrihnc0Ut4gymXCxExHL8YNbdJdB4LrzZGN0sDYldcNFv2K1WaI\n",
       "mFI4MOJgJfsMMM6Sy9MaodiXfwtLSNLZwG0mhCAHI4leT2kRCrEJV5sbDpsTV9zgm8vgrwWTocM/\n",
       "PI1rdOsYsf1Y4pule7MwdzgNxD2609xbO8bysmdkL/eMvGRmWqQ2FQukNZJXwtygZjFL8KfkztT0\n",
       "7O55UZmchDc8ck3Vzwrjftp/CDWpZTwHVrly/aCG4U/RX6/hZ7HrAYrOKVjCDqKkWfJFwMwpOOZC\n",
       "Fs5HxZcnkqrO2uHXSfpdpTL51ek24r7RJXihW0Eqj9SG5Di/0N2VWDW4UGncjejSxu556smkJyQD\n",
       "mPKLcdqPrNmy9g7bG0w2PU+MzvHAYp6sIP48qiByBeG5XtHKQAAsyadW9wJQJLmqL7e3TnaBxgB4\n",
       "Q3tzkkpOOCygUE42wQ8yuTZ7/HnOdwxUL6WAPKGmmSb1LmzwSwZyWzvzXxwbliyqkzocQDTbeebt\n",
       "2KIXTvqAK+yzQ+OUicnGHfzw4+ZQ5HiJwxDFUJz2kZHoaFAJ4K4ZvojOZb4LBGLhFl+c7e+86erY\n",
       "aEwhOH7gqU51LuYrBndINiVe5MgSvBMauKQcNuhZ5hVoNDWWpqB/284s+TuCmTvr/o63dAHKQX2y\n",
       "rWu7pWC2tdtFmv/bZzPYPsfFgm0QaqMcXb4Frs2UOh56hfLKjW4G9PnhNrTA39WnnrEKL8773cuH\n",
       "QKzRZdJ/rfouYlbLjFu2j6ZnFV7vvJ1w2i2LgXfAvC9oDPkR+eQ46r1HVH4rXU5tmBRqsP4nMU0g\n",
       "TKZRNMKAT8AXALKXYP/N2r3JWACvygKJSzd67OkotuWkgQAABrNBmsdJ4Q8mUwIf//6plgAAAwAG\n",
       "BK13nABxo9xQNctvyDLZ3mAUbo08aN8PskVG3AZsY+Bxv3mcJAQKuInc2ZqJ/4aEU4a4pFcW6btE\n",
       "YIBikwyN+rh02IfPjCwAGCyHU9WB9D4JA/3Qyz9dlaiKtIZpnjv9phZKXbutpYXiaufo1UXo2hm0\n",
       "4TFqtNH7hSWgK6es/045NYA0LsUivHZCFtxoaMvbvmkxMMBJandG2fL6blKxNV+9ZK2vbG9vzsdO\n",
       "SWuOvjmy/tlZXxw18AGctGf2YYCCnQzJ0wmz19771IrOqJ87YKSGBU65WXEI1Q8rpsMnPdHgSR0O\n",
       "d+3MrpWE6nN4vVq/8x5QLPbNND0lTBrMkE1KMNZkE48Qi/LxiAbxhqkbbxXXnEj4PA+09KhW1IYr\n",
       "dKPigf18cUBC/M5J3hGpIMmSb3nm0CMOtHKmci2EacT1rrSh7hqKKC4Bhii36RzHC8ziCXq1/L8B\n",
       "RvvSvK9BsjK/pN6XXDtvEPWQkonjl7gs7YuEr/bGqaofNT5IzWUcQaUNi7myOjIKyHCVxuoFt4j2\n",
       "+mexLIz4Madrc4alLuDG83QtZLEkGVCVeYjuaJ97Fi+dTMrP7xG3C5JIMW6ER+CSeJIlgiKQ4umZ\n",
       "WkIi4z+EAwFe2qLNA77cGOfVA2PWwu1Fxsrg25bXMMhsXhJOrUBpY1riDlKGZ+6fjhwduFuw2V3P\n",
       "kG2ERJcRmvFJAAukzETkpD+bZhB7BRd9RvtVGfDv0v5RbxXw5bCkam83kCzEG5AsltWA1sJ1e2Cx\n",
       "jRR+MLPl6Tu+Fj7v0vcYXRx5QzC9+NuFlESe4ztuU0trlfyP7CXr+Z/ER3C8Tiqy5/vN9+MaTn0O\n",
       "QbLtusP18d+xxkXq3hsxMzUkpeb9SShBH8JfjHtMc0KPPJPKja93jCBhv0ZlO+QcAaMwbpwdvZSQ\n",
       "2ocUdeUkcoM1B85ZVNWrS2BCvhWTR7lYyc175rp+pHq1Q2Q0kiHpZOACiSuyfDlHvO5LQGQHzNG0\n",
       "3Exdvq//S8A414Xw5jhhqbp/fspBnqJSRDa5tpdTBa8KreYx0jU3f4ftdA6x8xO8ccwvK21PIbdw\n",
       "1rZftP7VZOThh+ES3yGFZuYnwH1t3lTEZtex3vvU+8HIiaV6dSSRjmfiARLKlpFl35xMXDOIP+kw\n",
       "cmfkf8LK4KL/+wCcjhIdaKC+LxHqQr3V6DJPce7YfUHgAH02XIibCpu7B9DsCi7P+qrBUd8f5A6g\n",
       "Mp8JmQgiWXQwwxEpJOQkjbTIOkysmmBwJOp/2BWnAWkjNdkZD80rGQEfWEESeL0v0v5daqYx5Vfj\n",
       "23IRFAHX+gAQMmBlTQ9b6WzlALYKG81FsUT3A4TTL0jqrJAvns5KeeGXiZYaXCat86FIIhjEL/3a\n",
       "s7XS+qmjrn/fXMISAY10NecyBgoURvdqj47nHwuds7V5i3vbx0xpKwcrsPxry5GZGcsTLva3DHSa\n",
       "7u0iYc69A6pN3YEZjEw6EW5ryvH3MMvZoaCAt18hg0ShoPKkDqmt4uRjcdJbS0K7AGvBirkJ+I5X\n",
       "zyyqlV/ymGKzvexa6VSoSqlR2Y9ztpeal5OHMu978qv8eki/X0WupG7MIZwZURBqndKjEFV4TjmI\n",
       "2sjijM+57XscIYFU565DtdrxC96Lyr4Hz1bIMN8grXWJg1tbn+MhywTL54YnauK3ruSFrjbHLYHm\n",
       "oNJzLVXsImR3Kik9qzfMqvfw+IccsFDQ3eCdkKaRknNuOT7gMOlZJxymq05rY55wSDQ/i1ko4dhj\n",
       "TCc0UeTfmvaZgXknwrXTcaTo2Xe5t/q1HnPw09Bsj0EMdw9UAzwEGxJdY3Lp6kSEYQ2TdLOGY6BW\n",
       "7V9fp+Oh/16M/y4NL8FGZY2KLclKp1w1aOnr91UYpA42tP1smMxH+FSYGgbG8eHYW/KM4D36qcQA\n",
       "CFsj+k5UbZT/TvCVJKxE6RuqntpikwWvx8K0FmPRWNeG05KB9PNOxwV5Mo6IRZPGgThL3ub1XFZS\n",
       "lmivOi6sVDNav90Ya8RuSl+nW/ZGjTvL3HbiO0W1skVXvUnxKXn+57t1a92+vWy4UE5McEZ87g19\n",
       "7FjbfStl32jAjt8PZwtJaM1k/QZajrN7ALlIMRc4B840OACyAdrY9j27cHv4U43wZRUIYUaLi9rk\n",
       "auCTOwFazMfLtSqcFOTtzus2lng6FnY1oEfsgMiV6cPsy8SVWkfqaWY95m2/apqdgg3n9fbgOyJy\n",
       "l37KJAiCAOChQ2yD6v1QpZJalSqNWrzb3ItXOPmoKP88FGJZmvX/u216QQAABrxBmuhJ4Q8mUwIf\n",
       "//6plgAAAwAGAfiIwAW8eo54PicJjEHd2qvozayd4T2y3cuT+Zp8e3GkR9gikNVREjuJx4DjcqfC\n",
       "s2SrChj0ByPn1wFvlD1KkjgFIuJ5T75PKCGjHzwp+qUCAmN9uQfBVUHMdLRnT1BMFTXkynMqXNuW\n",
       "rpjw4F36G3Sh2ixG+3fD2IbYKMELI69OC5UIECLkKuinULvckHEjLaApdMRrbxu5Z7gf5P84UE7J\n",
       "LWU9PAeAe0yJ8xMl1EyLTizvjP6bxkStFMPSFWB69bcnvSNsCnGHJqz1DS+pCumyzTpTnZ54or1y\n",
       "4pt8GeESDdAmOc8OHoAYS2Tf/noa3JQwSrCTeTKQJoSVR52Ec7E9kaT77VpvUm1askx67xXpnmVB\n",
       "e/r4Xozvk8Y/aUu5/27rXjF5lUzAbcvtXc6loWj2EcdIUMcbX1lQ0EYjSc9QW/Kvxow2ge5MymB9\n",
       "8ca3+Y5trlHDYPMrQMnIRA5JjkZHQLkOGs0qbIXvr26tbVdp0buHZb/seFYoxaf/sdnPUIo83ghp\n",
       "eKnDmxFmFbXe/rRN7fo4nSZRNYztkQ9ZsfjPYi1/OTZzlkbHddicRzS8THUnUKND10UfhdBoxTn0\n",
       "NnlW2V5BaKYbv57bcSLHH1uVEUu0jo8cgvecyKx1intmuqYXzeREV8dKiZXiU/YczGsfvaTZixum\n",
       "HVrv2zaqyTEkoam6vqY2I6jiqUVCSM6xaR/+ZaHHxpxIPnoSGg961gAQOZUCbfgkhLIXM9LME1BD\n",
       "+lqRS6rvOdgPHGQIonzQB1//+ng2qg+fnWrE+VSpiLSUKboJkZGhtRJ/Oye0vUwPlJg3o33ZCi3q\n",
       "Rswl8maWPxC3oHgZ6XA2GYkvWEKYCQvChcplPx5G95KFoqZ5ZBhLFa9N/1WJiQGyszyRcC2BHLQF\n",
       "unhIxOXxZ7s4izrkZpbnxveMZawJcPMrNzzsNs4H8wPvZbB8i/Uy4CJiZ8xoRwSib2mB2UznBFI6\n",
       "CGmFHr5BSsP9jbHUG33zn7Rc4Sa+Gp2uPNwHYTe0hU+H/fTSEi145HftfXrysqtY/Zks6rkFUG7U\n",
       "PS+J8YLaqxZTFINbqSl/MGATnfQqVynWoVXu2zir3h16xqd59fuQIl+YbZoJmDPyu/udxnSIm43V\n",
       "pZG26iZPcgL5wM9o5zUdV/+lZwK0kQnrmuu91RvXOb2hme+3TRI8nTmVsBnav4aPH324JHlKTLc4\n",
       "AqvwG66LLL6a7xggfsjsruMFVXBqjLPnTUE7aO+WXufq+gOyA7cfyD6McOet9XHoUiMfiGB6lcm1\n",
       "yDy1V/9otRmmg7qtqqy8cJ0MKZT3GiGtVNP/cJosLQ6QtADEkCgSN4cIhwfb0MpwOMcVUQQOOtC7\n",
       "I1o6ZuvbJ072eBRUkGNkpZUrZ3Uj1zSo3JIJ1S7IQ3ZAOqiX+FlaJqcRKvzPesC3jCpp57fUcoFM\n",
       "dzSwYhvxS49INJ97vuL/8itYoNVcXdGAzfCnmAAEwQjHmiwochYF0OGNeuHG3dQAK3Qbs4IBhBVg\n",
       "fBB4LJ5V/Sbq645djQFCctKGdL1Tzo0iQf00Co2dovQ4UCq3Ff0pZn7cxhjkwq+mumTf/MKqb7D/\n",
       "fOUxuzo65RCfpjQokfeL1xNYUFOMFEZYvvNGKMV6H7qoQjkurN/iWqQBrXcU8UBELoXIr67SKHsD\n",
       "Ut9s2D892jkKii5/MxWlTvxV5lj+5nAiccIKXerN4wj1Q9h/s6P0Hy5ueKpI/ZvSeJp9uA4yODTr\n",
       "afQV2wzM2jyNzU9fJyxBCy7SDP5ddiPtp51fwWI5bDWfsmDR4oApu2zVA8eH8aZfZuKflgDFQJee\n",
       "XyFaK6aPNlUkMAyZyM3G/PIz4CnTWiq6nsqXq2kf4ez5N7nsReZpE1cmbe0EKvkNjBm2RM28dmJu\n",
       "t4nW5/kJjhN69oVOhfHvKBRxmL+ZAGDiw4LWdFyQVV4cEZVWR/rpigloSc4XZAwkz4vWTUNDoRsq\n",
       "0ucPl/FSi1ZdojJhIu/qQ6z8aakRysda0o0StLIPo6mMoWgzCZA2qV3d5JA+itReu/u1oqq5dpMq\n",
       "vwExbhJe3uoYJfh5M6QR1cXrrQSPhduQZPAVKFiYTb5AAtlYefKlwcxvZ1GKb3km4P3055TfvUI3\n",
       "M9p0ERKn/vOQrAbXLLiiU2F+cJRnGz03kqsDaohYurhq8RnGbJJ2Myvc0X8fyXapXOYsDyZvqmKd\n",
       "V5BkDxE/pUzEhhprujOKdSgge+iAca2ddH8W//tt7l7GlxLbcMQ9hpZhF1oZkHilDpMqDc5upEkT\n",
       "71+mBAAABmNBmwlJ4Q8mUwIIf/6qVQAAAwABiu6swAIU+cmzKHt/z9iEM9Pn6cXy8s0Sfz+HXL57\n",
       "Kc9PI2OTitjuwmyjVzS7c2r5zVEeKN6gJiXpazb5UFtW3JKcHMjyrMQYsR2KWEfjcVayMAVr6B+j\n",
       "cI6keIopk3XwTBt8dBN6NL4bI8x3ZIgNcO5rz7rf+GhZZLf200ncVHTBmv3m8jumffUv+t8QdlsE\n",
       "vQkTQrjDO58v/iTa9b6UjD+a5sMUT2aQpa2X/A2qs8zkPQEKkb2JOV+ZznoP7LzlnjrFaXZMnJqR\n",
       "pGEcFD2lqQC50fjZ3cohe7BEsJbpMlwNqR0p/xcd6t5drMibLVpZsumBFpYDgTuG4hrBUKaLbkOu\n",
       "49X+6nlDhdFXEC5awyifuXO5mddzMg4UGclLRj9i+l81a3F8I0ADmD+J8LPL219EQs8lXmb5h2+R\n",
       "fzXbZUB+fyydgh310c7CsNfUq0A9jsRMGp5+KUVgsccVd9DNxl56TLjIHydYffYqs1GFL4tbtqQD\n",
       "BsVyC1BKrmNdOBItsIlKFI2PQETYlLoVC0HpFtdr4LbtNOV0VZVKZXV75NSky8yYkwFzcMa1UfCD\n",
       "vxjqed9IHRrGydzDmsYtLxXZKpjIVlGInUAPqR6tyZIj4s8cWrpdthKy0X2Y38ECcZAFmpaJHB4j\n",
       "zdiNfMzt5hw0+3Fa06kMVCmYvIFfvGcHYvKkb/2vi5lY2Xrb0llEN5dhkyj61FyNbsojpsSqzOVG\n",
       "d/JOx9TjZwevPUDXNP0dDm4X4s6M1bnGkqEOGBgwu+XY5RLpI7g1cQk+pS8FTCr4qeHXIIQ4o38j\n",
       "6Dl3jYAcmwyyxnmy5S2xKjdKCna5V/lUNQV6IyjghsO23bZ4Eb4OFuQ/xgw9eItoNxPfPN898nhY\n",
       "axuln3EQlqdW7GmFEU1hAvfW6WpFrfaij5FR6+B6GkpCQKEzAjCfVdsFLkl9vGfleAho0E+482i1\n",
       "bin6NWH6LGWJ46KwdBvhhToVnWt7Bpuw/vL2rc8XHRaidsC1Xv15n9fyArpxNQYs/2pTQbqy9utK\n",
       "oDYmtbG0Hyy8s4NybEZBDyzrN7osPrsbn9fLiwnjjPQuIcqT7BwxoPzf5Seiq17FxcIk3EGr661M\n",
       "RzEHBBSiRd/nIrRxw2hBa9Rhw2SQTyMXCSvP++1g3vHfVS4qQ7cIMCTKkHA+rJDL60x6Ha9zelfa\n",
       "ESKx6Q9JhoEoAtSdXq0op7F1ffsBaTkNu7P5Kbiub2IrNMOXXnFJ8ic8Q4VOMMvbtiqgTbQYgSk3\n",
       "2uKIRcjQajRae3bwlxjgLEQbKGxdH6DZbOX3pKusyHZ9Ja+MWxwPhuloSNo41pOa81Pc/N42MO2W\n",
       "iJYjfwl5RLXV/tZdiQtQi+gtoUnOLTQaKP/E+ZSml/cKbymQ0FIiCJLYI3+CG4vlDfpGyf66QZK5\n",
       "8IE+4JQG/TJnPjQIqD9BkbusRcrusV1nJd/L7vhEg647IOqrFy5ePr6SLB8K8a1reoji0+YVdheY\n",
       "jGsnnJEJTFqkgeUCkYqYUQSWBeKMlDMCI/e8cUuE+wim9gla6a9evACyrsXhuzBif7lMSp64HptT\n",
       "EhzC0s/oPuNcYqyFBnUD5n7OwhelUd36akDlQqXy5AZlINltIR3ED4ib3ORaQnynWkc9/eka9e+d\n",
       "7kQCEukf0bANVWk+N1ofwSgcpMwL4iUYJFGcIsFy/Qzz0AnRCm29fKh83XGyJ37mRk5ZLKOyX6R6\n",
       "ciL6zZFwZ61/0xPtFvujzDPsFpAcbVnyrR6dTSgjcLbI0sOTnajiYthL0ZrceHV9xbqX7wT98f8T\n",
       "u3bMSNicvQoNPbuZvnBoX18GBWVkiI/h/8g45+XwzxlOwaxpQYZ8dZIjFqJ0OHzoOFupaKkhZXlv\n",
       "XgNv5UxLGYOQS8u62y/S/SMk512xW+lw/g6qQ3Pwt3jjNAgUj68e8JlLmAuhWuZY54sF6ATlYMkC\n",
       "7uYMAsMtn/NezocS2L31nhjVBO/CJAN+txZS/JNTJqmcTp3qfyBkQueynhs2aP9ANjAJqVRY11wf\n",
       "CvM0wk4Jba+PdOHpc8dr8bqbjAPQAIaDYKOzMoWg0JVSRUpDg+cZ+wXEGEvr/ZyRjIjXHtri4LIw\n",
       "W5VFnUORCPujHn+RkQQ6r+4TVJH6vX5obZ4b2Fbvy4azebkGnvgiRM/TOKCRIkAAAAV0QZsqSeEP\n",
       "JlMCCH/+qlUAAAMAAjCA+AAJeo+Nq13zsQU7FKQaopNvAAM99Qf+X7nsa3IsV+M1bSN738MyrQhw\n",
       "2oJ3vxwf4lie2mQXXZv4s3cfNcVIDwmrJcoplCBWUN0rhr0FLxL6R6W31UnaLdICvtvAevBgXkTM\n",
       "NU9vaD8BUS+Mouy17R26EYB4A1q+c8mEFRr6gQ3JxWWVyu1GfO0HUe3rOoVVa2Dd2dkB1cz5ZcsT\n",
       "SvWn1W75zHscJBHEyzEnrU7QP36bdNM9b2TBErmwR2hADPYyyUZlcrGD6kNtssH20YHjlr3gXlhN\n",
       "7GxnaMQ+9AiPkNYEYT+KMBjTXpL1hZMrspDXafrZyW1B8hUhPfvKFEv7IyEFyDwP7GseYsDsWoYv\n",
       "cmaP8FNd1T37iyoo+JKOnvwE9s3lMfYeKvVjw1rExB0YWsiwT5jCGLMpQW0i7pej8WfZNGof6GM1\n",
       "iTYyt8Eeeac+q/RJhR8wYQL9qgYvB65pkX8IU4GlFi7i0bNhEAoZT5am+Neveexdw7WoFadINbTp\n",
       "P+JDAkm43Tsi0eRUqXfbfan53L0b4aLWBF/pqM4VW6LC+mNM9GdH+ncDg2fbOCRKUZJ/XbLYXXq/\n",
       "DVu7k28EfARgBi8ITJkNN9ePLQBcqg/ykYIKPt0phtfwNkvuAvTCOWWMGvgqI17s6sg3DcEYtoKc\n",
       "sCmNkbTQNdZVnfjceMySOxB4F02xZqIG6MhBXyFFYL7+d6ajXW6f1hIfqlyYi24wpyXuATqGX5EJ\n",
       "INznDRMXQKShRcIYTVg0ItkK2pqv0ODfMnDfJHEPP1w4D/bZf6SUezpjkDbunF/wa1fSmLN0/Adk\n",
       "X8IjD65OygEIrMw8NF8weZJdU6LCZ1SawOMaL38NdJVnB2e9qLXAt6xPCR6CX0KxZ2IAbMXT27EQ\n",
       "cIM/RWyv+WWq76lw691w2XSaByl0TbY7AhTkKNKx17p/Q01eNnriLSM3Eju1pUj7QsfgP/womIWn\n",
       "gV1PstC89slUivIna4uzy1nz54IeNmQA0wPlbJPgXz20Ox4+IHWslQ6YfGINTGRd7QbPCZE7lwXn\n",
       "IAnvykeSKsVXl7H2P5ASxr3lYOoYQtmzXymWGBMEOi9h/SBrT4NYZr+G2uZ8DbGNje+0LHxn8WKJ\n",
       "dOTQTT8QN1BjGymEqbdf5t/wnNtDpgiZAN7FrAcKFs7qJ5hwJK1v9yJGuJMo1PE2dPgjizQxOURO\n",
       "yVrLyKCdt9TXOaM180OPbQHNqwqsWgvzis662rNDVsOc9uTtPmxEXEX3ETeGmn57qKEDrM8x7AkK\n",
       "5IeK2DSZAcImsDT+TItO8VrW3fFm+HtdrCIfV5WXGSciswDdkQLeiRuvoM3MmXFS+i2Whau2QqkN\n",
       "xthMOIAeb3+CqGIw/AdxsYLlZ2SNIxHztADBu4wMxcCVD1xrGt/T945FRht97rgKfryEIDi7GmtK\n",
       "7gRXhInIY5LZCvm4j99wCSQeMiAxT57LWy+p84533qAzd4b0oFJDKXeILoc8tH+6cxNvzezjbZcM\n",
       "ggeOyoxzihF+dflEzbqKbLmncEjkQsLT6kP0U978q4fXp6jYJWYOrIni7Kqpwc4scLDMbQxaMwyW\n",
       "YlH2ybJxzaLziK5Ve5CqjHPh0ilZqm8xfQLwhHbfxBYOT2nNy36j8eYbO1dfNjU27SFNUfOEyAET\n",
       "meTpLqio2GUA28Krj/ZS65JOgx80nIJMGrvV4e4X7OsgxrK2yWr7xS6IssdAIGRs4A4/WYm8onoa\n",
       "K7cPoblDuxSOCFsbfyT3wkfE6ZKY5UBKQJIMlD1SMlWHHuzyNuP+ffSpbs1C2l2BviTUAIADO/cX\n",
       "ggnfbMTmcQIzG2WrDyyHtMEucK4YEQAABolBm0xJ4Q8mUwURPBD//qpVAAANVtL+Gbu+IAOXKXth\n",
       "cmepMQLuK3ADpoKciEuVuopf5FUKjHlJODXxMCbpTl6S0YWvqWrGSO8tlEk5URhBcBDO5HS3OLha\n",
       "t3sdeCHOpKKDDUv/1vxuDJeLicMn5DflGiu5gdRAlmS+QJeF0eF6ncpBCrJaNQgMAFV0yNrpNsj2\n",
       "FkPUzegKS0UAtonmZvQOnIgkMcNXmYsV2hDStwN0ga9AodAGe/yQjDbQO7DOslWRYUyddRjeUJlR\n",
       "8wpAHLA9fBdVKlsJjT6RbR33jZRUsKiXQIXV7dXYRS5CkI3wkpxKfnFMNBig5ez5pTeQYWDduluc\n",
       "5gWD//758411AEu/HVJxyX1PxWXLNwZLQxhGE056yQwAygqnH/zyhE36yzPxGr8MfgqgNAsN8pIi\n",
       "SH9CqLoT1RQxRnshWN656lNHzd5IhyKuIq7GeXeagWNzCsqAXlF53sqjAq48eD4acEszY8cJvAPR\n",
       "7bhmMysMKXweywRKJ3J3+0IePyybR/JsHZEv458xIUjmFx3qCGXpzXoFiPOXz66KX5rmaC/jR+Sd\n",
       "xGIGazkFdU/JWMMGo+YGUBrY+rOVNQNtGYOZx3y2OrtijDyjGHoS78wavj2HWAn+wPcAZrAmpraK\n",
       "RcO+Fbe4bN2s2NwGXyodclFw7IqAjzKi2tWg5GHe5X2+D4PXbzX8Uwanb3Bed5vJdG632s8w2/3/\n",
       "tpLgjKVs6/dxuFJ7+vhBfluD/6xy9/wphBw1fj+Y62pORwJDZl4FN3Y5SwfRbN2mTFoUzRoZExDR\n",
       "+J2T/iTOExOzs6X+t0RhcCP96RDmf2RjDZ3aofF0lNUGoTAcnEOlrh9zblLxOTSp17ACmTx5Pu8m\n",
       "wua3oUIn4ZpmqHmftteKv9mtuDJZoSXMa/q5DjZcxzV+zPg0o3kx9QQfR2or8HEXFueabpgpCxxf\n",
       "SNzzt0zWIOBQhs0klgPUVJ/+aYSlZ9q8U8AdsjKtsy9lvRMnrFrZGsFEcR//w9ZFvG6iFS7n/YH8\n",
       "RSP0pSzt9fWFhbitZpSED0T/BDE/dLIhnefVkDhhcKdkNkLm+EvHWw9ZlETnzvqFRKv5pP8BnCIM\n",
       "672jkTAkMwEO5NY2dz7o/9bzihElzuownr3K0dONOdwqlKMoN/lYmPE3Juc2J8CSdU/0eQCHPN1j\n",
       "gucEEw7b8Qa7SjhA2+EPzgbIZTotu6Hy7w2cw990gbdteFd21MvnhED6qgReLC4OQdQvAUp6dKSH\n",
       "bjJgW2PHXizQ8hbFh4rUyiFzVy2W3czamFcU/+/FnBF6y0qlvK69pI/y8D3qwSNKyIcg3JjZ2Lit\n",
       "UpT+oYfNCxAGBbLypOnwXCL/5unIpnp80WrE9BmF5qjZFL9pCxI4xhPWEcMf5IK/O8FMJO1J/y2K\n",
       "i8YIizQPJcusSzmajNn/2UrRfwL8mzDy/brZ81SiE0OiFjW8SW+YnPVzBd5dYLSOL7D7/f9TCGRj\n",
       "G1TrqSu0Hu8U+gElfl5J/auCE6wpbXNPgl+jl+CwSGqxDX6tcgKg42o6B1R7eStpuzsdlYZrbXY1\n",
       "U+DDnNecAOATHr5XCWOMbl8DXiYGd1AcgHVbotNmEHRu3WhvzbGpBZmZ5GvuBWN4/w8bN0aauCwX\n",
       "eo9oAp0elYCWkjD5uoUkRE4U2tHLhVcwFekNNPLWUSkycs5vO/qt79HVvAgK9i6XlhMx+1iSL4/y\n",
       "5/vb6VqNlg9DL7huq7dheqKDR+OX3GJZeZXo/RF5yo7V7pxIm5tUTJrVpZhfx+TiD0Lk5NVSyjXp\n",
       "5e+r1RHAAV/AUeBKjGmNno+WX5MKvpDZuRi3t2t1zrzsa1bB9jrJncGNIIrPVlpRxjg7jllOFpRU\n",
       "FUbGvuJgtLq7JKqrDeLctaPb/e7hUcu1+pU9tARcogCij0svyO4WdETSUBBy8eSOrBx2lljL/ur0\n",
       "FwOxZ0Uj4UfYmsp9jJhJpGZqoXWWsbPNODHPorJImwQimsA+kU67PzIG5mEgEf53FqDb/B7SGm9v\n",
       "0eG0ts8UHJDMlHtG1DoVsA0Yug8Vu9LVNcTVgYJ9Sxhlgdn6RE/OieKsQihWt/4Tvx9QDRTOkdjs\n",
       "0aL6hhPxnq0NJ6fc3yqFqdZBMkjb8uhlzdkZk5v3D/vDG01esLEAAAMCYHXJgqZQY/v4ia0XroqY\n",
       "/rAaBuqi6fFlT9aarnl3ZJ2fgENNmqjOC6jlK5mfF2P/PuYYAvWFUggAJSAFtAAABf0Bn2tqQ38A\n",
       "ACS16AhzASviq70Pxl6sfdf5NwADgBOYQHNhxyLN4T4F5QJ67QeLDbpvjLxkHEk7vAFd8+5KWQRs\n",
       "WuveIHSnufzGVY/5C8kaDbvvrCLVwoIsxuJ6ND1y8x6Xet7IuwrI1sKvSoSveJ7ME8WAHk/yY+gY\n",
       "Z4RLf/CiucEFSytlVM8p/UPt2WyYYOuxFKJp++Jn7BR01k5f6XehpL49b+xXLjuNraa/LuXhGscA\n",
       "D+I3oku4mD4KHO0UOPbq4vFNsPZvynKc1D84vSfxdeTPaYAk1zGfhAqwnMx5yMV+uCQWCbtAQgDb\n",
       "zCGaiW8KrkI5FDxZmF/KAmw+OmFk3zSCOKcYemNV6dtUyflxNpBQ5B9ri1YukkNWtvbntOeh+1xg\n",
       "+D8xBDtsdist5sWTYBSiSkUubAJ+W5yOioeSGFXIdzijsHuA9NS5iON5DJLARqtW4cRlr4F+rjUx\n",
       "ytSva63j2KCiy25607Ax5K+EkOf9Rc9hxLKG/zArB/4HjaefqZhdTyF6cncjBTLzFTOa/2C/9PI/\n",
       "ACHAWybB3KuJgHoUJmp0QbxSqXjmuVNdXAJw0Eu/CbKVf7nFIakZDYkL17hcPPwnrLX4PWZj03rc\n",
       "n5BnMgRqnkKePNRY3/l5Ru0C2QxZlRBrjgIfZq5VYPa86eprGOElkwQH3sLyANHYZI1Z0gLpyZLm\n",
       "dAt5SOUF+JvkRWwpcn4UCnC5BrQdNs2wLpeuGvRiQwOAzUhOpcjfKqSkGacV36h9Get/P+9tnWTe\n",
       "+CcS76vRMQdyUqJqmD4JUFGmdY90IiHT9cwOt30hfYgkGqlc38spqFfVWZ+R9xKh9hRuDz5TQciG\n",
       "29TRXZEQuZTOBxg2wLaDrMeHlv0Ynvi4IX0A78CiSag6pk/NN5KtL7ScM6zLRF+9Q0hdxtwJpOiP\n",
       "mqMeqYadyo/qH3E63sh0EIaunXDMhxuchFwvSVzAm/CnbgLwYiWpWnNHPVwkTCm1jHA6UEGTFIW1\n",
       "dPES0soU5Lz9AWQMr7fVk9dBoIkIUxxnttN51Phgy8Dxr1pCFqUeHCwO0lPukA+trlA15moiDtNC\n",
       "l5iZJRj+y78MOBfqcn1vbcwwKmC5Sf3/2WBB7eMhLpPCOWndG6slJQh48BYo4B82GAG0f5eIafuH\n",
       "+Z2hXoz3nfThfzHWeh/45efVH27DttINey1BqlrRqZ1fq4e82fCRQPRw4ZvT4xGw16L2rKE2A9QM\n",
       "wr4VpfRB/AckjeQqjRE2tc+SZAQD78cQLVTO/iFf5h60Rldj51qylfKxDiTxsS/n2bmDvmAzTBjk\n",
       "RTgCD5KhLdA1Dctxq33Mou/cxVsTKqC2bw7zYuPcRhs17XwM+Noc+QaesKlKvYQK+VMEXm/tmxSF\n",
       "PojsCRsJ50QbAw65dxyRtpnQ7eptW3frFlvLGWOKpMg0Uc75bGeSPsbYdwzDr+3dEjjuVNqluDxf\n",
       "D7l3JucO7DAB7YBmk+VMblB2OJCUkU4hcSdm2fogfddC0sBp3Xf2xmQvy1QLVshFWRYCBt3SM3Wq\n",
       "RM2/GNz+iXy8fd0G+DbgGdFbC/YN5SgAHON3ixXUeizKH6mJgrlmaWzN6q7027ftBPsx9N8NEWXj\n",
       "WbfmmMRAoM8hIsVVOmygoL91hmozvJgGIUEcdS/5sGwWrvRdIbyuOGm2soD8xf7dCfqvShXNQAgo\n",
       "qzEIXsCzcy4EbY8HuE4V3nTct2f6XHRdCMtOW/SmYdfjC/Vh2GCUwMwMKSM+Wbc8Xv9dDB8IOfIY\n",
       "dwlz2ijEU7hyfQAvil/Gb+OsQIWCeOEKabMn0yKVazU0VPtXeGq1Olbj6FqgWxAwqH/Ls92oooEt\n",
       "4e2DvfjPUi0Y9VPdw6choef+ky9c1f3yCGrEfED96hPYekd4RgjloXWhosQdw32AUR8dLtM0hfGJ\n",
       "pufrhk4MbD+0K/wpi7FIQI6ceL194z7Gqkb4s1YlWZJJ+9VeCJii66EHRDGgkB1sGKW4utck3pV+\n",
       "zOfI0AcYpAjpTDjumI3Sxsa5nn31vAOGQJk+1q7VCQWfdEgAP1PfjQAAu4AAAAVSQZtvSeEPJlMC\n",
       "H//+qZYAD1bKZ+u18QQAF198kSpqKYt6/UWY11JE2Tf66XioWAtAqOnrr/ByqHUlIlTRAkkjj4Vs\n",
       "Ez0zLSqaxSq9Nlw5NeAYyh4qeb/96cfB8FnoDjBWqG70VCx0dRBSifkHoNyB+NtSu1/3/D6zXc/Z\n",
       "LI1dFBSCZyFt7qedrldF7aoSPi79dE7jtb7yo145Jf+NsBfw9juah9eVcioKh+UiF5pcqCkkN0Fp\n",
       "v8i/miRLpLMmnyb3vm6xYGEHhsh+mXwkBfYyzzzt//NgCr0gqQhvpGq0S7oGrILP47dc6uub/YdO\n",
       "m/92DesNZPa+noY0IuEeiZKmIBqPXybSpaEBqP1hLl4v7ZI0UouGR2LDBiBuHIG5bSW4RQkZ0YCN\n",
       "v4Kpo3XmFRcisJsrp9OYTMU9FO4VY6oUKk6+/hT+dxEKlVGfoL96XFjEfakMYjm2ho7AZ9CAEABK\n",
       "O9MyggEL9Y34dlB+Sxa0yypNm0IYS+vRelvx2gg7OOhedb2GZfjysfw5e5aN6Qcfbz3Y0xbZBAKp\n",
       "C1Hb05b3FbOKZE+5icTAdG97uS5DoQtJD/exZ8JCvSZY4/NPUmGm6BRgA1jWQdUtLC6JlaGFRsvC\n",
       "m0Wzv+qrUkgB4UTGTFOtfnQWQE3a9eOFFWN7/GY7w+BKB1ybmzbM8YHv7FkPdKpoopU9H28G6pDf\n",
       "AsuZ7hzqwyEbUtT7Bx5m3G2oSneXojCb88IUJGzIqncnlY40wTwC6QQsvBm8NeiscP08Fw23mac4\n",
       "sJqYY7e3NEaTYzB1BZg2c1u+cACKVWqpzq8TA9lLHtDBxd+2SRhBvIvpNBE7Hm43SRtruvgCiN99\n",
       "mo/rYSrabIVeyZnle3ALsNxKH9nlgJ0lCk/S4vt5l/AhTkpDg+x5eA3U8u7muhoR/CN8So77YpWp\n",
       "2x7qH1qtgq6JA1VGZ/M3+O+ox2YIF10jaec6UH/wPa6Ypj5V3QR7dTnmGS5GAUupOdgw6ZWaf0Qn\n",
       "QtCgSbSgZoAH7pRdMg92g0KwGSS0LwFStSbxjgkMqDssRats4ciXJZn65soMiubAyN3UpiUMYrml\n",
       "rLn4tpIXDi0DndVz8u1bjR3rs61zsPBpUridLtlJAz9sJye7f5SHiffmdgGNZ4YyQQzPB3m7Jr1g\n",
       "Vpt+rZzSNQ70OXOYjAWEhW9peQAD7oDA7cPja6WHq6+8vzKfa7XtKKYznrs26Qtv2M1YWWNX6Cw3\n",
       "AnIf6Wq011AJRo7Hctv6X7slNawmHO5ygyASAxqU/rawICcRWXGTNzQrioay0qEQMv1N6eiku9Tr\n",
       "lvKMzwnCXig8UqH36GCd4t3i97p7JeEz91Z64Dr1oraP7ks1p8lM1Km+KS2nSZ57s8cPvI9nPmbA\n",
       "G9SdEV0sLIyKPCf0Te3hWMG/c4OsFetXOfv2GKIzYnKhEMzJHEBqb1QJFNDwHKqmJbNDMfCk4PHf\n",
       "eCvFlv66MdFHt8A68P38hfOsUx2iIsKhzHBnTpYvlx6ZtRe0aN8BnLIQPwqOKwVXtxEYii9Ycm9W\n",
       "vYO473ohXny8LL6tSpSZjB51S0PjFntxdjR6jGk9wl8TRgOw0stsrBwU69sRK40MpDFzgfs21X0j\n",
       "EQO4AAPeAPIgdGpwxLQXvnCIvhuiSj2Z1RVip6zgS6rZXwy6DO14jTveujOKU/IplxLQFvvTFmIx\n",
       "hTFCVuubt5AG8mO0Z0jd+CeE82WGt5Tdgej7+QHqFg6PAg4wEaZR1RhqNd898jR+eqGuERlN8ld6\n",
       "vMLAdlczHxBoT7w8SJmowRES5ad82tcTmRMOWOpCcf4BT7627QkAAAQdAAAGS0GfjUURPDf/AAsT\n",
       "z5IcwFKxXfwgZbdABO3vMZT572eBFfhe0cBDDqayKg4GDtBd5KX3bVUfGeIwthpVzC+OIYmO+y9f\n",
       "RkZ9A8TVorZu9e2DZMe9V9jFE+Nyoixp7Cea5VhW/wGJhvoXVx1PRhQ8TWYXb71uk2cmAlQ8SB7E\n",
       "lhB8n6QXqcdYYyJqSBdpaNnpZ5EjSqLiDaGZU8Qp8r/N9IaoBlwR8sykPwZcvY+yFMUY7sXNH9a/\n",
       "9shyxdlN+4v75qkXfTEFSIYKVz8H4b0mLmkPiUfJhgwmDXj9xEwKa4LuWLL3Vboqbu0DtpCezcXG\n",
       "VFyyRZtZUkMEw/gW8UxA+HHfz/7pmOzVlaEMbmg3f+YtU/gmetgqiI7fNaQRrjwPbLtU82yOi4zk\n",
       "H99bSUtFoRZoPdtFIWiv98pVCd0pDjIJh4HfHHqs5pejEfCQkaxWzd/UyiW1NZIB/qF3qxhMirmk\n",
       "dmzxjthKBPyjQyUgEb/Iqq/glFp4LTZvRAT/tFwQWBy7+TJ15pWRxTTynMyA57s7bUyLvD5HaTWj\n",
       "T0vluO1OXBXaXErXhc2CL66lO+CA5WX9oCSu9QWjx5u0BGPirWGG9UaPGOE7w4tZiUa+ea1FoJwV\n",
       "IuAaSeTQUfFXW34gNO33nzekTYnWr+xxR3LBpdy8lfGhCo4MUI04bHtkaaUKbK+B0HJM2B2FqYpk\n",
       "BaPyAY3b4d/o7C17m3lkQxxLMx1RgA1j95R9rK0b/1SuxvcymcKkdPsC0zuHqJvZlsKZK4xdUKVW\n",
       "ZAArCLIh2czezAiaPiIHAYDBOeJQfYQeN2nfTkwl23s0oHesC4p9Mp2oZ3eqY6eWHJtcAaVRuDWm\n",
       "aX/DXGZh9SIrPEUItPMuMXk69bkasswOaSH36hlHzA7ENJ9kYV/p44061xF+H3tMXRvM7sH0qmZe\n",
       "Ht3k02u0EswTwS4eGmqA3ma61xRRR0PsvfSFyS6vYROi40lxqYyq411AuAkeKA5wPxEX5CgqbBo7\n",
       "SPRFO3bD9R8TbQYPhHWH1lnMLJF3+YPwIhN+4R9trl8Ox3qqWXcsarSbMyKc4RHcoDl5Yxaa2C0D\n",
       "TRGOLVhsq6sMXh0ZY/xNY3bz+na01Ld95hf0SmgGBV+tERoLAMC6GifuCY7HoE/2JezOCM9X2KsL\n",
       "fmEE33a/BGzRZL4CCeyIHWuGVSYArAIg5sN/ruGa6TWv2GSESbVNz6ME0Rim6mvFzGThwPPUcjTA\n",
       "oU8h9WWeq+2CFihU6kZhAMmgbKd1XpwjgDs7dMc4+EBMIIcKuLbsnrTegsXaEdsm7ijU9EeSvRrq\n",
       "NOd7KjD7iR3iCTHBi9S3OLnN+CWI3Wznlhft4fU3PyiZuwERP9en2rj0xsyientu/xgLMZyqQVht\n",
       "igtr/Ux+ncU8EsW41rRaA7Fagnc9Ypas3jYyb8lybkvdRd4QIyB5nN8G6zlO5uRRzxwGTsfdCbsy\n",
       "8Zzsbz/FhplasLfQ44IgykYxzK36t1YXDGpE4sxrpzb0iRdgMTZ1bOcZirHOLsseZSAe7pyrfan0\n",
       "93mEDmbt8qE/1JhU/3QDGzkAsuLY1y4bBy0PBNL1qqLTrk0O96/bnnMDKjUGua1Uwu04hLa0YfJj\n",
       "AhhrM0AMt86aQA+VJg9AZl+4unrPhtItCSBt0eK7cXFiAgefojaSfUnRnSCtK81iKyE8eBolKgq1\n",
       "9pcSF+viuyKEOhD5gY71MPqR/rSJejUyAGUzUWsoH6bnsdNzOC9WcjONYT5jPOepa536QLoaHmCY\n",
       "dni4z0vxwRqaxDkChGXmD/hwFlBH2YbdU+2VAh+B2pVUstRa1rGjnYB3CRqzeBAO98AFMR3sLbz9\n",
       "vzIWME5GEQeorZ6pBHGF7MLrs4PMhui3wxbCeM/ZGi8OPtj7GQ+7aXzYtuELWbHm3d5VGgOaR/N3\n",
       "O6hwRBVIhmkl0waYbXFYs/DPtGqiOBglplCNKj/KLtKJM2pA6PjnPWznQc2Ak3MvFrsftE/6PyUA\n",
       "BT9ZTG7YteelzbjrHLd8czsJ+2Pahc/eaEOFnmXPkl8bKywhJiVKZoSLwYjuVSV08CdLd103vmeT\n",
       "ABLUg+B40W5WhnenWrx9yTGhToh3uGhM8KCLMP6sHxwNAxMcG7zUFzLkK/2a0vpLdLHHduiZgPgQ\n",
       "oAAGVQAABW4Bn65qQ38ADBg76CTFziD864XaewABxO8k+/i+YpWzSDVV8rV4ijp+4UE6j0LSb/oA\n",
       "tkUg0NpTkwBnt49UJ/AdClNQ+fl34iUopmOXnymMLkrauNYC1Zr5CoS/EVWsY6GaYMRXQkqytp6H\n",
       "uUAj1eFjGyKPs2TNcvLumYVrWV6OlRmOD9f8XdYb/Rr/eECwyV7lCjrtf/6d7wmuEyK8xETj9BKN\n",
       "UJgd5ax9fkhFKcOMVmk0I815NR7wzXpZ9s2oZ2DuKp5UhVYRzkI4acQ6FLCtCvf3toOFqhHEKNN1\n",
       "HvOsbTgwbbm2jxteWAEJcW9NSnVIsmGJo4neef1LQDm7oASjlVi7WxNE7zJJL3PDWZmA9b+x48L2\n",
       "dGCuJczIEVCD3ugq4zvNm+p7/rVRw+Hyrm1wdHtEINk0B+kzEoWB4ZGXCipc9UX0dT2JZ5/O1mqd\n",
       "FBkKvaTbIbJrW/9z2wkI7jG2U55BmxDd/A6jSktiiNaSGOYzfnl2jSWBSupBV+PIm2hxkhsuoAEq\n",
       "K5tt1kJXAg6M5WxLOymm86UAlmGnqSNpnG3+5I/+fq4D8DPNOThtAL/Ib2T+mwMtd5PG58CHZHM6\n",
       "fR5sBifFAzly4HLvvXcdQ3pcS6NL68ny+WA8zoQlFTTfPbWnNQf5NaHlC7nhvCVn2h5trvd28FRx\n",
       "KsXg0CR0caxXyAxe7ipAsdO917ai4xF5SMFleoRmUm/UZzMXISriaKz0OxPa8/HnyhycBYZtKzes\n",
       "qR6bt8MeQivwgOdhfn/Nhmt6bQUFmG1p6wB8eYj83Zt7rtHPkYe/tkhtO7D7QRd/os6E6hzN+aY4\n",
       "8gYC+gKlJdT4+YOkqtWez/rQpEw8Yikzpsm267kWCkeSHtbbExxNK5YA1hICfN18LjdqukJ8m/5Q\n",
       "Ie72o0kStW4p6spseniQ1HQ61oikR8hMiNO3QQLzPILlaJXO/wwMkXd+0wfIsVmiytS7dRLZHe/E\n",
       "ATDmJ6T6oNxfEJGwM1Y3YSikzRdnFSisfALbE9Bqp0QLGtButECwBOc+KWdJLwvzIRP+cJ41E6ul\n",
       "+2m1t20zpKLzKEJMU+fzhJZX5YkK9CH1NN5LY2MxzRtxaaazd8vm3UYDfiqNqwpIDN/dy4tx3lR+\n",
       "VyWO9sxdR3WJ3bqIzHuZEuDcq4TfPSFSMgsKpw/TmW/OpSzfY4fa+bn4UFq/k3mjdh47WTc0Fcz5\n",
       "3bLXj7AXzJ1JySHrRm8p46C9aG348YABR+m8ut/qQ1OSLppTKICmZAr1LhJ1hNsEVejZFx4ZatUo\n",
       "YtKG+dKnfmDE2z2vhRoyCK9KjyA2TH5ujGNUszKfvJz3SC5tnR1/rDtvJXYx8wHBJ/6NQ+uLPtlx\n",
       "K3K0Ce7yuU351/G94/2VhQpi1Ll+mDtlQFwbNsFZ4r1s7bSes2LuuZqiuVFySJz6tyL2vDy9NkF9\n",
       "e6pqeQqqDHtGGWkCQWQo4AGO794bctifSG93EKypCmmoZ8sqXnUUvHz5oR8VFdXKnQ5LhIRdsGwm\n",
       "eSyrV5LUFOLQA9JHu7xqkJ4ylsMOraH62XwAK3R8Fp34rViYXPuScJsqZ7OHjPCgWLh81JTlAef1\n",
       "rVIhD1xrX4MXJfb1Dk1GA6ymOyCv3DvDCP9VcQvupGMrUvS+4Tvrim86eAAVhEpQtx46vN6CMPms\n",
       "WKBoxqP2GNedJMldrrKdXCmWKcEjur7G28nk5bcyHmknghi9M7vJCAYb57JWpC3neYKdPX5utW40\n",
       "vPegAlhZKX2k6EDH8LF2sA9PGhhyKk7R6R7aZfqCvviVrV8Pu9kFXZ6fjyKiy+iiAS49j3Xl8prK\n",
       "xH4DC+SYHJxFRWy/LDZI4V/ueNmXFG/qUmoRAAGpAAAGoEGbsUmoQWiZTBTw//6plgAPQucReYcm\n",
       "sDOPSlmgaJUF/4ZowVABoShKEsiYURgxcSkN0bWUsax0jBLbmYd8Ez0EW1RGlpfcF77KPGv6+oGg\n",
       "38ZPPs9a6RnWdgvZ1Dr6+NWfMMgyPImkWzV7g3SzRje9r57YKN8YxDyzuvJk42HJ213tJboxW2Ew\n",
       "S5nA9yUPO9Vn5aXTSIoibGSxVfbLK/xh0oEacgeIvLO9Jdqn8PN7xP9DnHNEDS4KnOheJrinQ3BI\n",
       "YpUijyPCThykO2IZQwGsDFlNrqEsEyYOeSUQOalmM72LbdnIlK/Tl0g5q/iywV4vz0noTO7mout3\n",
       "UXH+QQwhohDunAH6N9IS/XjR9Y001UoCBof2ggme9INY4k6UvD4cSVrK9zdKn7PjPKcruC+dT6jt\n",
       "nb3HgtjeU6ZpV+JQUjfv4nHec7x5ZvHqbx7OJiMiRZs7YpN0CSHp8IyCc0vPSMaioduBinieXt6v\n",
       "gB3VpDOOGBNw6QlXc92IjF++Zyfi6DXD3cI48wekKkUMy/vdWPfYkz9rrjT5+zghy+hm8S19tFXO\n",
       "ICStxsMbvoHZMOYfs0Wx/rjiGgaJqO0u+T86cGRYIAfNUFEAB6ZMuKFFhiu/9dQiI9KmVWCOl+Wg\n",
       "01YTad6r4cnHt/wPnJ4AIpREuL/8j+v7l9n4emTjsqa7ZfSEmTnNBeLqTpxdaEgfHL8tNM/Ivfyz\n",
       "1MtKkpRRYdzuxs2jYYhWXV5rqrx5OOywTbvrQg3b9oH4czH7ppHAPZiDJ84El+IVAZfV9eC9l16V\n",
       "3cnWtwx+qwOUebkmhviRWdxGJ0FtyhpCG5LKGMEQ4N2e6Osg/0ABH9rTUi9Fit0aucHa8LTAs3Wa\n",
       "02wKltFEZHBRfhQ3urGM8zy4eTauzhdi5q1afuWcq6nJYpZi1w9bPV21HuBnyFAGiyM1gPnKxVIc\n",
       "wxPQVCDHEkoCAwuZJDQYDM63232r43f7HSu8ydCt0Dbw4+kM52lgMDLHHJUtqab0SU6sBEc7r8d4\n",
       "hgBtmhNFYI2jub3tN6I2u475pEFJreIlfri6bT7w6ItyA/MSqJoXE5FQgLtV5EDjMttS3og459ZS\n",
       "bTEtT9JZtYAysmwHiSvOLY1A5iYv3YWUBTc+/BQ4OmGNlign2MQKa/rMAAXQlsT4dmpHwQucV4Uh\n",
       "IDpvGK8iCc9dibBQxFMNd7zyGvl4WvCmadLK2S7xOMwPda5/MlKVhbmm/diZoiJTjOfeMibvuO48\n",
       "sZE3FEIE3iLy5Zy9dViB/MznIWYzX7PHImcy+sNF+RurZBGilMPwDW5dRbTQkaz1JQSUv7cm+9II\n",
       "ISLFx4Kt3wBjtME7YQAEeeHQa8WdF4uw495A1IP3ooS+00/h8h8fqrMk+Q63E8bc4UsqffQCogeQ\n",
       "I5KTLYRkOJ4AHto2/EpbG+zKbdtuPxxJpTXckGCFpLS+s59+7l+4werJEJLkIrRf6Fu9u2VMrscG\n",
       "yFo2zqZWZqM9SEJmADIdEeF99lgHxDPFUexET+/KRi4HXXvRoBy86Ybkw+YL0+X2FO1ZzuIkfuC1\n",
       "B+Tgnh1cr48nKXkZMW6RJFDtmijibFQcD85PUmta7xFNxmZKMouGiGVGzVabped3dZNWPZu/Ff8z\n",
       "0EEJwmRJSAiU9PzTC0D/X6DMr7ed/MXDSo9+9t82PGT1QplWtUOmLTRIEzqYCsbtUODmmZOLCixx\n",
       "EsfDxOerx3Q8sFdTgDS/oH/qrPCxINt2juiccJZkklz/9mDx2RdRA+LGFNCTZsAsN4Hbmbk2fMPC\n",
       "E8OzM6W/B2MQNL4dnrEnnQxnGqbYncVmTbARBb1PVHe33xhPrX0mFJ9Urc4oRFBn08JT4oZzRJo6\n",
       "jPCN/Ab1KuVRzc1WU3YJMqoYkLX+e2NhrNOh2mThtr318d3ZEgtpHN+opaokQNIqQ+4pqKiqP/IS\n",
       "jxfF2dT+2XnR9bV3MHfelXOUVwmBUkON7dpIdFN7iWbNiTV5Y3mw+GlGttW382yQnFdLR41NYKf5\n",
       "Mig0idgYDRvvmfNq0LnOU4d/zZuQRC59nACYmzTXKwPyejJppP49iOJVkDnnt7RZApJtYtO740IM\n",
       "LQFVbBtDDhsBEKwgJpvSnxdEIzWDDnMpszHNlQbHhAEbhTbeO+IN0tx0vAkbp3VZuLkLL0FBGZ3d\n",
       "BqT3sZ/UK9a3PqTjqEEoIAzO7eCuzzyngxsE8sEkWmuSjkvEB/A0TH014l7G4Vctc/8PBW8GgNYH\n",
       "JsJYYeJ+DdE5zPEFpoVmg8AAKGAAAAXzAZ/QakN/AAsSdIuqH0AH9IRnJ+RYPK3PYsfwi4JszMdE\n",
       "m6Ey7v9r5m1Y42EKZQZnJUd1nYs/524l7GXUutAUZvoTeNVTb7R+/JTTal79NJkeWHZVaJalIk2p\n",
       "MIP0fKCQLMFu2S9zRnqbaMw1+3IkatwQa3+PgBxElJ6OgrcSLNfu5M78F2R0FxutLrnJaONzboIB\n",
       "YmUTh5sjlASPf9GZp8BqWMuvLWhHh6CAUbgRYlRzjfGTncBE+jUw0XVDDFImnrR6QhyFXR44Fpfg\n",
       "iOI5tGXOkCT2vQeEXDATD3ZBQC2MffKcXQPHJ0/4PEVM8dhf5y0JAIC7LQpTnUhkyqPX8kcqpbYH\n",
       "lPlRA7flPIK2tOoIaURoySWtm9c/UVZYP6Qg7gkY1lOSU6ECAidPPi0vpP28wUq6ebQ6386sUfOx\n",
       "PiDrsYc3pd1L2gV9TV3J0hEPLY71TYuYJzb2/WewwxTWgU55m+4n5VoVKJ1AWnyDJyQ61hstgfFJ\n",
       "KRhHye9Joic7W5JELfLP9w04pYxGE+5g7XZBJqp+4h5mXwCzveSCO8sx0ANUSu3GQu4MyDPB3Y38\n",
       "EpeJ+NloMgcEWgr09PpeHqfQnb0T1v1abNwW6lJ4/dXHP49gPom2vVFz19OoEUDjll5GWY5XWk86\n",
       "0y5kw9RF2NOaSTnC9I9N+t6IbyyRCocnEtTRlFHI36LICvQ+pWqjLrBWIKmvWC+xQvpzdGIz8tVQ\n",
       "QTuzqCjN4eGOtEVD/WGrOPHRxjC4U70a9cXU5olcevIv4c+u+/YUzXhsIevw7I14zb6gMMJ/6HzD\n",
       "1F7mdMy4EPxjqw1kXlH1hN797YQZjJBhWnkNW/6O8z2G3l6J7Q2vGlu9IdjGKtS0GCkNQj5hfy+e\n",
       "uD/f2YMUbAJlk5LkPvG2VTNipo7QSOy5/v/inTysGjfG0W1JDuYP/3sveXfyCgBtVm90IgePJ8WQ\n",
       "yp/cfw9xUrDy4ohVMyAAqznXzAsLyaZK6TYzPENvrAZNphQSDopkPYSR6N21Qw1FTw44sQCJbLtv\n",
       "uMI7zeqN5MemF+XFl7lTuJVcJ9L17DAHfpvL86CfOVJbhxMQJBpLnvxtNg1GAmceoih1T+yfWf0D\n",
       "h3G4ydeIOEI3AIs0mVj7Ol5Xa7rrnxvp0G6c7RLQXgB5KIpbLwoJrLFhLVQkEQwSGQAgqWvpCFJ4\n",
       "sY/PCFsm0dP96y21T/ytITkCFAL9ycVpWZ0oDd8O4SdXVaXqSODuqeo9WeTXMH1oOhX2+/lhUeRm\n",
       "o2Ts7Rolf0tqUVm6f1tQp2RU7gIzBdFfgudz13EFZ8Ow+4hXQFemgqHmrfXoZNIPbRLxrDxxrD6L\n",
       "6MO6uTQTGZXZEi1jDhFRjPIXLAyjLCn+ViVOVlmo0ymqORH93ypT6M0e6Q5EKqJb7x/7TqYEv/40\n",
       "bI3/qL7Y910bhtR/f/vmAxDJI1Rw0iAZtGxepr6FkUBtoLQN1JJUuie2r0SuVZUEXru5aBHI8n1S\n",
       "0NrPifTuOcMNQbUweLxzHBGDwa/25VEkQwSbUw8sYDOgfgvjNF+QLtO+BrSkDH3tv/MLwqy8K9Kx\n",
       "tnBA0w96C7AqMPKR5QPoWKBdxp6DPt6K73Ce02ImH9HTD6FfolBGWFwa1AA4j/Mjp3e+NEBLvxCU\n",
       "oy36k7SbPDVaydn63WqiMEwGZhxevCaf1ApPqx+nPfWU63Cx8flue2AvGFN2ugcSTSGfWV6zoA61\n",
       "oKol5eT1elnKahwPpKEjIduNv6UmOFiXlw2Sk8OosbYzmTniVTAIb1ErGVymEWoVPXHrl0HXA/oq\n",
       "AKl+bxmsM872ptW+qvj4qXHng/uRrbYtOGalSCMCuPZ3jED0c2H2h11379akYvYPNn4mt2qEVfrP\n",
       "ZdZG3f+nghgKKdwk0j8raTOU4tKqp1yIrprKAVz/i+nDmRMy1Frl6Qt1WHF6owYPMzsIVD69NQ5S\n",
       "DN9P9M7qlv9lhEJ8bSBwhKwSS+nIZ7hZbSPKHODFNlDAPM4Ldj5M+/nok/ELW92PAD3IFLj1agas\n",
       "Z16+B9LwAdMAAAZnQZvTSeEKUmUwUsN//qeEABk1D2UEvkVcI4HGuLxlQ75bVVi7ezi8zAd0+AFT\n",
       "AMVc/wW9c4ATrWsyWXwDjzIzNKWIggY/qeM1qhiLKWCc0W9gErwKNJrgF3tRq56EnFXadEcDW1sS\n",
       "iRQene1rCQfTzjBIVg13J4cJvD65qGjql895xYkrUJe35DhbdDTzKQUXESjPJhVi+/oF2MG8jDF/\n",
       "HgPDIj1eqBya5hkZwfXjJPRae2HwsxJZ8YlLGw98ZcSxV8/ttOh3XX7cXmSuHvI7lwc3JIMcjsw3\n",
       "q8ehdl82CHNZaHB3hw7bLaVOEMkKfPp2kYFq47udskp6NyQ9bvrq+txHUrj3IljdREO8KMTOedrM\n",
       "XittojHYlmGQFWGeDFji/1ME0lmOwzUnx/av/T1HsnstDUYVmM/GedSBIhK7w91RWaClEa8dPPge\n",
       "mOeIWFXPAAcQwTxnGI0PToqYmIeSSDRK58J9kbpi0g/70VeF95k6dtt8fZnXTqMFiB6aH/7x3D6a\n",
       "ji6Alr28ASb8b8a8mnlJtxFpTmI+ibcC4fHYtTpjjaafopImNvTl2T4kA6RQ+bZNWFersYE102PU\n",
       "byuEwTj2F3EwKSR1xGTssT9unCR1d+lDo5iDjdN1hICF82AxyY+jvVAYCEuuxmqy5MhHJOyO7SGh\n",
       "G70iu7yVhmxtPzB8W7qUErEiBaUIfETm9xNVpChd+m+ItrtD/1+wMjQmx+WC86pBBfr+0V3LJbgl\n",
       "Y+Jc1Zw0K5pw63Qvp9Qyf9Rrc/m1588h6Eiz2Wh5VBXbEqnKakBtRmSx17Nv0OaPwz5HEoz81ily\n",
       "00BsBIdbCZca6P9VD0Hv6O3rld0figqhUKnScZgHM3fh8B04PaOkSarovwbCdzjJXGPCEVISMRNS\n",
       "/nJ3oBKwlCY6FMsxzq+/eP0hVawohMVQf9a0cE34mpfD0TW5EkZKn0G6hMc2mAANPQkqoNV3JS7H\n",
       "kuopImueN4zjgbLcgCvrtRy3A+4kTwHXNas0H8DA2k116K20MUpNZJfo+ymwrjpo6scawDF7poNv\n",
       "dGGOA4d3c9cAM2pEDceanTatJGLb7i7UT+voFYSBHqr8hsjLdvusiIuKf5H2dP6TGy2ZyCwCejEc\n",
       "L8d9VU91CkvROsqjQioLQCZ2dIlJ8NvNu7rcaXmOftzIiYkh72c10+YC7wmt0gR86lRgRxyVifw2\n",
       "OiyrNf7b/jN56g//3ap4coMybihw2D2JZzRkTVOZbXFtF3sPsC427DCOJtJWtBK6RQB37BoKTACO\n",
       "i6N9/ICSz0G63pfqnqb4Ax2Sr/FZoyOfKFyP/oSj/++gb6Nx+UvptsRVDf0budrgxW3tZbWAipkO\n",
       "zPKrOCcRFiJxaIkfM8USeYxCcYN3vayupe0/7bn1WjG+rCSBqgQKgKfKC+DWX2xi1lmlYRDtRDQw\n",
       "Oe7Vrlxx89MVPgzWXvUGiRhMfvjwYE3puZs0/85wHaWqzluy+RE6opfbC6gELAyKMugYQ4qY3q+3\n",
       "66MVCxToLgnCt/yJHZY/zS9r/z6iUHalS8Xe94796JBSGY9dC4lGIJQ6/HQtrq64Xnqy99ZO19wR\n",
       "fXu32qOlGivzikp+oxon2y7zGZcmX6Do2nfLzVESAoOqWPKukS5Ix+Vdoo2BCk5S2ISsk9re3PJv\n",
       "3eWQhSud+hwKaOuRERz3LJyxw8Hr1c6nc/IW2NtgM/2rmHl+D+rQiSVQrf5LkBIWNn06gGufuTuJ\n",
       "KkX2/tH9EbibzrD/1DF6PlE3atsyGQ7Le5Yxdrz1RYoK3oedCyhjxZkv295kjrCM/mkTNMHb2VYC\n",
       "sjy1MxwZV+uE4e5etJoYic0Oyn8/RebdRM1+R8bzCpaj9734B5hEiltdYPAHjVBfWxGVlwEN08VR\n",
       "gaQDvZpizvi7QgnK2RpCCfPqhDM3RXr7T/OKcUBmPcajV8/O4j5Ylt1/ojdmDMBN9TmAJkoGzWfD\n",
       "OtWGV33ze/DZdMy7Ehl0JaLSlQd01Z7Yp534lvZPDK9xDwzhEDhws5hq6fx0p/7d8+P07ZpWmVn7\n",
       "4BQA/oD9+fmv1T36N8xBbNIL0orj9sZP/KccO9WTOPhvIw1hivwQiAcI2v0NQ/okdzoqc+Doq0gh\n",
       "7uvp0o4i6+J7dgB4tH0GHtw7A+KxBpgzjW2pbnnIhQmrI0XFxyCilPAho2VW6qLigp3r6kgz4QAA\n",
       "BoUBn/JqQ38AA3SmtBYQXHIt94ljm9bble1B8L0F8hoAOcuQlGU9XTNcwrVna7zkXerCDKFZrZi7\n",
       "uqELhmbZX7z5yoJRYZoijfZnMgg1poogC2WRtLyTWEoctzdlcSR+Tce4/8L8PL0yZi2aOGmpWc/P\n",
       "TmC7QkVLrvwtRKYSZjfqRF4H0C8KvHt0vGPwhYxQKAG7NF6oZN43OTp6NvAvw5YIKe3HZbJszzaN\n",
       "Pi5iD3+VGFS8DtPdenzqgZFCw4IFkWfczPTdPG2cQoeAqiAfIaXRnb0PZdiMlyyARp7BVRDTV3TQ\n",
       "qV44Z324Frk+17go0FF8uNIp4oN3MH6bkyqb91AcW29qZNtCSxwFJC5sjZMla4Cmu6Gg9nJnUa/Y\n",
       "17HugLLw7IOPPx45gex/TePE8qGrTBVl26ZFyQuN3h0ic3yrn9rvEFYl16dnig1YwPjECbqkrszd\n",
       "irEBnId1LnPm9Ec20rSXGX58uNLfTRlKN/qdI/uvrFlISV11TS8nfZK0IZYN8mO5qQyZCM0R73WC\n",
       "tPG2XAl6bCRiVogkQHgXRr1QuHa0AlVPi4crNSDE8P9YRRDl8uv+uAzBcKsH4AilzDqfJCUx1r+M\n",
       "Mbvglz5Qv+e0L1eYIXx1AwxUIlJQLxmP1Lw/Tl1jTkL1+ck07R/BCauVAcmfOvgC23H6y4B/wbTu\n",
       "D9lzDjBtaQS4I+LnQt7h5jE1NoI1fyrNdfnxVu3YS8hBJRjhk81FtoTauYbMKFOO73WOBqdcbclG\n",
       "c0dzEPlPmvov1DsKX3wh3569rh8NrwmBrMP4Mnp40UEgsl4S87qO3eBmQeaesNH29h09MtbuMKGW\n",
       "ykTF3Cf1XzwWLdkHq3vCMEBekaBb95d4Cjxo9O7TKTOv+Y6tlQYvI1hWMip3nzAyj3jReCFWexH3\n",
       "/aHnQetjRKdJBXC2RdN7qmv5gWybSb8jBKFosk5R2j2znyuJqEGgEpR80l91cJ3CzL4ULregVD9v\n",
       "cA19Pbi2kHAUw+z0aL3JoU8ZksYP7AppCqMfDddUVtZuJXlWYzM+9pEYnJSB8FJAQfLZWp0SPo8+\n",
       "LM+FfdQcNL3AGEQHqfTrlxEAxvjkXabDyHvC8ahHike8KfpHwWByffnijZCOwh0Zbqzyi/YC9nVT\n",
       "3fipmnGRUak7vMcDo+GBV4qEmsJNvwkpEATLiIcd6SQbMI2kLM2vMyENrWXSWTn7zXrskw1gH8m7\n",
       "r3CVG1bFmLjH0EF2TRcxf02ys4+uEw1WgB+gqlIA8I8nIiiVO/xS+zVheab7gBSx1+yBAh1RRXJF\n",
       "/n2UYJ7JggTKAmW79iZpuRPGE14/VmJTFqnQSrysf7gjO1DpDLvTEtwEEwmaK2OtMf9A1Vdcl0rP\n",
       "+FEEXioLe1YizlOmjkc13op0VKbGYmhXs4t+AHoMC5e2q6pamv4CpXe4+qyRvlVi2hCCYJOxSPWx\n",
       "KhFe3zINWhcqOd9+sIEZPeomgbU6IBNMHv//inhP8lyX+QPSITfIAcJrSWbO/dOnT4A4nTgmt9dI\n",
       "RccoT6F65uWkh4kacHsHOIMaMXZp+ZT5GD3XEeSbOmwJNV8yQcu5ddmpAC4Kwx3aAVvJNEf0OqiI\n",
       "AmQxVmXhW/JUa30Y1OkD2uC5e0wlgUYujmaxSlvQusSZeX/mL3HNRGyVrS5rN0KAK14wUhbRTFR3\n",
       "YfFAXsVRkE5KzMRYAy7kQyrd4PNXUSyuJ9ZBShVUekPS+up0eO9dsAxN6ts1bULeDWuLDXV4FCbV\n",
       "uE7nINa31vnjyvfE/KK6782LCAfq3QgXaA+nMJhEAQi4znw1FhMhPsXMJ3m7tB5jqnH98DoXMhJF\n",
       "dz3gGV1lnHZUsPAiFqVlnBmygUJowumoTv8FZ0v6qOYYdDA+2VUbEYMBQSPVke81STIZsgK/UmO+\n",
       "ysCvXQR1zEOKxwhzRn9Izn3/Z+LHXI8EQ46Vcfy+m6FiobnFL43cU8hvAr7p9CuVSsusIRHNIMCM\n",
       "s2KieYkUgLEnOUwJvaAnbcohE31ctC2mePzhqydQ8TpZ6o+amA4zFgv1yLercoM7PGa4bycaFATM\n",
       "dZWpZ/HTLndrQh8GiGF0q6DrO9C0Zt8vyCKwRi4bPKcKXDpr/NVZguaCubD7/VBacvyHg3hEaxSd\n",
       "evL3d0nhOG5kFZgQ+HozrHuTzEMy9wkVRgPzK1gWfQyKkqDBGU2ulz9mVgihXMJh6HJvRrLz+22y\n",
       "MWleiu87XZzVy9IHCsmAABiwAAAD3m1vb3YAAABsbXZoZAAAAAAAAAAAAAAAAAAAA+gAAAfQAAEA\n",
       "AAEAAAAAAAAAAAAAAAABAAAAAAAAAAAAAAAAAAAAAQAAAAAAAAAAAAAAAAAAQAAAAAAAAAAAAAAA\n",
       "AAAAAAAAAAAAAAAAAAAAAAAAAAIAAAMIdHJhawAAAFx0a2hkAAAAAwAAAAAAAAAAAAAAAQAAAAAA\n",
       "AAfQAAAAAAAAAAAAAAAAAAAAAAABAAAAAAAAAAAAAAAAAAAAAQAAAAAAAAAAAAAAAAAAQAAAAAJA\n",
       "AAACQAAAAAAAJGVkdHMAAAAcZWxzdAAAAAAAAAABAAAH0AAACAAAAQAAAAACgG1kaWEAAAAgbWRo\n",
       "ZAAAAAAAAAAAAAAAAAAAKAAAAFAAVcQAAAAAAC1oZGxyAAAAAAAAAAB2aWRlAAAAAAAAAAAAAAAA\n",
       "VmlkZW9IYW5kbGVyAAAAAittaW5mAAAAFHZtaGQAAAABAAAAAAAAAAAAAAAkZGluZgAAABxkcmVm\n",
       "AAAAAAAAAAEAAAAMdXJsIAAAAAEAAAHrc3RibAAAALNzdHNkAAAAAAAAAAEAAACjYXZjMQAAAAAA\n",
       "AAABAAAAAAAAAAAAAAAAAAAAAAJAAkAASAAAAEgAAAAAAAAAAQAAAAAAAAAAAAAAAAAAAAAAAAAA\n",
       "AAAAAAAAAAAAAAAAABj//wAAADFhdmNDAWQAFv/hABhnZAAWrNlAkBJoQAAAAwBAAAAFA8WLZYAB\n",
       "AAZo6+PLIsAAAAAcdXVpZGtoQPJfJE/FujmlG88DI/MAAAAAAAAAGHN0dHMAAAAAAAAAAQAAABQA\n",
       "AAQAAAAAFHN0c3MAAAAAAAAAAQAAAAEAAABwY3R0cwAAAAAAAAAMAAAAAQAACAAAAAABAAAMAAAA\n",
       "AAEAAAQAAAAACAAACAAAAAABAAAMAAAAAAEAAAQAAAAAAQAAEAAAAAACAAAEAAAAAAEAAAwAAAAA\n",
       "AQAABAAAAAABAAAMAAAAAAEAAAQAAAAAHHN0c2MAAAAAAAAAAQAAAAEAAAAUAAAAAQAAAGRzdHN6\n",
       "AAAAAAAAAAAAAAAUAAAXJwAABtEAAAXsAAAGKgAABe0AAAXiAAAGcAAABrcAAAbAAAAGZwAABXgA\n",
       "AAaNAAAGAQAABVYAAAZPAAAFcgAABqQAAAX3AAAGawAABokAAAAUc3RjbwAAAAAAAAABAAAALAAA\n",
       "AGJ1ZHRhAAAAWm1ldGEAAAAAAAAAIWhkbHIAAAAAAAAAAG1kaXJhcHBsAAAAAAAAAAAAAAAALWls\n",
       "c3QAAAAlqXRvbwAAAB1kYXRhAAAAAQAAAABMYXZmNTcuODMuMTAw\n",
       "\">\n",
       "  Your browser does not support the video tag.\n",
       "</video>"
      ],
      "text/plain": [
       "<IPython.core.display.HTML object>"
      ]
     },
     "execution_count": 70,
     "metadata": {},
     "output_type": "execute_result"
    }
   ],
   "source": [
    "from matplotlib.path import Path\n",
    "from matplotlib.textpath import TextToPath\n",
    "from matplotlib.font_manager import FontProperties\n",
    "from matplotlib.patches import PathPatch\n",
    "import matplotlib.animation as animation\n",
    "from IPython.display import HTML\n",
    "\n",
    "# set up a figure and axes\n",
    "fig = plt.figure(figsize=(8, 8))\n",
    "ax1 = fig.add_subplot(111)\n",
    "ax1.set_xlabel(\"$x$\", fontsize=14)\n",
    "ax1.set_ylabel(\"$y$\", fontsize=14)\n",
    "ax1.set_title('Linear transformation', fontsize=14)\n",
    "ax1.set_xlim(-650, 650)\n",
    "ax1.set_ylim(-650, 650)\n",
    "\n",
    "# set-up the thing we're going to change in the animation\n",
    "fp = FontProperties(family='Arial', style='italic', weight='semibold')\n",
    "verts, codes = TextToPath().get_text_path(fp, \"ACSE / EDSML / GEMS 2022\")\n",
    "# turn verts into a numpy array of size Nx2\n",
    "verts = np.array(verts)\n",
    "path = Path(verts, codes, closed=True)\n",
    "patch = PathPatch(path, facecolor='r', lw=2)\n",
    "ax1.add_patch(patch)\n",
    "plt.close()\n",
    "\n",
    "## initialization function\n",
    "def init():\n",
    "    return patch,\n",
    "      \n",
    "def animate(i, verts, n_frames):\n",
    "    theta = -2.*np.pi*i/n_frames # minus sign to rotate clockwise; rotate once\n",
    "    A = np.array([[np.cos(theta),-np.sin(theta)],[np.sin(theta),np.cos(theta)]]) # rotation matrix\n",
    "    verts = (A@(verts.T)).T  # make verts 2xN, then convert result back to Nx2 \n",
    "    verts = 0.5*verts # scale to fit in window nicely\n",
    "    # update the vertics that make up our PathPatch\n",
    "    patch.get_path().vertices = verts\n",
    "    return patch,\n",
    "\n",
    "n_frames = 20\n",
    "anim = animation.FuncAnimation(fig, animate, init_func=init, frames=np.arange(0, n_frames), \n",
    "                               fargs=(verts, n_frames),\n",
    "                               interval=100, blit=True)\n",
    "\n",
    "# save the animation as gif or mp4 if needed\n",
    "#anim.save('animations/logo.gif', writer='imagemagick')\n",
    "#anim.save('animations/logo.mp4', extra_args=['-vcodec', 'libx264'])\n",
    "\n",
    "# display in notebook\n",
    "#HTML(anim.to_jshtml())\n",
    "HTML(anim.to_html5_video())"
   ]
  },
  {
   "cell_type": "markdown",
   "metadata": {},
   "source": [
    "# Summary\n",
    "\n",
    "We have covered:\n",
    "\n",
    "\n",
    "- A reminder on linear algebra - matrices, vectors and arithmetic with them.\n",
    "\n",
    "\n",
    "- How to formulate and solve linear systems.\n",
    "\n",
    "\n",
    "- When linear systems have a unique solution ... determinant ... the inverse of a matrix, Cramer's rule.\n",
    "\n",
    "\n",
    "- Vector bases, linear independence, rank of a matrix etc, and how this links to the solution of linear systems.\n",
    "\n",
    "\n",
    "- Some geometrical interpretations of linear systems/transformations; the solvability of linear systems in terms of columns/vector basis."
   ]
  },
  {
   "cell_type": "markdown",
   "metadata": {},
   "source": [
    "## Next lecture\n",
    "\n",
    "We will move the linear algebra review on to eigenvalues and eigenvectors, more geometrical interpretations, and use of linear algebra in the analysis and solution of (systems of) ordinary differential equations (ODEs).\n"
   ]
  },
  {
   "cell_type": "code",
   "execution_count": null,
   "metadata": {},
   "outputs": [],
   "source": []
  }
 ],
 "metadata": {
  "celltoolbar": "Slideshow",
  "kernelspec": {
   "display_name": "Python 3 (ipykernel)",
   "language": "python",
   "name": "python3"
  },
  "language_info": {
   "codemirror_mode": {
    "name": "ipython",
    "version": 3
   },
   "file_extension": ".py",
   "mimetype": "text/x-python",
   "name": "python",
   "nbconvert_exporter": "python",
   "pygments_lexer": "ipython3",
   "version": "3.10.6"
  },
  "latex_envs": {
   "LaTeX_envs_menu_present": true,
   "autoclose": true,
   "autocomplete": true,
   "bibliofile": "biblio.bib",
   "cite_by": "apalike",
   "current_citInitial": 1,
   "eqLabelWithNumbers": true,
   "eqNumInitial": 1,
   "hotkeys": {
    "equation": "Ctrl-E",
    "itemize": "Ctrl-I"
   },
   "labels_anchors": false,
   "latex_user_defs": false,
   "report_style_numbering": false,
   "user_envs_cfg": true
  },
  "toc": {
   "base_numbering": 1,
   "nav_menu": {},
   "number_sections": true,
   "sideBar": true,
   "skip_h1_title": false,
   "title_cell": "Table of Contents",
   "title_sidebar": "Contents",
   "toc_cell": true,
   "toc_position": {
    "height": "calc(100% - 180px)",
    "left": "10px",
    "top": "150px",
    "width": "197.197px"
   },
   "toc_section_display": true,
   "toc_window_display": false
  }
 },
 "nbformat": 4,
 "nbformat_minor": 1
}
