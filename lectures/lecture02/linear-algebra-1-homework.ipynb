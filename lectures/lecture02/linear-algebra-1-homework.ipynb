{
 "cells": [
  {
   "cell_type": "markdown",
   "metadata": {},
   "source": [
    "# Computational Mathematics  <a class=\"tocSkip\">\n",
    "\n",
    "## Linear Algebra <a class=\"tocSkip\">\n",
    "    \n",
    "### Homework Exercises  <a class=\"tocSkip\">"
   ]
  },
  {
   "cell_type": "markdown",
   "metadata": {
    "toc": true
   },
   "source": [
    "<h1>Table of Contents<span class=\"tocSkip\"></span></h1>\n",
    "<div class=\"toc\"><ul class=\"toc-item\"><li><span><a href=\"#Homework\" data-toc-modified-id=\"Homework-1\"><span class=\"toc-item-num\">1&nbsp;&nbsp;</span>Homework</a></span><ul class=\"toc-item\"><li><span><a href=\"#Homework---2D-linear-systems\" data-toc-modified-id=\"Homework---2D-linear-systems-1.1\"><span class=\"toc-item-num\">1.1&nbsp;&nbsp;</span>Homework - 2D linear systems</a></span></li><li><span><a href=\"#Homework---checking-properties-of-transposes\" data-toc-modified-id=\"Homework---checking-properties-of-transposes-1.2\"><span class=\"toc-item-num\">1.2&nbsp;&nbsp;</span>Homework - checking properties of transposes</a></span></li><li><span><a href=\"#Homework---prove-that-$(AB)^T-=-B^T-A^T$-[*]\" data-toc-modified-id=\"Homework---prove-that-$(AB)^T-=-B^T-A^T$-[*]-1.3\"><span class=\"toc-item-num\">1.3&nbsp;&nbsp;</span>Homework - prove that $(AB)^T = B^T A^T$ [*]</a></span></li><li><span><a href=\"#Homework---symmetric-matrices\" data-toc-modified-id=\"Homework---symmetric-matrices-1.4\"><span class=\"toc-item-num\">1.4&nbsp;&nbsp;</span>Homework - symmetric matrices</a></span></li><li><span><a href=\"#Homework---complexity-of-matrix-vector-multiplication-[*]\" data-toc-modified-id=\"Homework---complexity-of-matrix-vector-multiplication-[*]-1.5\"><span class=\"toc-item-num\">1.5&nbsp;&nbsp;</span>Homework - complexity of matrix-vector multiplication [*]</a></span></li><li><span><a href=\"#Homework---matrix-vector-multiplication-as-a-weighted-sum-of-columns\" data-toc-modified-id=\"Homework---matrix-vector-multiplication-as-a-weighted-sum-of-columns-1.6\"><span class=\"toc-item-num\">1.6&nbsp;&nbsp;</span>Homework - matrix-vector multiplication as a weighted sum of columns</a></span></li><li><span><a href=\"#Homework---calculating-the-rank-and-the-null-space-of-a-matrix\" data-toc-modified-id=\"Homework---calculating-the-rank-and-the-null-space-of-a-matrix-1.7\"><span class=\"toc-item-num\">1.7&nbsp;&nbsp;</span>Homework - calculating the rank and the null-space of a matrix</a></span><ul class=\"toc-item\"><li><span><a href=\"#(Reduced)-row-echelon-form-of-a-matrix-and-links-to-the-matrix-rank-and-null-space\" data-toc-modified-id=\"(Reduced)-row-echelon-form-of-a-matrix-and-links-to-the-matrix-rank-and-null-space-1.7.1\"><span class=\"toc-item-num\">1.7.1&nbsp;&nbsp;</span>(Reduced) row echelon form of a matrix and links to the matrix rank and null space</a></span></li><li><span><a href=\"#Calculating-the-rank-and-the-null-space\" data-toc-modified-id=\"Calculating-the-rank-and-the-null-space-1.7.2\"><span class=\"toc-item-num\">1.7.2&nbsp;&nbsp;</span>Calculating the rank and the null space</a></span></li></ul></li><li><span><a href=\"#Homework---formula-for-the-inverse-of-a-$2\\times-2$-matrix-[*]\" data-toc-modified-id=\"Homework---formula-for-the-inverse-of-a-$2\\times-2$-matrix-[*]-1.8\"><span class=\"toc-item-num\">1.8&nbsp;&nbsp;</span>Homework - formula for the inverse of a $2\\times 2$ matrix [*]</a></span></li><li><span><a href=\"#Homework---tricky-matrices-[*]\" data-toc-modified-id=\"Homework---tricky-matrices-[*]-1.9\"><span class=\"toc-item-num\">1.9&nbsp;&nbsp;</span>Homework - tricky matrices [*]</a></span></li><li><span><a href=\"#Homework---linear-transformations\" data-toc-modified-id=\"Homework---linear-transformations-1.10\"><span class=\"toc-item-num\">1.10&nbsp;&nbsp;</span>Homework - linear transformations</a></span></li><li><span><a href=\"#Homework---implementing-a-function-to-compute-the-determinant-[**]\" data-toc-modified-id=\"Homework---implementing-a-function-to-compute-the-determinant-[**]-1.11\"><span class=\"toc-item-num\">1.11&nbsp;&nbsp;</span>Homework - implementing a function to compute the determinant [**]</a></span></li><li><span><a href=\"#Homework---another-way-to-derive-Cramer's-rule-[**]\" data-toc-modified-id=\"Homework---another-way-to-derive-Cramer's-rule-[**]-1.12\"><span class=\"toc-item-num\">1.12&nbsp;&nbsp;</span>Homework - another way to derive Cramer's rule [**]</a></span></li><li><span><a href=\"#Homework---implementing-Cramer's-rule-[**]\" data-toc-modified-id=\"Homework---implementing-Cramer's-rule-[**]-1.13\"><span class=\"toc-item-num\">1.13&nbsp;&nbsp;</span>Homework - implementing Cramer's rule [**]</a></span></li><li><span><a href=\"#Homework---demonstrate-volume-=-determinant-using-cross-product-[*]\" data-toc-modified-id=\"Homework---demonstrate-volume-=-determinant-using-cross-product-[*]-1.14\"><span class=\"toc-item-num\">1.14&nbsp;&nbsp;</span>Homework - demonstrate volume = determinant using cross product [*]</a></span></li><li><span><a href=\"#Homework---extending-our-logo-animation-[*]\" data-toc-modified-id=\"Homework---extending-our-logo-animation-[*]-1.15\"><span class=\"toc-item-num\">1.15&nbsp;&nbsp;</span>Homework - extending our logo animation [*]</a></span></li><li><span><a href=\"#Homework---projection-matrix-(cf.-PCA-and-dimension-reduction)\" data-toc-modified-id=\"Homework---projection-matrix-(cf.-PCA-and-dimension-reduction)-1.16\"><span class=\"toc-item-num\">1.16&nbsp;&nbsp;</span>Homework - projection matrix (cf. PCA and dimension reduction)</a></span></li></ul></li></ul></div>"
   ]
  },
  {
   "cell_type": "code",
   "execution_count": 7,
   "metadata": {},
   "outputs": [],
   "source": [
    "%matplotlib inline\n",
    "%precision 16\n",
    "import numpy as np\n",
    "import matplotlib.pyplot as plt\n",
    "import scipy.linalg as sl\n",
    "from pprint import pprint"
   ]
  },
  {
   "cell_type": "code",
   "execution_count": 2,
   "metadata": {},
   "outputs": [
    {
     "data": {
      "text/html": [
       "<style>\n",
       "div.optional {\n",
       "    display: block;\n",
       "    background-color: #d7e2ff;\n",
       "    border-color: #d7e2ff;\n",
       "    border-left: 5px solid #d7e2ff;\n",
       "    padding: 0.5em;\n",
       "}\n",
       "div.advanced {\n",
       "    display: block;\n",
       "    background-color: #fff4d7;\n",
       "    border-color: #fff4d7;\n",
       "    border-left: 5px solid #fff4d7;\n",
       "    padding: 0.5em;\n",
       "}\n",
       "</style>\n"
      ],
      "text/plain": [
       "<IPython.core.display.HTML object>"
      ]
     },
     "metadata": {},
     "output_type": "display_data"
    }
   ],
   "source": [
    "%%html\n",
    "<style>\n",
    "div.optional {\n",
    "    display: block;\n",
    "    background-color: #d7e2ff;\n",
    "    border-color: #d7e2ff;\n",
    "    border-left: 5px solid #d7e2ff;\n",
    "    padding: 0.5em;\n",
    "}\n",
    "div.advanced {\n",
    "    display: block;\n",
    "    background-color: #fff4d7;\n",
    "    border-color: #fff4d7;\n",
    "    border-left: 5px solid #fff4d7;\n",
    "    padding: 0.5em;\n",
    "}\n",
    "</style>"
   ]
  },
  {
   "cell_type": "markdown",
   "metadata": {},
   "source": [
    "# Homework"
   ]
  },
  {
   "cell_type": "markdown",
   "metadata": {},
   "source": [
    "## Homework - 2D linear systems\n",
    "\n",
    "Recall from the lecture the system\n",
    "\n",
    "\\begin{eqnarray*}\n",
    "  2x + 3y &=& 7 \\\\[5pt]\n",
    "   x - 4y &=& 3,\n",
    "\\end{eqnarray*} \n",
    "\n",
    "and the following plot which demonstrated a unique solution."
   ]
  },
  {
   "cell_type": "code",
   "execution_count": 3,
   "metadata": {},
   "outputs": [
    {
     "data": {
      "image/png": "[encoded data removed]",
      "text/plain": [
       "<Figure size 500x500 with 1 Axes>"
      ]
     },
     "metadata": {},
     "output_type": "display_data"
    }
   ],
   "source": [
    "# unique solution\n",
    "x = np.linspace(-1,5,100)\n",
    "y1 = -(2./3.)*x + (7./3.)\n",
    "y2 = (1./4.)*x - (3./4.)\n",
    "\n",
    "fig = plt.figure(figsize=(5, 5))\n",
    "\n",
    "ax1 = fig.add_subplot(111)\n",
    "\n",
    "ax1.set_xlabel(\"$x$\", fontsize=14)\n",
    "ax1.set_ylabel(\"$y$\", fontsize=14)\n",
    "ax1.set_title('Two lines', fontsize=14)\n",
    "ax1.grid(True)\n",
    "\n",
    "ax1.plot(x,y1,'b', label='$2x+3y=7$')\n",
    "ax1.plot(x,y2,'r', label='$x-4y=3$')\n",
    "\n",
    "ax1.legend(loc='best', fontsize=14);"
   ]
  },
  {
   "cell_type": "markdown",
   "metadata": {},
   "source": [
    "You were asked in class what other situations are possible and to construct examples and the corresponding plots - try to come up with and plot these situations."
   ]
  },
  {
   "cell_type": "code",
   "execution_count": 6,
   "metadata": {},
   "outputs": [
    {
     "data": {
      "text/plain": [
       "<matplotlib.legend.Legend at 0x7fb5b2e75ed0>"
      ]
     },
     "execution_count": 6,
     "metadata": {},
     "output_type": "execute_result"
    },
    {
     "data": {
      "image/png": "[encoded data removed]",
      "text/plain": [
       "<Figure size 500x500 with 1 Axes>"
      ]
     },
     "metadata": {},
     "output_type": "display_data"
    }
   ],
   "source": [
    "x = np.linspace(-1,5,100)\n",
    "y1 = -(2./3.)*x + (7./3.)\n",
    "y2 = -(4./6.)*x + (1./6.)\n",
    "\n",
    "fig = plt.figure(figsize=(5,5))\n",
    "ax1 = fig.add_subplot(111)\n",
    "\n",
    "ax1.set_xlabel('$x$', fontsize=14)\n",
    "ax1.set_ylabel('$y$', fontsize=14)\n",
    "ax1.set_title('Two lines', fontsize=14)\n",
    "ax1.grid(True)\n",
    "\n",
    "ax1.plot(x,y1, 'b', label='$2x+3y=7$')\n",
    "ax1.plot(x,y2, 'r', label='$-4x-6y=1$')\n",
    "ax1.legend(loc='best', fontsize=14)\n"
   ]
  },
  {
   "cell_type": "code",
   "execution_count": 8,
   "metadata": {},
   "outputs": [
    {
     "name": "stdout",
     "output_type": "stream",
     "text": [
      "The determinant is :  0.0\n",
      "This is effectively zero: True\n"
     ]
    }
   ],
   "source": [
    "A = np.array([[2,3],[-4,-6]])\n",
    "print('The determinant is : ', sl.det(A))\n",
    "print('This is effectively zero:', np.allclose(0,sl.det(A)) )\n"
   ]
  },
  {
   "cell_type": "code",
   "execution_count": 10,
   "metadata": {},
   "outputs": [
    {
     "data": {
      "text/plain": [
       "<matplotlib.legend.Legend at 0x7fb5b2d0b760>"
      ]
     },
     "execution_count": 10,
     "metadata": {},
     "output_type": "execute_result"
    },
    {
     "data": {
      "image/png": "[encoded data removed]",
      "text/plain": [
       "<Figure size 500x500 with 1 Axes>"
      ]
     },
     "metadata": {},
     "output_type": "display_data"
    }
   ],
   "source": [
    "x = np.linspace(-1,5,100)\n",
    "y1 = -(2./3.)*x + (7./3.)\n",
    "y2 = -(4./6.)*x + (14./6.)\n",
    "\n",
    "fig = plt.figure(figsize=(5,5))\n",
    "ax1 = fig.add_subplot(111)\n",
    "\n",
    "ax1.set_xlabel('$x$', fontsize=14)\n",
    "ax1.set_ylabel('$y$', fontsize=14)\n",
    "ax1.set_title('Two lines', fontsize=14)\n",
    "ax1.grid(True)\n",
    "\n",
    "ax1.plot(x,y1, 'b', label='$2x+3y=7$')\n",
    "ax1.plot(x,y2, 'r', label='$-4x-6y=1$')\n",
    "ax1.legend(loc='best', fontsize=14)\n"
   ]
  },
  {
   "cell_type": "markdown",
   "metadata": {},
   "source": [
    "## Homework - checking properties of transposes\n",
    "\n",
    "Check the four properties of the transpose operator from the lecture for some example matrices.\n",
    "\n",
    "Hint: \n",
    "\n",
    "```Python\n",
    "A = np.random.random((m,n))\n",
    "```\n",
    "\n",
    "is a convenient way to generate an arbitrary m by n matrix."
   ]
  },
  {
   "cell_type": "code",
   "execution_count": 16,
   "metadata": {},
   "outputs": [
    {
     "name": "stdout",
     "output_type": "stream",
     "text": [
      "(A+B)^T = A^T + B^T True\n",
      "(alpha*A)^T = alpha* A^T True\n",
      "(A^T)^T = A True\n",
      "(AB)^T = B^T A^T True\n"
     ]
    }
   ],
   "source": [
    "m = 10\n",
    "n = 10\n",
    "A = np.random.random((m,n))\n",
    "B = np.random.random((m,n))\n",
    "print('(A+B)^T = A^T + B^T', np.allclose((A+B).T, A.T + B.T))\n",
    "alpha = np.pi\n",
    "print('(alpha*A)^T = alpha* A^T',np.allclose((alpha*A).T, alpha * A.T))\n",
    "print('(A^T)^T = A', np.array_equal((A.T).T, A))\n",
    "print('(AB)^T = B^T A^T', np.allclose((A@B).T, B.T @ A.T))"
   ]
  },
  {
   "cell_type": "markdown",
   "metadata": {},
   "source": [
    "## Homework - prove that $(AB)^T = B^T A^T$ [*]\n",
    "\n",
    "As per the section title!"
   ]
  },
  {
   "cell_type": "markdown",
   "metadata": {},
   "source": [
    "## Homework - symmetric matrices\n",
    "\n",
    "1. Given an $n\\times n$ symmetric matrix $A$ and an arbitrary $m\\times n$ matrix B, show that the matrix $BAB^T$ is symmetric.\n",
    "\n",
    "Verify through an example using NumPy.\n",
    "\n",
    "\n",
    "\n",
    "2. If $A$ and $B$ are both symmetric square matrices, are $AB+BA$ and $AB-BA$ symmetric or skew-symmetric?"
   ]
  },
  {
   "cell_type": "code",
   "execution_count": 17,
   "metadata": {},
   "outputs": [
    {
     "name": "stdout",
     "output_type": "stream",
     "text": [
      "[[ 21  51  81]\n",
      " [ 51 121 191]\n",
      " [ 81 191 301]]\n",
      "Is symmetric: True\n"
     ]
    }
   ],
   "source": [
    "A = np.array([[1,4],[4,1]])\n",
    "B = np.array([[1,2],[3,4],[5,6]])\n",
    "print((B@A)@B.T)\n",
    "\n",
    "print('Is symmetric:', np.array_equal((B@A)@B.T, ((B@A)@B.T).T))"
   ]
  },
  {
   "cell_type": "markdown",
   "metadata": {},
   "source": [
    "<div class=\"optional\">\n",
    "\n",
    "## Homework - complexity of matrix-vector multiplication [*]\n",
    "\n",
    "Extend the timing check of matrix-vector multiplication we did in lecture for a small matrix to a series of increasing matrix sizes.\n",
    "\n",
    "Plot how your timings depend on problem size - I suggest you present your results using a log-log plot with $n$ on the $x$ axis and run times on the $y$ axis.\n",
    "\n",
    "</div>"
   ]
  },
  {
   "cell_type": "code",
   "execution_count": 22,
   "metadata": {},
   "outputs": [
    {
     "name": "stdout",
     "output_type": "stream",
     "text": [
      "A @ x = mat_vec_product(A,x): True\n",
      "The slowest run took 799.31 times longer than the fastest. This could mean that an intermediate result is being cached.\n",
      "794 µs ± 1.12 ms per loop (mean ± std. dev. of 3 runs, 10 loops each)\n",
      "The slowest run took 1585.64 times longer than the fastest. This could mean that an intermediate result is being cached.\n",
      "1.3 ms ± 1.84 ms per loop (mean ± std. dev. of 3 runs, 10 loops each)\n",
      "8.47 ms ± 3.12 ms per loop (mean ± std. dev. of 3 runs, 10 loops each)\n",
      "2.9711998649872838e-06 2.462599513819441e-06 0.005489153599774\n"
     ]
    }
   ],
   "source": [
    "def mat_vec_product(A,x):\n",
    "    m,n = np.shape(A)\n",
    "    b = np.zeros(m)\n",
    "    for i in  range(m):\n",
    "        for j in range(n):\n",
    "            b[i] += A[i,j] * x[j]\n",
    "    return b\n",
    "m = 123\n",
    "n = 149\n",
    "A = np.random.random((m,n))\n",
    "x = np.random.random(n)\n",
    "print('A @ x = mat_vec_product(A,x):', np.allclose(A@x, mat_vec_product(A,x)))\n",
    "\n",
    "time_at = %timeit -n 10 -r 3 -o b=A@x\n",
    "time_dot = %timeit -n 10 -r 3 -o b = A.dot(x)\n",
    "time_ours = %timeit -n 10 -r 3 -o b = mat_vec_product(A,x)\n",
    "\n",
    "print(time_at.best, time_dot.best, time_ours.best)"
   ]
  },
  {
   "cell_type": "code",
   "execution_count": 25,
   "metadata": {},
   "outputs": [
    {
     "name": "stdout",
     "output_type": "stream",
     "text": [
      "1.58 µs ± 1.03 µs per loop (mean ± std. dev. of 3 runs, 10 loops each)\n",
      "The slowest run took 5.34 times longer than the fastest. This could mean that an intermediate result is being cached.\n",
      "712 ns ± 590 ns per loop (mean ± std. dev. of 3 runs, 10 loops each)\n",
      "The slowest run took 12.10 times longer than the fastest. This could mean that an intermediate result is being cached.\n",
      "5.22 µs ± 4.81 µs per loop (mean ± std. dev. of 3 runs, 10 loops each)\n",
      "The slowest run took 6.09 times longer than the fastest. This could mean that an intermediate result is being cached.\n",
      "2.18 µs ± 1.92 µs per loop (mean ± std. dev. of 3 runs, 10 loops each)\n",
      "The slowest run took 17.46 times longer than the fastest. This could mean that an intermediate result is being cached.\n",
      "2.58 µs ± 3.07 µs per loop (mean ± std. dev. of 3 runs, 10 loops each)\n",
      "2.98 µs ± 1.41 µs per loop (mean ± std. dev. of 3 runs, 10 loops each)\n",
      "1.27 µs ± 646 ns per loop (mean ± std. dev. of 3 runs, 10 loops each)\n",
      "The slowest run took 26.04 times longer than the fastest. This could mean that an intermediate result is being cached.\n",
      "21.9 µs ± 27.1 µs per loop (mean ± std. dev. of 3 runs, 10 loops each)\n",
      "13.1 µs ± 5.49 µs per loop (mean ± std. dev. of 3 runs, 10 loops each)\n",
      "The slowest run took 4.18 times longer than the fastest. This could mean that an intermediate result is being cached.\n",
      "1.94 µs ± 1.41 µs per loop (mean ± std. dev. of 3 runs, 10 loops each)\n",
      "The slowest run took 38.36 times longer than the fastest. This could mean that an intermediate result is being cached.\n",
      "5.96 µs ± 7.8 µs per loop (mean ± std. dev. of 3 runs, 10 loops each)\n",
      "19 µs ± 8.86 µs per loop (mean ± std. dev. of 3 runs, 10 loops each)\n",
      "1.96 µs ± 1.24 µs per loop (mean ± std. dev. of 3 runs, 10 loops each)\n",
      "The slowest run took 7.45 times longer than the fastest. This could mean that an intermediate result is being cached.\n",
      "1.56 µs ± 1.49 µs per loop (mean ± std. dev. of 3 runs, 10 loops each)\n",
      "23.4 µs ± 4.97 µs per loop (mean ± std. dev. of 3 runs, 10 loops each)\n",
      "1.31 µs ± 578 ns per loop (mean ± std. dev. of 3 runs, 10 loops each)\n",
      "2.46 µs ± 1.13 µs per loop (mean ± std. dev. of 3 runs, 10 loops each)\n",
      "59.2 µs ± 933 ns per loop (mean ± std. dev. of 3 runs, 10 loops each)\n",
      "2.46 µs ± 1.23 µs per loop (mean ± std. dev. of 3 runs, 10 loops each)\n",
      "The slowest run took 5.72 times longer than the fastest. This could mean that an intermediate result is being cached.\n",
      "1.99 µs ± 1.71 µs per loop (mean ± std. dev. of 3 runs, 10 loops each)\n",
      "48.1 µs ± 8.81 µs per loop (mean ± std. dev. of 3 runs, 10 loops each)\n",
      "The slowest run took 4.44 times longer than the fastest. This could mean that an intermediate result is being cached.\n",
      "2.15 µs ± 1.62 µs per loop (mean ± std. dev. of 3 runs, 10 loops each)\n",
      "The slowest run took 14.66 times longer than the fastest. This could mean that an intermediate result is being cached.\n",
      "3.37 µs ± 2.42 µs per loop (mean ± std. dev. of 3 runs, 10 loops each)\n",
      "67.2 µs ± 18.8 µs per loop (mean ± std. dev. of 3 runs, 10 loops each)\n",
      "1.64 µs ± 1.14 µs per loop (mean ± std. dev. of 3 runs, 10 loops each)\n",
      "The slowest run took 8.09 times longer than the fastest. This could mean that an intermediate result is being cached.\n",
      "1.39 µs ± 1.37 µs per loop (mean ± std. dev. of 3 runs, 10 loops each)\n",
      "71.8 µs ± 6.15 µs per loop (mean ± std. dev. of 3 runs, 10 loops each)\n",
      "The slowest run took 11.27 times longer than the fastest. This could mean that an intermediate result is being cached.\n",
      "3.67 µs ± 4.01 µs per loop (mean ± std. dev. of 3 runs, 10 loops each)\n",
      "The slowest run took 28.68 times longer than the fastest. This could mean that an intermediate result is being cached.\n",
      "5.34 µs ± 5.02 µs per loop (mean ± std. dev. of 3 runs, 10 loops each)\n",
      "101 µs ± 11.9 µs per loop (mean ± std. dev. of 3 runs, 10 loops each)\n",
      "2.36 µs ± 1.18 µs per loop (mean ± std. dev. of 3 runs, 10 loops each)\n",
      "765 ns ± 415 ns per loop (mean ± std. dev. of 3 runs, 10 loops each)\n",
      "167 µs ± 13.3 µs per loop (mean ± std. dev. of 3 runs, 10 loops each)\n",
      "The slowest run took 15.66 times longer than the fastest. This could mean that an intermediate result is being cached.\n",
      "6.66 µs ± 7.82 µs per loop (mean ± std. dev. of 3 runs, 10 loops each)\n",
      "The slowest run took 8.25 times longer than the fastest. This could mean that an intermediate result is being cached.\n",
      "2.13 µs ± 2.09 µs per loop (mean ± std. dev. of 3 runs, 10 loops each)\n",
      "182 µs ± 17.8 µs per loop (mean ± std. dev. of 3 runs, 10 loops each)\n",
      "The slowest run took 5.08 times longer than the fastest. This could mean that an intermediate result is being cached.\n",
      "2.03 µs ± 1.64 µs per loop (mean ± std. dev. of 3 runs, 10 loops each)\n",
      "1.28 µs ± 644 ns per loop (mean ± std. dev. of 3 runs, 10 loops each)\n",
      "203 µs ± 27.9 µs per loop (mean ± std. dev. of 3 runs, 10 loops each)\n",
      "The slowest run took 4.05 times longer than the fastest. This could mean that an intermediate result is being cached.\n",
      "1.85 µs ± 1.26 µs per loop (mean ± std. dev. of 3 runs, 10 loops each)\n",
      "The slowest run took 8.10 times longer than the fastest. This could mean that an intermediate result is being cached.\n",
      "1.57 µs ± 1.54 µs per loop (mean ± std. dev. of 3 runs, 10 loops each)\n",
      "184 µs ± 23.8 µs per loop (mean ± std. dev. of 3 runs, 10 loops each)\n",
      "1.68 µs ± 1.01 µs per loop (mean ± std. dev. of 3 runs, 10 loops each)\n",
      "679 ns ± 269 ns per loop (mean ± std. dev. of 3 runs, 10 loops each)\n",
      "214 µs ± 22.1 µs per loop (mean ± std. dev. of 3 runs, 10 loops each)\n"
     ]
    },
    {
     "data": {
      "image/png": "[encoded data removed]",
      "text/plain": [
       "<Figure size 700x700 with 1 Axes>"
      ]
     },
     "metadata": {},
     "output_type": "display_data"
    }
   ],
   "source": [
    "ns = np.array([2*p for p in range(15)])\n",
    "ns_max_ours = 300\n",
    "times_at = np.zeros(len(ns))\n",
    "times_dot = np.zeros(len(ns))\n",
    "times_ours = np.zeros(len(ns))\n",
    "\n",
    "for it,n in enumerate(ns):\n",
    "    A = np.random.random((n,n))\n",
    "    x = np.random.random((n))\n",
    "    tt = %timeit -n 10 -r 3 -o b=A@x\n",
    "    times_at[it] = tt.best\n",
    "    tt = %timeit -n 10 -r 3 -o b=A.dot(x)\n",
    "    times_dot[it] = tt.best\n",
    "    if n < ns_max_ours:\n",
    "        tt = %timeit -n 10 -r 3 -o b = mat_vec_product(A,x)\n",
    "        times_ours[it] = tt.best\n",
    "        \n",
    "fig = plt.figure(figsize=(7,7))\n",
    "ax1 = fig.add_subplot(111)\n",
    "\n",
    "ax1.loglog(ns,times_at, 'ko-', label='@')\n",
    "ax1.loglog(ns,times_dot, 'bo-', label='.dot')\n",
    "ax1.loglog(ns[np.where(ns<ns_max_ours)[0]], times_ours[np.where(ns<ns_max_ours)[0]], 'ro-', label='ours function')\n",
    "\n",
    "ax1.set_xlabel('$n$', fontsize=16)\n",
    "ax1.set_ylabel('%Timeit best time [seconds]', fontsize=16)\n",
    "ax1.set_title('Matrix vector product cost', fontsize=16)\n",
    "ax1.legend(loc='best', fontsize=14)\n",
    "ax1.grid(True)"
   ]
  },
  {
   "cell_type": "markdown",
   "metadata": {},
   "source": [
    "## Homework - matrix-vector multiplication as a weighted sum of columns\n",
    "\n",
    "In the lecture we pointed out \"another useful interpretation\" of matrix vector multiplication.\n",
    "\n",
    "Code up this approach and perform the same testing that we did in the lecture for `def mat_vec_product(A, x)`."
   ]
  },
  {
   "cell_type": "code",
   "execution_count": 27,
   "metadata": {},
   "outputs": [
    {
     "name": "stdout",
     "output_type": "stream",
     "text": [
      "[ 5. -3.]\n",
      "mat_vec_product2(A,x) == A@x: True\n",
      "[ 5. -3.  2.]\n",
      "mat_vec_product2(A,x) == A@x True\n"
     ]
    }
   ],
   "source": [
    "def mat_vec_product2(A,x):\n",
    "    m,n = np.shape(A)\n",
    "    assert x.ndim == 1\n",
    "    assert n == len(x)\n",
    "    b = np.zeros(m)\n",
    "    for j in range(n):\n",
    "        b[:] += x[j] * A[:,j]\n",
    "    return b\n",
    "\n",
    "A = np.array([[2,3],[1,-4]])\n",
    "x = np.array([1,1])\n",
    "\n",
    "print(mat_vec_product2(A,x))\n",
    "print('mat_vec_product2(A,x) == A@x:', np.allclose(mat_vec_product2(A,x),A@x))\n",
    "\n",
    "A = np.array([[2,3],[1,-4],[1,1]])\n",
    "x = np.array([1,1])\n",
    "print(mat_vec_product2(A,x))\n",
    "print('mat_vec_product2(A,x) == A@x', np.allclose(mat_vec_product2(A,x),A@x))    "
   ]
  },
  {
   "cell_type": "markdown",
   "metadata": {},
   "source": [
    "## Homework - calculating the rank and the null-space of a matrix\n",
    "\n",
    "\n",
    "### (Reduced) row echelon form of a matrix and links to the matrix rank and null space\n",
    "\n",
    "Recall that row operations performed on the augmented matrix formed of the LHS matrix and the RHS vector transform the system into a new system that has the same solution. The point is that we do this so that the new form is trivial to solve, e.g. using back substitution in the case of Gaussian elimination.\n",
    "\n",
    "\n",
    "Recall that **row operations** are defined as\n",
    "\n",
    "1. multiply each row by a non-zero scalar\n",
    "\n",
    "\n",
    "2. add multiples of one row to another \n",
    "\n",
    "\n",
    "3. swap rows\n",
    "\n",
    "<br>\n",
    "\n",
    "It's *also* the case that row operations do not change the rank of a matrix. \n",
    "\n",
    "Therefore one way to establish the **rank** of a matrix is to transform it into (R)REF and read off the rank of the transformed matrix which is the number of linearly independent rows (equivalently the number of linearly independent columns), and this is also the rank of the matrix in its original form.  \n",
    "\n",
    "\n",
    "Note that sometimes we will want to compute the rank of a matrix $A$, but sometimes the rank of the augmented matrix $[A|\\boldsymbol{b}]$.\n",
    "\n",
    "    \n",
    "<br> \n",
    "\n",
    "Recall that a matrix is in [***row echelon form (REF)***](https://en.wikipedia.org/wiki/Row_echelon_form) when\n",
    "\n",
    "\n",
    "- all non-zero rows are above any rows of all zeros (NB. if we do have rows of all zeros then the matrix is singular), and\n",
    "\n",
    "\n",
    "- the leading coefficient in the row (first non-zero entry from the left) is always strictly to the right of the leading coefficient of the row above\n",
    "\n",
    "\n",
    "<br>\n",
    "If in addition\n",
    "\n",
    "- the leading coefficient in any non-zero row is unity and every column containing a leading '1' has zeros everywhere else within that column, we say the matrix is in ***reduced row echelon form (RREF)***.\n",
    "\n",
    "\n",
    "<br>\n",
    "\n",
    "\n",
    "### Problems with a zero RHS  <a class=\"tocSkip\">\n",
    "\n",
    "\n",
    "Question:  what happens to the system undergoing row operations in the case when $\\boldsymbol{b} = \\boldsymbol{0}$?\n",
    "\n",
    "\n",
    "<br>\n",
    "\n",
    "Suppose you do row operations to a system with a zero RHS ($A\\boldsymbol{x}=\\boldsymbol{0}$) and are able to end up with this system\n",
    "\n",
    "$$\n",
    "  \\begin{pmatrix}\n",
    "    1 & 0 \\\\\n",
    "    0 & 1  \n",
    "  \\end{pmatrix}\n",
    "  \\begin{pmatrix}\n",
    "    x \\\\\n",
    "    y \n",
    "  \\end{pmatrix}=\n",
    "  \\begin{pmatrix}\n",
    "    0 \\\\\n",
    "    0 \n",
    "  \\end{pmatrix}   \n",
    "$$\n",
    "\n",
    "what does this tell you about possible solutions to the problem $A\\boldsymbol{x}=\\boldsymbol{0}$?\n",
    "\n",
    "<br>\n",
    "\n",
    "Now suppose instead of the final form above you end up with the following\n",
    "\n",
    "$$\n",
    "  \\begin{pmatrix}\n",
    "    1 & 0 \\\\\n",
    "    0 & 0  \n",
    "  \\end{pmatrix}\n",
    "  \\begin{pmatrix}\n",
    "    x \\\\\n",
    "    y \n",
    "  \\end{pmatrix}=\n",
    "  \\begin{pmatrix}\n",
    "    0 \\\\\n",
    "    0 \n",
    "  \\end{pmatrix}   \n",
    "$$\n",
    "\n",
    "what does this tell you about possible solutions to the problem $A\\boldsymbol{x}=\\boldsymbol{0}$?\n",
    "\n",
    "<br>  \n",
    "\n",
    "Note that for a matrix $A$ the space $\\{\\boldsymbol{x} | A\\boldsymbol{x} = \\boldsymbol{0}\\} $ is called the null space of $A$. \n",
    "\n",
    "So note that as well as solving linear systems, row operations give us a method for calculating the null space of a matrix (for this case you do not need to bother including the RHS in the augmented matrix, as we know it can never change from the zero vector under row operations), and the dimension of the null space helps us define the rank of a matrix."
   ]
  },
  {
   "cell_type": "markdown",
   "metadata": {},
   "source": [
    "### Calculating the rank and the null space\n",
    "\n",
    "How can we compute the rank and the null-space for a given matrix?\n",
    "\n",
    "We can do this using row operations.  \n",
    "\n",
    "We already stated that row operations, when performed on the augmented matrix, results in an updated linear system with the same solution. This is done of course to construct an updated augmented system which corresponds to a system that is trivial to solve, this solution giving the solution to the original non-trivial problem.\n",
    "\n",
    "It's also the case that performing row operations (on a matrix itself or the augmented system) does not change the rank of a matrix (or the augmented system).\n",
    "\n",
    "Hence, we can compute the rank of a matrix by performing row operations on it to transform it to the simpler (reduced) row echelon form.\n",
    "\n",
    "We can then easily read off the rank of the transformed matrix as the number of linearly independent rows (equivalently the number of linearly independent columns), and this is also the rank of the matrix in its original form.\n",
    "\n",
    "<br>\n",
    "\n",
    "See also \n",
    "<https://www.statisticshowto.com/matrices-and-matrix-algebra/reduced-row-echelon-form-2/>.\n"
   ]
  },
  {
   "cell_type": "markdown",
   "metadata": {},
   "source": [
    "Try calculating the rank of the following matrix \n",
    "\n",
    "$$ A =\n",
    "\\begin{pmatrix}\n",
    "-2 & -4 & -20 \\\\\n",
    "2 & 6 & 24 \\\\\n",
    "2 & 10 & 32\n",
    "\\end{pmatrix}\n",
    "$$\n",
    "\n",
    "using the command  `np.linalg.matrix_rank` check your result.\n",
    "\n",
    "By the rank-nullity theorem what is the dimension of the null-space?\n",
    "\n",
    "Can you compute a basis for the null space?\n"
   ]
  },
  {
   "cell_type": "code",
   "execution_count": 28,
   "metadata": {},
   "outputs": [
    {
     "name": "stdout",
     "output_type": "stream",
     "text": [
      "array([[ -2,  -4, -20],\n",
      "       [  2,   6,  24],\n",
      "       [  2,  10,  32]])\n",
      "2\n",
      "array([[1, 0, 6],\n",
      "       [0, 1, 2],\n",
      "       [0, 0, 0]])\n",
      "2\n"
     ]
    }
   ],
   "source": [
    "A = np.array([[-2,-4,-20],[2,6,24],[2,10,32]])\n",
    "pprint(A)\n",
    "print(np.linalg.matrix_rank(A))\n",
    "Arref = np.array([[1,0,6],[0,1,2],[0,0,0]])\n",
    "pprint(Arref)\n",
    "print(np.linalg.matrix_rank(Arref))\n"
   ]
  },
  {
   "cell_type": "code",
   "execution_count": 30,
   "metadata": {},
   "outputs": [
    {
     "name": "stdout",
     "output_type": "stream",
     "text": [
      "[[ 0.9370425713316366]\n",
      " [ 0.3123475237772119]\n",
      " [-0.1561737618886059]]\n",
      "A@null_vecs = 0 True\n",
      "[[ 6.000000000000001 ]\n",
      " [ 1.9999999999999982]\n",
      " [-0.9999999999999991]]\n"
     ]
    }
   ],
   "source": [
    "A = np.array([[-2,-4,-20],[2,6,24],[2,10,32]])\n",
    "null_vecs = sl.null_space(A)\n",
    "print(null_vecs)\n",
    "\n",
    "print('A@null_vecs = 0',np.allclose(A@null_vecs, np.array([0,0,0])))\n",
    "\n",
    "print((sl.null_space(A)/ sl.norm(sl.null_space(A))) * sl.norm(np.array([6,2,-1])))\n"
   ]
  },
  {
   "cell_type": "markdown",
   "metadata": {},
   "source": [
    "<div class=\"optional\">\n",
    "\n",
    "## Homework - formula for the inverse of a $2\\times 2$ matrix [\\*]\n",
    "\n",
    "Starting from the augmented matrix\n",
    "\n",
    "$$\n",
    "[A \\, | \\, I] = \n",
    "\\left[\n",
    "  \\begin{array}{rr|rr}\n",
    "    a & b & 1 & 0 \\\\\n",
    "    c & d & 0 & 1  \n",
    "  \\end{array}\n",
    "\\right]\n",
    "$$\n",
    "\n",
    "use row operations to derive the general formula for the inverse matrix.\n",
    "    \n",
    "</div>"
   ]
  },
  {
   "cell_type": "markdown",
   "metadata": {},
   "source": [
    "<div class=\"optional\">\n",
    "\n",
    "## Homework - tricky matrices [*]\n",
    "\n",
    "Consider the problem\n",
    "\n",
    "$$\n",
    "\\begin{pmatrix}\n",
    "    6.073 & 2.693 \\\\\n",
    "    4.772 & 2.116 \n",
    "\\end{pmatrix}  \n",
    "\\begin{pmatrix}\n",
    "    x \\\\\n",
    "    y \n",
    "\\end{pmatrix}  =\n",
    "\\begin{pmatrix}\n",
    "    3.921 \\\\\n",
    "    3.082 \n",
    "\\end{pmatrix}.\n",
    "$$\n",
    "\n",
    "1. Solve this problem using the `sl.solve` function, as well as by computing the inverse and multiplying through.\n",
    "\n",
    "\n",
    "2. Use `np.allclose` to demonstrate how many decimal places the two answers agree to.\n",
    "\n",
    "\n",
    "Stick with one of these solution methods for the remainder of these questions.\n",
    "\n",
    "\n",
    "3. Perturb $a_{11}$ by $-10^{-3}$ - how much does the result of the linear system change?\n",
    "\n",
    "\n",
    "4. Perturb both entries of $\\boldsymbol{b}$ by $10^{-3}$ - how much does the result of the linear system change?\n",
    "\n",
    "\n",
    "5. Round all entries of the original system to two decimal places - how much does the result of the linear system change?\n",
    "\n",
    "\n",
    "6. For each of the tests above calculate a relative error compared to the original solution (remember a relative error of 1 corresponds to an error of 100% the original). You can use `sl.norm` to compute the magnitude of a vector.\n",
    "\n",
    "</div>"
   ]
  },
  {
   "cell_type": "code",
   "execution_count": 41,
   "metadata": {},
   "outputs": [
    {
     "name": "stdout",
     "output_type": "stream",
     "text": [
      "sl.det(A1): -0.0005279999999981487\n",
      "\n",
      " sl.solve(A1,b): [  5.662878787898163 -11.314393939437632]\n",
      "\n",
      " sl.inv(A1)@b1: [[ -4007.5757575898097   5100.378787896671 ]\n",
      " [  9037.878787910478  -11501.89393943427  ]]\n",
      "\n",
      " sl.solve(A1,b1) - sl.inv(A1)@b1: [ 8.597567102697212e-13 -4.165556788393587e-12]\n",
      "\n",
      " sl.solve(A1,b1) == sl.inv(A1)@b1: False\n",
      "\n",
      " sl.solve(A1,b1) == sl.inv(A1)@b1: False\n",
      "\n",
      " so they agree to 12 decimal places\n",
      "\n",
      " sl.det(A2): 4.90000000008699e-05\n",
      "\n",
      " sl.solve(A2,b2): [-61.02040816217076 139.04081632406272]\n",
      "\n",
      " Rel error: 12.999808664338557\n",
      "\n",
      " Real error: 0.21304034266397995\n",
      "\n",
      " sl.inv(A4)@b4: [ 0.6792452830188181 -0.0754716981130477]\n",
      "\n",
      " Rel error: 0.9716961364171217\n"
     ]
    }
   ],
   "source": [
    "A1 = np.array([[6.073, 2.693],[4.772,2.116]])\n",
    "b1 = np.array([3.921,3.082])\n",
    "\n",
    "print('sl.det(A1):', sl.det(A1))\n",
    "print('\\n sl.solve(A1,b):', sl.solve(A1,b1))\n",
    "print('\\n sl.inv(A1)@b1:', sl.inv(A1))\n",
    "print('\\n sl.solve(A1,b1) - sl.inv(A1)@b1:', sl.solve(A1,b1) - sl.inv(A1)@b1)\n",
    "#2\n",
    "print('\\n sl.solve(A1,b1) == sl.inv(A1)@b1:', np.allclose(sl.solve(A1,b1) , sl.inv(A1)@b1, rtol=0.0, atol=1e-12))\n",
    "print('\\n sl.solve(A1,b1) == sl.inv(A1)@b1:', np.allclose(sl.solve(A1,b1) , sl.inv(A1)@b1, rtol=0.0, atol=1e-13))\n",
    "print('\\n so they agree to 12 decimal places')\n",
    "#3\n",
    "A2 = A1 - np.diag(np.array([[1.0e-3,0],[0,0]]))\n",
    "print('\\n sl.det(A2):', sl.det(A2))\n",
    "b2 = b1\n",
    "print('\\n sl.solve(A2,b2):', sl.solve(A2,b2))\n",
    "x1 = sl.inv(A1)@b1\n",
    "x2 = sl.inv(A2)@b2\n",
    "print('\\n Rel error:', sl.norm(x1-x2)/sl.norm(x1))\n",
    "\n",
    "#4\n",
    "A3 = A1\n",
    "b3 = b1 + 1.0e-3 * np.array([1,1])\n",
    "x3 = sl.inv(A3)@b3\n",
    "print('\\n Real error:', sl.norm(x1-x3)/sl.norm(x1))\n",
    "\n",
    "#5\n",
    "A4 = np.round(A1,2)\n",
    "b4 = np.round(b1,2)\n",
    "print('\\n sl.inv(A4)@b4:', sl.inv(A4)@b4)\n",
    "x4 = sl.inv(A4)@b4\n",
    "print('\\n Rel error:', sl.norm(x1-x4)/sl.norm(x1))\n"
   ]
  },
  {
   "cell_type": "markdown",
   "metadata": {},
   "source": [
    "## Homework - linear transformations\n",
    "\n",
    "Recall from lectures we said that \n",
    "the action of multiplying by a matrix is what is called a [linear operator](https://en.wikipedia.org/wiki/Linear_map). This means that matrix multiplication satisfies the properties (for a matrix $A$, vectors $\\boldsymbol{x}$ and $\\boldsymbol{y}$, and scalar $\\alpha$)\n",
    "\n",
    "\n",
    "1. $A (x + y) = Ax + Ay$\n",
    "\n",
    "\n",
    "2. $A (\\alpha x) = \\alpha A x$\n",
    "\n",
    "\n",
    "Convince yourselves of these facts for a $2\\times 2$ example geometrically - i.e. plot these things as vectors in 2D space."
   ]
  },
  {
   "cell_type": "code",
   "execution_count": 48,
   "metadata": {},
   "outputs": [
    {
     "data": {
      "text/plain": [
       "[<matplotlib.lines.Line2D at 0x7fb5adc58430>]"
      ]
     },
     "execution_count": 48,
     "metadata": {},
     "output_type": "execute_result"
    },
    {
     "data": {
      "image/png": "[encoded data removed]",
      "text/plain": [
       "<Figure size 600x600 with 1 Axes>"
      ]
     },
     "metadata": {},
     "output_type": "display_data"
    }
   ],
   "source": [
    "\n",
    "\n",
    "fig = plt.figure(figsize=(6,6))\n",
    "ax1 = fig.add_subplot(111)\n",
    "\n",
    "ax1.set_xlabel('$x,x$', fontsize=14)\n",
    "ax1.set_ylabel('$y,y$', fontsize=14)\n",
    "ax1.set_title('Transforming points', fontsize=14)\n",
    "ax1.grid(True)\n",
    "\n",
    "i = np.array([1,0])\n",
    "j = np.array([0,1])\n",
    "ax1.quiver(i[0],i[1],angles='xy', scale_units='xy', scale=1,color='k',zorder=10)\n",
    "ax1.quiver(j[0],j[1],angles='xy', scale_units='xy', scale=1,color='k',zorder=10)\n",
    "ax1.text(i[0]+0.1, i[1], '$i$', fontsize=12)\n",
    "ax1.text(j[0], i[1]+0.1, '$i$', fontsize=12)\n",
    "\n",
    "p = np.array([1.9, 2.3])\n",
    "q = np.array([0.2, 1.1])\n",
    "\n",
    "ax1.plot(p[0], p[1], 'bo', label='$p$')\n",
    "ax1.plot(q[0], q[1], 'go', label='$q$')\n",
    "\n",
    "spq = p + q\n",
    "ax1.plot(spq[0], spq[1], 'ro', label='$p+q$')\n"
   ]
  },
  {
   "cell_type": "markdown",
   "metadata": {},
   "source": [
    "<div class=\"advanced\">\n",
    "\n",
    "## Homework - implementing a function to compute the determinant [**]\n",
    "    \n",
    "[This and the next exercise are pretty tough].\n",
    "\n",
    "Write a recursive function to calculate the determinant by expanding out the first row of a matrix, using the formulae here for example: <https://en.wikipedia.org/wiki/Determinant>\n",
    "\n",
    "Hint: you may find  `np.r_` or `np.concatenate` useful to construct the indices required to form a *minor* (defined in lecture - cofactor without the sign) of the matrix - a key line of **my** solution for example reads\n",
    "               \n",
    "```python\n",
    "def determinant(A):\n",
    ".\n",
    ".\n",
    ".\n",
    "    det += (-1.)**col * A[0, col] * determinant( A[1:, np.r_[0:col,col+1:n]] )\n",
    ".\n",
    ".\n",
    ".\n",
    "```\n",
    "\n",
    "<https://docs.scipy.org/doc/numpy/reference/generated/numpy.r_.html>\n",
    "\n",
    "</div>"
   ]
  },
  {
   "cell_type": "markdown",
   "metadata": {},
   "source": [
    "<div class=\"advanced\">\n",
    "\n",
    "## Homework - another way to derive Cramer's rule [**]\n",
    "\n",
    "Define the columns of the identity matrix as $\\boldsymbol{e}_j$, i.e.\n",
    "\n",
    "$$I = \n",
    "\\begin{pmatrix}\n",
    "      &     &         &      \\\\\n",
    "  \\boldsymbol{e}_{:1} & \\boldsymbol{e}_{:2} &  \\ldots &  \\boldsymbol{e}_{:n} \\\\\n",
    "      &     &         &     \\\\\n",
    "      &     &         &    \n",
    "\\end{pmatrix}\n",
    "$$\n",
    "\n",
    "where \n",
    "\n",
    "$$\\boldsymbol{e}_{:j} = \n",
    "\\begin{pmatrix}\n",
    "0 & \\cdots & 0 & 1 & 0 &\\cdots & 0\n",
    "\\end{pmatrix}^T\n",
    "$$\n",
    "\n",
    "where the $1$ appears in the $j$-th entry of the vector.\n",
    "\n",
    "Define $X_k$ to be the identity matrix with the $k$-th column replaced by the unknown vector\n",
    "$\\boldsymbol{x}$:\n",
    "\n",
    "$$X_k = \n",
    "\\begin{pmatrix}\n",
    "      &     &         &   &&&&   \\\\\n",
    "  \\boldsymbol{e}_{:1} & \\boldsymbol{e}_{:2} &  \\ldots & \\boldsymbol{e}_{:j-1} & \\boldsymbol{x} & \\boldsymbol{e}_{:j+1}  & \\ldots & \\boldsymbol{e}_{:n} \\\\\n",
    "      &     &         &   &&&&  \\\\\n",
    "      &     &         &   &&&&  \n",
    "\\end{pmatrix}\n",
    "$$\n",
    "\n",
    "\n",
    "1. What does $|X_k|$ equal?\n",
    "\n",
    "\n",
    "2. What matrix results from the product $AX_k$?\n",
    "\n",
    "\n",
    "3. Starting from $|X_k| = |A^{-1}\\,A\\,X_k| $, and using the results from parts 1 and 2, try to derive the expression for Cramer's rule we wrote down in the lecture.\n",
    "\n",
    "</div>"
   ]
  },
  {
   "cell_type": "markdown",
   "metadata": {},
   "source": [
    "<div class=\"advanced\">\n",
    "\n",
    "## Homework - implementing Cramer's rule [**]\n",
    "\n",
    "Use your determinant function to implement Cramer's rule: [https://en.wikipedia.org/wiki/Cramer%27s_rule](https://en.wikipedia.org/wiki/Cramer%27s_rule)\n",
    "\n",
    "and test on the system from lectures:\n",
    "\n",
    "```python\n",
    "A = np.array([[2.,3.,-4.], [6.,8.,2.], [4.,8.,-6.]])\n",
    "b = np.array([5.,3.,19.])\n",
    "```\n",
    "\n",
    "See if you can compare the timing of your solver against the use of `scipy.inv` and `scipy.solve` for a series of problem sizes.\n",
    "\n",
    "I considered the matrix\n",
    "\n",
    "```Python\n",
    "A_big = 5*np.eye(n)\n",
    "for i in range(n-1):\n",
    "    A_big[i,i+1] = -2.\n",
    "    A_big[i+1,i] = -2.\n",
    "b_big = np.zeros(n)\n",
    "b_big[n-1] = 1000.\n",
    "```\n",
    "and used something like this to compute a timing\n",
    "```Python\n",
    "tc = %timeit -n 10 -r 3 -o xc=cramers_rule(A_big,b_big)\n",
    "```\n",
    "Check the `timeit` docs to see what this does. You can extract the best time using `tc.best`.\n",
    "\n",
    "\n",
    "\n",
    "\n",
    "\n",
    "\n",
    "NB. this is the system above:\n",
    "\n",
    "$A\\boldsymbol{x}=\\boldsymbol{b}$ where:\n",
    "\n",
    "$$\n",
    "A = \\begin{pmatrix}\n",
    "5 & -2 & 0 & 0 & \\cdots & 0 \\\\\n",
    "-2 & 5 & -2 & 0 & \\cdots & 0 \\\\\n",
    "0 & -2 & 5 & -2 & \\cdots & 0 \\\\\n",
    "\\vdots & & & \\ddots & & \\vdots \\\\ \n",
    " & & & & 5 & -2 \\\\\n",
    "0 & \\cdots & & & -2 & 5 \\\\ \n",
    "\\end{pmatrix}\n",
    "$$\n",
    "and\n",
    "$$\n",
    "b = \\left(0, 0, \\ldots, 0, 1000  \\right)^T\n",
    "$$\n",
    "\n",
    "\n",
    "</div>"
   ]
  },
  {
   "cell_type": "markdown",
   "metadata": {},
   "source": [
    "<div class=\"optional\">\n",
    "\n",
    "## Homework - demonstrate volume = determinant using cross product [*]\n",
    "\n",
    "Consider the following image based on a similar image from the lecture.\n",
    "\n",
    "Remind yourself what a cross product of two vectors is, and how to compute it.\n",
    "\n",
    "Its magnitude is equal to the area (volume) of the parallelogram spanned by the vectors. Therefore if we take the two vectors to be the transformed basis vectors, then the magnitude of the cross product should be the ratio between the area of the red parallelogram to the blue square, i.e. the determinant.\n",
    "\n",
    "Demonstrate this.\n",
    "\n",
    "</div>"
   ]
  },
  {
   "cell_type": "markdown",
   "metadata": {},
   "source": [
    "<div class=\"optional\">\n",
    "\n",
    "## Homework - extending our logo animation [*]\n",
    "\n",
    "See if you can update the script to generate the rotating logo animation to something like the second animation from the start of the lecture.\n",
    "\n",
    "Hint: to do this I made use of `scipy.interpolate.interp1d` along with `numpy.random.random` to generate a random path for the logo to follow, as well as randomly change the size - I smoothed these in time so the path and sizing didn't jump discontinuously.\n",
    "\n",
    "</div>"
   ]
  },
  {
   "cell_type": "markdown",
   "metadata": {},
   "source": [
    "e.g. something like this:\n",
    "\n",
    "<video controls loop width=\"400\" src=\"animations/logo-matt.mp4\"/>"
   ]
  },
  {
   "cell_type": "markdown",
   "metadata": {},
   "source": [
    "## Homework - projection matrix (cf. PCA and dimension reduction)\n",
    "\n",
    "We can use matrices to project vectors.\n",
    "\n",
    "<https://en.wikipedia.org/wiki/Vector_projection#Matrix_representation>\n",
    "\n",
    "\n",
    "These ideas will be revisited under PCA and dimension reduction.\n",
    "\n",
    "\n",
    "<br>\n",
    "\n",
    "Consider here the 2D case and consider a vector $\\boldsymbol{v}$. \n",
    "\n",
    "I'm going to assume that this represents a direction, i.e. that I can assume it is a unit vector: $\\boldsymbol{v}^T\\boldsymbol{v} = \\boldsymbol{v}\\boldsymbol{v}^T=1$.  Without this assumption we would just need to do some additional normalisation in the projection operations.\n",
    "\n",
    "<br> \n",
    "\n",
    "Now consider a \"data point\" $\\boldsymbol{u}$. (A single data point for now - we'll consider multiple next).\n",
    "\n",
    "Suppose we want to \"project\" this data point onto the direction given by $\\boldsymbol{v}$, i.e. we want to find the location along $\\boldsymbol{v}$ that is \"closest\" to $\\boldsymbol{u}$.\n",
    "\n",
    "What we do is find the vector, which if we subtract it from $\\boldsymbol{u}$, we arrive on direction $\\boldsymbol{v}$, i.e. we find $\\boldsymbol{d}$ such that\n",
    "\n",
    "$$ \\boldsymbol{u} - \\boldsymbol{d} = c \\boldsymbol{v} $$\n",
    "\n",
    "where $c$ is some scalar that tells us how far in direction $\\boldsymbol{v}$, point $\\boldsymbol{u}$ is closest to. (Probably best to look at the following figure if this isn't clear).\n",
    "\n",
    "We don't know $c$, indeed if we did know $c$ then we are done as then simply by rearranging\n",
    "\n",
    "$$ \\boldsymbol{d} = \\boldsymbol{u} - c \\boldsymbol{v} $$\n",
    "\n",
    "So how can we find $c$? We can use some additional information we know, or equivalently a property we wish to enforce. \n",
    "\n",
    "Here it is that the projection is orthogonal, i.e. that $\\boldsymbol{d}$ is orthogonal to $\\boldsymbol{v}$ (i.e. that $\\boldsymbol{d}\\cdot \\boldsymbol{v}=0$).\n",
    "\n",
    "The easiest way to utilise this information is to take the dot product of either of the above equations with $\\boldsymbol{v}$, e.g.\n",
    "\n",
    "$$ \\boldsymbol{d}.\\boldsymbol{v} = \\boldsymbol{u}.\\boldsymbol{v} - c \\boldsymbol{v} $$\n",
    "\n",
    "But as we assumed that $\\boldsymbol{v}$ is normalised, this tells us that\n",
    "\n",
    "$$c = \\boldsymbol{u}.\\boldsymbol{v}$$\n",
    "\n",
    "and hence\n",
    "\n",
    "$$ \\boldsymbol{d} = \\boldsymbol{u} - (\\boldsymbol{u}.\\boldsymbol{v}) \\boldsymbol{v} $$\n",
    "\n",
    "or if we assume these are all column vectors\n",
    "\n",
    "$$ \\boldsymbol{d} = \\boldsymbol{u} - (\\boldsymbol{u}^T\\boldsymbol{v}) \\boldsymbol{v} $$\n",
    "\n",
    "or\n",
    "\n",
    "$$ \\boldsymbol{d} = \\boldsymbol{u} - (\\boldsymbol{v}^T\\boldsymbol{u}) \\boldsymbol{v} $$\n",
    "\n",
    "or indeed\n",
    "\n",
    "$$ \\boldsymbol{d} = \\boldsymbol{u} - \\boldsymbol{v} \\boldsymbol{v}^T \\boldsymbol{u} $$"
   ]
  },
  {
   "cell_type": "code",
   "execution_count": null,
   "metadata": {},
   "outputs": [],
   "source": [
    "# Let's demonstrate this with an example figure\n",
    "\n",
    "fig = plt.figure(figsize=(6, 6))\n",
    "ax1 = fig.add_subplot(111)\n",
    "\n",
    "ax1.set_xlim(-.1,1)\n",
    "ax1.set_ylim(-.1,1)\n",
    "\n",
    "# choose a vector for our direction\n",
    "v = np.array([2,1])\n",
    "# normalise it\n",
    "v = v/np.sqrt(np.dot(v,v))\n",
    "\n",
    "# now choose a data point u\n",
    "u = np.array([0.5,0.5])\n",
    "\n",
    "# Plot v and u\n",
    "ax1.quiver(v[0], v[1], angles='xy', scale_units='xy', scale=1, color='b', width=0.01,  label='v')\n",
    "ax1.quiver(u[0], u[1], angles='xy', scale_units='xy', scale=1, color='r', width=0.01, alpha=0.2)\n",
    "ax1.plot(u[0], u[1], 'ro',  label='${u}$')\n",
    "\n",
    "# to find the vector that takes us from point u to lie on direction v, we\n",
    "# subtract some multiple of direction v from u:\n",
    "c = np.dot(u,v)\n",
    "d = u - c*v\n",
    "\n",
    "# visaulise the direction d in terms of how it takes us from the orthogonal point on v\n",
    "# to our data point u:\n",
    "ax1.quiver(*(u-d), *d, angles='xy', scale_units='xy', scale=1, color='g', width=0.01, alpha=0.5, label='d=u-cv')\n",
    "\n",
    "\n",
    "ax1.legend(loc='best', fontsize=14)"
   ]
  },
  {
   "cell_type": "markdown",
   "metadata": {},
   "source": [
    "Alternatively, if we don't really care about $\\boldsymbol{d}$, but rather just want to find the point on $\\boldsymbol{v}$ that $\\boldsymbol{u}$ projects to, then we just need the distance along $\\boldsymbol{v}$ that projected point is located.\n",
    "\n",
    "$$c = \\boldsymbol{u}.\\boldsymbol{v} = \\boldsymbol{u}^T\\boldsymbol{v} = \\boldsymbol{v}^T\\boldsymbol{u}$$\n",
    "\n",
    "gives that distance, and this multiplied by the normalised vector $\\boldsymbol{v}$ gives the projected point\n",
    "\n",
    "$$\\boldsymbol{u}_{\\textrm{proj}} = (\\boldsymbol{u}.\\boldsymbol{v}) \\boldsymbol{v}$$\n",
    "\n",
    "<br><br>\n",
    "\n",
    "Try creating a cloud of data points as an $N \\times 2$ data matrix and project them all onto the direction $\\boldsymbol{v}$ used above - try to do this using matrix/vector operations rather than loops"
   ]
  }
 ],
 "metadata": {
  "celltoolbar": "Slideshow",
  "kernelspec": {
   "display_name": "Python 3.10.6 ('Computational-Mathematics')",
   "language": "python",
   "name": "python3"
  },
  "language_info": {
   "codemirror_mode": {
    "name": "ipython",
    "version": 3
   },
   "file_extension": ".py",
   "mimetype": "text/x-python",
   "name": "python",
   "nbconvert_exporter": "python",
   "pygments_lexer": "ipython3",
   "version": "3.10.6"
  },
  "latex_envs": {
   "LaTeX_envs_menu_present": true,
   "autoclose": true,
   "autocomplete": true,
   "bibliofile": "biblio.bib",
   "cite_by": "apalike",
   "current_citInitial": 1,
   "eqLabelWithNumbers": true,
   "eqNumInitial": 1,
   "hotkeys": {
    "equation": "Ctrl-E",
    "itemize": "Ctrl-I"
   },
   "labels_anchors": false,
   "latex_user_defs": false,
   "report_style_numbering": false,
   "user_envs_cfg": true
  },
  "toc": {
   "base_numbering": 1,
   "nav_menu": {},
   "number_sections": true,
   "sideBar": true,
   "skip_h1_title": false,
   "title_cell": "Table of Contents",
   "title_sidebar": "Contents",
   "toc_cell": true,
   "toc_position": {},
   "toc_section_display": true,
   "toc_window_display": false
  },
  "vscode": {
   "interpreter": {
    "hash": "cd25efb0d72e44d8a2e1e74272c8c25f9787435b97edd8e561ed65060e8f8bbc"
   }
  }
 },
 "nbformat": 4,
 "nbformat_minor": 1
}
