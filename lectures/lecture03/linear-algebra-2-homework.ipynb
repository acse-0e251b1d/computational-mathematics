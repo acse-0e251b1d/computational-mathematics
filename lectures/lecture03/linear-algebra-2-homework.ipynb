{
 "cells": [
  {
   "cell_type": "markdown",
   "metadata": {},
   "source": [
    "# Computational Mathematics  <a class=\"tocSkip\">\n",
    "\n",
    "## More linear algebra and its applications <a class=\"tocSkip\">\n",
    "    \n",
    "### Homework Exercises <a class=\"tocSkip\">"
   ]
  },
  {
   "cell_type": "markdown",
   "metadata": {
    "toc": true
   },
   "source": [
    "<h1>Table of Contents<span class=\"tocSkip\"></span></h1>\n",
    "<div class=\"toc\"><ul class=\"toc-item\"><li><span><a href=\"#Homework\" data-toc-modified-id=\"Homework-1\"><span class=\"toc-item-num\">1&nbsp;&nbsp;</span>Homework</a></span><ul class=\"toc-item\"><li><span><a href=\"#Homework---Fibonacci-matrix\" data-toc-modified-id=\"Homework---Fibonacci-matrix-1.1\"><span class=\"toc-item-num\">1.1&nbsp;&nbsp;</span>Homework - Fibonacci matrix</a></span></li><li><span><a href=\"#Homework---Transformation-using-the-diagonalisation-matrices-in-turn---a-symmetric-example\" data-toc-modified-id=\"Homework---Transformation-using-the-diagonalisation-matrices-in-turn---a-symmetric-example-1.2\"><span class=\"toc-item-num\">1.2&nbsp;&nbsp;</span>Homework - Transformation using the diagonalisation matrices in turn - a symmetric example</a></span></li><li><span><a href=\"#Homework---SVD-example\" data-toc-modified-id=\"Homework---SVD-example-1.3\"><span class=\"toc-item-num\">1.3&nbsp;&nbsp;</span>Homework - SVD example</a></span><ul class=\"toc-item\"><li><span><a href=\"#Warning\" data-toc-modified-id=\"Warning-1.3.1\"><span class=\"toc-item-num\">1.3.1&nbsp;&nbsp;</span>Warning</a></span></li></ul></li><li><span><a href=\"#Homework---Transformation-due-to-multiplication-by-a-non-square-matrix---SVD-interpretation\" data-toc-modified-id=\"Homework---Transformation-due-to-multiplication-by-a-non-square-matrix---SVD-interpretation-1.4\"><span class=\"toc-item-num\">1.4&nbsp;&nbsp;</span>Homework - Transformation due to multiplication by a non-square matrix - SVD interpretation</a></span></li><li><span><a href=\"#Homework---When-does-the-SVD-agree-with-the-eigen-decomposition?\" data-toc-modified-id=\"Homework---When-does-the-SVD-agree-with-the-eigen-decomposition?-1.5\"><span class=\"toc-item-num\">1.5&nbsp;&nbsp;</span>Homework - When does the SVD agree with the eigen-decomposition?</a></span></li><li><span><a href=\"#Homework-$2\\times-2$-ODE-example-from-class\" data-toc-modified-id=\"Homework-$2\\times-2$-ODE-example-from-class-1.6\"><span class=\"toc-item-num\">1.6&nbsp;&nbsp;</span>Homework $2\\times 2$ ODE example from class</a></span></li><li><span><a href=\"#Homework---eigenvalues-of-the-MSD-system\" data-toc-modified-id=\"Homework---eigenvalues-of-the-MSD-system-1.7\"><span class=\"toc-item-num\">1.7&nbsp;&nbsp;</span>Homework - eigenvalues of the MSD system</a></span></li><li><span><a href=\"#Homework---eigenvectors-of-the-MSD-system-[**]\" data-toc-modified-id=\"Homework---eigenvectors-of-the-MSD-system-[**]-1.8\"><span class=\"toc-item-num\">1.8&nbsp;&nbsp;</span>Homework - eigenvectors of the MSD system [**]</a></span></li><li><span><a href=\"#Homework---stability-of-forward-Euler-applied-to-the-MSD-problem\" data-toc-modified-id=\"Homework---stability-of-forward-Euler-applied-to-the-MSD-problem-1.9\"><span class=\"toc-item-num\">1.9&nbsp;&nbsp;</span>Homework - stability of forward Euler applied to the MSD problem</a></span></li><li><span><a href=\"#Homework---the-double-pendulum-[*]\" data-toc-modified-id=\"Homework---the-double-pendulum-[*]-1.10\"><span class=\"toc-item-num\">1.10&nbsp;&nbsp;</span>Homework - the double pendulum [*]</a></span></li><li><span><a href=\"#Homework---the-triple-pendulum-[*]\" data-toc-modified-id=\"Homework---the-triple-pendulum-[*]-1.11\"><span class=\"toc-item-num\">1.11&nbsp;&nbsp;</span>Homework - the triple pendulum [*]</a></span></li></ul></li></ul></div>"
   ]
  },
  {
   "cell_type": "code",
   "execution_count": 1,
   "metadata": {},
   "outputs": [],
   "source": [
    "%matplotlib inline\n",
    "%precision 4\n",
    "import numpy as np\n",
    "import matplotlib.pyplot as plt\n",
    "import scipy.linalg as sl\n",
    "from pprint import pprint\n",
    "from mpl_toolkits.mplot3d import Axes3D"
   ]
  },
  {
   "cell_type": "code",
   "execution_count": 2,
   "metadata": {},
   "outputs": [
    {
     "data": {
      "text/html": [
       "<style>\n",
       "div.optional {\n",
       "    display: block;\n",
       "    background-color: #d7e2ff;\n",
       "    border-color: #d7e2ff;\n",
       "    border-left: 5px solid #d7e2ff;\n",
       "    padding: 0.5em;\n",
       "}\n",
       "div.advanced {\n",
       "    display: block;\n",
       "    background-color: #fff4d7;\n",
       "    border-color: #fff4d7;\n",
       "    border-left: 5px solid #fff4d7;\n",
       "    padding: 0.5em;\n",
       "}\n",
       "</style>\n"
      ],
      "text/plain": [
       "<IPython.core.display.HTML object>"
      ]
     },
     "metadata": {},
     "output_type": "display_data"
    }
   ],
   "source": [
    "%%html\n",
    "<style>\n",
    "div.optional {\n",
    "    display: block;\n",
    "    background-color: #d7e2ff;\n",
    "    border-color: #d7e2ff;\n",
    "    border-left: 5px solid #d7e2ff;\n",
    "    padding: 0.5em;\n",
    "}\n",
    "div.advanced {\n",
    "    display: block;\n",
    "    background-color: #fff4d7;\n",
    "    border-color: #fff4d7;\n",
    "    border-left: 5px solid #fff4d7;\n",
    "    padding: 0.5em;\n",
    "}\n",
    "</style>"
   ]
  },
  {
   "cell_type": "markdown",
   "metadata": {},
   "source": [
    "# Homework"
   ]
  },
  {
   "cell_type": "markdown",
   "metadata": {},
   "source": [
    "## Homework - Fibonacci matrix\n",
    "\n",
    "The Fibonacci matrix is defined as\n",
    "\n",
    "$$Q = \\begin{pmatrix}\n",
    "1 & 1\\\\\n",
    "1 & 0\n",
    "\\end{pmatrix}$$\n",
    "\n",
    "Compute by hand the eigenvalues and eigenvectors of the $Q$ matrix.\n",
    "\n",
    "Check numerically that you can use these to form a diagonalization of $Q$.\n",
    "\n",
    "We will make use of this matrix and its diagonalisation in lecture 4."
   ]
  },
  {
   "cell_type": "code",
   "execution_count": 3,
   "metadata": {},
   "outputs": [
    {
     "name": "stdout",
     "output_type": "stream",
     "text": [
      "Q = P \\Lambda P^{-1}:   True\n"
     ]
    }
   ],
   "source": [
    "Q = np.array([[1., 1.], [1.,0.]])\n",
    "lam1 = (1+np.sqrt(5))/2\n",
    "lam2 = (1-np.sqrt(5))/2\n",
    "v1 = np.array([lam1, 1.])\n",
    "v2 = np.array([lam2, 1.])\n",
    "\n",
    "# force v1 and v2 to be column vecs\n",
    "v1.shape = (2,1)\n",
    "v2.shape = (2,1)\n",
    "\n",
    "# and stack them into the matrix P\n",
    "P = np.hstack((v1,v2))\n",
    "# and form the diagonal matrix with e'vals on the main diagonal\n",
    "Lambda = np.diag(np.array([lam1,lam2]))\n",
    "\n",
    "# we can check if our result is (approximately - read the docs) correct with\n",
    "print('Q = P \\Lambda P^{-1}:  ', np.allclose(Q , P@Lambda@(sl.inv(P))))"
   ]
  },
  {
   "cell_type": "markdown",
   "metadata": {},
   "source": [
    "## Homework - Transformation using the diagonalisation matrices in turn - a symmetric example\n",
    "\n",
    "Please read through the section of the lecture notes titled \"Please read through the section of the lecture notes titled\".\n",
    "\n",
    "Repeat the steps \n",
    "\n",
    "\\begin{align*}\n",
    "A\\boldsymbol{x} = P \\Lambda P^{-1}\\boldsymbol{x} = P \\; (\\Lambda\\;  (P^{-1}\\boldsymbol{x}))\n",
    "\\end{align*}\n",
    "\n",
    "geometrically starting for a unit circle using the symmetric matrix \n",
    "\n",
    "$$ A = \n",
    "\\left(\n",
    "  \\begin{array}{rr}\n",
    "    3.6 & 1.6 \\\\\n",
    "    1.6 & 3.2  \n",
    "  \\end{array}\n",
    "\\right)\n",
    "$$\n",
    "\n",
    "\n",
    "\n",
    "Confirm what was said in the lecture that the $P$ and thus $P^{-1}$ being orthogonal matrices means that they just correspond to simple rotations.\n",
    "\n",
    "NB. you can just use `sl.eig` to find the eigenvalues and eigenvectors."
   ]
  },
  {
   "cell_type": "code",
   "execution_count": null,
   "metadata": {},
   "outputs": [],
   "source": [
    "A = np.array([[3.6,1.6],[1.6,3.2]])\n"
   ]
  },
  {
   "cell_type": "markdown",
   "metadata": {},
   "source": [
    "## Homework - SVD example\n",
    "\n",
    "Consider the $3\\times 4$ (i.e. non-square) matrix\n",
    "\n",
    "$$A = \\begin{pmatrix} \n",
    "3 & 1 & 9 & 4 \\\\\n",
    "2 & 1 & 7 & 3 \\\\\n",
    "5 & 2 & 16 & 7 \n",
    "\\end{pmatrix}$$\n",
    "\n",
    "Check that \n",
    "\n",
    "$$A = U\\Sigma V^{T}$$\n",
    "\n",
    "using the definitions of the RHS matrices in terms of eigenvalues and eigenvectors of $AA^T$ and $A^TA$.\n",
    "\n",
    "<br>\n",
    "\n",
    "### Warning\n",
    "Note that we need to choose the signs of our left and right singular vectors consistently - an issue arises if we compute these as the eigenvectors of  $AA^T$ and $A^TA$ separately. If you get an SVD that doesn't result in $A$ it might well be that you have a sign inconsistency, for more on this see: \n",
    "\n",
    "- <https://math.stackexchange.com/questions/2359992/how-to-resolve-the-sign-issue-in-a-svd-problem>.\n",
    "\n",
    "You can check the signs of your columns of $U$ and $V$ against the SciPy solution, and if needed flip the signs of he appropriate columns.\n",
    "\n",
    "<br>\n",
    "\n",
    "This issue appears again in Lecture 6 (Probability & ML) in the context of going through a PCA example in detail.\n"
   ]
  },
  {
   "cell_type": "code",
   "execution_count": 10,
   "metadata": {},
   "outputs": [
    {
     "name": "stdout",
     "output_type": "stream",
     "text": [
      "\n",
      "SS [2.2448e+01 3.1814e-01 9.3467e-16]\n",
      "UU [[-0.4607 -0.6741 -0.5774]\n",
      " [-0.3534  0.736  -0.5774]\n",
      " [-0.8141  0.0619  0.5774]]\n",
      "VV [[-0.2744 -0.7561  0.5866  0.0939]\n",
      " [-0.1088  0.584   0.6199  0.5127]\n",
      " [-0.8752  0.2398 -0.0332 -0.4188]\n",
      " [-0.3832 -0.1721 -0.5201  0.7436]]\n",
      "SSS [[2.2448e+01 0.0000e+00 0.0000e+00 0.0000e+00]\n",
      " [0.0000e+00 3.1814e-01 0.0000e+00 0.0000e+00]\n",
      " [0.0000e+00 0.0000e+00 9.3467e-16 0.0000e+00]]\n",
      "res [[ 3.  1.  9.  4.]\n",
      " [ 2.  1.  7.  3.]\n",
      " [ 5.  2. 16.  7.]]\n"
     ]
    }
   ],
   "source": [
    "A = np.array([\n",
    "    [3,1,9,4],\n",
    "    [2,1,7,3],\n",
    "    [5,2,16,7]])\n",
    "UU,SS,VVT = sl.svd(A)\n",
    "SSS = np.zeros_like(A,dtype='float')\n",
    "SSS[:min(A.shape[0], A.shape[1]), :min(A.shape[0],A.shape[1])] = np.diag(SS)\n",
    "\n",
    "print('\\nSS',SS)\n",
    "print('UU',UU)\n",
    "print('VV',VVT.T)\n",
    "print('SSS',SSS)\n",
    "print('res', UU@SSS@VVT)\n"
   ]
  },
  {
   "cell_type": "code",
   "execution_count": 27,
   "metadata": {},
   "outputs": [
    {
     "name": "stdout",
     "output_type": "stream",
     "text": [
      "U: [[-0.4607 -0.6741 -0.5774]\n",
      " [-0.3534  0.736  -0.5774]\n",
      " [-0.8141  0.0619  0.5774]]\n",
      "V [[-0.2744  0.7561  0.3902 -0.3086]\n",
      " [-0.1088 -0.584   0.7631 -0.0112]\n",
      " [-0.8752 -0.2398 -0.3729 -0.2974]\n",
      " [-0.3832  0.1721  0.3555  0.9034]]\n",
      "[5.0390e+02 1.0121e-01 2.7798e-14]\n",
      "[ 5.0390e+02  1.0121e-01  4.4997e-15 -1.1239e-15]\n",
      "sigma: [[2.2448e+01 0.0000e+00 0.0000e+00 0.0000e+00]\n",
      " [0.0000e+00 3.1814e-01 0.0000e+00 0.0000e+00]\n",
      " [0.0000e+00 0.0000e+00 1.6673e-07 0.0000e+00]]\n",
      "res [[ 2.6757  1.2505  9.1029  3.9262]\n",
      " [ 2.3541  0.7265  6.8877  3.0806]\n",
      " [ 5.0298  1.977  15.9905  7.0068]]\n",
      "array([[ 3.,  1.,  9.,  4.],\n",
      "       [ 2.,  1.,  7.,  3.],\n",
      "       [ 5.,  2., 16.,  7.]])\n"
     ]
    }
   ],
   "source": [
    "A = np.array([\n",
    "    [3,1,9,4],\n",
    "    [2,1,7,3],\n",
    "    [5,2,16,7]])\n",
    "U = sl.eig(A@A.T)[1]\n",
    "print('U:',U)\n",
    "V = sl.eig(A.T@A)[1]\n",
    "print('V',V)\n",
    "eigs1 = np.real(sl.eig(A@A.T)[0])\n",
    "print(eigs1)\n",
    "eigs2 = np.real(sl.eig(A.T@A)[0])\n",
    "print(eigs2)\n",
    "sigma = np.zeros_like(A,dtype='float')\n",
    "sigma[:min(A.shape[0],A.shape[1]),:min(A.shape[0],A.shape[1])] = np.diag(np.sqrt(eigs1))\n",
    "print('sigma:',sigma)\n",
    "print('res', U@(sigma@V.T))\n",
    "U[:,1] = -U[:,1]\n",
    "pprint(U@(sigma@V.T))\n"
   ]
  },
  {
   "cell_type": "markdown",
   "metadata": {},
   "source": [
    "## Homework - Transformation due to multiplication by a non-square matrix - SVD interpretation\n",
    "\n",
    "Consider the following matrix as an example of an over-determined problem\n",
    "\n",
    "$$\n",
    "  \\begin{pmatrix}\n",
    "    2 & 3 \\\\\n",
    "    1 & -4  \\\\\n",
    "    -3 & -10 \n",
    "  \\end{pmatrix}\n",
    "$$\n",
    "\n",
    "This matrix maps $\\mathbb{R}^2$ into $\\mathbb{R}^3$.\n",
    "\n",
    "As was done above for a square $2\\times 2$ case, visualise each three multiplications by the matrices making up the SVD acting in the unit circle"
   ]
  },
  {
   "cell_type": "code",
   "execution_count": null,
   "metadata": {},
   "outputs": [],
   "source": [
    "A = np.array([[2,3],[1,-4],[-3,-10]])\n",
    "UU,SS,VVT = sl.svd(A)\n"
   ]
  },
  {
   "cell_type": "markdown",
   "metadata": {},
   "source": [
    "## Homework - When does the SVD agree with the eigen-decomposition?\n",
    "\n",
    "Consider a square matrix - check whether the SVD and the eigen-decompositions agree. \n",
    "\n",
    "Compare the cases of a symmetric matrix and a non-symmetrix matrix."
   ]
  },
  {
   "cell_type": "markdown",
   "metadata": {},
   "source": [
    "## Homework $2\\times 2$ ODE example from class\n",
    "\n",
    "From the lecture consider the $2\\times 2$ problem\n",
    "\n",
    "\n",
    "$$\\dot{\\boldsymbol{x}}(t) = A\\boldsymbol{x}$$\n",
    "\n",
    "where\n",
    "\n",
    "$$\\boldsymbol{x}(t) = \n",
    "\\begin{pmatrix}\n",
    "x_1(t)\\\\\n",
    "x_2(t)\n",
    "\\end{pmatrix}$$\n",
    "\n",
    "and \n",
    "\n",
    "$$A = \n",
    "\\begin{pmatrix}\n",
    "-1 & 3 \\\\\n",
    "3 & -1\n",
    "\\end{pmatrix}\n",
    "$$\n",
    "\n",
    "Show that the solution is given by\n",
    "\n",
    "\\begin{align*}\n",
    "\\boldsymbol{x}(t) &= \\exp(tA) \\boldsymbol{C}\n",
    " = \\frac{1}{2}(C_1+C_2)\n",
    "\\begin{pmatrix}\n",
    "1 \\\\\n",
    "1\n",
    "\\end{pmatrix}\\exp(2t)+\n",
    "\\frac{1}{2}(C_2-C_1)\n",
    "\\begin{pmatrix}\n",
    "-1 \\\\\n",
    "1\n",
    "\\end{pmatrix}\\exp(-4t)\n",
    "\\end{align*}\n",
    "\n",
    "Hint: You will need to start by the eigenvalues and eigenvectors of $A$.\n",
    "\n",
    "For the case with initial condition\n",
    "\n",
    "\n",
    "$$\\boldsymbol{x}(0)=\n",
    "\\begin{pmatrix}\n",
    "0.1 \\\\\n",
    "0\n",
    "\\end{pmatrix}\n",
    "$$\n",
    "\n",
    "compute and plot the exact solution as well as a numerical solution using forward Euler over the interval $t\\in[0,1]$.\n",
    "\n",
    "You should find that the solution(s) tend(s) to $\\pm$ infinity for large times, depending on the signs of the initial conditions.\n",
    "\n",
    "Looking at the form of the solution, what initial conditions lead to a solution which tends to zero as time increases? Does the numerical solution agree with this qualitative behaviour (especially in the case of selecting too large a time step size)?"
   ]
  },
  {
   "cell_type": "markdown",
   "metadata": {},
   "source": [
    "## Homework - eigenvalues of the MSD system\n",
    "\n",
    "Find the eigenvalues of the matrix that corresponds to the MSD matrix from the lecture:\n",
    "\n",
    "$$\n",
    "\\begin{pmatrix}\n",
    "0 & 1\\\\\n",
    "-\\omega_0^2 & -2\\zeta\\omega_0\n",
    "\\end{pmatrix}.$$"
   ]
  },
  {
   "cell_type": "markdown",
   "metadata": {},
   "source": [
    "<div class=\"advanced\">\n",
    "\n",
    "## Homework - eigenvectors of the MSD system [**]\n",
    "\n",
    "Work out expressions for the eigenvectors of the system.\n",
    "    \n",
    "</div>"
   ]
  },
  {
   "cell_type": "markdown",
   "metadata": {},
   "source": [
    "## Homework - stability of forward Euler applied to the MSD problem\n",
    "\n",
    "We're going to implement and test a solver for the general system of ODEs in the form\n",
    "\n",
    "$$\\frac{d\\boldsymbol{y}}{dt} = f(\\boldsymbol{y})$$\n",
    "\n",
    "and test it using the MSD problem from the lecture.\n",
    "\n",
    "In this case we can write a function for the RHS function in the form\n",
    "\n",
    "```Python\n",
    "def f_msd(t, u):\n",
    "    \"\"\"RHS function for mass-spring-damper problem.\n",
    "\n",
    "    Parameters\n",
    "    ----------\n",
    "    t : array_like\n",
    "        Array containing the current timestep\n",
    "    u : array_like\n",
    "        For MSD u is the vector [x, v]\n",
    "\n",
    "    Returns\n",
    "    -------\n",
    "    f : ndarray\n",
    "        RHS function value\n",
    "    \"\"\"\n",
    "    f = np.zeros_like(u)\n",
    "    f[0] = u[1]\n",
    "    f[1] = -2.*zeta*om0*u[1] - om0**2 * u[0]\n",
    "# NB. could write this as A*u with\n",
    "# A = np.matrix([[0, 1], [-om0**2, -2*zeta*om0]])\n",
    "    return f\n",
    "```\n",
    "\n",
    "Implement a forward Euler time-stepping function and test it against the implementation from the lecture.\n",
    "\n",
    "Hint:  your solution might look something like (you need to fill in some gaps):\n",
    "\n",
    "```Python\n",
    "def forward_euler(f, u0, t0, t_max, dt):\n",
    "    \"\"\" Forward Euler time-stepper.\n",
    "\n",
    "    Parameters\n",
    "    ----------\n",
    "    f : callable\n",
    "        f(t,y) is the RHS function\n",
    "    u0 : array_like\n",
    "        The initial condition\n",
    "    t0 : float\n",
    "        The initial time\n",
    "    t_max : float\n",
    "        The end time\n",
    "    dt : float\n",
    "        Time step size.\n",
    "\n",
    "    Returns\n",
    "    -------\n",
    "    tuple of ndarray\n",
    "        Tuple containing ndarrays with all u and t values\n",
    "    \"\"\"\n",
    "    u = np.array(u0)\n",
    "    t = np.array(t0)\n",
    "    u_all = [u0]\n",
    "    t_all = [t0]\n",
    "    while t < t_max:\n",
    "        u = ........\n",
    "        u_all.append(u)\n",
    "        t = ........\n",
    "        t_all.append(t)\n",
    "    return np.array(u_all), np.array(t_all)\n",
    "```\n",
    "\n",
    "\n",
    "Consider the following physical and numerical parameters\n",
    "\n",
    "$$\\omega_0=1,\\quad x_0=1,\\quad v_0=0, \\quad t_0=0, \\quad t_f=20 $$\n",
    "\n",
    "To finish off the selection of parameters consider three cases:\n",
    "\n",
    "\n",
    "1. $$\\Delta t = 0.05, \\quad \\zeta = 0.05$$\n",
    "\n",
    "\n",
    "2. $$\\Delta t = 0.2, \\quad \\zeta = 0.05$$\n",
    "\n",
    "\n",
    "3. $$\\Delta t = 0.2, \\quad \\zeta = 0.2$$\n",
    "\n",
    "\n",
    "What qualitative difference in solutions do you observe in the three cases?"
   ]
  },
  {
   "cell_type": "markdown",
   "metadata": {},
   "source": [
    "\n",
    "<div class=\"optional\">\n",
    "    \n",
    "## Homework - the double pendulum [*]\n",
    "\n",
    "Take a look at <https://en.wikipedia.org/wiki/Double_pendulum>\n",
    "\n",
    "<img src=\"./figures/1000px-Double-compound-pendulum-dimensioned.svg.png\" width=300x>\n",
    "\n",
    "Image: <https://commons.wikimedia.org/wiki/File:Double-compound-pendulum-dimensioned.svg>\n",
    "\n",
    "Note that the equations listed in this Wikipedia page are in terms of coordinates (actually the angles) giving the midpoints of assumed unit length rods - other places you look may have these lengths (and the masses at the ends of the rods) flexible and the equations be in terms of coordinates giving the actual locations of the ends of the rods - they should all ultimately give the same answer!\n",
    "\n",
    "See if you can formulate the problem using the coupled ODEs described on this page (for the derivatives of $\\theta_1$, $\\theta_2$, $p_{\\theta_1}$ and $p_{\\theta_2}$ - don't worry too much what these latter two quantities are physically).\n",
    "\n",
    "You can attempt with forward Euler, but I suggest you use `scipy.integrate.solve_ivp` like we did for the more complex examples in the lecture.\n",
    "\n",
    "Note that to plot correctly, depending on how you go about things, you may need to think about how to turn the two angles into appropriate $x$ and $y$ coordinates.\n",
    "    \n",
    "</div>"
   ]
  },
  {
   "cell_type": "markdown",
   "metadata": {},
   "source": [
    "<div class=\"optional\">\n",
    "\n",
    "## Homework - the triple pendulum [*]\n",
    "\n",
    "Take a look at this video\n",
    "\n",
    "<http://i.imgur.com/r6FZfxr.gifv>\n",
    "\n",
    "and the discussion here\n",
    "<https://www.reddit.com/r/mathpics/comments/4nd5h1/41_triple_pendulums_with_very_slightly_different/>\n",
    "\n",
    "and for a Python implmentation of a system of $n$ coupled pendula - using [Kane's method](https://docs.sympy.org/dev/modules/physics/mechanics/kane.html) take a look through the supplemental notebook in this directory.\n",
    "    \n",
    "</div>"
   ]
  },
  {
   "cell_type": "code",
   "execution_count": null,
   "metadata": {},
   "outputs": [],
   "source": []
  }
 ],
 "metadata": {
  "celltoolbar": "Slideshow",
  "kernelspec": {
   "display_name": "Python 3.10.6 ('Computational-Mathematics')",
   "language": "python",
   "name": "python3"
  },
  "language_info": {
   "codemirror_mode": {
    "name": "ipython",
    "version": 3
   },
   "file_extension": ".py",
   "mimetype": "text/x-python",
   "name": "python",
   "nbconvert_exporter": "python",
   "pygments_lexer": "ipython3",
   "version": "3.10.6"
  },
  "latex_envs": {
   "LaTeX_envs_menu_present": true,
   "autoclose": true,
   "autocomplete": true,
   "bibliofile": "biblio.bib",
   "cite_by": "apalike",
   "current_citInitial": 1,
   "eqLabelWithNumbers": true,
   "eqNumInitial": 1,
   "hotkeys": {
    "equation": "Ctrl-E",
    "itemize": "Ctrl-I"
   },
   "labels_anchors": false,
   "latex_user_defs": false,
   "report_style_numbering": false,
   "user_envs_cfg": true
  },
  "toc": {
   "base_numbering": 1,
   "nav_menu": {},
   "number_sections": true,
   "sideBar": true,
   "skip_h1_title": false,
   "title_cell": "Table of Contents",
   "title_sidebar": "Contents",
   "toc_cell": true,
   "toc_position": {},
   "toc_section_display": true,
   "toc_window_display": false
  },
  "vscode": {
   "interpreter": {
    "hash": "cd25efb0d72e44d8a2e1e74272c8c25f9787435b97edd8e561ed65060e8f8bbc"
   }
  }
 },
 "nbformat": 4,
 "nbformat_minor": 1
}
